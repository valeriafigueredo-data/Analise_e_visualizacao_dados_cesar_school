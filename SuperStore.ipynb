{
  "nbformat": 4,
  "nbformat_minor": 0,
  "metadata": {
    "colab": {
      "provenance": [],
      "include_colab_link": true
    },
    "kernelspec": {
      "name": "python3",
      "display_name": "Python 3"
    },
    "language_info": {
      "name": "python"
    }
  },
  "cells": [
    {
      "cell_type": "markdown",
      "metadata": {
        "id": "view-in-github",
        "colab_type": "text"
      },
      "source": [
        "<a href=\"https://colab.research.google.com/github/valeriafigueredo-data/Analise_e_visualizacao_dados_cesar_school/blob/main/SuperStore.ipynb\" target=\"_parent\"><img src=\"https://colab.research.google.com/assets/colab-badge.svg\" alt=\"Open In Colab\"/></a>"
      ]
    },
    {
      "cell_type": "markdown",
      "source": [
        "### **Segundo Trabalho da Disciplina de Análise e Visualização de Dados**\n",
        "\n",
        "Professor: Eronides da Silva Neto\n",
        "\n",
        "Aluno 01: Gabriel De Paula Leite\n",
        "\n",
        "Aluno 02: Kauã Marques de Barros Silva\n",
        "\n",
        "Aluno 03: Luiz Sergio Sieber Padilla\n",
        "\n",
        "Aluno 04: Valéria Cristina A. R. de Figueredo\n",
        "\n",
        "O objetivo do presente trabalho é realizar visualizações, com Plotly no dataset escolhido (Superstore). Também tiveram visualizações com Pandas e Numpy."
      ],
      "metadata": {
        "id": "au-ICot2_EPx"
      }
    },
    {
      "cell_type": "markdown",
      "source": [
        "# **Contexto**\n"
      ],
      "metadata": {
        "id": "KdBdeVfzg28N"
      }
    },
    {
      "cell_type": "markdown",
      "source": [
        "O Dataset Superstore trata sobre os dados de uma rede de supermercado grande, localizada em diversos estados dos Estados Unidos. Vende inúmeros produtos, tais quais utensílios domésticos, roupas e produtos elétricos, bem como alimentos.\n",
        "É um dataset fictício que pode levantar questões como: quais as áreas fracas onde você pode trabalhar para obter mais lucro. E quais são os problemas de negócios que é possível verificar explorando os dados?"
      ],
      "metadata": {
        "id": "cMTz1-SKhS9i"
      }
    },
    {
      "cell_type": "markdown",
      "source": [
        "# **Dicionário**"
      ],
      "metadata": {
        "id": "wpVwWeEJioUX"
      }
    },
    {
      "cell_type": "markdown",
      "source": [
        "  **Coluna**        **Significado**    \n",
        "\n",
        "* **Ship Mode:**        Modo de entrega do produto\n",
        "\n",
        "* **Segment:**       Segmento                   \n",
        "\n",
        "* **Country:**       País                      \n",
        "\n",
        "* **City:**          Cidade                     \n",
        "\n",
        "* **State:**         Estado                    \n",
        "\n",
        "* **Postal Code:**   Código Postal               \n",
        "\n",
        "* **Region:**        Região                      \n",
        "\n",
        "* **Category:**      Categoria                  \n",
        "\n",
        "* **Sub-Category:**  Sub Categoria              \n",
        "\n",
        "* **Sales:**         Vendas                     \n",
        "\n",
        "* **Quantity:**      Quantidade                \n",
        "\n",
        "* **Discount:**      Desconto                   \n",
        "\n",
        "* **Profit:**        Lucro                     \n",
        "\n",
        "\n",
        "* **Dataframe:** https://www.kaggle.com/datasets/itssuru/super-store/data\n",
        "\n",
        "* **CRIAÇÃO DO DATAFRAME:** 2021"
      ],
      "metadata": {
        "id": "qciLisaui9mK"
      }
    },
    {
      "cell_type": "markdown",
      "source": [
        "# **1. Bibliotecas**"
      ],
      "metadata": {
        "id": "BO5HxBulpup2"
      }
    },
    {
      "cell_type": "code",
      "source": [
        "import pandas as pd\n",
        "import numpy as np\n",
        "import matplotlib.pyplot as plt\n",
        "import seaborn as sns\n",
        "import plotly.express as px\n",
        "\n",
        "!pip install pgeocode\n",
        "import pgeocode"
      ],
      "metadata": {
        "id": "L8IbLyMMsbmO",
        "colab": {
          "base_uri": "https://localhost:8080/"
        },
        "outputId": "14ba34e7-0807-44d3-a0c9-31415e9ec7f0"
      },
      "execution_count": 1,
      "outputs": [
        {
          "output_type": "stream",
          "name": "stdout",
          "text": [
            "Collecting pgeocode\n",
            "  Downloading pgeocode-0.5.0-py3-none-any.whl.metadata (7.9 kB)\n",
            "Requirement already satisfied: requests in /usr/local/lib/python3.10/dist-packages (from pgeocode) (2.31.0)\n",
            "Requirement already satisfied: numpy in /usr/local/lib/python3.10/dist-packages (from pgeocode) (1.26.4)\n",
            "Requirement already satisfied: pandas in /usr/local/lib/python3.10/dist-packages (from pgeocode) (2.1.4)\n",
            "Requirement already satisfied: python-dateutil>=2.8.2 in /usr/local/lib/python3.10/dist-packages (from pandas->pgeocode) (2.8.2)\n",
            "Requirement already satisfied: pytz>=2020.1 in /usr/local/lib/python3.10/dist-packages (from pandas->pgeocode) (2024.1)\n",
            "Requirement already satisfied: tzdata>=2022.1 in /usr/local/lib/python3.10/dist-packages (from pandas->pgeocode) (2024.1)\n",
            "Requirement already satisfied: charset-normalizer<4,>=2 in /usr/local/lib/python3.10/dist-packages (from requests->pgeocode) (3.3.2)\n",
            "Requirement already satisfied: idna<4,>=2.5 in /usr/local/lib/python3.10/dist-packages (from requests->pgeocode) (3.7)\n",
            "Requirement already satisfied: urllib3<3,>=1.21.1 in /usr/local/lib/python3.10/dist-packages (from requests->pgeocode) (2.0.7)\n",
            "Requirement already satisfied: certifi>=2017.4.17 in /usr/local/lib/python3.10/dist-packages (from requests->pgeocode) (2024.7.4)\n",
            "Requirement already satisfied: six>=1.5 in /usr/local/lib/python3.10/dist-packages (from python-dateutil>=2.8.2->pandas->pgeocode) (1.16.0)\n",
            "Downloading pgeocode-0.5.0-py3-none-any.whl (9.8 kB)\n",
            "Installing collected packages: pgeocode\n",
            "Successfully installed pgeocode-0.5.0\n"
          ]
        }
      ]
    },
    {
      "cell_type": "markdown",
      "source": [
        "# **2. Dataframe**"
      ],
      "metadata": {
        "id": "XC96H-dqqBLb"
      }
    },
    {
      "cell_type": "code",
      "source": [
        "df_store = pd.read_csv('https://raw.githubusercontent.com/valeriafigueredo-data/Analise_e_visualizacao_dados_cesar_school/main/pandas/SampleSuperstore.csv')"
      ],
      "metadata": {
        "id": "9j1meCJLseeM"
      },
      "execution_count": 2,
      "outputs": []
    },
    {
      "cell_type": "markdown",
      "source": [
        "# **3. Análise Exploratória**"
      ],
      "metadata": {
        "id": "BPdnf2bUqKzD"
      }
    },
    {
      "cell_type": "code",
      "source": [
        "df_store.head()"
      ],
      "metadata": {
        "colab": {
          "base_uri": "https://localhost:8080/",
          "height": 206
        },
        "id": "TawtTFRLtTPY",
        "outputId": "75b54f71-9097-4862-aba6-adf1994f5cbf"
      },
      "execution_count": 3,
      "outputs": [
        {
          "output_type": "execute_result",
          "data": {
            "text/plain": [
              "        Ship Mode    Segment        Country             City       State  \\\n",
              "0    Second Class   Consumer  United States        Henderson    Kentucky   \n",
              "1    Second Class   Consumer  United States        Henderson    Kentucky   \n",
              "2    Second Class  Corporate  United States      Los Angeles  California   \n",
              "3  Standard Class   Consumer  United States  Fort Lauderdale     Florida   \n",
              "4  Standard Class   Consumer  United States  Fort Lauderdale     Florida   \n",
              "\n",
              "   Postal Code Region         Category Sub-Category     Sales  Quantity  \\\n",
              "0        42420  South        Furniture    Bookcases  261.9600         2   \n",
              "1        42420  South        Furniture       Chairs  731.9400         3   \n",
              "2        90036   West  Office Supplies       Labels   14.6200         2   \n",
              "3        33311  South        Furniture       Tables  957.5775         5   \n",
              "4        33311  South  Office Supplies      Storage   22.3680         2   \n",
              "\n",
              "   Discount    Profit  \n",
              "0      0.00   41.9136  \n",
              "1      0.00  219.5820  \n",
              "2      0.00    6.8714  \n",
              "3      0.45 -383.0310  \n",
              "4      0.20    2.5164  "
            ],
            "text/html": [
              "\n",
              "  <div id=\"df-3b60af19-882c-404c-be6e-7adf96cd2120\" class=\"colab-df-container\">\n",
              "    <div>\n",
              "<style scoped>\n",
              "    .dataframe tbody tr th:only-of-type {\n",
              "        vertical-align: middle;\n",
              "    }\n",
              "\n",
              "    .dataframe tbody tr th {\n",
              "        vertical-align: top;\n",
              "    }\n",
              "\n",
              "    .dataframe thead th {\n",
              "        text-align: right;\n",
              "    }\n",
              "</style>\n",
              "<table border=\"1\" class=\"dataframe\">\n",
              "  <thead>\n",
              "    <tr style=\"text-align: right;\">\n",
              "      <th></th>\n",
              "      <th>Ship Mode</th>\n",
              "      <th>Segment</th>\n",
              "      <th>Country</th>\n",
              "      <th>City</th>\n",
              "      <th>State</th>\n",
              "      <th>Postal Code</th>\n",
              "      <th>Region</th>\n",
              "      <th>Category</th>\n",
              "      <th>Sub-Category</th>\n",
              "      <th>Sales</th>\n",
              "      <th>Quantity</th>\n",
              "      <th>Discount</th>\n",
              "      <th>Profit</th>\n",
              "    </tr>\n",
              "  </thead>\n",
              "  <tbody>\n",
              "    <tr>\n",
              "      <th>0</th>\n",
              "      <td>Second Class</td>\n",
              "      <td>Consumer</td>\n",
              "      <td>United States</td>\n",
              "      <td>Henderson</td>\n",
              "      <td>Kentucky</td>\n",
              "      <td>42420</td>\n",
              "      <td>South</td>\n",
              "      <td>Furniture</td>\n",
              "      <td>Bookcases</td>\n",
              "      <td>261.9600</td>\n",
              "      <td>2</td>\n",
              "      <td>0.00</td>\n",
              "      <td>41.9136</td>\n",
              "    </tr>\n",
              "    <tr>\n",
              "      <th>1</th>\n",
              "      <td>Second Class</td>\n",
              "      <td>Consumer</td>\n",
              "      <td>United States</td>\n",
              "      <td>Henderson</td>\n",
              "      <td>Kentucky</td>\n",
              "      <td>42420</td>\n",
              "      <td>South</td>\n",
              "      <td>Furniture</td>\n",
              "      <td>Chairs</td>\n",
              "      <td>731.9400</td>\n",
              "      <td>3</td>\n",
              "      <td>0.00</td>\n",
              "      <td>219.5820</td>\n",
              "    </tr>\n",
              "    <tr>\n",
              "      <th>2</th>\n",
              "      <td>Second Class</td>\n",
              "      <td>Corporate</td>\n",
              "      <td>United States</td>\n",
              "      <td>Los Angeles</td>\n",
              "      <td>California</td>\n",
              "      <td>90036</td>\n",
              "      <td>West</td>\n",
              "      <td>Office Supplies</td>\n",
              "      <td>Labels</td>\n",
              "      <td>14.6200</td>\n",
              "      <td>2</td>\n",
              "      <td>0.00</td>\n",
              "      <td>6.8714</td>\n",
              "    </tr>\n",
              "    <tr>\n",
              "      <th>3</th>\n",
              "      <td>Standard Class</td>\n",
              "      <td>Consumer</td>\n",
              "      <td>United States</td>\n",
              "      <td>Fort Lauderdale</td>\n",
              "      <td>Florida</td>\n",
              "      <td>33311</td>\n",
              "      <td>South</td>\n",
              "      <td>Furniture</td>\n",
              "      <td>Tables</td>\n",
              "      <td>957.5775</td>\n",
              "      <td>5</td>\n",
              "      <td>0.45</td>\n",
              "      <td>-383.0310</td>\n",
              "    </tr>\n",
              "    <tr>\n",
              "      <th>4</th>\n",
              "      <td>Standard Class</td>\n",
              "      <td>Consumer</td>\n",
              "      <td>United States</td>\n",
              "      <td>Fort Lauderdale</td>\n",
              "      <td>Florida</td>\n",
              "      <td>33311</td>\n",
              "      <td>South</td>\n",
              "      <td>Office Supplies</td>\n",
              "      <td>Storage</td>\n",
              "      <td>22.3680</td>\n",
              "      <td>2</td>\n",
              "      <td>0.20</td>\n",
              "      <td>2.5164</td>\n",
              "    </tr>\n",
              "  </tbody>\n",
              "</table>\n",
              "</div>\n",
              "    <div class=\"colab-df-buttons\">\n",
              "\n",
              "  <div class=\"colab-df-container\">\n",
              "    <button class=\"colab-df-convert\" onclick=\"convertToInteractive('df-3b60af19-882c-404c-be6e-7adf96cd2120')\"\n",
              "            title=\"Convert this dataframe to an interactive table.\"\n",
              "            style=\"display:none;\">\n",
              "\n",
              "  <svg xmlns=\"http://www.w3.org/2000/svg\" height=\"24px\" viewBox=\"0 -960 960 960\">\n",
              "    <path d=\"M120-120v-720h720v720H120Zm60-500h600v-160H180v160Zm220 220h160v-160H400v160Zm0 220h160v-160H400v160ZM180-400h160v-160H180v160Zm440 0h160v-160H620v160ZM180-180h160v-160H180v160Zm440 0h160v-160H620v160Z\"/>\n",
              "  </svg>\n",
              "    </button>\n",
              "\n",
              "  <style>\n",
              "    .colab-df-container {\n",
              "      display:flex;\n",
              "      gap: 12px;\n",
              "    }\n",
              "\n",
              "    .colab-df-convert {\n",
              "      background-color: #E8F0FE;\n",
              "      border: none;\n",
              "      border-radius: 50%;\n",
              "      cursor: pointer;\n",
              "      display: none;\n",
              "      fill: #1967D2;\n",
              "      height: 32px;\n",
              "      padding: 0 0 0 0;\n",
              "      width: 32px;\n",
              "    }\n",
              "\n",
              "    .colab-df-convert:hover {\n",
              "      background-color: #E2EBFA;\n",
              "      box-shadow: 0px 1px 2px rgba(60, 64, 67, 0.3), 0px 1px 3px 1px rgba(60, 64, 67, 0.15);\n",
              "      fill: #174EA6;\n",
              "    }\n",
              "\n",
              "    .colab-df-buttons div {\n",
              "      margin-bottom: 4px;\n",
              "    }\n",
              "\n",
              "    [theme=dark] .colab-df-convert {\n",
              "      background-color: #3B4455;\n",
              "      fill: #D2E3FC;\n",
              "    }\n",
              "\n",
              "    [theme=dark] .colab-df-convert:hover {\n",
              "      background-color: #434B5C;\n",
              "      box-shadow: 0px 1px 3px 1px rgba(0, 0, 0, 0.15);\n",
              "      filter: drop-shadow(0px 1px 2px rgba(0, 0, 0, 0.3));\n",
              "      fill: #FFFFFF;\n",
              "    }\n",
              "  </style>\n",
              "\n",
              "    <script>\n",
              "      const buttonEl =\n",
              "        document.querySelector('#df-3b60af19-882c-404c-be6e-7adf96cd2120 button.colab-df-convert');\n",
              "      buttonEl.style.display =\n",
              "        google.colab.kernel.accessAllowed ? 'block' : 'none';\n",
              "\n",
              "      async function convertToInteractive(key) {\n",
              "        const element = document.querySelector('#df-3b60af19-882c-404c-be6e-7adf96cd2120');\n",
              "        const dataTable =\n",
              "          await google.colab.kernel.invokeFunction('convertToInteractive',\n",
              "                                                    [key], {});\n",
              "        if (!dataTable) return;\n",
              "\n",
              "        const docLinkHtml = 'Like what you see? Visit the ' +\n",
              "          '<a target=\"_blank\" href=https://colab.research.google.com/notebooks/data_table.ipynb>data table notebook</a>'\n",
              "          + ' to learn more about interactive tables.';\n",
              "        element.innerHTML = '';\n",
              "        dataTable['output_type'] = 'display_data';\n",
              "        await google.colab.output.renderOutput(dataTable, element);\n",
              "        const docLink = document.createElement('div');\n",
              "        docLink.innerHTML = docLinkHtml;\n",
              "        element.appendChild(docLink);\n",
              "      }\n",
              "    </script>\n",
              "  </div>\n",
              "\n",
              "\n",
              "<div id=\"df-cdee97b2-172c-4faf-a17f-edfdd518e96d\">\n",
              "  <button class=\"colab-df-quickchart\" onclick=\"quickchart('df-cdee97b2-172c-4faf-a17f-edfdd518e96d')\"\n",
              "            title=\"Suggest charts\"\n",
              "            style=\"display:none;\">\n",
              "\n",
              "<svg xmlns=\"http://www.w3.org/2000/svg\" height=\"24px\"viewBox=\"0 0 24 24\"\n",
              "     width=\"24px\">\n",
              "    <g>\n",
              "        <path d=\"M19 3H5c-1.1 0-2 .9-2 2v14c0 1.1.9 2 2 2h14c1.1 0 2-.9 2-2V5c0-1.1-.9-2-2-2zM9 17H7v-7h2v7zm4 0h-2V7h2v10zm4 0h-2v-4h2v4z\"/>\n",
              "    </g>\n",
              "</svg>\n",
              "  </button>\n",
              "\n",
              "<style>\n",
              "  .colab-df-quickchart {\n",
              "      --bg-color: #E8F0FE;\n",
              "      --fill-color: #1967D2;\n",
              "      --hover-bg-color: #E2EBFA;\n",
              "      --hover-fill-color: #174EA6;\n",
              "      --disabled-fill-color: #AAA;\n",
              "      --disabled-bg-color: #DDD;\n",
              "  }\n",
              "\n",
              "  [theme=dark] .colab-df-quickchart {\n",
              "      --bg-color: #3B4455;\n",
              "      --fill-color: #D2E3FC;\n",
              "      --hover-bg-color: #434B5C;\n",
              "      --hover-fill-color: #FFFFFF;\n",
              "      --disabled-bg-color: #3B4455;\n",
              "      --disabled-fill-color: #666;\n",
              "  }\n",
              "\n",
              "  .colab-df-quickchart {\n",
              "    background-color: var(--bg-color);\n",
              "    border: none;\n",
              "    border-radius: 50%;\n",
              "    cursor: pointer;\n",
              "    display: none;\n",
              "    fill: var(--fill-color);\n",
              "    height: 32px;\n",
              "    padding: 0;\n",
              "    width: 32px;\n",
              "  }\n",
              "\n",
              "  .colab-df-quickchart:hover {\n",
              "    background-color: var(--hover-bg-color);\n",
              "    box-shadow: 0 1px 2px rgba(60, 64, 67, 0.3), 0 1px 3px 1px rgba(60, 64, 67, 0.15);\n",
              "    fill: var(--button-hover-fill-color);\n",
              "  }\n",
              "\n",
              "  .colab-df-quickchart-complete:disabled,\n",
              "  .colab-df-quickchart-complete:disabled:hover {\n",
              "    background-color: var(--disabled-bg-color);\n",
              "    fill: var(--disabled-fill-color);\n",
              "    box-shadow: none;\n",
              "  }\n",
              "\n",
              "  .colab-df-spinner {\n",
              "    border: 2px solid var(--fill-color);\n",
              "    border-color: transparent;\n",
              "    border-bottom-color: var(--fill-color);\n",
              "    animation:\n",
              "      spin 1s steps(1) infinite;\n",
              "  }\n",
              "\n",
              "  @keyframes spin {\n",
              "    0% {\n",
              "      border-color: transparent;\n",
              "      border-bottom-color: var(--fill-color);\n",
              "      border-left-color: var(--fill-color);\n",
              "    }\n",
              "    20% {\n",
              "      border-color: transparent;\n",
              "      border-left-color: var(--fill-color);\n",
              "      border-top-color: var(--fill-color);\n",
              "    }\n",
              "    30% {\n",
              "      border-color: transparent;\n",
              "      border-left-color: var(--fill-color);\n",
              "      border-top-color: var(--fill-color);\n",
              "      border-right-color: var(--fill-color);\n",
              "    }\n",
              "    40% {\n",
              "      border-color: transparent;\n",
              "      border-right-color: var(--fill-color);\n",
              "      border-top-color: var(--fill-color);\n",
              "    }\n",
              "    60% {\n",
              "      border-color: transparent;\n",
              "      border-right-color: var(--fill-color);\n",
              "    }\n",
              "    80% {\n",
              "      border-color: transparent;\n",
              "      border-right-color: var(--fill-color);\n",
              "      border-bottom-color: var(--fill-color);\n",
              "    }\n",
              "    90% {\n",
              "      border-color: transparent;\n",
              "      border-bottom-color: var(--fill-color);\n",
              "    }\n",
              "  }\n",
              "</style>\n",
              "\n",
              "  <script>\n",
              "    async function quickchart(key) {\n",
              "      const quickchartButtonEl =\n",
              "        document.querySelector('#' + key + ' button');\n",
              "      quickchartButtonEl.disabled = true;  // To prevent multiple clicks.\n",
              "      quickchartButtonEl.classList.add('colab-df-spinner');\n",
              "      try {\n",
              "        const charts = await google.colab.kernel.invokeFunction(\n",
              "            'suggestCharts', [key], {});\n",
              "      } catch (error) {\n",
              "        console.error('Error during call to suggestCharts:', error);\n",
              "      }\n",
              "      quickchartButtonEl.classList.remove('colab-df-spinner');\n",
              "      quickchartButtonEl.classList.add('colab-df-quickchart-complete');\n",
              "    }\n",
              "    (() => {\n",
              "      let quickchartButtonEl =\n",
              "        document.querySelector('#df-cdee97b2-172c-4faf-a17f-edfdd518e96d button');\n",
              "      quickchartButtonEl.style.display =\n",
              "        google.colab.kernel.accessAllowed ? 'block' : 'none';\n",
              "    })();\n",
              "  </script>\n",
              "</div>\n",
              "\n",
              "    </div>\n",
              "  </div>\n"
            ],
            "application/vnd.google.colaboratory.intrinsic+json": {
              "type": "dataframe",
              "variable_name": "df_store",
              "summary": "{\n  \"name\": \"df_store\",\n  \"rows\": 9994,\n  \"fields\": [\n    {\n      \"column\": \"Ship Mode\",\n      \"properties\": {\n        \"dtype\": \"category\",\n        \"num_unique_values\": 4,\n        \"samples\": [\n          \"Standard Class\",\n          \"Same Day\",\n          \"Second Class\"\n        ],\n        \"semantic_type\": \"\",\n        \"description\": \"\"\n      }\n    },\n    {\n      \"column\": \"Segment\",\n      \"properties\": {\n        \"dtype\": \"category\",\n        \"num_unique_values\": 3,\n        \"samples\": [\n          \"Consumer\",\n          \"Corporate\",\n          \"Home Office\"\n        ],\n        \"semantic_type\": \"\",\n        \"description\": \"\"\n      }\n    },\n    {\n      \"column\": \"Country\",\n      \"properties\": {\n        \"dtype\": \"category\",\n        \"num_unique_values\": 1,\n        \"samples\": [\n          \"United States\"\n        ],\n        \"semantic_type\": \"\",\n        \"description\": \"\"\n      }\n    },\n    {\n      \"column\": \"City\",\n      \"properties\": {\n        \"dtype\": \"category\",\n        \"num_unique_values\": 531,\n        \"samples\": [\n          \"Laurel\"\n        ],\n        \"semantic_type\": \"\",\n        \"description\": \"\"\n      }\n    },\n    {\n      \"column\": \"State\",\n      \"properties\": {\n        \"dtype\": \"category\",\n        \"num_unique_values\": 49,\n        \"samples\": [\n          \"Delaware\"\n        ],\n        \"semantic_type\": \"\",\n        \"description\": \"\"\n      }\n    },\n    {\n      \"column\": \"Postal Code\",\n      \"properties\": {\n        \"dtype\": \"number\",\n        \"std\": 32063,\n        \"min\": 1040,\n        \"max\": 99301,\n        \"num_unique_values\": 631,\n        \"samples\": [\n          30062\n        ],\n        \"semantic_type\": \"\",\n        \"description\": \"\"\n      }\n    },\n    {\n      \"column\": \"Region\",\n      \"properties\": {\n        \"dtype\": \"category\",\n        \"num_unique_values\": 4,\n        \"samples\": [\n          \"West\"\n        ],\n        \"semantic_type\": \"\",\n        \"description\": \"\"\n      }\n    },\n    {\n      \"column\": \"Category\",\n      \"properties\": {\n        \"dtype\": \"category\",\n        \"num_unique_values\": 3,\n        \"samples\": [\n          \"Furniture\"\n        ],\n        \"semantic_type\": \"\",\n        \"description\": \"\"\n      }\n    },\n    {\n      \"column\": \"Sub-Category\",\n      \"properties\": {\n        \"dtype\": \"category\",\n        \"num_unique_values\": 17,\n        \"samples\": [\n          \"Bookcases\"\n        ],\n        \"semantic_type\": \"\",\n        \"description\": \"\"\n      }\n    },\n    {\n      \"column\": \"Sales\",\n      \"properties\": {\n        \"dtype\": \"number\",\n        \"std\": 623.2451236904247,\n        \"min\": 0.444,\n        \"max\": 22638.48,\n        \"num_unique_values\": 5825,\n        \"samples\": [\n          2624.985\n        ],\n        \"semantic_type\": \"\",\n        \"description\": \"\"\n      }\n    },\n    {\n      \"column\": \"Quantity\",\n      \"properties\": {\n        \"dtype\": \"number\",\n        \"std\": 2,\n        \"min\": 1,\n        \"max\": 14,\n        \"num_unique_values\": 14,\n        \"samples\": [\n          14\n        ],\n        \"semantic_type\": \"\",\n        \"description\": \"\"\n      }\n    },\n    {\n      \"column\": \"Discount\",\n      \"properties\": {\n        \"dtype\": \"number\",\n        \"std\": 0.20645196782571615,\n        \"min\": 0.0,\n        \"max\": 0.8,\n        \"num_unique_values\": 12,\n        \"samples\": [\n          0.4\n        ],\n        \"semantic_type\": \"\",\n        \"description\": \"\"\n      }\n    },\n    {\n      \"column\": \"Profit\",\n      \"properties\": {\n        \"dtype\": \"number\",\n        \"std\": 234.26011536282257,\n        \"min\": -6599.978,\n        \"max\": 8399.976,\n        \"num_unique_values\": 7288,\n        \"samples\": [\n          37.534\n        ],\n        \"semantic_type\": \"\",\n        \"description\": \"\"\n      }\n    }\n  ]\n}"
            }
          },
          "metadata": {},
          "execution_count": 3
        }
      ]
    },
    {
      "cell_type": "code",
      "source": [
        "df_store.info()"
      ],
      "metadata": {
        "colab": {
          "base_uri": "https://localhost:8080/"
        },
        "id": "HFlgQlb1surY",
        "outputId": "13c2253d-c898-4d42-aa51-49d5aa597177"
      },
      "execution_count": 4,
      "outputs": [
        {
          "output_type": "stream",
          "name": "stdout",
          "text": [
            "<class 'pandas.core.frame.DataFrame'>\n",
            "RangeIndex: 9994 entries, 0 to 9993\n",
            "Data columns (total 13 columns):\n",
            " #   Column        Non-Null Count  Dtype  \n",
            "---  ------        --------------  -----  \n",
            " 0   Ship Mode     9994 non-null   object \n",
            " 1   Segment       9994 non-null   object \n",
            " 2   Country       9994 non-null   object \n",
            " 3   City          9994 non-null   object \n",
            " 4   State         9994 non-null   object \n",
            " 5   Postal Code   9994 non-null   int64  \n",
            " 6   Region        9994 non-null   object \n",
            " 7   Category      9994 non-null   object \n",
            " 8   Sub-Category  9994 non-null   object \n",
            " 9   Sales         9994 non-null   float64\n",
            " 10  Quantity      9994 non-null   int64  \n",
            " 11  Discount      9994 non-null   float64\n",
            " 12  Profit        9994 non-null   float64\n",
            "dtypes: float64(3), int64(2), object(8)\n",
            "memory usage: 1015.1+ KB\n"
          ]
        }
      ]
    },
    {
      "cell_type": "markdown",
      "source": [
        "# **4. Limpeza dos Dados e AED**"
      ],
      "metadata": {
        "id": "TGJDgx6hrf6w"
      }
    },
    {
      "cell_type": "markdown",
      "source": [
        "## Rename Columns\n"
      ],
      "metadata": {
        "id": "1uztXb5F0TcD"
      }
    },
    {
      "cell_type": "code",
      "source": [
        "df_store = df_store.rename(columns={\n",
        "    'Ship Mode': 'Modo de Envio',\n",
        "    'Segment': 'Segmento',\n",
        "    'City': 'Cidade',\n",
        "    'State': 'Estado',\n",
        "    'Postal Code': 'Código Postal',\n",
        "    'Region': 'Região',\n",
        "    'Category': 'Categoria',\n",
        "    'Sub-Category': 'Subcategoria',\n",
        "    'Sales': 'Vendas',\n",
        "    'Quantity': 'Quantidade',\n",
        "    'Discount': 'Desconto',\n",
        "    'Profit': 'Lucro'\n",
        "})"
      ],
      "metadata": {
        "id": "SgjrNwVx0Zsb"
      },
      "execution_count": 5,
      "outputs": []
    },
    {
      "cell_type": "markdown",
      "source": [
        "## Coluna 0 - Ship Mode"
      ],
      "metadata": {
        "id": "H9ARFnYZwDMb"
      }
    },
    {
      "cell_type": "code",
      "source": [
        "df_store['Modo de Envio'].unique()"
      ],
      "metadata": {
        "colab": {
          "base_uri": "https://localhost:8080/"
        },
        "id": "bGuMJoZNu7-b",
        "outputId": "eb28ce49-e463-46ed-c8b4-37ddf9cd60f7"
      },
      "execution_count": 6,
      "outputs": [
        {
          "output_type": "execute_result",
          "data": {
            "text/plain": [
              "array(['Second Class', 'Standard Class', 'First Class', 'Same Day'],\n",
              "      dtype=object)"
            ]
          },
          "metadata": {},
          "execution_count": 6
        }
      ]
    },
    {
      "cell_type": "code",
      "source": [
        "df_store.replace({'Second Class': 'Segunda Classe', 'Standard Class': 'Classe Padrão', 'First Class': 'Primeira Classe', 'Same Day':'Mesmo Dia'}, inplace=True)\n",
        "df_store['Modo de Envio'].unique()"
      ],
      "metadata": {
        "colab": {
          "base_uri": "https://localhost:8080/"
        },
        "id": "xwLL0M_3vBZD",
        "outputId": "b725c201-776a-487a-f465-5a30b9923bc5"
      },
      "execution_count": 7,
      "outputs": [
        {
          "output_type": "execute_result",
          "data": {
            "text/plain": [
              "array(['Segunda Classe', 'Classe Padrão', 'Primeira Classe', 'Mesmo Dia'],\n",
              "      dtype=object)"
            ]
          },
          "metadata": {},
          "execution_count": 7
        }
      ]
    },
    {
      "cell_type": "markdown",
      "source": [
        "## Coluna 01 - Segment"
      ],
      "metadata": {
        "id": "ix6P2s5RwL49"
      }
    },
    {
      "cell_type": "code",
      "source": [
        "df_store['Segmento'].unique()"
      ],
      "metadata": {
        "colab": {
          "base_uri": "https://localhost:8080/"
        },
        "id": "4U1wBpQ_vQ8F",
        "outputId": "1518140c-83fb-403d-e25f-1f87a44a0c65"
      },
      "execution_count": 8,
      "outputs": [
        {
          "output_type": "execute_result",
          "data": {
            "text/plain": [
              "array(['Consumer', 'Corporate', 'Home Office'], dtype=object)"
            ]
          },
          "metadata": {},
          "execution_count": 8
        }
      ]
    },
    {
      "cell_type": "code",
      "source": [
        "df_store.replace({'Consumer': 'Consumidor', 'Corporate': 'Corporativo'}, inplace=True)\n",
        "df_store['Segmento'].unique()"
      ],
      "metadata": {
        "colab": {
          "base_uri": "https://localhost:8080/"
        },
        "id": "b1zHr8PQvXgL",
        "outputId": "b3e0ccfe-80bf-44e7-da9b-7cdc1d775588"
      },
      "execution_count": 9,
      "outputs": [
        {
          "output_type": "execute_result",
          "data": {
            "text/plain": [
              "array(['Consumidor', 'Corporativo', 'Home Office'], dtype=object)"
            ]
          },
          "metadata": {},
          "execution_count": 9
        }
      ]
    },
    {
      "cell_type": "markdown",
      "source": [
        "## Coluna 02 - Country\n",
        "\n",
        "###Essa coluna foi removida, pois ela só apresenta um único país"
      ],
      "metadata": {
        "id": "kU7QdQM7wTb_"
      }
    },
    {
      "cell_type": "code",
      "source": [
        "df_store['Country'].unique()"
      ],
      "metadata": {
        "colab": {
          "base_uri": "https://localhost:8080/"
        },
        "id": "5HxJbVT4tO9k",
        "outputId": "c04f2e44-f131-4adf-e59b-612568cb1773"
      },
      "execution_count": 10,
      "outputs": [
        {
          "output_type": "execute_result",
          "data": {
            "text/plain": [
              "array(['United States'], dtype=object)"
            ]
          },
          "metadata": {},
          "execution_count": 10
        }
      ]
    },
    {
      "cell_type": "code",
      "source": [
        "df_store.drop('Country', axis=1, inplace=True)"
      ],
      "metadata": {
        "id": "CJsFHzYB4Tq9"
      },
      "execution_count": 11,
      "outputs": []
    },
    {
      "cell_type": "markdown",
      "source": [
        "## Coluna 03 - City"
      ],
      "metadata": {
        "id": "fzWl6TaYwneB"
      }
    },
    {
      "cell_type": "code",
      "source": [
        "df_store['Cidade'].unique()"
      ],
      "metadata": {
        "colab": {
          "base_uri": "https://localhost:8080/"
        },
        "id": "fIt40aURvgZz",
        "outputId": "7a35b8aa-1af4-43b8-c9e7-cdd0bf1b712b"
      },
      "execution_count": 12,
      "outputs": [
        {
          "output_type": "execute_result",
          "data": {
            "text/plain": [
              "array(['Henderson', 'Los Angeles', 'Fort Lauderdale', 'Concord',\n",
              "       'Seattle', 'Fort Worth', 'Madison', 'West Jordan', 'San Francisco',\n",
              "       'Fremont', 'Philadelphia', 'Orem', 'Houston', 'Richardson',\n",
              "       'Naperville', 'Melbourne', 'Eagan', 'Westland', 'Dover',\n",
              "       'New Albany', 'New York City', 'Troy', 'Chicago', 'Gilbert',\n",
              "       'Springfield', 'Jackson', 'Memphis', 'Decatur', 'Durham',\n",
              "       'Columbia', 'Rochester', 'Minneapolis', 'Portland', 'Saint Paul',\n",
              "       'Aurora', 'Charlotte', 'Orland Park', 'Urbandale', 'Columbus',\n",
              "       'Bristol', 'Wilmington', 'Bloomington', 'Phoenix', 'Roseville',\n",
              "       'Independence', 'Pasadena', 'Newark', 'Franklin', 'Scottsdale',\n",
              "       'San Jose', 'Edmond', 'Carlsbad', 'San Antonio', 'Monroe',\n",
              "       'Fairfield', 'Grand Prairie', 'Redlands', 'Hamilton', 'Westfield',\n",
              "       'Akron', 'Denver', 'Dallas', 'Whittier', 'Saginaw', 'Medina',\n",
              "       'Dublin', 'Detroit', 'Tampa', 'Santa Clara', 'Lakeville',\n",
              "       'San Diego', 'Brentwood', 'Chapel Hill', 'Morristown',\n",
              "       'Cincinnati', 'Inglewood', 'Tamarac', 'Colorado Springs',\n",
              "       'Belleville', 'Taylor', 'Lakewood', 'Arlington', 'Arvada',\n",
              "       'Hackensack', 'Saint Petersburg', 'Long Beach', 'Hesperia',\n",
              "       'Murfreesboro', 'Layton', 'Austin', 'Lowell', 'Manchester',\n",
              "       'Harlingen', 'Tucson', 'Quincy', 'Pembroke Pines', 'Des Moines',\n",
              "       'Peoria', 'Las Vegas', 'Warwick', 'Miami', 'Huntington Beach',\n",
              "       'Richmond', 'Louisville', 'Lawrence', 'Canton', 'New Rochelle',\n",
              "       'Gastonia', 'Jacksonville', 'Auburn', 'Norman', 'Park Ridge',\n",
              "       'Amarillo', 'Lindenhurst', 'Huntsville', 'Fayetteville',\n",
              "       'Costa Mesa', 'Parker', 'Atlanta', 'Gladstone', 'Great Falls',\n",
              "       'Lakeland', 'Montgomery', 'Mesa', 'Green Bay', 'Anaheim',\n",
              "       'Marysville', 'Salem', 'Laredo', 'Grove City', 'Dearborn',\n",
              "       'Warner Robins', 'Vallejo', 'Mission Viejo', 'Rochester Hills',\n",
              "       'Plainfield', 'Sierra Vista', 'Vancouver', 'Cleveland', 'Tyler',\n",
              "       'Burlington', 'Waynesboro', 'Chester', 'Cary', 'Palm Coast',\n",
              "       'Mount Vernon', 'Hialeah', 'Oceanside', 'Evanston', 'Trenton',\n",
              "       'Cottage Grove', 'Bossier City', 'Lancaster', 'Asheville',\n",
              "       'Lake Elsinore', 'Omaha', 'Edmonds', 'Santa Ana', 'Milwaukee',\n",
              "       'Florence', 'Lorain', 'Linden', 'Salinas', 'New Brunswick',\n",
              "       'Garland', 'Norwich', 'Alexandria', 'Toledo', 'Farmington',\n",
              "       'Riverside', 'Torrance', 'Round Rock', 'Boca Raton',\n",
              "       'Virginia Beach', 'Murrieta', 'Olympia', 'Washington',\n",
              "       'Jefferson City', 'Saint Peters', 'Rockford', 'Brownsville',\n",
              "       'Yonkers', 'Oakland', 'Clinton', 'Encinitas', 'Roswell',\n",
              "       'Jonesboro', 'Antioch', 'Homestead', 'La Porte', 'Lansing',\n",
              "       'Cuyahoga Falls', 'Reno', 'Harrisonburg', 'Escondido', 'Royal Oak',\n",
              "       'Rockville', 'Coral Springs', 'Buffalo', 'Boynton Beach',\n",
              "       'Gulfport', 'Fresno', 'Greenville', 'Macon', 'Cedar Rapids',\n",
              "       'Providence', 'Pueblo', 'Deltona', 'Murray', 'Middletown',\n",
              "       'Freeport', 'Pico Rivera', 'Provo', 'Pleasant Grove', 'Smyrna',\n",
              "       'Parma', 'Mobile', 'New Bedford', 'Irving', 'Vineland', 'Glendale',\n",
              "       'Niagara Falls', 'Thomasville', 'Westminster', 'Coppell', 'Pomona',\n",
              "       'North Las Vegas', 'Allentown', 'Tempe', 'Laguna Niguel',\n",
              "       'Bridgeton', 'Everett', 'Watertown', 'Appleton', 'Bellevue',\n",
              "       'Allen', 'El Paso', 'Grapevine', 'Carrollton', 'Kent', 'Lafayette',\n",
              "       'Tigard', 'Skokie', 'Plano', 'Suffolk', 'Indianapolis', 'Bayonne',\n",
              "       'Greensboro', 'Baltimore', 'Kenosha', 'Olathe', 'Tulsa', 'Redmond',\n",
              "       'Raleigh', 'Muskogee', 'Meriden', 'Bowling Green', 'South Bend',\n",
              "       'Spokane', 'Keller', 'Port Orange', 'Medford', 'Charlottesville',\n",
              "       'Missoula', 'Apopka', 'Reading', 'Broomfield', 'Paterson',\n",
              "       'Oklahoma City', 'Chesapeake', 'Lubbock', 'Johnson City',\n",
              "       'San Bernardino', 'Leominster', 'Bozeman', 'Perth Amboy',\n",
              "       'Ontario', 'Rancho Cucamonga', 'Moorhead', 'Mesquite', 'Stockton',\n",
              "       'Ormond Beach', 'Sunnyvale', 'York', 'College Station',\n",
              "       'Saint Louis', 'Manteca', 'San Angelo', 'Salt Lake City',\n",
              "       'Knoxville', 'Little Rock', 'Lincoln Park', 'Marion', 'Littleton',\n",
              "       'Bangor', 'Southaven', 'New Castle', 'Midland', 'Sioux Falls',\n",
              "       'Fort Collins', 'Clarksville', 'Sacramento', 'Thousand Oaks',\n",
              "       'Malden', 'Holyoke', 'Albuquerque', 'Sparks', 'Coachella',\n",
              "       'Elmhurst', 'Passaic', 'North Charleston', 'Newport News',\n",
              "       'Jamestown', 'Mishawaka', 'La Quinta', 'Tallahassee', 'Nashville',\n",
              "       'Bellingham', 'Woodstock', 'Haltom City', 'Wheeling',\n",
              "       'Summerville', 'Hot Springs', 'Englewood', 'Las Cruces', 'Hoover',\n",
              "       'Frisco', 'Vacaville', 'Waukesha', 'Bakersfield', 'Pompano Beach',\n",
              "       'Corpus Christi', 'Redondo Beach', 'Orlando', 'Orange',\n",
              "       'Lake Charles', 'Highland Park', 'Hempstead', 'Noblesville',\n",
              "       'Apple Valley', 'Mount Pleasant', 'Sterling Heights', 'Eau Claire',\n",
              "       'Pharr', 'Billings', 'Gresham', 'Chattanooga', 'Meridian',\n",
              "       'Bolingbrook', 'Maple Grove', 'Woodland', 'Missouri City',\n",
              "       'Pearland', 'San Mateo', 'Grand Rapids', 'Visalia',\n",
              "       'Overland Park', 'Temecula', 'Yucaipa', 'Revere', 'Conroe',\n",
              "       'Tinley Park', 'Dubuque', 'Dearborn Heights', 'Santa Fe',\n",
              "       'Hickory', 'Carol Stream', 'Saint Cloud', 'North Miami',\n",
              "       'Plantation', 'Port Saint Lucie', 'Rock Hill', 'Odessa',\n",
              "       'West Allis', 'Chula Vista', 'Manhattan', 'Altoona', 'Thornton',\n",
              "       'Champaign', 'Texarkana', 'Edinburg', 'Baytown', 'Greenwood',\n",
              "       'Woonsocket', 'Superior', 'Bedford', 'Covington', 'Broken Arrow',\n",
              "       'Miramar', 'Hollywood', 'Deer Park', 'Wichita', 'Mcallen',\n",
              "       'Iowa City', 'Boise', 'Cranston', 'Port Arthur', 'Citrus Heights',\n",
              "       'The Colony', 'Daytona Beach', 'Bullhead City', 'Portage', 'Fargo',\n",
              "       'Elkhart', 'San Gabriel', 'Margate', 'Sandy Springs', 'Mentor',\n",
              "       'Lawton', 'Hampton', 'Rome', 'La Crosse', 'Lewiston',\n",
              "       'Hattiesburg', 'Danville', 'Logan', 'Waterbury', 'Athens',\n",
              "       'Avondale', 'Marietta', 'Yuma', 'Wausau', 'Pasco', 'Oak Park',\n",
              "       'Pensacola', 'League City', 'Gaithersburg', 'Lehi', 'Tuscaloosa',\n",
              "       'Moreno Valley', 'Georgetown', 'Loveland', 'Chandler', 'Helena',\n",
              "       'Kirkwood', 'Waco', 'Frankfort', 'Bethlehem', 'Grand Island',\n",
              "       'Woodbury', 'Rogers', 'Clovis', 'Jupiter', 'Santa Barbara',\n",
              "       'Cedar Hill', 'Norfolk', 'Draper', 'Ann Arbor', 'La Mesa',\n",
              "       'Pocatello', 'Holland', 'Milford', 'Buffalo Grove', 'Lake Forest',\n",
              "       'Redding', 'Chico', 'Utica', 'Conway', 'Cheyenne', 'Owensboro',\n",
              "       'Caldwell', 'Kenner', 'Nashua', 'Bartlett', 'Redwood City',\n",
              "       'Lebanon', 'Santa Maria', 'Des Plaines', 'Longview',\n",
              "       'Hendersonville', 'Waterloo', 'Cambridge', 'Palatine', 'Beverly',\n",
              "       'Eugene', 'Oxnard', 'Renton', 'Glenview', 'Delray Beach',\n",
              "       'Commerce City', 'Texas City', 'Wilson', 'Rio Rancho', 'Goldsboro',\n",
              "       'Montebello', 'El Cajon', 'Beaumont', 'West Palm Beach', 'Abilene',\n",
              "       'Normal', 'Saint Charles', 'Camarillo', 'Hillsboro', 'Burbank',\n",
              "       'Modesto', 'Garden City', 'Atlantic City', 'Longmont', 'Davis',\n",
              "       'Morgan Hill', 'Clifton', 'Sheboygan', 'East Point', 'Rapid City',\n",
              "       'Andover', 'Kissimmee', 'Shelton', 'Danbury', 'Sanford',\n",
              "       'San Marcos', 'Greeley', 'Mansfield', 'Elyria', 'Twin Falls',\n",
              "       'Coral Gables', 'Romeoville', 'Marlborough', 'Laurel', 'Bryan',\n",
              "       'Pine Bluff', 'Aberdeen', 'Hagerstown', 'East Orange',\n",
              "       'Arlington Heights', 'Oswego', 'Coon Rapids', 'San Clemente',\n",
              "       'San Luis Obispo', 'Springdale', 'Lodi', 'Mason'], dtype=object)"
            ]
          },
          "metadata": {},
          "execution_count": 12
        }
      ]
    },
    {
      "cell_type": "markdown",
      "source": [
        "## Coluna 04 - State"
      ],
      "metadata": {
        "id": "ZXvnRkmJwynf"
      }
    },
    {
      "cell_type": "code",
      "source": [
        "df_store['Estado'].unique()"
      ],
      "metadata": {
        "colab": {
          "base_uri": "https://localhost:8080/"
        },
        "id": "lXXTw83Sw3tm",
        "outputId": "8d8bc65b-bc54-4866-ff24-2fbd43c477c0"
      },
      "execution_count": 13,
      "outputs": [
        {
          "output_type": "execute_result",
          "data": {
            "text/plain": [
              "array(['Kentucky', 'California', 'Florida', 'North Carolina',\n",
              "       'Washington', 'Texas', 'Wisconsin', 'Utah', 'Nebraska',\n",
              "       'Pennsylvania', 'Illinois', 'Minnesota', 'Michigan', 'Delaware',\n",
              "       'Indiana', 'New York', 'Arizona', 'Virginia', 'Tennessee',\n",
              "       'Alabama', 'South Carolina', 'Oregon', 'Colorado', 'Iowa', 'Ohio',\n",
              "       'Missouri', 'Oklahoma', 'New Mexico', 'Louisiana', 'Connecticut',\n",
              "       'New Jersey', 'Massachusetts', 'Georgia', 'Nevada', 'Rhode Island',\n",
              "       'Mississippi', 'Arkansas', 'Montana', 'New Hampshire', 'Maryland',\n",
              "       'District of Columbia', 'Kansas', 'Vermont', 'Maine',\n",
              "       'South Dakota', 'Idaho', 'North Dakota', 'Wyoming',\n",
              "       'West Virginia'], dtype=object)"
            ]
          },
          "metadata": {},
          "execution_count": 13
        }
      ]
    },
    {
      "cell_type": "markdown",
      "source": [
        "## Coluna 05 - Postal Code"
      ],
      "metadata": {
        "id": "OtyNgX9ZxAxZ"
      }
    },
    {
      "cell_type": "code",
      "source": [
        "df_store['Código Postal'].describe()"
      ],
      "metadata": {
        "id": "waGZlMOCv0C1",
        "colab": {
          "base_uri": "https://localhost:8080/",
          "height": 335
        },
        "outputId": "6d92e35b-ae84-48ef-e43d-32a45c5a8636"
      },
      "execution_count": 14,
      "outputs": [
        {
          "output_type": "execute_result",
          "data": {
            "text/plain": [
              "count     9994.000000\n",
              "mean     55190.379428\n",
              "std      32063.693350\n",
              "min       1040.000000\n",
              "25%      23223.000000\n",
              "50%      56430.500000\n",
              "75%      90008.000000\n",
              "max      99301.000000\n",
              "Name: Código Postal, dtype: float64"
            ],
            "text/html": [
              "<table border=\"1\" class=\"dataframe\">\n",
              "  <thead>\n",
              "    <tr style=\"text-align: right;\">\n",
              "      <th></th>\n",
              "      <th>Código Postal</th>\n",
              "    </tr>\n",
              "  </thead>\n",
              "  <tbody>\n",
              "    <tr>\n",
              "      <th>count</th>\n",
              "      <td>9994.000000</td>\n",
              "    </tr>\n",
              "    <tr>\n",
              "      <th>mean</th>\n",
              "      <td>55190.379428</td>\n",
              "    </tr>\n",
              "    <tr>\n",
              "      <th>std</th>\n",
              "      <td>32063.693350</td>\n",
              "    </tr>\n",
              "    <tr>\n",
              "      <th>min</th>\n",
              "      <td>1040.000000</td>\n",
              "    </tr>\n",
              "    <tr>\n",
              "      <th>25%</th>\n",
              "      <td>23223.000000</td>\n",
              "    </tr>\n",
              "    <tr>\n",
              "      <th>50%</th>\n",
              "      <td>56430.500000</td>\n",
              "    </tr>\n",
              "    <tr>\n",
              "      <th>75%</th>\n",
              "      <td>90008.000000</td>\n",
              "    </tr>\n",
              "    <tr>\n",
              "      <th>max</th>\n",
              "      <td>99301.000000</td>\n",
              "    </tr>\n",
              "  </tbody>\n",
              "</table><br><label><b>dtype:</b> float64</label>"
            ]
          },
          "metadata": {},
          "execution_count": 14
        }
      ]
    },
    {
      "cell_type": "markdown",
      "source": [
        "## Coluna 06 - Region"
      ],
      "metadata": {
        "id": "jb4rsSjLxE54"
      }
    },
    {
      "cell_type": "code",
      "source": [
        "df_store['Região'].unique()"
      ],
      "metadata": {
        "colab": {
          "base_uri": "https://localhost:8080/"
        },
        "id": "8itSoMt1v5zX",
        "outputId": "e59395dc-e16e-437b-9795-f7868843933e"
      },
      "execution_count": 15,
      "outputs": [
        {
          "output_type": "execute_result",
          "data": {
            "text/plain": [
              "array(['South', 'West', 'Central', 'East'], dtype=object)"
            ]
          },
          "metadata": {},
          "execution_count": 15
        }
      ]
    },
    {
      "cell_type": "code",
      "source": [
        "df_store.replace({'West': 'Oeste', 'East': 'Leste', 'Central': 'Central', 'South': 'Sul'}, inplace=True)\n",
        "df_store['Região'].unique()"
      ],
      "metadata": {
        "colab": {
          "base_uri": "https://localhost:8080/"
        },
        "id": "YDeBTAiYy68t",
        "outputId": "14dcca20-9ae5-4218-83e8-a90252a138ba"
      },
      "execution_count": 16,
      "outputs": [
        {
          "output_type": "execute_result",
          "data": {
            "text/plain": [
              "array(['Sul', 'Oeste', 'Central', 'Leste'], dtype=object)"
            ]
          },
          "metadata": {},
          "execution_count": 16
        }
      ]
    },
    {
      "cell_type": "markdown",
      "source": [
        "## Coluna 07 - Category"
      ],
      "metadata": {
        "id": "B1vZJ6SNxJDQ"
      }
    },
    {
      "cell_type": "code",
      "source": [
        "df_store['Categoria'].unique()"
      ],
      "metadata": {
        "colab": {
          "base_uri": "https://localhost:8080/"
        },
        "id": "04F7UwqMuPyr",
        "outputId": "06bc7abc-027e-427b-827a-7b86a5190458"
      },
      "execution_count": 17,
      "outputs": [
        {
          "output_type": "execute_result",
          "data": {
            "text/plain": [
              "array(['Furniture', 'Office Supplies', 'Technology'], dtype=object)"
            ]
          },
          "metadata": {},
          "execution_count": 17
        }
      ]
    },
    {
      "cell_type": "code",
      "source": [
        "df_store.replace({'Office Supplies': 'Itens de Escritório', 'Furniture': 'Mobílias', 'Technology': 'Técnologia'}, inplace=True)\n",
        "df_store['Categoria'].unique()"
      ],
      "metadata": {
        "colab": {
          "base_uri": "https://localhost:8080/"
        },
        "id": "_mXIZglruRfA",
        "outputId": "1ccd0f47-3b92-47d1-b765-8277898967f2"
      },
      "execution_count": 18,
      "outputs": [
        {
          "output_type": "execute_result",
          "data": {
            "text/plain": [
              "array(['Mobílias', 'Itens de Escritório', 'Técnologia'], dtype=object)"
            ]
          },
          "metadata": {},
          "execution_count": 18
        }
      ]
    },
    {
      "cell_type": "markdown",
      "source": [
        "## Coluna 08 - Sub-Category"
      ],
      "metadata": {
        "id": "q0p1Xh5hxQJb"
      }
    },
    {
      "cell_type": "code",
      "source": [
        "df_store['Subcategoria'].unique()"
      ],
      "metadata": {
        "colab": {
          "base_uri": "https://localhost:8080/"
        },
        "id": "a3iHcrb0uyQO",
        "outputId": "c1172e9d-50d2-4c49-bbb6-7734c7a5f3c4"
      },
      "execution_count": 19,
      "outputs": [
        {
          "output_type": "execute_result",
          "data": {
            "text/plain": [
              "array(['Bookcases', 'Chairs', 'Labels', 'Tables', 'Storage',\n",
              "       'Furnishings', 'Art', 'Phones', 'Binders', 'Appliances', 'Paper',\n",
              "       'Accessories', 'Envelopes', 'Fasteners', 'Supplies', 'Machines',\n",
              "       'Copiers'], dtype=object)"
            ]
          },
          "metadata": {},
          "execution_count": 19
        }
      ]
    },
    {
      "cell_type": "code",
      "source": [
        "df_store.replace({\n",
        "    'Bookcases': 'Estantes',\n",
        "    'Chairs': 'Cadeiras',\n",
        "    'Labels': 'Etiquetas',\n",
        "    'Tables': 'Mesas',\n",
        "    'Storage': 'Armazenamento',\n",
        "    'Furnishings': 'Mobiliário',\n",
        "    'Art': 'Arte',\n",
        "    'Phones': 'Telefones',\n",
        "    'Binders': 'Ficharios',\n",
        "    'Appliances': 'Eletrodomésticos',\n",
        "    'Paper': 'Papel',\n",
        "    'Accessories': 'Acessórios',\n",
        "    'Envelopes': 'Envelopes',\n",
        "    'Fasteners': 'Fixadores',\n",
        "    'Supplies': 'Suprimentos',\n",
        "    'Machines': 'Máquinas',\n",
        "    'Copiers': 'Copiadoras'\n",
        "}, inplace=True)\n",
        "df_store['Subcategoria'].unique()"
      ],
      "metadata": {
        "colab": {
          "base_uri": "https://localhost:8080/"
        },
        "id": "1xteJg8QxXhD",
        "outputId": "30475d06-913d-4e27-c90b-f0ac0636580c"
      },
      "execution_count": 20,
      "outputs": [
        {
          "output_type": "execute_result",
          "data": {
            "text/plain": [
              "array(['Estantes', 'Cadeiras', 'Etiquetas', 'Mesas', 'Armazenamento',\n",
              "       'Mobiliário', 'Arte', 'Telefones', 'Ficharios', 'Eletrodomésticos',\n",
              "       'Papel', 'Acessórios', 'Envelopes', 'Fixadores', 'Suprimentos',\n",
              "       'Máquinas', 'Copiadoras'], dtype=object)"
            ]
          },
          "metadata": {},
          "execution_count": 20
        }
      ]
    },
    {
      "cell_type": "markdown",
      "source": [
        "## Coluna 09 - Sales"
      ],
      "metadata": {
        "id": "go9860Q5yDeN"
      }
    },
    {
      "cell_type": "code",
      "source": [
        "df_store['Vendas'].describe()"
      ],
      "metadata": {
        "colab": {
          "base_uri": "https://localhost:8080/",
          "height": 335
        },
        "id": "dDnO36d3xzBS",
        "outputId": "4502687b-b603-4e27-a676-67fdc76f9c13"
      },
      "execution_count": 21,
      "outputs": [
        {
          "output_type": "execute_result",
          "data": {
            "text/plain": [
              "count     9994.000000\n",
              "mean       229.857901\n",
              "std        623.245124\n",
              "min          0.444000\n",
              "25%         17.280000\n",
              "50%         54.490000\n",
              "75%        209.940000\n",
              "max      22638.480000\n",
              "Name: Vendas, dtype: float64"
            ],
            "text/html": [
              "<table border=\"1\" class=\"dataframe\">\n",
              "  <thead>\n",
              "    <tr style=\"text-align: right;\">\n",
              "      <th></th>\n",
              "      <th>Vendas</th>\n",
              "    </tr>\n",
              "  </thead>\n",
              "  <tbody>\n",
              "    <tr>\n",
              "      <th>count</th>\n",
              "      <td>9994.000000</td>\n",
              "    </tr>\n",
              "    <tr>\n",
              "      <th>mean</th>\n",
              "      <td>229.857901</td>\n",
              "    </tr>\n",
              "    <tr>\n",
              "      <th>std</th>\n",
              "      <td>623.245124</td>\n",
              "    </tr>\n",
              "    <tr>\n",
              "      <th>min</th>\n",
              "      <td>0.444000</td>\n",
              "    </tr>\n",
              "    <tr>\n",
              "      <th>25%</th>\n",
              "      <td>17.280000</td>\n",
              "    </tr>\n",
              "    <tr>\n",
              "      <th>50%</th>\n",
              "      <td>54.490000</td>\n",
              "    </tr>\n",
              "    <tr>\n",
              "      <th>75%</th>\n",
              "      <td>209.940000</td>\n",
              "    </tr>\n",
              "    <tr>\n",
              "      <th>max</th>\n",
              "      <td>22638.480000</td>\n",
              "    </tr>\n",
              "  </tbody>\n",
              "</table><br><label><b>dtype:</b> float64</label>"
            ]
          },
          "metadata": {},
          "execution_count": 21
        }
      ]
    },
    {
      "cell_type": "code",
      "source": [
        "filtro = df_store['Vendas'] > 5000\n",
        "df_store[filtro]"
      ],
      "metadata": {
        "colab": {
          "base_uri": "https://localhost:8080/",
          "height": 645
        },
        "id": "-WtS6fP5yJWO",
        "outputId": "af15c22a-62de-4362-8786-846b90dc7493"
      },
      "execution_count": 22,
      "outputs": [
        {
          "output_type": "execute_result",
          "data": {
            "text/plain": [
              "        Modo de Envio     Segmento         Cidade          Estado  \\\n",
              "165     Classe Padrão   Consumidor    San Antonio           Texas   \n",
              "509     Classe Padrão   Consumidor        Atlanta         Georgia   \n",
              "683         Mesmo Dia  Corporativo     Burlington  North Carolina   \n",
              "2505   Segunda Classe   Consumidor  San Francisco      California   \n",
              "2623  Primeira Classe  Home Office  New York City        New York   \n",
              "2697    Classe Padrão  Home Office   Jacksonville         Florida   \n",
              "4098    Classe Padrão   Consumidor    Minneapolis       Minnesota   \n",
              "4190    Classe Padrão   Consumidor         Newark        Delaware   \n",
              "4277    Classe Padrão  Corporativo       Lakewood      New Jersey   \n",
              "6340    Classe Padrão  Corporativo  New York City        New York   \n",
              "6425    Classe Padrão   Consumidor   Philadelphia    Pennsylvania   \n",
              "6520   Segunda Classe   Consumidor        Jackson        Michigan   \n",
              "6626    Classe Padrão   Consumidor  New York City        New York   \n",
              "6826    Classe Padrão  Corporativo      Lafayette         Indiana   \n",
              "7666    Classe Padrão  Home Office     Providence    Rhode Island   \n",
              "8153  Primeira Classe   Consumidor        Seattle      Washington   \n",
              "8488   Segunda Classe   Consumidor      Arlington        Virginia   \n",
              "8858    Classe Padrão  Corporativo     Sacramento      California   \n",
              "9039    Classe Padrão   Consumidor        Detroit        Michigan   \n",
              "\n",
              "      Código Postal   Região            Categoria Subcategoria     Vendas  \\\n",
              "165           78207  Central           Técnologia     Máquinas   8159.952   \n",
              "509           30318      Sul  Itens de Escritório    Ficharios   6354.950   \n",
              "683           27217      Sul           Técnologia     Máquinas   7999.980   \n",
              "2505          94122    Oeste  Itens de Escritório  Suprimentos   8187.650   \n",
              "2623          10024    Leste           Técnologia   Copiadoras  11199.968   \n",
              "2697          32216      Sul           Técnologia     Máquinas  22638.480   \n",
              "4098          55407  Central  Itens de Escritório    Ficharios   9449.950   \n",
              "4190          19711    Leste           Técnologia   Copiadoras  10499.970   \n",
              "4277           8701    Leste           Técnologia     Máquinas   9099.930   \n",
              "6340          10035    Leste           Técnologia     Máquinas   5199.960   \n",
              "6425          19120    Leste           Técnologia   Copiadoras   8399.976   \n",
              "6520          49201  Central  Itens de Escritório    Ficharios   5443.960   \n",
              "6626          10024    Leste           Técnologia     Máquinas   6999.960   \n",
              "6826          47905  Central           Técnologia   Copiadoras  17499.950   \n",
              "7666           2908    Leste           Técnologia   Copiadoras   5399.910   \n",
              "8153          98115    Oeste           Técnologia   Copiadoras  13999.960   \n",
              "8488          22204      Sul           Técnologia     Máquinas   8749.950   \n",
              "8858          95823    Oeste  Itens de Escritório    Ficharios   5083.960   \n",
              "9039          48205  Central  Itens de Escritório    Ficharios   9892.740   \n",
              "\n",
              "      Quantidade  Desconto      Lucro  \n",
              "165            8       0.4 -1359.9920  \n",
              "509            5       0.0  3177.4750  \n",
              "683            4       0.5 -3839.9904  \n",
              "2505           5       0.0   327.5060  \n",
              "2623           4       0.2  3919.9888  \n",
              "2697           6       0.5 -1811.0784  \n",
              "4098           5       0.0  4630.4755  \n",
              "4190           3       0.0  5039.9856  \n",
              "4277           7       0.0  2365.9818  \n",
              "6340           4       0.0  1351.9896  \n",
              "6425           4       0.4  1119.9968  \n",
              "6520           4       0.0  2504.2216  \n",
              "6626           4       0.0  2239.9872  \n",
              "6826           5       0.0  8399.9760  \n",
              "7666           9       0.0  2591.9568  \n",
              "8153           4       0.0  6719.9808  \n",
              "8488           5       0.0  2799.9840  \n",
              "8858           5       0.2  1906.4850  \n",
              "9039          13       0.0  4946.3700  "
            ],
            "text/html": [
              "\n",
              "  <div id=\"df-58b54096-4601-4450-9952-6381b95b0dad\" class=\"colab-df-container\">\n",
              "    <div>\n",
              "<style scoped>\n",
              "    .dataframe tbody tr th:only-of-type {\n",
              "        vertical-align: middle;\n",
              "    }\n",
              "\n",
              "    .dataframe tbody tr th {\n",
              "        vertical-align: top;\n",
              "    }\n",
              "\n",
              "    .dataframe thead th {\n",
              "        text-align: right;\n",
              "    }\n",
              "</style>\n",
              "<table border=\"1\" class=\"dataframe\">\n",
              "  <thead>\n",
              "    <tr style=\"text-align: right;\">\n",
              "      <th></th>\n",
              "      <th>Modo de Envio</th>\n",
              "      <th>Segmento</th>\n",
              "      <th>Cidade</th>\n",
              "      <th>Estado</th>\n",
              "      <th>Código Postal</th>\n",
              "      <th>Região</th>\n",
              "      <th>Categoria</th>\n",
              "      <th>Subcategoria</th>\n",
              "      <th>Vendas</th>\n",
              "      <th>Quantidade</th>\n",
              "      <th>Desconto</th>\n",
              "      <th>Lucro</th>\n",
              "    </tr>\n",
              "  </thead>\n",
              "  <tbody>\n",
              "    <tr>\n",
              "      <th>165</th>\n",
              "      <td>Classe Padrão</td>\n",
              "      <td>Consumidor</td>\n",
              "      <td>San Antonio</td>\n",
              "      <td>Texas</td>\n",
              "      <td>78207</td>\n",
              "      <td>Central</td>\n",
              "      <td>Técnologia</td>\n",
              "      <td>Máquinas</td>\n",
              "      <td>8159.952</td>\n",
              "      <td>8</td>\n",
              "      <td>0.4</td>\n",
              "      <td>-1359.9920</td>\n",
              "    </tr>\n",
              "    <tr>\n",
              "      <th>509</th>\n",
              "      <td>Classe Padrão</td>\n",
              "      <td>Consumidor</td>\n",
              "      <td>Atlanta</td>\n",
              "      <td>Georgia</td>\n",
              "      <td>30318</td>\n",
              "      <td>Sul</td>\n",
              "      <td>Itens de Escritório</td>\n",
              "      <td>Ficharios</td>\n",
              "      <td>6354.950</td>\n",
              "      <td>5</td>\n",
              "      <td>0.0</td>\n",
              "      <td>3177.4750</td>\n",
              "    </tr>\n",
              "    <tr>\n",
              "      <th>683</th>\n",
              "      <td>Mesmo Dia</td>\n",
              "      <td>Corporativo</td>\n",
              "      <td>Burlington</td>\n",
              "      <td>North Carolina</td>\n",
              "      <td>27217</td>\n",
              "      <td>Sul</td>\n",
              "      <td>Técnologia</td>\n",
              "      <td>Máquinas</td>\n",
              "      <td>7999.980</td>\n",
              "      <td>4</td>\n",
              "      <td>0.5</td>\n",
              "      <td>-3839.9904</td>\n",
              "    </tr>\n",
              "    <tr>\n",
              "      <th>2505</th>\n",
              "      <td>Segunda Classe</td>\n",
              "      <td>Consumidor</td>\n",
              "      <td>San Francisco</td>\n",
              "      <td>California</td>\n",
              "      <td>94122</td>\n",
              "      <td>Oeste</td>\n",
              "      <td>Itens de Escritório</td>\n",
              "      <td>Suprimentos</td>\n",
              "      <td>8187.650</td>\n",
              "      <td>5</td>\n",
              "      <td>0.0</td>\n",
              "      <td>327.5060</td>\n",
              "    </tr>\n",
              "    <tr>\n",
              "      <th>2623</th>\n",
              "      <td>Primeira Classe</td>\n",
              "      <td>Home Office</td>\n",
              "      <td>New York City</td>\n",
              "      <td>New York</td>\n",
              "      <td>10024</td>\n",
              "      <td>Leste</td>\n",
              "      <td>Técnologia</td>\n",
              "      <td>Copiadoras</td>\n",
              "      <td>11199.968</td>\n",
              "      <td>4</td>\n",
              "      <td>0.2</td>\n",
              "      <td>3919.9888</td>\n",
              "    </tr>\n",
              "    <tr>\n",
              "      <th>2697</th>\n",
              "      <td>Classe Padrão</td>\n",
              "      <td>Home Office</td>\n",
              "      <td>Jacksonville</td>\n",
              "      <td>Florida</td>\n",
              "      <td>32216</td>\n",
              "      <td>Sul</td>\n",
              "      <td>Técnologia</td>\n",
              "      <td>Máquinas</td>\n",
              "      <td>22638.480</td>\n",
              "      <td>6</td>\n",
              "      <td>0.5</td>\n",
              "      <td>-1811.0784</td>\n",
              "    </tr>\n",
              "    <tr>\n",
              "      <th>4098</th>\n",
              "      <td>Classe Padrão</td>\n",
              "      <td>Consumidor</td>\n",
              "      <td>Minneapolis</td>\n",
              "      <td>Minnesota</td>\n",
              "      <td>55407</td>\n",
              "      <td>Central</td>\n",
              "      <td>Itens de Escritório</td>\n",
              "      <td>Ficharios</td>\n",
              "      <td>9449.950</td>\n",
              "      <td>5</td>\n",
              "      <td>0.0</td>\n",
              "      <td>4630.4755</td>\n",
              "    </tr>\n",
              "    <tr>\n",
              "      <th>4190</th>\n",
              "      <td>Classe Padrão</td>\n",
              "      <td>Consumidor</td>\n",
              "      <td>Newark</td>\n",
              "      <td>Delaware</td>\n",
              "      <td>19711</td>\n",
              "      <td>Leste</td>\n",
              "      <td>Técnologia</td>\n",
              "      <td>Copiadoras</td>\n",
              "      <td>10499.970</td>\n",
              "      <td>3</td>\n",
              "      <td>0.0</td>\n",
              "      <td>5039.9856</td>\n",
              "    </tr>\n",
              "    <tr>\n",
              "      <th>4277</th>\n",
              "      <td>Classe Padrão</td>\n",
              "      <td>Corporativo</td>\n",
              "      <td>Lakewood</td>\n",
              "      <td>New Jersey</td>\n",
              "      <td>8701</td>\n",
              "      <td>Leste</td>\n",
              "      <td>Técnologia</td>\n",
              "      <td>Máquinas</td>\n",
              "      <td>9099.930</td>\n",
              "      <td>7</td>\n",
              "      <td>0.0</td>\n",
              "      <td>2365.9818</td>\n",
              "    </tr>\n",
              "    <tr>\n",
              "      <th>6340</th>\n",
              "      <td>Classe Padrão</td>\n",
              "      <td>Corporativo</td>\n",
              "      <td>New York City</td>\n",
              "      <td>New York</td>\n",
              "      <td>10035</td>\n",
              "      <td>Leste</td>\n",
              "      <td>Técnologia</td>\n",
              "      <td>Máquinas</td>\n",
              "      <td>5199.960</td>\n",
              "      <td>4</td>\n",
              "      <td>0.0</td>\n",
              "      <td>1351.9896</td>\n",
              "    </tr>\n",
              "    <tr>\n",
              "      <th>6425</th>\n",
              "      <td>Classe Padrão</td>\n",
              "      <td>Consumidor</td>\n",
              "      <td>Philadelphia</td>\n",
              "      <td>Pennsylvania</td>\n",
              "      <td>19120</td>\n",
              "      <td>Leste</td>\n",
              "      <td>Técnologia</td>\n",
              "      <td>Copiadoras</td>\n",
              "      <td>8399.976</td>\n",
              "      <td>4</td>\n",
              "      <td>0.4</td>\n",
              "      <td>1119.9968</td>\n",
              "    </tr>\n",
              "    <tr>\n",
              "      <th>6520</th>\n",
              "      <td>Segunda Classe</td>\n",
              "      <td>Consumidor</td>\n",
              "      <td>Jackson</td>\n",
              "      <td>Michigan</td>\n",
              "      <td>49201</td>\n",
              "      <td>Central</td>\n",
              "      <td>Itens de Escritório</td>\n",
              "      <td>Ficharios</td>\n",
              "      <td>5443.960</td>\n",
              "      <td>4</td>\n",
              "      <td>0.0</td>\n",
              "      <td>2504.2216</td>\n",
              "    </tr>\n",
              "    <tr>\n",
              "      <th>6626</th>\n",
              "      <td>Classe Padrão</td>\n",
              "      <td>Consumidor</td>\n",
              "      <td>New York City</td>\n",
              "      <td>New York</td>\n",
              "      <td>10024</td>\n",
              "      <td>Leste</td>\n",
              "      <td>Técnologia</td>\n",
              "      <td>Máquinas</td>\n",
              "      <td>6999.960</td>\n",
              "      <td>4</td>\n",
              "      <td>0.0</td>\n",
              "      <td>2239.9872</td>\n",
              "    </tr>\n",
              "    <tr>\n",
              "      <th>6826</th>\n",
              "      <td>Classe Padrão</td>\n",
              "      <td>Corporativo</td>\n",
              "      <td>Lafayette</td>\n",
              "      <td>Indiana</td>\n",
              "      <td>47905</td>\n",
              "      <td>Central</td>\n",
              "      <td>Técnologia</td>\n",
              "      <td>Copiadoras</td>\n",
              "      <td>17499.950</td>\n",
              "      <td>5</td>\n",
              "      <td>0.0</td>\n",
              "      <td>8399.9760</td>\n",
              "    </tr>\n",
              "    <tr>\n",
              "      <th>7666</th>\n",
              "      <td>Classe Padrão</td>\n",
              "      <td>Home Office</td>\n",
              "      <td>Providence</td>\n",
              "      <td>Rhode Island</td>\n",
              "      <td>2908</td>\n",
              "      <td>Leste</td>\n",
              "      <td>Técnologia</td>\n",
              "      <td>Copiadoras</td>\n",
              "      <td>5399.910</td>\n",
              "      <td>9</td>\n",
              "      <td>0.0</td>\n",
              "      <td>2591.9568</td>\n",
              "    </tr>\n",
              "    <tr>\n",
              "      <th>8153</th>\n",
              "      <td>Primeira Classe</td>\n",
              "      <td>Consumidor</td>\n",
              "      <td>Seattle</td>\n",
              "      <td>Washington</td>\n",
              "      <td>98115</td>\n",
              "      <td>Oeste</td>\n",
              "      <td>Técnologia</td>\n",
              "      <td>Copiadoras</td>\n",
              "      <td>13999.960</td>\n",
              "      <td>4</td>\n",
              "      <td>0.0</td>\n",
              "      <td>6719.9808</td>\n",
              "    </tr>\n",
              "    <tr>\n",
              "      <th>8488</th>\n",
              "      <td>Segunda Classe</td>\n",
              "      <td>Consumidor</td>\n",
              "      <td>Arlington</td>\n",
              "      <td>Virginia</td>\n",
              "      <td>22204</td>\n",
              "      <td>Sul</td>\n",
              "      <td>Técnologia</td>\n",
              "      <td>Máquinas</td>\n",
              "      <td>8749.950</td>\n",
              "      <td>5</td>\n",
              "      <td>0.0</td>\n",
              "      <td>2799.9840</td>\n",
              "    </tr>\n",
              "    <tr>\n",
              "      <th>8858</th>\n",
              "      <td>Classe Padrão</td>\n",
              "      <td>Corporativo</td>\n",
              "      <td>Sacramento</td>\n",
              "      <td>California</td>\n",
              "      <td>95823</td>\n",
              "      <td>Oeste</td>\n",
              "      <td>Itens de Escritório</td>\n",
              "      <td>Ficharios</td>\n",
              "      <td>5083.960</td>\n",
              "      <td>5</td>\n",
              "      <td>0.2</td>\n",
              "      <td>1906.4850</td>\n",
              "    </tr>\n",
              "    <tr>\n",
              "      <th>9039</th>\n",
              "      <td>Classe Padrão</td>\n",
              "      <td>Consumidor</td>\n",
              "      <td>Detroit</td>\n",
              "      <td>Michigan</td>\n",
              "      <td>48205</td>\n",
              "      <td>Central</td>\n",
              "      <td>Itens de Escritório</td>\n",
              "      <td>Ficharios</td>\n",
              "      <td>9892.740</td>\n",
              "      <td>13</td>\n",
              "      <td>0.0</td>\n",
              "      <td>4946.3700</td>\n",
              "    </tr>\n",
              "  </tbody>\n",
              "</table>\n",
              "</div>\n",
              "    <div class=\"colab-df-buttons\">\n",
              "\n",
              "  <div class=\"colab-df-container\">\n",
              "    <button class=\"colab-df-convert\" onclick=\"convertToInteractive('df-58b54096-4601-4450-9952-6381b95b0dad')\"\n",
              "            title=\"Convert this dataframe to an interactive table.\"\n",
              "            style=\"display:none;\">\n",
              "\n",
              "  <svg xmlns=\"http://www.w3.org/2000/svg\" height=\"24px\" viewBox=\"0 -960 960 960\">\n",
              "    <path d=\"M120-120v-720h720v720H120Zm60-500h600v-160H180v160Zm220 220h160v-160H400v160Zm0 220h160v-160H400v160ZM180-400h160v-160H180v160Zm440 0h160v-160H620v160ZM180-180h160v-160H180v160Zm440 0h160v-160H620v160Z\"/>\n",
              "  </svg>\n",
              "    </button>\n",
              "\n",
              "  <style>\n",
              "    .colab-df-container {\n",
              "      display:flex;\n",
              "      gap: 12px;\n",
              "    }\n",
              "\n",
              "    .colab-df-convert {\n",
              "      background-color: #E8F0FE;\n",
              "      border: none;\n",
              "      border-radius: 50%;\n",
              "      cursor: pointer;\n",
              "      display: none;\n",
              "      fill: #1967D2;\n",
              "      height: 32px;\n",
              "      padding: 0 0 0 0;\n",
              "      width: 32px;\n",
              "    }\n",
              "\n",
              "    .colab-df-convert:hover {\n",
              "      background-color: #E2EBFA;\n",
              "      box-shadow: 0px 1px 2px rgba(60, 64, 67, 0.3), 0px 1px 3px 1px rgba(60, 64, 67, 0.15);\n",
              "      fill: #174EA6;\n",
              "    }\n",
              "\n",
              "    .colab-df-buttons div {\n",
              "      margin-bottom: 4px;\n",
              "    }\n",
              "\n",
              "    [theme=dark] .colab-df-convert {\n",
              "      background-color: #3B4455;\n",
              "      fill: #D2E3FC;\n",
              "    }\n",
              "\n",
              "    [theme=dark] .colab-df-convert:hover {\n",
              "      background-color: #434B5C;\n",
              "      box-shadow: 0px 1px 3px 1px rgba(0, 0, 0, 0.15);\n",
              "      filter: drop-shadow(0px 1px 2px rgba(0, 0, 0, 0.3));\n",
              "      fill: #FFFFFF;\n",
              "    }\n",
              "  </style>\n",
              "\n",
              "    <script>\n",
              "      const buttonEl =\n",
              "        document.querySelector('#df-58b54096-4601-4450-9952-6381b95b0dad button.colab-df-convert');\n",
              "      buttonEl.style.display =\n",
              "        google.colab.kernel.accessAllowed ? 'block' : 'none';\n",
              "\n",
              "      async function convertToInteractive(key) {\n",
              "        const element = document.querySelector('#df-58b54096-4601-4450-9952-6381b95b0dad');\n",
              "        const dataTable =\n",
              "          await google.colab.kernel.invokeFunction('convertToInteractive',\n",
              "                                                    [key], {});\n",
              "        if (!dataTable) return;\n",
              "\n",
              "        const docLinkHtml = 'Like what you see? Visit the ' +\n",
              "          '<a target=\"_blank\" href=https://colab.research.google.com/notebooks/data_table.ipynb>data table notebook</a>'\n",
              "          + ' to learn more about interactive tables.';\n",
              "        element.innerHTML = '';\n",
              "        dataTable['output_type'] = 'display_data';\n",
              "        await google.colab.output.renderOutput(dataTable, element);\n",
              "        const docLink = document.createElement('div');\n",
              "        docLink.innerHTML = docLinkHtml;\n",
              "        element.appendChild(docLink);\n",
              "      }\n",
              "    </script>\n",
              "  </div>\n",
              "\n",
              "\n",
              "<div id=\"df-3a2dfa70-3a44-4549-81b7-7b7d907fe038\">\n",
              "  <button class=\"colab-df-quickchart\" onclick=\"quickchart('df-3a2dfa70-3a44-4549-81b7-7b7d907fe038')\"\n",
              "            title=\"Suggest charts\"\n",
              "            style=\"display:none;\">\n",
              "\n",
              "<svg xmlns=\"http://www.w3.org/2000/svg\" height=\"24px\"viewBox=\"0 0 24 24\"\n",
              "     width=\"24px\">\n",
              "    <g>\n",
              "        <path d=\"M19 3H5c-1.1 0-2 .9-2 2v14c0 1.1.9 2 2 2h14c1.1 0 2-.9 2-2V5c0-1.1-.9-2-2-2zM9 17H7v-7h2v7zm4 0h-2V7h2v10zm4 0h-2v-4h2v4z\"/>\n",
              "    </g>\n",
              "</svg>\n",
              "  </button>\n",
              "\n",
              "<style>\n",
              "  .colab-df-quickchart {\n",
              "      --bg-color: #E8F0FE;\n",
              "      --fill-color: #1967D2;\n",
              "      --hover-bg-color: #E2EBFA;\n",
              "      --hover-fill-color: #174EA6;\n",
              "      --disabled-fill-color: #AAA;\n",
              "      --disabled-bg-color: #DDD;\n",
              "  }\n",
              "\n",
              "  [theme=dark] .colab-df-quickchart {\n",
              "      --bg-color: #3B4455;\n",
              "      --fill-color: #D2E3FC;\n",
              "      --hover-bg-color: #434B5C;\n",
              "      --hover-fill-color: #FFFFFF;\n",
              "      --disabled-bg-color: #3B4455;\n",
              "      --disabled-fill-color: #666;\n",
              "  }\n",
              "\n",
              "  .colab-df-quickchart {\n",
              "    background-color: var(--bg-color);\n",
              "    border: none;\n",
              "    border-radius: 50%;\n",
              "    cursor: pointer;\n",
              "    display: none;\n",
              "    fill: var(--fill-color);\n",
              "    height: 32px;\n",
              "    padding: 0;\n",
              "    width: 32px;\n",
              "  }\n",
              "\n",
              "  .colab-df-quickchart:hover {\n",
              "    background-color: var(--hover-bg-color);\n",
              "    box-shadow: 0 1px 2px rgba(60, 64, 67, 0.3), 0 1px 3px 1px rgba(60, 64, 67, 0.15);\n",
              "    fill: var(--button-hover-fill-color);\n",
              "  }\n",
              "\n",
              "  .colab-df-quickchart-complete:disabled,\n",
              "  .colab-df-quickchart-complete:disabled:hover {\n",
              "    background-color: var(--disabled-bg-color);\n",
              "    fill: var(--disabled-fill-color);\n",
              "    box-shadow: none;\n",
              "  }\n",
              "\n",
              "  .colab-df-spinner {\n",
              "    border: 2px solid var(--fill-color);\n",
              "    border-color: transparent;\n",
              "    border-bottom-color: var(--fill-color);\n",
              "    animation:\n",
              "      spin 1s steps(1) infinite;\n",
              "  }\n",
              "\n",
              "  @keyframes spin {\n",
              "    0% {\n",
              "      border-color: transparent;\n",
              "      border-bottom-color: var(--fill-color);\n",
              "      border-left-color: var(--fill-color);\n",
              "    }\n",
              "    20% {\n",
              "      border-color: transparent;\n",
              "      border-left-color: var(--fill-color);\n",
              "      border-top-color: var(--fill-color);\n",
              "    }\n",
              "    30% {\n",
              "      border-color: transparent;\n",
              "      border-left-color: var(--fill-color);\n",
              "      border-top-color: var(--fill-color);\n",
              "      border-right-color: var(--fill-color);\n",
              "    }\n",
              "    40% {\n",
              "      border-color: transparent;\n",
              "      border-right-color: var(--fill-color);\n",
              "      border-top-color: var(--fill-color);\n",
              "    }\n",
              "    60% {\n",
              "      border-color: transparent;\n",
              "      border-right-color: var(--fill-color);\n",
              "    }\n",
              "    80% {\n",
              "      border-color: transparent;\n",
              "      border-right-color: var(--fill-color);\n",
              "      border-bottom-color: var(--fill-color);\n",
              "    }\n",
              "    90% {\n",
              "      border-color: transparent;\n",
              "      border-bottom-color: var(--fill-color);\n",
              "    }\n",
              "  }\n",
              "</style>\n",
              "\n",
              "  <script>\n",
              "    async function quickchart(key) {\n",
              "      const quickchartButtonEl =\n",
              "        document.querySelector('#' + key + ' button');\n",
              "      quickchartButtonEl.disabled = true;  // To prevent multiple clicks.\n",
              "      quickchartButtonEl.classList.add('colab-df-spinner');\n",
              "      try {\n",
              "        const charts = await google.colab.kernel.invokeFunction(\n",
              "            'suggestCharts', [key], {});\n",
              "      } catch (error) {\n",
              "        console.error('Error during call to suggestCharts:', error);\n",
              "      }\n",
              "      quickchartButtonEl.classList.remove('colab-df-spinner');\n",
              "      quickchartButtonEl.classList.add('colab-df-quickchart-complete');\n",
              "    }\n",
              "    (() => {\n",
              "      let quickchartButtonEl =\n",
              "        document.querySelector('#df-3a2dfa70-3a44-4549-81b7-7b7d907fe038 button');\n",
              "      quickchartButtonEl.style.display =\n",
              "        google.colab.kernel.accessAllowed ? 'block' : 'none';\n",
              "    })();\n",
              "  </script>\n",
              "</div>\n",
              "\n",
              "    </div>\n",
              "  </div>\n"
            ],
            "application/vnd.google.colaboratory.intrinsic+json": {
              "type": "dataframe",
              "summary": "{\n  \"name\": \"df_store[filtro]\",\n  \"rows\": 19,\n  \"fields\": [\n    {\n      \"column\": \"Modo de Envio\",\n      \"properties\": {\n        \"dtype\": \"category\",\n        \"num_unique_values\": 4,\n        \"samples\": [\n          \"Mesmo Dia\",\n          \"Primeira Classe\",\n          \"Classe Padr\\u00e3o\"\n        ],\n        \"semantic_type\": \"\",\n        \"description\": \"\"\n      }\n    },\n    {\n      \"column\": \"Segmento\",\n      \"properties\": {\n        \"dtype\": \"category\",\n        \"num_unique_values\": 3,\n        \"samples\": [\n          \"Consumidor\",\n          \"Corporativo\",\n          \"Home Office\"\n        ],\n        \"semantic_type\": \"\",\n        \"description\": \"\"\n      }\n    },\n    {\n      \"column\": \"Cidade\",\n      \"properties\": {\n        \"dtype\": \"string\",\n        \"num_unique_values\": 17,\n        \"samples\": [\n          \"San Antonio\",\n          \"Atlanta\",\n          \"Jacksonville\"\n        ],\n        \"semantic_type\": \"\",\n        \"description\": \"\"\n      }\n    },\n    {\n      \"column\": \"Estado\",\n      \"properties\": {\n        \"dtype\": \"string\",\n        \"num_unique_values\": 15,\n        \"samples\": [\n          \"Pennsylvania\",\n          \"Indiana\",\n          \"Texas\"\n        ],\n        \"semantic_type\": \"\",\n        \"description\": \"\"\n      }\n    },\n    {\n      \"column\": \"C\\u00f3digo Postal\",\n      \"properties\": {\n        \"dtype\": \"number\",\n        \"std\": 31505,\n        \"min\": 2908,\n        \"max\": 98115,\n        \"num_unique_values\": 18,\n        \"samples\": [\n          78207,\n          30318,\n          8701\n        ],\n        \"semantic_type\": \"\",\n        \"description\": \"\"\n      }\n    },\n    {\n      \"column\": \"Regi\\u00e3o\",\n      \"properties\": {\n        \"dtype\": \"category\",\n        \"num_unique_values\": 4,\n        \"samples\": [\n          \"Sul\",\n          \"Leste\",\n          \"Central\"\n        ],\n        \"semantic_type\": \"\",\n        \"description\": \"\"\n      }\n    },\n    {\n      \"column\": \"Categoria\",\n      \"properties\": {\n        \"dtype\": \"category\",\n        \"num_unique_values\": 2,\n        \"samples\": [\n          \"Itens de Escrit\\u00f3rio\",\n          \"T\\u00e9cnologia\"\n        ],\n        \"semantic_type\": \"\",\n        \"description\": \"\"\n      }\n    },\n    {\n      \"column\": \"Subcategoria\",\n      \"properties\": {\n        \"dtype\": \"category\",\n        \"num_unique_values\": 4,\n        \"samples\": [\n          \"Ficharios\",\n          \"Copiadoras\"\n        ],\n        \"semantic_type\": \"\",\n        \"description\": \"\"\n      }\n    },\n    {\n      \"column\": \"Vendas\",\n      \"properties\": {\n        \"dtype\": \"number\",\n        \"std\": 4447.273205957117,\n        \"min\": 5083.96,\n        \"max\": 22638.48,\n        \"num_unique_values\": 19,\n        \"samples\": [\n          8159.952,\n          22638.48\n        ],\n        \"semantic_type\": \"\",\n        \"description\": \"\"\n      }\n    },\n    {\n      \"column\": \"Quantidade\",\n      \"properties\": {\n        \"dtype\": \"number\",\n        \"std\": 2,\n        \"min\": 3,\n        \"max\": 13,\n        \"num_unique_values\": 8,\n        \"samples\": [\n          5,\n          7\n        ],\n        \"semantic_type\": \"\",\n        \"description\": \"\"\n      }\n    },\n    {\n      \"column\": \"Desconto\",\n      \"properties\": {\n        \"dtype\": \"number\",\n        \"std\": 0.1893355571898059,\n        \"min\": 0.0,\n        \"max\": 0.5,\n        \"num_unique_values\": 4,\n        \"samples\": [\n          0.0,\n          0.2\n        ],\n        \"semantic_type\": \"\",\n        \"description\": \"\"\n      }\n    },\n    {\n      \"column\": \"Lucro\",\n      \"properties\": {\n        \"dtype\": \"number\",\n        \"std\": 2927.0357050583925,\n        \"min\": -3839.9904,\n        \"max\": 8399.976,\n        \"num_unique_values\": 19,\n        \"samples\": [\n          -1359.992,\n          -1811.0784\n        ],\n        \"semantic_type\": \"\",\n        \"description\": \"\"\n      }\n    }\n  ]\n}"
            }
          },
          "metadata": {},
          "execution_count": 22
        }
      ]
    },
    {
      "cell_type": "markdown",
      "source": [
        "## Coluna 10 - Quantity"
      ],
      "metadata": {
        "id": "2BKjOe2L17BZ"
      }
    },
    {
      "cell_type": "code",
      "source": [
        "df_store['Quantidade'].describe()"
      ],
      "metadata": {
        "colab": {
          "base_uri": "https://localhost:8080/",
          "height": 335
        },
        "id": "4cgh0zu6yZgL",
        "outputId": "0e668c6f-eb59-4aeb-a9ac-1d4db56900fc"
      },
      "execution_count": 23,
      "outputs": [
        {
          "output_type": "execute_result",
          "data": {
            "text/plain": [
              "count    9994.000000\n",
              "mean        3.789574\n",
              "std         2.225110\n",
              "min         1.000000\n",
              "25%         2.000000\n",
              "50%         3.000000\n",
              "75%         5.000000\n",
              "max        14.000000\n",
              "Name: Quantidade, dtype: float64"
            ],
            "text/html": [
              "<table border=\"1\" class=\"dataframe\">\n",
              "  <thead>\n",
              "    <tr style=\"text-align: right;\">\n",
              "      <th></th>\n",
              "      <th>Quantidade</th>\n",
              "    </tr>\n",
              "  </thead>\n",
              "  <tbody>\n",
              "    <tr>\n",
              "      <th>count</th>\n",
              "      <td>9994.000000</td>\n",
              "    </tr>\n",
              "    <tr>\n",
              "      <th>mean</th>\n",
              "      <td>3.789574</td>\n",
              "    </tr>\n",
              "    <tr>\n",
              "      <th>std</th>\n",
              "      <td>2.225110</td>\n",
              "    </tr>\n",
              "    <tr>\n",
              "      <th>min</th>\n",
              "      <td>1.000000</td>\n",
              "    </tr>\n",
              "    <tr>\n",
              "      <th>25%</th>\n",
              "      <td>2.000000</td>\n",
              "    </tr>\n",
              "    <tr>\n",
              "      <th>50%</th>\n",
              "      <td>3.000000</td>\n",
              "    </tr>\n",
              "    <tr>\n",
              "      <th>75%</th>\n",
              "      <td>5.000000</td>\n",
              "    </tr>\n",
              "    <tr>\n",
              "      <th>max</th>\n",
              "      <td>14.000000</td>\n",
              "    </tr>\n",
              "  </tbody>\n",
              "</table><br><label><b>dtype:</b> float64</label>"
            ]
          },
          "metadata": {},
          "execution_count": 23
        }
      ]
    },
    {
      "cell_type": "markdown",
      "source": [
        "## Coluna 11 - Discount"
      ],
      "metadata": {
        "id": "umG0YKCV2J5t"
      }
    },
    {
      "cell_type": "code",
      "source": [
        "df_store['Desconto'].describe()"
      ],
      "metadata": {
        "colab": {
          "base_uri": "https://localhost:8080/",
          "height": 335
        },
        "id": "mWwHUOK720H_",
        "outputId": "52365030-e1a0-481b-f2ee-68f75a12bdeb"
      },
      "execution_count": 24,
      "outputs": [
        {
          "output_type": "execute_result",
          "data": {
            "text/plain": [
              "count    9994.000000\n",
              "mean        0.156203\n",
              "std         0.206452\n",
              "min         0.000000\n",
              "25%         0.000000\n",
              "50%         0.200000\n",
              "75%         0.200000\n",
              "max         0.800000\n",
              "Name: Desconto, dtype: float64"
            ],
            "text/html": [
              "<table border=\"1\" class=\"dataframe\">\n",
              "  <thead>\n",
              "    <tr style=\"text-align: right;\">\n",
              "      <th></th>\n",
              "      <th>Desconto</th>\n",
              "    </tr>\n",
              "  </thead>\n",
              "  <tbody>\n",
              "    <tr>\n",
              "      <th>count</th>\n",
              "      <td>9994.000000</td>\n",
              "    </tr>\n",
              "    <tr>\n",
              "      <th>mean</th>\n",
              "      <td>0.156203</td>\n",
              "    </tr>\n",
              "    <tr>\n",
              "      <th>std</th>\n",
              "      <td>0.206452</td>\n",
              "    </tr>\n",
              "    <tr>\n",
              "      <th>min</th>\n",
              "      <td>0.000000</td>\n",
              "    </tr>\n",
              "    <tr>\n",
              "      <th>25%</th>\n",
              "      <td>0.000000</td>\n",
              "    </tr>\n",
              "    <tr>\n",
              "      <th>50%</th>\n",
              "      <td>0.200000</td>\n",
              "    </tr>\n",
              "    <tr>\n",
              "      <th>75%</th>\n",
              "      <td>0.200000</td>\n",
              "    </tr>\n",
              "    <tr>\n",
              "      <th>max</th>\n",
              "      <td>0.800000</td>\n",
              "    </tr>\n",
              "  </tbody>\n",
              "</table><br><label><b>dtype:</b> float64</label>"
            ]
          },
          "metadata": {},
          "execution_count": 24
        }
      ]
    },
    {
      "cell_type": "markdown",
      "source": [
        "## Coluna 12 - Profit"
      ],
      "metadata": {
        "id": "01Bsj8nh2YDQ"
      }
    },
    {
      "cell_type": "code",
      "source": [
        "df_store['Lucro'].describe()"
      ],
      "metadata": {
        "colab": {
          "base_uri": "https://localhost:8080/",
          "height": 335
        },
        "id": "2U2loM2_3BxN",
        "outputId": "cf41d28c-7427-4934-9e3f-bf4bb0285513"
      },
      "execution_count": 25,
      "outputs": [
        {
          "output_type": "execute_result",
          "data": {
            "text/plain": [
              "count    9994.000000\n",
              "mean       28.656599\n",
              "std       234.260115\n",
              "min     -6599.978000\n",
              "25%         1.728750\n",
              "50%         8.666500\n",
              "75%        29.364000\n",
              "max      8399.976000\n",
              "Name: Lucro, dtype: float64"
            ],
            "text/html": [
              "<table border=\"1\" class=\"dataframe\">\n",
              "  <thead>\n",
              "    <tr style=\"text-align: right;\">\n",
              "      <th></th>\n",
              "      <th>Lucro</th>\n",
              "    </tr>\n",
              "  </thead>\n",
              "  <tbody>\n",
              "    <tr>\n",
              "      <th>count</th>\n",
              "      <td>9994.000000</td>\n",
              "    </tr>\n",
              "    <tr>\n",
              "      <th>mean</th>\n",
              "      <td>28.656599</td>\n",
              "    </tr>\n",
              "    <tr>\n",
              "      <th>std</th>\n",
              "      <td>234.260115</td>\n",
              "    </tr>\n",
              "    <tr>\n",
              "      <th>min</th>\n",
              "      <td>-6599.978000</td>\n",
              "    </tr>\n",
              "    <tr>\n",
              "      <th>25%</th>\n",
              "      <td>1.728750</td>\n",
              "    </tr>\n",
              "    <tr>\n",
              "      <th>50%</th>\n",
              "      <td>8.666500</td>\n",
              "    </tr>\n",
              "    <tr>\n",
              "      <th>75%</th>\n",
              "      <td>29.364000</td>\n",
              "    </tr>\n",
              "    <tr>\n",
              "      <th>max</th>\n",
              "      <td>8399.976000</td>\n",
              "    </tr>\n",
              "  </tbody>\n",
              "</table><br><label><b>dtype:</b> float64</label>"
            ]
          },
          "metadata": {},
          "execution_count": 25
        }
      ]
    },
    {
      "cell_type": "code",
      "source": [
        "df_store.to_csv('SuperStore.csv', index=False)"
      ],
      "metadata": {
        "id": "SSReAZI8AfwN"
      },
      "execution_count": 26,
      "outputs": []
    },
    {
      "cell_type": "code",
      "source": [
        "df_store.head()"
      ],
      "metadata": {
        "colab": {
          "base_uri": "https://localhost:8080/",
          "height": 206
        },
        "id": "c_aqqIFjmhmt",
        "outputId": "8b32aebd-5287-4d14-c027-37f5a3b8511c"
      },
      "execution_count": 27,
      "outputs": [
        {
          "output_type": "execute_result",
          "data": {
            "text/plain": [
              "    Modo de Envio     Segmento           Cidade      Estado  Código Postal  \\\n",
              "0  Segunda Classe   Consumidor        Henderson    Kentucky          42420   \n",
              "1  Segunda Classe   Consumidor        Henderson    Kentucky          42420   \n",
              "2  Segunda Classe  Corporativo      Los Angeles  California          90036   \n",
              "3   Classe Padrão   Consumidor  Fort Lauderdale     Florida          33311   \n",
              "4   Classe Padrão   Consumidor  Fort Lauderdale     Florida          33311   \n",
              "\n",
              "  Região            Categoria   Subcategoria    Vendas  Quantidade  Desconto  \\\n",
              "0    Sul             Mobílias       Estantes  261.9600           2      0.00   \n",
              "1    Sul             Mobílias       Cadeiras  731.9400           3      0.00   \n",
              "2  Oeste  Itens de Escritório      Etiquetas   14.6200           2      0.00   \n",
              "3    Sul             Mobílias          Mesas  957.5775           5      0.45   \n",
              "4    Sul  Itens de Escritório  Armazenamento   22.3680           2      0.20   \n",
              "\n",
              "      Lucro  \n",
              "0   41.9136  \n",
              "1  219.5820  \n",
              "2    6.8714  \n",
              "3 -383.0310  \n",
              "4    2.5164  "
            ],
            "text/html": [
              "\n",
              "  <div id=\"df-ade08b97-36ce-4be6-8d64-702cad200552\" class=\"colab-df-container\">\n",
              "    <div>\n",
              "<style scoped>\n",
              "    .dataframe tbody tr th:only-of-type {\n",
              "        vertical-align: middle;\n",
              "    }\n",
              "\n",
              "    .dataframe tbody tr th {\n",
              "        vertical-align: top;\n",
              "    }\n",
              "\n",
              "    .dataframe thead th {\n",
              "        text-align: right;\n",
              "    }\n",
              "</style>\n",
              "<table border=\"1\" class=\"dataframe\">\n",
              "  <thead>\n",
              "    <tr style=\"text-align: right;\">\n",
              "      <th></th>\n",
              "      <th>Modo de Envio</th>\n",
              "      <th>Segmento</th>\n",
              "      <th>Cidade</th>\n",
              "      <th>Estado</th>\n",
              "      <th>Código Postal</th>\n",
              "      <th>Região</th>\n",
              "      <th>Categoria</th>\n",
              "      <th>Subcategoria</th>\n",
              "      <th>Vendas</th>\n",
              "      <th>Quantidade</th>\n",
              "      <th>Desconto</th>\n",
              "      <th>Lucro</th>\n",
              "    </tr>\n",
              "  </thead>\n",
              "  <tbody>\n",
              "    <tr>\n",
              "      <th>0</th>\n",
              "      <td>Segunda Classe</td>\n",
              "      <td>Consumidor</td>\n",
              "      <td>Henderson</td>\n",
              "      <td>Kentucky</td>\n",
              "      <td>42420</td>\n",
              "      <td>Sul</td>\n",
              "      <td>Mobílias</td>\n",
              "      <td>Estantes</td>\n",
              "      <td>261.9600</td>\n",
              "      <td>2</td>\n",
              "      <td>0.00</td>\n",
              "      <td>41.9136</td>\n",
              "    </tr>\n",
              "    <tr>\n",
              "      <th>1</th>\n",
              "      <td>Segunda Classe</td>\n",
              "      <td>Consumidor</td>\n",
              "      <td>Henderson</td>\n",
              "      <td>Kentucky</td>\n",
              "      <td>42420</td>\n",
              "      <td>Sul</td>\n",
              "      <td>Mobílias</td>\n",
              "      <td>Cadeiras</td>\n",
              "      <td>731.9400</td>\n",
              "      <td>3</td>\n",
              "      <td>0.00</td>\n",
              "      <td>219.5820</td>\n",
              "    </tr>\n",
              "    <tr>\n",
              "      <th>2</th>\n",
              "      <td>Segunda Classe</td>\n",
              "      <td>Corporativo</td>\n",
              "      <td>Los Angeles</td>\n",
              "      <td>California</td>\n",
              "      <td>90036</td>\n",
              "      <td>Oeste</td>\n",
              "      <td>Itens de Escritório</td>\n",
              "      <td>Etiquetas</td>\n",
              "      <td>14.6200</td>\n",
              "      <td>2</td>\n",
              "      <td>0.00</td>\n",
              "      <td>6.8714</td>\n",
              "    </tr>\n",
              "    <tr>\n",
              "      <th>3</th>\n",
              "      <td>Classe Padrão</td>\n",
              "      <td>Consumidor</td>\n",
              "      <td>Fort Lauderdale</td>\n",
              "      <td>Florida</td>\n",
              "      <td>33311</td>\n",
              "      <td>Sul</td>\n",
              "      <td>Mobílias</td>\n",
              "      <td>Mesas</td>\n",
              "      <td>957.5775</td>\n",
              "      <td>5</td>\n",
              "      <td>0.45</td>\n",
              "      <td>-383.0310</td>\n",
              "    </tr>\n",
              "    <tr>\n",
              "      <th>4</th>\n",
              "      <td>Classe Padrão</td>\n",
              "      <td>Consumidor</td>\n",
              "      <td>Fort Lauderdale</td>\n",
              "      <td>Florida</td>\n",
              "      <td>33311</td>\n",
              "      <td>Sul</td>\n",
              "      <td>Itens de Escritório</td>\n",
              "      <td>Armazenamento</td>\n",
              "      <td>22.3680</td>\n",
              "      <td>2</td>\n",
              "      <td>0.20</td>\n",
              "      <td>2.5164</td>\n",
              "    </tr>\n",
              "  </tbody>\n",
              "</table>\n",
              "</div>\n",
              "    <div class=\"colab-df-buttons\">\n",
              "\n",
              "  <div class=\"colab-df-container\">\n",
              "    <button class=\"colab-df-convert\" onclick=\"convertToInteractive('df-ade08b97-36ce-4be6-8d64-702cad200552')\"\n",
              "            title=\"Convert this dataframe to an interactive table.\"\n",
              "            style=\"display:none;\">\n",
              "\n",
              "  <svg xmlns=\"http://www.w3.org/2000/svg\" height=\"24px\" viewBox=\"0 -960 960 960\">\n",
              "    <path d=\"M120-120v-720h720v720H120Zm60-500h600v-160H180v160Zm220 220h160v-160H400v160Zm0 220h160v-160H400v160ZM180-400h160v-160H180v160Zm440 0h160v-160H620v160ZM180-180h160v-160H180v160Zm440 0h160v-160H620v160Z\"/>\n",
              "  </svg>\n",
              "    </button>\n",
              "\n",
              "  <style>\n",
              "    .colab-df-container {\n",
              "      display:flex;\n",
              "      gap: 12px;\n",
              "    }\n",
              "\n",
              "    .colab-df-convert {\n",
              "      background-color: #E8F0FE;\n",
              "      border: none;\n",
              "      border-radius: 50%;\n",
              "      cursor: pointer;\n",
              "      display: none;\n",
              "      fill: #1967D2;\n",
              "      height: 32px;\n",
              "      padding: 0 0 0 0;\n",
              "      width: 32px;\n",
              "    }\n",
              "\n",
              "    .colab-df-convert:hover {\n",
              "      background-color: #E2EBFA;\n",
              "      box-shadow: 0px 1px 2px rgba(60, 64, 67, 0.3), 0px 1px 3px 1px rgba(60, 64, 67, 0.15);\n",
              "      fill: #174EA6;\n",
              "    }\n",
              "\n",
              "    .colab-df-buttons div {\n",
              "      margin-bottom: 4px;\n",
              "    }\n",
              "\n",
              "    [theme=dark] .colab-df-convert {\n",
              "      background-color: #3B4455;\n",
              "      fill: #D2E3FC;\n",
              "    }\n",
              "\n",
              "    [theme=dark] .colab-df-convert:hover {\n",
              "      background-color: #434B5C;\n",
              "      box-shadow: 0px 1px 3px 1px rgba(0, 0, 0, 0.15);\n",
              "      filter: drop-shadow(0px 1px 2px rgba(0, 0, 0, 0.3));\n",
              "      fill: #FFFFFF;\n",
              "    }\n",
              "  </style>\n",
              "\n",
              "    <script>\n",
              "      const buttonEl =\n",
              "        document.querySelector('#df-ade08b97-36ce-4be6-8d64-702cad200552 button.colab-df-convert');\n",
              "      buttonEl.style.display =\n",
              "        google.colab.kernel.accessAllowed ? 'block' : 'none';\n",
              "\n",
              "      async function convertToInteractive(key) {\n",
              "        const element = document.querySelector('#df-ade08b97-36ce-4be6-8d64-702cad200552');\n",
              "        const dataTable =\n",
              "          await google.colab.kernel.invokeFunction('convertToInteractive',\n",
              "                                                    [key], {});\n",
              "        if (!dataTable) return;\n",
              "\n",
              "        const docLinkHtml = 'Like what you see? Visit the ' +\n",
              "          '<a target=\"_blank\" href=https://colab.research.google.com/notebooks/data_table.ipynb>data table notebook</a>'\n",
              "          + ' to learn more about interactive tables.';\n",
              "        element.innerHTML = '';\n",
              "        dataTable['output_type'] = 'display_data';\n",
              "        await google.colab.output.renderOutput(dataTable, element);\n",
              "        const docLink = document.createElement('div');\n",
              "        docLink.innerHTML = docLinkHtml;\n",
              "        element.appendChild(docLink);\n",
              "      }\n",
              "    </script>\n",
              "  </div>\n",
              "\n",
              "\n",
              "<div id=\"df-b7b1fde3-7ab1-4522-9456-95ed3bfa7f0a\">\n",
              "  <button class=\"colab-df-quickchart\" onclick=\"quickchart('df-b7b1fde3-7ab1-4522-9456-95ed3bfa7f0a')\"\n",
              "            title=\"Suggest charts\"\n",
              "            style=\"display:none;\">\n",
              "\n",
              "<svg xmlns=\"http://www.w3.org/2000/svg\" height=\"24px\"viewBox=\"0 0 24 24\"\n",
              "     width=\"24px\">\n",
              "    <g>\n",
              "        <path d=\"M19 3H5c-1.1 0-2 .9-2 2v14c0 1.1.9 2 2 2h14c1.1 0 2-.9 2-2V5c0-1.1-.9-2-2-2zM9 17H7v-7h2v7zm4 0h-2V7h2v10zm4 0h-2v-4h2v4z\"/>\n",
              "    </g>\n",
              "</svg>\n",
              "  </button>\n",
              "\n",
              "<style>\n",
              "  .colab-df-quickchart {\n",
              "      --bg-color: #E8F0FE;\n",
              "      --fill-color: #1967D2;\n",
              "      --hover-bg-color: #E2EBFA;\n",
              "      --hover-fill-color: #174EA6;\n",
              "      --disabled-fill-color: #AAA;\n",
              "      --disabled-bg-color: #DDD;\n",
              "  }\n",
              "\n",
              "  [theme=dark] .colab-df-quickchart {\n",
              "      --bg-color: #3B4455;\n",
              "      --fill-color: #D2E3FC;\n",
              "      --hover-bg-color: #434B5C;\n",
              "      --hover-fill-color: #FFFFFF;\n",
              "      --disabled-bg-color: #3B4455;\n",
              "      --disabled-fill-color: #666;\n",
              "  }\n",
              "\n",
              "  .colab-df-quickchart {\n",
              "    background-color: var(--bg-color);\n",
              "    border: none;\n",
              "    border-radius: 50%;\n",
              "    cursor: pointer;\n",
              "    display: none;\n",
              "    fill: var(--fill-color);\n",
              "    height: 32px;\n",
              "    padding: 0;\n",
              "    width: 32px;\n",
              "  }\n",
              "\n",
              "  .colab-df-quickchart:hover {\n",
              "    background-color: var(--hover-bg-color);\n",
              "    box-shadow: 0 1px 2px rgba(60, 64, 67, 0.3), 0 1px 3px 1px rgba(60, 64, 67, 0.15);\n",
              "    fill: var(--button-hover-fill-color);\n",
              "  }\n",
              "\n",
              "  .colab-df-quickchart-complete:disabled,\n",
              "  .colab-df-quickchart-complete:disabled:hover {\n",
              "    background-color: var(--disabled-bg-color);\n",
              "    fill: var(--disabled-fill-color);\n",
              "    box-shadow: none;\n",
              "  }\n",
              "\n",
              "  .colab-df-spinner {\n",
              "    border: 2px solid var(--fill-color);\n",
              "    border-color: transparent;\n",
              "    border-bottom-color: var(--fill-color);\n",
              "    animation:\n",
              "      spin 1s steps(1) infinite;\n",
              "  }\n",
              "\n",
              "  @keyframes spin {\n",
              "    0% {\n",
              "      border-color: transparent;\n",
              "      border-bottom-color: var(--fill-color);\n",
              "      border-left-color: var(--fill-color);\n",
              "    }\n",
              "    20% {\n",
              "      border-color: transparent;\n",
              "      border-left-color: var(--fill-color);\n",
              "      border-top-color: var(--fill-color);\n",
              "    }\n",
              "    30% {\n",
              "      border-color: transparent;\n",
              "      border-left-color: var(--fill-color);\n",
              "      border-top-color: var(--fill-color);\n",
              "      border-right-color: var(--fill-color);\n",
              "    }\n",
              "    40% {\n",
              "      border-color: transparent;\n",
              "      border-right-color: var(--fill-color);\n",
              "      border-top-color: var(--fill-color);\n",
              "    }\n",
              "    60% {\n",
              "      border-color: transparent;\n",
              "      border-right-color: var(--fill-color);\n",
              "    }\n",
              "    80% {\n",
              "      border-color: transparent;\n",
              "      border-right-color: var(--fill-color);\n",
              "      border-bottom-color: var(--fill-color);\n",
              "    }\n",
              "    90% {\n",
              "      border-color: transparent;\n",
              "      border-bottom-color: var(--fill-color);\n",
              "    }\n",
              "  }\n",
              "</style>\n",
              "\n",
              "  <script>\n",
              "    async function quickchart(key) {\n",
              "      const quickchartButtonEl =\n",
              "        document.querySelector('#' + key + ' button');\n",
              "      quickchartButtonEl.disabled = true;  // To prevent multiple clicks.\n",
              "      quickchartButtonEl.classList.add('colab-df-spinner');\n",
              "      try {\n",
              "        const charts = await google.colab.kernel.invokeFunction(\n",
              "            'suggestCharts', [key], {});\n",
              "      } catch (error) {\n",
              "        console.error('Error during call to suggestCharts:', error);\n",
              "      }\n",
              "      quickchartButtonEl.classList.remove('colab-df-spinner');\n",
              "      quickchartButtonEl.classList.add('colab-df-quickchart-complete');\n",
              "    }\n",
              "    (() => {\n",
              "      let quickchartButtonEl =\n",
              "        document.querySelector('#df-b7b1fde3-7ab1-4522-9456-95ed3bfa7f0a button');\n",
              "      quickchartButtonEl.style.display =\n",
              "        google.colab.kernel.accessAllowed ? 'block' : 'none';\n",
              "    })();\n",
              "  </script>\n",
              "</div>\n",
              "\n",
              "    </div>\n",
              "  </div>\n"
            ],
            "application/vnd.google.colaboratory.intrinsic+json": {
              "type": "dataframe",
              "variable_name": "df_store",
              "summary": "{\n  \"name\": \"df_store\",\n  \"rows\": 9994,\n  \"fields\": [\n    {\n      \"column\": \"Modo de Envio\",\n      \"properties\": {\n        \"dtype\": \"category\",\n        \"num_unique_values\": 4,\n        \"samples\": [\n          \"Classe Padr\\u00e3o\",\n          \"Mesmo Dia\",\n          \"Segunda Classe\"\n        ],\n        \"semantic_type\": \"\",\n        \"description\": \"\"\n      }\n    },\n    {\n      \"column\": \"Segmento\",\n      \"properties\": {\n        \"dtype\": \"category\",\n        \"num_unique_values\": 3,\n        \"samples\": [\n          \"Consumidor\",\n          \"Corporativo\",\n          \"Home Office\"\n        ],\n        \"semantic_type\": \"\",\n        \"description\": \"\"\n      }\n    },\n    {\n      \"column\": \"Cidade\",\n      \"properties\": {\n        \"dtype\": \"category\",\n        \"num_unique_values\": 531,\n        \"samples\": [\n          \"Laurel\",\n          \"Madison\",\n          \"Hot Springs\"\n        ],\n        \"semantic_type\": \"\",\n        \"description\": \"\"\n      }\n    },\n    {\n      \"column\": \"Estado\",\n      \"properties\": {\n        \"dtype\": \"category\",\n        \"num_unique_values\": 49,\n        \"samples\": [\n          \"Delaware\",\n          \"Idaho\",\n          \"Wyoming\"\n        ],\n        \"semantic_type\": \"\",\n        \"description\": \"\"\n      }\n    },\n    {\n      \"column\": \"C\\u00f3digo Postal\",\n      \"properties\": {\n        \"dtype\": \"number\",\n        \"std\": 32063,\n        \"min\": 1040,\n        \"max\": 99301,\n        \"num_unique_values\": 631,\n        \"samples\": [\n          30062,\n          36608,\n          92054\n        ],\n        \"semantic_type\": \"\",\n        \"description\": \"\"\n      }\n    },\n    {\n      \"column\": \"Regi\\u00e3o\",\n      \"properties\": {\n        \"dtype\": \"category\",\n        \"num_unique_values\": 4,\n        \"samples\": [\n          \"Oeste\",\n          \"Leste\",\n          \"Sul\"\n        ],\n        \"semantic_type\": \"\",\n        \"description\": \"\"\n      }\n    },\n    {\n      \"column\": \"Categoria\",\n      \"properties\": {\n        \"dtype\": \"category\",\n        \"num_unique_values\": 3,\n        \"samples\": [\n          \"Mob\\u00edlias\",\n          \"Itens de Escrit\\u00f3rio\",\n          \"T\\u00e9cnologia\"\n        ],\n        \"semantic_type\": \"\",\n        \"description\": \"\"\n      }\n    },\n    {\n      \"column\": \"Subcategoria\",\n      \"properties\": {\n        \"dtype\": \"category\",\n        \"num_unique_values\": 17,\n        \"samples\": [\n          \"Estantes\",\n          \"Cadeiras\",\n          \"Mobili\\u00e1rio\"\n        ],\n        \"semantic_type\": \"\",\n        \"description\": \"\"\n      }\n    },\n    {\n      \"column\": \"Vendas\",\n      \"properties\": {\n        \"dtype\": \"number\",\n        \"std\": 623.2451236904247,\n        \"min\": 0.444,\n        \"max\": 22638.48,\n        \"num_unique_values\": 5825,\n        \"samples\": [\n          2624.985,\n          84.416,\n          30.28\n        ],\n        \"semantic_type\": \"\",\n        \"description\": \"\"\n      }\n    },\n    {\n      \"column\": \"Quantidade\",\n      \"properties\": {\n        \"dtype\": \"number\",\n        \"std\": 2,\n        \"min\": 1,\n        \"max\": 14,\n        \"num_unique_values\": 14,\n        \"samples\": [\n          14,\n          13,\n          2\n        ],\n        \"semantic_type\": \"\",\n        \"description\": \"\"\n      }\n    },\n    {\n      \"column\": \"Desconto\",\n      \"properties\": {\n        \"dtype\": \"number\",\n        \"std\": 0.20645196782571615,\n        \"min\": 0.0,\n        \"max\": 0.8,\n        \"num_unique_values\": 12,\n        \"samples\": [\n          0.4,\n          0.1,\n          0.0\n        ],\n        \"semantic_type\": \"\",\n        \"description\": \"\"\n      }\n    },\n    {\n      \"column\": \"Lucro\",\n      \"properties\": {\n        \"dtype\": \"number\",\n        \"std\": 234.26011536282257,\n        \"min\": -6599.978,\n        \"max\": 8399.976,\n        \"num_unique_values\": 7288,\n        \"samples\": [\n          37.534,\n          1.926,\n          -8.4294\n        ],\n        \"semantic_type\": \"\",\n        \"description\": \"\"\n      }\n    }\n  ]\n}"
            }
          },
          "metadata": {},
          "execution_count": 27
        }
      ]
    },
    {
      "cell_type": "markdown",
      "source": [
        "# **5. Visualizações Dinâmicas com Plotly**"
      ],
      "metadata": {
        "id": "5P7vbgiAr4UX"
      }
    },
    {
      "cell_type": "markdown",
      "source": [
        "## 5.1 Vendas Por Cidade (Mapa)"
      ],
      "metadata": {
        "id": "xYdR1lrk7y_9"
      }
    },
    {
      "cell_type": "markdown",
      "source": [
        "O objetivo desse mapa é demonstrar o total de vendas por cidade, o que permite tomar decisões estretégicas nos setores de recursos humanos, marketing (preço, produto, promoção, ponto de venda) a fim de melhorar as vendas dos produtos da empresa e atender as necessidades do consumidor."
      ],
      "metadata": {
        "id": "z9jaP0WP7wml"
      }
    },
    {
      "cell_type": "code",
      "source": [
        "# Agrupamento e soma das vendas por cidade, estado e código postal\n",
        "sales_by_city_state = df_store.groupby(['Estado', 'Cidade', 'Código Postal'])['Vendas'].sum().reset_index()\n",
        "\n",
        "# Uso do pgeocode para obter as coordenadas a partir dos códigos postais\n",
        "nomi = pgeocode.Nominatim('us')\n",
        "\n",
        "# Função para obter coordenadas de um código postal\n",
        "def get_coordinates(postal_code):\n",
        "    location = nomi.query_postal_code(postal_code)\n",
        "    if location is not None:\n",
        "        return pd.Series([location.latitude, location.longitude])\n",
        "    else:\n",
        "        return pd.Series([None, None])\n",
        "\n",
        "# Aplicação da função e adicionando as coordenadas ao DataFrame\n",
        "sales_by_city_state[['Latitude', 'Longitude']] = sales_by_city_state['Código Postal'].apply(get_coordinates)\n",
        "\n",
        "# Filtro das linhas com coordenadas válidas\n",
        "sales_by_city_state = sales_by_city_state.dropna(subset=['Latitude', 'Longitude'])\n",
        "\n",
        "# Criar o gráfico de mapa\n",
        "fig = px.scatter_geo(sales_by_city_state,\n",
        "                     lat='Latitude',\n",
        "                     lon='Longitude',\n",
        "                     color='Vendas',\n",
        "                     hover_name='Cidade',\n",
        "                     hover_data={'Estado': True, 'Vendas': True},\n",
        "                     size='Vendas',\n",
        "                     size_max=50,  # Ajuste o tamanho máximo dos pontos\n",
        "                     color_continuous_scale='Viridis',  # Paleta de cores\n",
        "                     scope='usa',\n",
        "                     projection='albers usa',\n",
        "                     title='Total de Vendas por Cidade e Estado nos EUA')\n",
        "\n",
        "# Ajuste do tamanho e do estilo do texto do título\n",
        "fig.update_layout(\n",
        "    title={'text': 'Total de Vendas por Cidade nos EUA',\n",
        "           'font': {'size': 36, 'family': 'Arial'}},  # Ajuste o tamanho e a família da fonte\n",
        "    width=1200,  # Largura do gráfico em pixels\n",
        "    height=800   # Altura do gráfico em pixels\n",
        ")\n",
        "\n",
        "# Mostrar o gráfico\n",
        "fig.show()"
      ],
      "metadata": {
        "colab": {
          "base_uri": "https://localhost:8080/",
          "height": 817
        },
        "id": "9ffDzZkXEUDJ",
        "outputId": "70ed2e13-3982-47be-ab4d-0cf6b19afbe6"
      },
      "execution_count": 28,
      "outputs": [
        {
          "output_type": "display_data",
          "data": {
            "text/html": [
              "<html>\n",
              "<head><meta charset=\"utf-8\" /></head>\n",
              "<body>\n",
              "    <div>            <script src=\"https://cdnjs.cloudflare.com/ajax/libs/mathjax/2.7.5/MathJax.js?config=TeX-AMS-MML_SVG\"></script><script type=\"text/javascript\">if (window.MathJax && window.MathJax.Hub && window.MathJax.Hub.Config) {window.MathJax.Hub.Config({SVG: {font: \"STIX-Web\"}});}</script>                <script type=\"text/javascript\">window.PlotlyConfig = {MathJaxConfig: 'local'};</script>\n",
              "        <script charset=\"utf-8\" src=\"https://cdn.plot.ly/plotly-2.24.1.min.js\"></script>                <div id=\"74363cc1-225c-4327-9404-a582af3efc5c\" class=\"plotly-graph-div\" style=\"height:800px; width:1200px;\"></div>            <script type=\"text/javascript\">                                    window.PLOTLYENV=window.PLOTLYENV || {};                                    if (document.getElementById(\"74363cc1-225c-4327-9404-a582af3efc5c\")) {                    Plotly.newPlot(                        \"74363cc1-225c-4327-9404-a582af3efc5c\",                        [{\"customdata\":[[\"Alabama\",1766.83],[\"Alabama\",3374.82],[\"Alabama\",1997.35],[\"Alabama\",525.85],[\"Alabama\",2484.3700000000003],[\"Alabama\",5462.99],[\"Alabama\",3722.73],[\"Alabama\",175.70000000000002],[\"Arizona\",946.808],[\"Arizona\",22.288],[\"Arizona\",1076.747],[\"Arizona\",4172.382],[\"Arizona\",2917.865],[\"Arizona\",4037.7400000000002],[\"Arizona\",1341.352],[\"Arizona\",11000.257],[\"Arizona\",1466.307],[\"Arizona\",76.072],[\"Arizona\",1070.3020000000001],[\"Arizona\",6313.016],[\"Arizona\",840.865],[\"Arkansas\",301.96],[\"Arkansas\",3742.8100000000004],[\"Arkansas\",245.82999999999998],[\"Arkansas\",2915.32],[\"Arkansas\",3560.35],[\"Arkansas\",212.91],[\"Arkansas\",40.41],[\"Arkansas\",4.3],[\"Arkansas\",654.24],[\"California\",7986.87],[\"California\",19.44],[\"California\",1915.0810000000001],[\"California\",1377.29],[\"California\",5090.114],[\"California\",3247.1580000000004],[\"California\",1467.5175],[\"California\",2050.178],[\"California\",1041.62],[\"California\",129.39],[\"California\",163.55],[\"California\",2602.928],[\"California\",1497.67],[\"California\",1158.882],[\"California\",32.4],[\"California\",22.0],[\"California\",865.616],[\"California\",591.981],[\"California\",94.548],[\"California\",1470.584],[\"California\",7888.5285],[\"California\",1213.1715],[\"California\",2527.82],[\"California\",3479.328],[\"California\",367.53000000000003],[\"California\",46.32],[\"California\",290.983],[\"California\",283.92],[\"California\",1625.536],[\"California\",1583.683],[\"California\",477.444],[\"California\",136.98],[\"California\",4933.83],[\"California\",23684.259],[\"California\",25208.0435],[\"California\",22420.4085],[\"California\",29157.853],[\"California\",37419.765],[\"California\",37961.012],[\"California\",452.182],[\"California\",775.986],[\"California\",326.15000000000003],[\"California\",27.88],[\"California\",1262.4660000000001],[\"California\",545.01],[\"California\",484.65],[\"California\",5964.418],[\"California\",499.61199999999997],[\"California\",283.92],[\"California\",1558.1000000000001],[\"California\",4112.688],[\"California\",145.9],[\"California\",1482.502],[\"California\",231.852],[\"California\",333.576],[\"California\",2891.021],[\"California\",1959.803],[\"California\",41.904],[\"California\",1944.2459999999999],[\"California\",734.776],[\"California\",7311.278],[\"California\",728.8910000000001],[\"California\",979.3000000000001],[\"California\",90.05799999999999],[\"California\",7054.148],[\"California\",25676.273],[\"California\",14790.608],[\"California\",25010.31],[\"California\",34991.315],[\"California\",52667.467],[\"California\",2061.01],[\"California\",6071.229],[\"California\",3.62],[\"California\",75.18],[\"California\",3366.31],[\"California\",4289.2339999999995],[\"California\",222.192],[\"California\",115.44],[\"California\",1227.6],[\"California\",636.21],[\"California\",808.6659999999999],[\"California\",238.804],[\"California\",3132.268],[\"California\",423.28],[\"California\",1221.41],[\"California\",318.78000000000003],[\"California\",3826.6459999999997],[\"California\",444.768],[\"California\",264.66200000000003],[\"California\",50.8],[\"Colorado\",503.4],[\"Colorado\",4083.5099999999998],[\"Colorado\",793.504],[\"Colorado\",3694.009],[\"Colorado\",146.352],[\"Colorado\",12198.793],[\"Colorado\",124.056],[\"Colorado\",935.252],[\"Colorado\",30.351999999999997],[\"Colorado\",72.294],[\"Colorado\",915.088],[\"Colorado\",5070.416],[\"Colorado\",20.964000000000002],[\"Colorado\",1067.942],[\"Colorado\",1686.9379999999999],[\"Colorado\",765.248],[\"Delaware\",449.12],[\"Delaware\",20448.05],[\"Delaware\",6553.899],[\"District of Columbia\",2865.02],[\"Florida\",904.554],[\"Florida\",63.007999999999996],[\"Florida\",469.585],[\"Florida\",64.248],[\"Florida\",824.992],[\"Florida\",272.3315],[\"Florida\",242.536],[\"Florida\",893.24],[\"Florida\",4929.532499999999],[\"Florida\",2338.949],[\"Florida\",1070.474],[\"Florida\",132.552],[\"Florida\",39133.328],[\"Florida\",2.064],[\"Florida\",751.984],[\"Florida\",5606.8865000000005],[\"Florida\",15.552],[\"Florida\",95.616],[\"Florida\",3619.4210000000003],[\"Florida\",1918.3685],[\"Florida\",3135.285],[\"Florida\",1531.192],[\"Florida\",22.128],[\"Florida\",1740.08],[\"Florida\",2.808],[\"Florida\",274.428],[\"Florida\",1714.3754999999999],[\"Florida\",2.214],[\"Florida\",1436.836],[\"Florida\",90.44],[\"Florida\",7.824],[\"Florida\",248.95],[\"Florida\",1690.7920000000001],[\"Florida\",225.54600000000002],[\"Florida\",7250.669],[\"Florida\",1413.51],[\"Florida\",5196.0805],[\"Florida\",141.328],[\"Georgia\",1720.81],[\"Georgia\",17197.84],[\"Georgia\",14845.05],[\"Georgia\",268.4],[\"Georgia\",364.01],[\"Georgia\",2938.62],[\"Georgia\",6652.32],[\"Georgia\",1997.03],[\"Georgia\",2390.31],[\"Georgia\",434.8],[\"Georgia\",286.65000000000003],[\"Idaho\",1094.47],[\"Idaho\",455.63199999999995],[\"Idaho\",9.584],[\"Idaho\",329.052],[\"Idaho\",1344.942],[\"Idaho\",1148.806],[\"Illinois\",14.112],[\"Illinois\",7572.968],[\"Illinois\",963.94],[\"Illinois\",218.308],[\"Illinois\",831.399],[\"Illinois\",1305.81],[\"Illinois\",151.96],[\"Illinois\",13627.124],[\"Illinois\",18899.911],[\"Illinois\",16012.506],[\"Illinois\",43.372],[\"Illinois\",3169.473],[\"Illinois\",1493.212],[\"Illinois\",891.6279999999999],[\"Illinois\",1753.799],[\"Illinois\",97.632],[\"Illinois\",215.82],[\"Illinois\",158.376],[\"Illinois\",2035.096],[\"Illinois\",1288.3029999999999],[\"Illinois\",366.744],[\"Illinois\",10.192],[\"Illinois\",339.96],[\"Illinois\",321.978],[\"Illinois\",116.312],[\"Illinois\",685.0],[\"Illinois\",501.47999999999996],[\"Illinois\",330.284],[\"Illinois\",3166.228],[\"Illinois\",8.952],[\"Illinois\",1388.71],[\"Illinois\",568.832],[\"Illinois\",22.288],[\"Illinois\",737.142],[\"Illinois\",857.2500000000001],[\"Indiana\",603.8],[\"Indiana\",7960.4],[\"Indiana\",171.43],[\"Indiana\",1665.0500000000002],[\"Indiana\",9306.42],[\"Indiana\",1021.34],[\"Indiana\",19630.45],[\"Indiana\",1545.13],[\"Indiana\",776.24],[\"Indiana\",209.55],[\"Indiana\",84.61],[\"Indiana\",3091.1800000000003],[\"Indiana\",16.28],[\"Indiana\",6235.15],[\"Indiana\",1238.33],[\"Iowa\",57.43],[\"Iowa\",278.4],[\"Iowa\",2008.8400000000001],[\"Iowa\",1687.3],[\"Iowa\",9.99],[\"Iowa\",358.36],[\"Iowa\",149.12],[\"Iowa\",30.32],[\"Kansas\",312.38],[\"Kansas\",273.96],[\"Kansas\",895.79],[\"Kansas\",606.91],[\"Kansas\",825.27],[\"Kentucky\",211.81],[\"Kentucky\",4559.8],[\"Kentucky\",1786.42],[\"Kentucky\",15661.01],[\"Kentucky\",7275.39],[\"Kentucky\",264.62],[\"Kentucky\",71.18],[\"Kentucky\",6761.52],[\"Louisiana\",1417.18],[\"Louisiana\",89.32000000000001],[\"Louisiana\",5404.75],[\"Louisiana\",547.41],[\"Louisiana\",1757.37],[\"Maryland\",6156.842000000001],[\"Maryland\",5514.251],[\"Maryland\",10962.35],[\"Maryland\",405.91999999999996],[\"Maryland\",43.8],[\"Maryland\",152.59],[\"Maryland\",469.77],[\"Michigan\",889.273],[\"Michigan\",818.13],[\"Michigan\",1603.3100000000002],[\"Michigan\",1051.5700000000002],[\"Michigan\",23018.732],[\"Michigan\",11262.78],[\"Michigan\",8165.432],[\"Michigan\",526.13],[\"Michigan\",137.86],[\"Michigan\",15420.036],[\"Michigan\",1610.286],[\"Michigan\",387.602],[\"Michigan\",5291.512],[\"Michigan\",17.14],[\"Michigan\",580.8599999999999],[\"Michigan\",132.52],[\"Michigan\",638.33],[\"Michigan\",35.34],[\"Michigan\",395.86],[\"Michigan\",110.03999999999999],[\"Michigan\",353.7],[\"Michigan\",1765.1950000000002],[\"Michigan\",2057.976],[\"Minnesota\",137.94],[\"Minnesota\",503.13],[\"Minnesota\",144.35999999999999],[\"Minnesota\",214.28],[\"Minnesota\",4260.95],[\"Minnesota\",882.87],[\"Minnesota\",16870.54],[\"Minnesota\",543.86],[\"Minnesota\",1957.4],[\"Minnesota\",2215.52],[\"Minnesota\",1331.82],[\"Minnesota\",192.82999999999998],[\"Minnesota\",607.65],[\"Mississippi\",166.5],[\"Mississippi\",1722.84],[\"Mississippi\",7426.61],[\"Mississippi\",1455.39],[\"Missouri\",2990.04],[\"Missouri\",164.34],[\"Missouri\",2417.37],[\"Missouri\",86.62],[\"Missouri\",241.34],[\"Missouri\",270.94],[\"Missouri\",285.96000000000004],[\"Missouri\",697.16],[\"Missouri\",15051.380000000001],[\"Montana\",8.288],[\"Montana\",43.66],[\"Montana\",4605.58],[\"Montana\",443.84],[\"Montana\",487.984],[\"Nebraska\",1119.0099999999998],[\"Nebraska\",15.96],[\"Nebraska\",17.43],[\"Nebraska\",6312.53],[\"Nevada\",1888.0580000000002],[\"Nevada\",1834.02],[\"Nevada\",9801.002],[\"Nevada\",644.062],[\"Nevada\",2561.96],[\"New Mexico\",2220.16],[\"New Mexico\",419.34],[\"New Mexico\",111.42],[\"New Mexico\",718.72],[\"New Mexico\",98.77],[\"New Mexico\",1114.192],[\"New Mexico\",100.92],[\"New York\",1384.158],[\"New York\",9063.496],[\"New York\",523.3299999999999],[\"New York\",2589.586],[\"New York\",4708.79],[\"New York\",55.48],[\"New York\",8521.2],[\"New York\",2119.632],[\"New York\",1255.228],[\"New York\",54761.496],[\"New York\",45551.598],[\"New York\",78697.182],[\"New York\",77357.885],[\"New York\",199.84199999999998],[\"New York\",3851.126],[\"New York\",6017.13],[\"New York\",534.852],[\"New York\",1326.556],[\"New York\",655.04],[\"New York\",4044.998],[\"New York\",7657.666],[\"North Carolina\",1475.376],[\"North Carolina\",12681.282],[\"North Carolina\",505.20799999999997],[\"North Carolina\",14.016],[\"North Carolina\",13693.339],[\"North Carolina\",5111.844],[\"North Carolina\",879.96],[\"North Carolina\",3183.116],[\"North Carolina\",895.06],[\"North Carolina\",34.944],[\"North Carolina\",2406.78],[\"North Carolina\",2117.83],[\"North Carolina\",40.764],[\"North Carolina\",5579.8550000000005],[\"North Carolina\",1213.0639999999999],[\"North Carolina\",4507.54],[\"North Carolina\",151.292],[\"North Carolina\",743.1619999999999],[\"North Carolina\",368.73199999999997],[\"North Dakota\",919.91],[\"Ohio\",2729.986],[\"Ohio\",1865.565],[\"Ohio\",1611.976],[\"Ohio\",6346.185],[\"Ohio\",15900.793],[\"Ohio\",29.093999999999998],[\"Ohio\",2379.16],[\"Ohio\",1.824],[\"Ohio\",3077.697],[\"Ohio\",123.588],[\"Ohio\",328.224],[\"Ohio\",346.302],[\"Ohio\",1756.324],[\"Ohio\",8202.625],[\"Ohio\",2015.1109999999999],[\"Ohio\",3010.986],[\"Ohio\",94.264],[\"Ohio\",2477.722],[\"Ohio\",693.13],[\"Ohio\",8128.0689999999995],[\"Ohio\",3879.756],[\"Ohio\",5613.167],[\"Ohio\",4466.053],[\"Ohio\",3180.535],[\"Oklahoma\",2439.53],[\"Oklahoma\",959.55],[\"Oklahoma\",1057.49],[\"Oklahoma\",1721.7],[\"Oklahoma\",1351.3300000000002],[\"Oklahoma\",6596.820000000001],[\"Oklahoma\",5556.97],[\"Oregon\",1465.032],[\"Oregon\",2133.424],[\"Oregon\",87.838],[\"Oregon\",90.218],[\"Oregon\",4051.869],[\"Oregon\",1043.027],[\"Oregon\",1404.695],[\"Oregon\",5761.265],[\"Oregon\",1393.7820000000002],[\"Pennsylvania\",853.252],[\"Pennsylvania\",20.451],[\"Pennsylvania\",1689.6339999999998],[\"Pennsylvania\",1968.4789999999998],[\"Pennsylvania\",1211.395],[\"Pennsylvania\",26292.518],[\"Pennsylvania\",39390.293],[\"Pennsylvania\",22752.914],[\"Pennsylvania\",20641.288],[\"Pennsylvania\",873.7120000000001],[\"Pennsylvania\",817.978],[\"South Carolina\",6168.16],[\"South Carolina\",1064.57],[\"South Carolina\",545.94],[\"South Carolina\",284.25],[\"South Carolina\",11.85],[\"South Carolina\",406.93999999999994],[\"South Dakota\",25.5],[\"South Dakota\",152.64000000000001],[\"South Dakota\",1137.42],[\"Tennessee\",88.96],[\"Tennessee\",436.60200000000003],[\"Tennessee\",988.803],[\"Tennessee\",2217.73],[\"Tennessee\",5162.774],[\"Tennessee\",948.228],[\"Tennessee\",319.538],[\"Tennessee\",2117.212],[\"Tennessee\",765.848],[\"Tennessee\",3928.166],[\"Tennessee\",488.896],[\"Tennessee\",5942.341],[\"Tennessee\",337.333],[\"Tennessee\",6070.863],[\"Tennessee\",848.579],[\"Texas\",1.392],[\"Texas\",290.206],[\"Texas\",3773.0628],[\"Texas\",5847.772],[\"Texas\",6057.982],[\"Texas\",10.368],[\"Texas\",472.11600000000004],[\"Texas\",226.25600000000003],[\"Texas\",1292.2268000000001],[\"Texas\",616.656],[\"Texas\",2200.6459999999997],[\"Texas\",122.376],[\"Texas\",291.042],[\"Texas\",111.672],[\"Texas\",135.936],[\"Texas\",220.54399999999998],[\"Texas\",6341.1428],[\"Texas\",9720.652],[\"Texas\",4070.1374],[\"Texas\",6.924],[\"Texas\",88.27600000000001],[\"Texas\",3546.064],[\"Texas\",6602.7064],[\"Texas\",57.504],[\"Texas\",67.704],[\"Texas\",1012.486],[\"Texas\",41.528],[\"Texas\",269.32800000000003],[\"Texas\",471.404],[\"Texas\",18522.7876],[\"Texas\",16556.9592],[\"Texas\",18347.5944],[\"Texas\",11077.4192],[\"Texas\",6710.6168],[\"Texas\",605.5],[\"Texas\",6.0],[\"Texas\",30.392],[\"Texas\",1024.34],[\"Texas\",875.3679999999999],[\"Texas\",592.564],[\"Texas\",558.877],[\"Texas\",866.716],[\"Texas\",52.147999999999996],[\"Texas\",6.37],[\"Texas\",976.1239999999999],[\"Texas\",2477.458],[\"Texas\",494.996],[\"Texas\",1540.708],[\"Texas\",3530.3746],[\"Texas\",737.0528],[\"Texas\",1288.4640000000002],[\"Texas\",4854.0527999999995],[\"Texas\",650.636],[\"Texas\",21843.528],[\"Texas\",108.44399999999999],[\"Texas\",790.972],[\"Texas\",142.16000000000003],[\"Texas\",347.206],[\"Texas\",606.1072],[\"Utah\",263.65],[\"Utah\",4.96],[\"Utah\",1516.726],[\"Utah\",280.276],[\"Utah\",146.318],[\"Utah\",2994.0879999999997],[\"Utah\",2138.178],[\"Utah\",2761.234],[\"Utah\",802.776],[\"Utah\",311.85],[\"Virginia\",5519.57],[\"Virginia\",14366.76],[\"Virginia\",102.60999999999999],[\"Virginia\",5996.72],[\"Virginia\",2722.26],[\"Virginia\",4388.71],[\"Virginia\",3321.9500000000003],[\"Virginia\",5141.26],[\"Virginia\",2039.55],[\"Virginia\",16628.53],[\"Virginia\",1597.9],[\"Virginia\",5752.13],[\"Virginia\",3058.77],[\"Washington\",4.18],[\"Washington\",103.622],[\"Washington\",3790.24],[\"Washington\",413.68],[\"Washington\",3454.438],[\"Washington\",2523.692],[\"Washington\",3.856],[\"Washington\",1351.2540000000001],[\"Washington\",119.21000000000001],[\"Washington\",102.18],[\"Washington\",1020.448],[\"Washington\",2201.112],[\"Washington\",55.230000000000004],[\"Washington\",1242.6319999999998],[\"Washington\",36541.826],[\"Washington\",41838.008],[\"Washington\",41160.908],[\"Washington\",2027.9180000000001],[\"Washington\",686.836],[\"West Virginia\",1209.824],[\"Wisconsin\",1671.31],[\"Wisconsin\",1645.65],[\"Wisconsin\",4774.25],[\"Wisconsin\",527.3199999999999],[\"Wisconsin\",3906.73],[\"Wisconsin\",830.41],[\"Wisconsin\",5346.79],[\"Wisconsin\",11410.22],[\"Wisconsin\",79.74000000000001],[\"Wisconsin\",1299.73],[\"Wisconsin\",54.5],[\"Wisconsin\",317.48],[\"Wisconsin\",250.48000000000002],[\"Wyoming\",1603.136]],\"geo\":\"geo\",\"hovertemplate\":\"\\u003cb\\u003e%{hovertext}\\u003c\\u002fb\\u003e\\u003cbr\\u003e\\u003cbr\\u003eVendas=%{marker.color}\\u003cbr\\u003eLatitude=%{lat}\\u003cbr\\u003eLongitude=%{lon}\\u003cbr\\u003eEstado=%{customdata[0]}\\u003cextra\\u003e\\u003c\\u002fextra\\u003e\",\"hovertext\":[\"Auburn\",\"Decatur\",\"Florence\",\"Hoover\",\"Huntsville\",\"Mobile\",\"Montgomery\",\"Tuscaloosa\",\"Avondale\",\"Bullhead City\",\"Chandler\",\"Gilbert\",\"Glendale\",\"Mesa\",\"Peoria\",\"Phoenix\",\"Scottsdale\",\"Sierra Vista\",\"Tempe\",\"Tucson\",\"Yuma\",\"Conway\",\"Fayetteville\",\"Hot Springs\",\"Jonesboro\",\"Little Rock\",\"Pine Bluff\",\"Rogers\",\"Springdale\",\"Texarkana\",\"Anaheim\",\"Antioch\",\"Apple Valley\",\"Bakersfield\",\"Brentwood\",\"Burbank\",\"Camarillo\",\"Chico\",\"Chula Vista\",\"Citrus Heights\",\"Coachella\",\"Concord\",\"Costa Mesa\",\"Danville\",\"Davis\",\"Dublin\",\"El Cajon\",\"Encinitas\",\"Escondido\",\"Fairfield\",\"Fresno\",\"Hesperia\",\"Huntington Beach\",\"Inglewood\",\"La Mesa\",\"La Quinta\",\"Laguna Niguel\",\"Lake Elsinore\",\"Lake Forest\",\"Lakewood\",\"Lancaster\",\"Lodi\",\"Long Beach\",\"Los Angeles\",\"Los Angeles\",\"Los Angeles\",\"Los Angeles\",\"Los Angeles\",\"Los Angeles\",\"Manteca\",\"Mission Viejo\",\"Modesto\",\"Montebello\",\"Moreno Valley\",\"Morgan Hill\",\"Murrieta\",\"Oakland\",\"Oceanside\",\"Ontario\",\"Oxnard\",\"Pasadena\",\"Pico Rivera\",\"Pomona\",\"Rancho Cucamonga\",\"Redding\",\"Redlands\",\"Redondo Beach\",\"Redwood City\",\"Riverside\",\"Roseville\",\"Sacramento\",\"Salinas\",\"San Bernardino\",\"San Clemente\",\"San Diego\",\"San Diego\",\"San Diego\",\"San Francisco\",\"San Francisco\",\"San Francisco\",\"San Gabriel\",\"San Jose\",\"San Luis Obispo\",\"San Mateo\",\"Santa Ana\",\"Santa Barbara\",\"Santa Clara\",\"Santa Maria\",\"Stockton\",\"Sunnyvale\",\"Temecula\",\"Thousand Oaks\",\"Torrance\",\"Vacaville\",\"Vallejo\",\"Visalia\",\"Westminster\",\"Whittier\",\"Woodland\",\"Yucaipa\",\"Arvada\",\"Aurora\",\"Broomfield\",\"Colorado Springs\",\"Commerce City\",\"Denver\",\"Englewood\",\"Fort Collins\",\"Greeley\",\"Littleton\",\"Longmont\",\"Louisville\",\"Loveland\",\"Parker\",\"Pueblo\",\"Thornton\",\"Dover\",\"Newark\",\"Wilmington\",\"Washington\",\"Apopka\",\"Boca Raton\",\"Boynton Beach\",\"Coral Gables\",\"Coral Springs\",\"Daytona Beach\",\"Delray Beach\",\"Deltona\",\"Fort Lauderdale\",\"Hialeah\",\"Hollywood\",\"Homestead\",\"Jacksonville\",\"Jupiter\",\"Kissimmee\",\"Lakeland\",\"Margate\",\"Melbourne\",\"Miami\",\"Miami\",\"Miami\",\"Miramar\",\"North Miami\",\"Orlando\",\"Ormond Beach\",\"Palm Coast\",\"Pembroke Pines\",\"Pensacola\",\"Plantation\",\"Pompano Beach\",\"Port Orange\",\"Port Saint Lucie\",\"Saint Petersburg\",\"Sanford\",\"Tallahassee\",\"Tamarac\",\"Tampa\",\"West Palm Beach\",\"Athens\",\"Atlanta\",\"Columbus\",\"East Point\",\"Macon\",\"Marietta\",\"Roswell\",\"Sandy Springs\",\"Smyrna\",\"Warner Robins\",\"Woodstock\",\"Boise\",\"Caldwell\",\"Lewiston\",\"Meridian\",\"Pocatello\",\"Twin Falls\",\"Arlington Heights\",\"Aurora\",\"Bloomington\",\"Bolingbrook\",\"Buffalo Grove\",\"Carol Stream\",\"Champaign\",\"Chicago\",\"Chicago\",\"Chicago\",\"Danville\",\"Decatur\",\"Des Plaines\",\"Elmhurst\",\"Evanston\",\"Frankfort\",\"Freeport\",\"Glenview\",\"Highland Park\",\"Naperville\",\"Normal\",\"Oak Park\",\"Orland Park\",\"Oswego\",\"Palatine\",\"Park Ridge\",\"Peoria\",\"Quincy\",\"Rockford\",\"Romeoville\",\"Saint Charles\",\"Skokie\",\"Tinley Park\",\"Wheeling\",\"Woodstock\",\"Bloomington\",\"Columbus\",\"Elkhart\",\"Greenwood\",\"Indianapolis\",\"La Porte\",\"Lafayette\",\"Lawrence\",\"Mishawaka\",\"New Albany\",\"New Castle\",\"Noblesville\",\"Portage\",\"Richmond\",\"South Bend\",\"Burlington\",\"Cedar Rapids\",\"Des Moines\",\"Dubuque\",\"Iowa City\",\"Marion\",\"Urbandale\",\"Waterloo\",\"Garden City\",\"Manhattan\",\"Olathe\",\"Overland Park\",\"Wichita\",\"Bowling Green\",\"Florence\",\"Georgetown\",\"Henderson\",\"Louisville\",\"Murray\",\"Owensboro\",\"Richmond\",\"Bossier City\",\"Kenner\",\"Lafayette\",\"Lake Charles\",\"Monroe\",\"Baltimore\",\"Clinton\",\"Columbia\",\"Gaithersburg\",\"Hagerstown\",\"Laurel\",\"Rockville\",\"Ann Arbor\",\"Canton\",\"Dearborn\",\"Dearborn Heights\",\"Detroit\",\"Detroit\",\"Detroit\",\"Grand Rapids\",\"Holland\",\"Jackson\",\"Lansing\",\"Lincoln Park\",\"Midland\",\"Mount Pleasant\",\"Oak Park\",\"Rochester Hills\",\"Roseville\",\"Royal Oak\",\"Saginaw\",\"Sterling Heights\",\"Taylor\",\"Trenton\",\"Westland\",\"Apple Valley\",\"Coon Rapids\",\"Cottage Grove\",\"Eagan\",\"Lakeville\",\"Maple Grove\",\"Minneapolis\",\"Moorhead\",\"Rochester\",\"Roseville\",\"Saint Cloud\",\"Saint Paul\",\"Woodbury\",\"Gulfport\",\"Hattiesburg\",\"Jackson\",\"Southaven\",\"Columbia\",\"Gladstone\",\"Independence\",\"Jefferson City\",\"Kirkwood\",\"Saint Charles\",\"Saint Louis\",\"Saint Peters\",\"Springfield\",\"Billings\",\"Bozeman\",\"Great Falls\",\"Helena\",\"Missoula\",\"Fremont\",\"Grand Island\",\"Norfolk\",\"Omaha\",\"Henderson\",\"Las Vegas\",\"North Las Vegas\",\"Reno\",\"Sparks\",\"Albuquerque\",\"Carlsbad\",\"Clovis\",\"Farmington\",\"Las Cruces\",\"Rio Rancho\",\"Santa Fe\",\"Auburn\",\"Buffalo\",\"Freeport\",\"Hempstead\",\"Jamestown\",\"Lindenhurst\",\"Long Beach\",\"Mount Vernon\",\"New Rochelle\",\"New York City\",\"New York City\",\"New York City\",\"New York City\",\"Niagara Falls\",\"Oceanside\",\"Rochester\",\"Rome\",\"Troy\",\"Utica\",\"Watertown\",\"Yonkers\",\"Asheville\",\"Burlington\",\"Cary\",\"Chapel Hill\",\"Charlotte\",\"Concord\",\"Durham\",\"Fayetteville\",\"Gastonia\",\"Goldsboro\",\"Greensboro\",\"Greenville\",\"Hickory\",\"Jacksonville\",\"Monroe\",\"Raleigh\",\"Thomasville\",\"Wilmington\",\"Wilson\",\"Fargo\",\"Akron\",\"Bowling Green\",\"Cincinnati\",\"Cleveland\",\"Columbus\",\"Cuyahoga Falls\",\"Dublin\",\"Elyria\",\"Fairfield\",\"Grove City\",\"Hamilton\",\"Kent\",\"Lakewood\",\"Lancaster\",\"Lorain\",\"Marion\",\"Mason\",\"Medina\",\"Mentor\",\"Newark\",\"Parma\",\"Springfield\",\"Toledo\",\"Troy\",\"Broken Arrow\",\"Edmond\",\"Lawton\",\"Muskogee\",\"Norman\",\"Oklahoma City\",\"Tulsa\",\"Eugene\",\"Gresham\",\"Hillsboro\",\"Medford\",\"Portland\",\"Redmond\",\"Salem\",\"Springfield\",\"Tigard\",\"Allentown\",\"Altoona\",\"Bethlehem\",\"Chester\",\"Lancaster\",\"Philadelphia\",\"Philadelphia\",\"Philadelphia\",\"Philadelphia\",\"Reading\",\"York\",\"Columbia\",\"Florence\",\"Mount Pleasant\",\"North Charleston\",\"Rock Hill\",\"Summerville\",\"Aberdeen\",\"Rapid City\",\"Sioux Falls\",\"Bartlett\",\"Bristol\",\"Chattanooga\",\"Clarksville\",\"Columbia\",\"Franklin\",\"Hendersonville\",\"Jackson\",\"Johnson City\",\"Knoxville\",\"Lebanon\",\"Memphis\",\"Murfreesboro\",\"Nashville\",\"Smyrna\",\"Abilene\",\"Allen\",\"Amarillo\",\"Arlington\",\"Austin\",\"Baytown\",\"Beaumont\",\"Bedford\",\"Brownsville\",\"Bryan\",\"Carrollton\",\"Cedar Hill\",\"College Station\",\"Conroe\",\"Coppell\",\"Corpus Christi\",\"Dallas\",\"Dallas\",\"Dallas\",\"Deer Park\",\"Edinburg\",\"El Paso\",\"Fort Worth\",\"Frisco\",\"Garland\",\"Grand Prairie\",\"Grapevine\",\"Haltom City\",\"Harlingen\",\"Houston\",\"Houston\",\"Houston\",\"Houston\",\"Huntsville\",\"Irving\",\"Keller\",\"La Porte\",\"Laredo\",\"League City\",\"Lubbock\",\"Mansfield\",\"Mcallen\",\"Mesquite\",\"Missouri City\",\"Odessa\",\"Pasadena\",\"Pearland\",\"Pharr\",\"Plano\",\"Port Arthur\",\"Richardson\",\"Round Rock\",\"San Angelo\",\"San Antonio\",\"San Marcos\",\"Texas City\",\"The Colony\",\"Tyler\",\"Waco\",\"Draper\",\"Layton\",\"Lehi\",\"Logan\",\"Murray\",\"Orem\",\"Pleasant Grove\",\"Provo\",\"Salt Lake City\",\"West Jordan\",\"Alexandria\",\"Arlington\",\"Charlottesville\",\"Chesapeake\",\"Hampton\",\"Harrisonburg\",\"Newport News\",\"Richmond\",\"Salem\",\"Springfield\",\"Suffolk\",\"Virginia Beach\",\"Waynesboro\",\"Auburn\",\"Bellevue\",\"Bellingham\",\"Covington\",\"Des Moines\",\"Edmonds\",\"Everett\",\"Kent\",\"Longview\",\"Marysville\",\"Olympia\",\"Pasco\",\"Redmond\",\"Renton\",\"Seattle\",\"Seattle\",\"Seattle\",\"Spokane\",\"Vancouver\",\"Wheeling\",\"Appleton\",\"Eau Claire\",\"Franklin\",\"Green Bay\",\"Kenosha\",\"La Crosse\",\"Madison\",\"Milwaukee\",\"Sheboygan\",\"Superior\",\"Waukesha\",\"Wausau\",\"West Allis\",\"Cheyenne\"],\"lat\":[32.5475,34.5896,34.8305,33.3538,34.7784,30.6817,32.3129,33.1969,33.4321,35.106,33.3301,33.3527,33.5311,33.3992,33.5761,33.6324,33.6165,31.5365,33.4227,32.2691,32.7015,35.0842,36.052,34.5268,35.833,34.6725,34.1897,36.3363,36.1835,33.431,33.8186,37.9939,34.5291,35.3384,37.9324,34.169,34.2313,39.7224,32.6084,38.6946,33.675,37.9575,33.6483,37.814,38.5538,37.7166,32.7928,33.0535,33.1101,38.2671,36.7528,34.4222,33.6654,33.955,32.7604,33.6685,33.5145,33.6598,33.6437,33.8512,34.6909,38.1222,33.8635,34.0762,34.0116,34.0818,34.0699,33.9631,34.066,37.8134,33.6128,37.6236,34.0133,33.9157,37.1353,33.569,37.7806,33.2072,34.0316,34.2141,34.1678,33.9886,34.0812,34.107,40.6278,34.065,33.8707,37.4647,33.9208,38.7346,38.4797,36.6811,34.1426,33.4361,33.0535,32.8455,32.7423,37.7917,37.7509,37.7593,34.089,37.2458,35.2901,37.5395,33.7249,34.4197,37.3483,34.9545,38.0024,37.3764,33.4983,34.2092,33.8397,38.3482,38.0985,36.3114,33.7524,33.9299,38.6816,34.0282,39.8141,39.6575,39.9245,38.7902,39.8259,39.6956,39.5805,40.5384,40.4109,39.5814,40.1779,39.9789,40.4262,39.4895,38.2879,39.8671,39.1564,39.7011,39.7434,38.9381,28.712,26.3464,26.5312,25.768,26.2729,29.2012,26.4564,28.8989,26.1421,25.8654,26.0218,25.4766,30.2787,26.9339,28.3051,28.0381,26.2674,28.1384,25.813,25.8141,25.9597,25.9894,25.8934,28.4871,29.2833,29.5565,26.0296,30.4564,26.1122,26.216,29.1383,27.2889,27.7898,28.8013,30.4874,26.1848,28.0091,26.7492,33.9321,33.7865,32.4779,33.6919,32.8424,34.0025,34.0213,33.9335,33.8796,32.5934,34.106,43.633,43.6627,46.3646,43.615,42.8876,42.5565,42.112,41.7582,40.4783,41.6976,42.1598,41.9178,40.1073,41.9033,41.849,41.8196,40.137,39.8395,42.0467,41.8927,42.0546,41.5094,42.2991,42.0758,42.1794,41.7662,40.5124,41.8925,41.6194,41.6849,42.1139,42.0122,40.7111,39.9307,42.2786,41.593,41.9194,42.0362,41.5825,42.134,42.3198,39.1401,39.2055,41.7101,39.6224,39.743,41.5994,40.4001,39.8326,41.6507,38.3089,39.9208,40.0563,41.5672,39.8324,41.6255,40.8087,42.0188,41.5444,42.515,41.6355,42.0411,41.6295,42.4778,37.9769,39.1938,38.8733,38.9568,37.7007,36.9375,38.9941,38.2117,37.8274,38.1593,36.6099,37.7513,37.7546,32.5449,30.0252,30.2077,30.2285,32.553,39.3446,38.7549,39.2141,39.1419,39.632,39.1077,39.0496,42.2694,42.332,42.3349,42.3353,42.4313,42.3883,42.4337,43.012,42.7692,42.2545,42.6797,42.2422,43.6376,43.6013,42.4662,42.6593,42.5034,42.519,43.4047,42.5648,42.2317,42.1382,42.3358,44.7497,45.1643,44.8308,44.786,44.6749,45.1284,44.9378,46.8677,44.0496,45.0139,45.541,44.9684,44.9197,30.4601,31.3146,32.2435,34.9771,38.9348,39.2133,39.0545,38.5773,38.5781,38.8014,38.5814,38.7802,37.1668,45.7813,45.6693,47.495,46.6131,46.8563,41.4416,40.9219,42.0329,41.2919,36.0357,36.2158,36.2589,39.4972,39.5473,35.0448,32.4119,34.4126,36.7412,32.2901,35.2493,35.6219,42.93,42.9335,40.6536,40.7049,42.0928,40.6884,40.5877,40.9079,40.9166,40.7262,40.7402,40.7864,40.8011,43.0908,40.6362,43.174,43.2193,42.7287,43.0871,43.9743,40.9461,35.5808,36.1288,35.7641,35.9203,35.22,35.4141,35.9631,35.0583,35.2449,35.3664,36.1214,35.6192,35.7576,34.7375,35.0178,35.8334,35.8713,34.2237,35.727,46.8564,41.0334,41.3815,39.2418,41.4509,40.0839,41.1401,40.1093,41.3724,39.3266,39.8814,39.4059,41.1449,41.4847,39.7187,41.4578,40.5876,39.3357,41.1404,41.6895,40.0724,41.3853,39.9528,41.6492,40.0374,36.0447,35.6665,34.6179,35.7411,35.233,35.5835,36.0467,44.0185,45.5154,45.4984,42.3363,45.484,44.2767,44.949,44.0611,45.4094,40.5891,40.5052,40.6278,39.8498,40.0335,40.0343,39.9925,40.0118,39.9448,40.3466,39.9494,34.0635,34.1838,32.8473,32.9352,34.9151,33.028,45.4661,44.1415,43.5374,35.1845,36.5686,35.025,36.5853,35.6156,35.9328,36.3054,35.6102,36.3107,36.0501,36.2098,35.0425,35.8456,36.0725,35.9656,32.432,33.0934,35.1663,32.6555,30.2063,29.7461,30.0211,32.8536,25.9221,30.6913,33.0033,32.5885,30.6045,30.3125,32.9673,27.7262,32.9462,32.7244,32.8681,29.6826,26.2792,31.7089,32.7968,33.1499,32.8565,32.7115,32.9328,32.8087,26.1951,29.6984,29.8602,29.9781,29.8941,30.6448,32.8267,32.9276,29.6884,27.5569,29.5173,33.5159,32.5773,26.2154,32.8154,29.5962,31.889,29.7009,29.5617,26.1771,33.055,29.9212,32.966,30.5145,31.4707,29.4229,29.8754,29.397,33.094,32.3254,31.5171,40.5046,41.0879,40.3958,41.747,40.6568,40.3134,40.372,40.2607,40.7056,40.6254,38.8149,38.859,38.0936,36.7352,37.0462,38.4489,37.1132,37.5477,37.2853,38.7449,36.7304,36.7978,38.0774,47.305,47.5614,48.7974,47.368,47.3929,47.8353,47.8948,47.388,46.1514,48.0656,47.1043,46.2492,47.6718,47.5058,47.6733,47.6633,47.6849,47.6977,45.6418,40.1027,44.2425,44.8346,42.9017,44.5025,42.556,43.7989,43.0356,43.1188,43.741,46.7016,42.9993,44.9654,43.0215,41.1437],\"legendgroup\":\"\",\"lon\":[-85.4682,-86.9887,-87.656,-86.8254,-86.6091,-88.2945,-86.2421,-87.5627,-112.3438,-114.5947,-111.8632,-111.7809,-112.1767,-111.7896,-112.2344,-112.1118,-111.9554,-110.2666,-111.9261,-110.9845,-114.6424,-92.4236,-94.1534,-92.9587,-90.6965,-92.3529,-92.0448,-94.1148,-94.1762,-93.8765,-117.9729,-121.8089,-117.2132,-119.0627,-121.6894,-118.3442,-119.0464,-121.8113,-117.0565,-121.2692,-116.1772,-121.975,-117.9155,-121.966,-121.7418,-121.9226,-116.9665,-117.2689,-117.07,-122.0357,-119.7061,-117.3025,-117.9686,-118.3556,-117.0115,-116.3081,-117.7084,-117.3485,-117.6868,-118.1457,-118.1491,-121.2555,-118.1801,-118.3029,-118.3411,-118.1753,-118.3492,-118.3941,-118.474,-121.2132,-117.6622,-120.9966,-118.113,-117.2351,-121.6501,-117.1783,-122.2166,-117.3573,-117.6187,-119.175,-118.1261,-118.0883,-117.7362,-117.5941,-122.353,-117.1672,-118.3715,-122.2304,-117.4589,-121.234,-121.4438,-121.6176,-117.2606,-117.6231,-117.2689,-117.2521,-117.0947,-122.4186,-122.4153,-122.4836,-118.0955,-121.8306,-120.6817,-122.2998,-117.909,-119.7078,-121.9844,-120.4325,-121.3238,-122.0238,-117.0958,-118.8739,-118.3542,-121.9538,-122.2124,-119.3065,-117.9939,-118.0121,-121.8052,-117.0489,-105.1177,-104.7846,-105.0609,-104.8199,-104.9113,-105.0341,-104.9011,-105.0547,-104.7541,-104.9557,-105.1009,-105.1456,-105.09,-104.8447,-104.5848,-104.9227,-75.4955,-75.7375,-75.5827,-77.086,-81.5136,-80.1564,-80.1418,-80.2714,-80.2603,-81.0371,-80.1054,-81.2473,-80.1728,-80.3059,-80.1891,-80.4839,-81.5831,-80.1201,-81.4242,-81.9392,-80.2092,-80.6524,-80.232,-80.3549,-80.1403,-80.2153,-80.1758,-81.4082,-81.0882,-81.219,-80.2489,-87.2104,-80.2264,-80.2205,-80.9956,-80.298,-82.7243,-81.285,-84.3189,-80.2406,-82.5034,-80.0725,-83.3525,-84.4454,-84.898,-84.448,-83.6766,-84.4633,-84.3104,-84.3958,-84.5023,-83.6416,-84.5117,-116.2951,-116.7,-116.8609,-116.3975,-112.4381,-114.4693,-87.9792,-88.2971,-88.9893,-88.0873,-87.9644,-88.137,-88.2788,-87.6336,-87.7157,-87.6126,-87.6217,-88.9465,-87.8859,-87.941,-87.6943,-87.8248,-89.6345,-87.8223,-87.8059,-88.141,-88.9883,-87.7895,-87.8423,-88.3453,-88.0429,-87.8417,-89.6324,-91.3763,-89.0361,-88.0507,-88.307,-87.7328,-87.805,-87.9341,-88.4477,-86.5083,-85.9317,-85.9729,-86.149,-86.1179,-86.7077,-86.8602,-86.0836,-86.1623,-85.8221,-85.3663,-86.0163,-87.1757,-84.8936,-86.2433,-91.117,-91.6612,-93.6192,-90.6819,-91.5016,-91.5941,-93.723,-92.3661,-100.8621,-96.5858,-94.7752,-94.6832,-97.4383,-86.4481,-84.642,-84.5562,-87.5632,-85.778,-88.3032,-87.1554,-84.2955,-93.7038,-90.2522,-92.0656,-93.188,-92.0422,-76.6794,-76.9026,-76.8788,-77.189,-77.7372,-76.872,-77.1204,-83.7282,-83.4695,-83.1801,-83.2864,-82.9813,-83.1937,-83.0434,-85.6309,-86.1164,-84.3875,-84.5772,-83.1807,-84.268,-84.7736,-83.184,-83.1225,-82.9387,-83.157,-83.9156,-83.0701,-83.2673,-83.2179,-83.3846,-93.2029,-93.3193,-92.9393,-93.2202,-93.2578,-93.4589,-93.2545,-96.7572,-92.4896,-93.1571,-94.1819,-93.0488,-92.9439,-89.0886,-89.3065,-90.2612,-89.9992,-92.3639,-94.5743,-94.4039,-92.2443,-90.4256,-90.5065,-90.2625,-90.6228,-93.3085,-108.5727,-111.0431,-111.2502,-112.0213,-114.0252,-96.4945,-98.3411,-97.4229,-95.9999,-114.9718,-115.0671,-115.1718,-119.7764,-119.7556,-106.6893,-104.2395,-103.2214,-108.1797,-106.7539,-106.6818,-105.8688,-76.5626,-78.8115,-73.5866,-73.6176,-79.244,-73.3745,-73.6595,-73.838,-73.7877,-73.9796,-73.9996,-73.9764,-73.9371,-78.9644,-73.6375,-77.5637,-75.4498,-73.6683,-75.2315,-75.9122,-73.8669,-82.6078,-79.4114,-78.7786,-79.0372,-80.7881,-80.6162,-78.9315,-79.008,-81.2194,-77.9221,-79.7733,-77.3975,-81.3289,-77.4628,-80.5372,-78.5799,-80.0913,-77.8862,-77.9227,-96.8123,-81.4385,-83.6507,-84.5437,-81.619,-82.9726,-81.479,-83.1146,-82.1051,-84.5479,-83.0839,-84.5221,-81.3498,-81.8018,-82.6031,-82.171,-83.1271,-84.3149,-81.8584,-81.3421,-82.4046,-81.7044,-83.7804,-83.6706,-84.2032,-95.8079,-97.4798,-98.4552,-95.3449,-97.4067,-97.5638,-95.8841,-123.0998,-122.4203,-122.957,-122.8398,-122.5973,-121.1896,-123.004,-123.0153,-122.8014,-75.4645,-78.3905,-75.3928,-75.3747,-76.2844,-75.1213,-75.1133,-75.1456,-75.2288,-75.9351,-76.713,-81.0265,-79.7728,-79.8206,-80.0325,-81.0129,-80.1739,-98.4856,-103.2052,-96.6864,-89.8574,-82.1819,-85.1459,-87.4186,-87.038,-86.8788,-86.6072,-88.814,-82.381,-83.9226,-86.3024,-90.0732,-86.3903,-86.724,-86.5048,-99.7724,-96.6454,-101.8868,-97.1599,-97.7956,-94.9653,-94.1157,-97.1358,-97.4612,-96.3714,-96.882,-96.9438,-96.3123,-95.4527,-96.9805,-97.4078,-96.7058,-96.6755,-96.8622,-95.1222,-98.1832,-106.3293,-97.356,-96.8241,-96.5999,-97.0069,-97.0808,-97.2709,-97.689,-95.5405,-95.5817,-95.5803,-95.6481,-95.5798,-96.9633,-97.2489,-95.0513,-99.4907,-95.0963,-101.9344,-97.1416,-98.2359,-96.6307,-95.5115,-102.3548,-95.1989,-95.2721,-98.187,-96.7365,-93.927,-96.7452,-97.668,-100.4386,-98.526,-97.9404,-94.9203,-96.8836,-95.2922,-97.1198,-111.881,-111.9704,-111.8506,-111.8226,-111.8904,-111.6953,-111.7333,-111.6549,-111.8548,-111.9677,-77.121,-77.0997,-78.5611,-76.2384,-76.4096,-78.8714,-76.5179,-77.3948,-80.0692,-77.237,-76.5931,-76.1759,-78.9035,-122.2067,-122.1552,-122.4448,-122.1206,-122.3129,-122.327,-122.1987,-122.1932,-122.9634,-122.1562,-123.0552,-119.1044,-122.1232,-122.1157,-122.3426,-122.3022,-122.2968,-117.3746,-122.6251,-80.6476,-88.3564,-91.5159,-88.0086,-87.9771,-87.8705,-91.2175,-89.4526,-87.9478,-87.7247,-92.0912,-88.2196,-89.7066,-88.0176,-104.7962],\"marker\":{\"color\":[1766.83,3374.82,1997.35,525.85,2484.3700000000003,5462.99,3722.73,175.70000000000002,946.808,22.288,1076.747,4172.382,2917.865,4037.7400000000002,1341.352,11000.257,1466.307,76.072,1070.3020000000001,6313.016,840.865,301.96,3742.8100000000004,245.82999999999998,2915.32,3560.35,212.91,40.41,4.3,654.24,7986.87,19.44,1915.0810000000001,1377.29,5090.114,3247.1580000000004,1467.5175,2050.178,1041.62,129.39,163.55,2602.928,1497.67,1158.882,32.4,22.0,865.616,591.981,94.548,1470.584,7888.5285,1213.1715,2527.82,3479.328,367.53000000000003,46.32,290.983,283.92,1625.536,1583.683,477.444,136.98,4933.83,23684.259,25208.0435,22420.4085,29157.853,37419.765,37961.012,452.182,775.986,326.15000000000003,27.88,1262.4660000000001,545.01,484.65,5964.418,499.61199999999997,283.92,1558.1000000000001,4112.688,145.9,1482.502,231.852,333.576,2891.021,1959.803,41.904,1944.2459999999999,734.776,7311.278,728.8910000000001,979.3000000000001,90.05799999999999,7054.148,25676.273,14790.608,25010.31,34991.315,52667.467,2061.01,6071.229,3.62,75.18,3366.31,4289.2339999999995,222.192,115.44,1227.6,636.21,808.6659999999999,238.804,3132.268,423.28,1221.41,318.78000000000003,3826.6459999999997,444.768,264.66200000000003,50.8,503.4,4083.5099999999998,793.504,3694.009,146.352,12198.793,124.056,935.252,30.351999999999997,72.294,915.088,5070.416,20.964000000000002,1067.942,1686.9379999999999,765.248,449.12,20448.05,6553.899,2865.02,904.554,63.007999999999996,469.585,64.248,824.992,272.3315,242.536,893.24,4929.532499999999,2338.949,1070.474,132.552,39133.328,2.064,751.984,5606.8865000000005,15.552,95.616,3619.4210000000003,1918.3685,3135.285,1531.192,22.128,1740.08,2.808,274.428,1714.3754999999999,2.214,1436.836,90.44,7.824,248.95,1690.7920000000001,225.54600000000002,7250.669,1413.51,5196.0805,141.328,1720.81,17197.84,14845.05,268.4,364.01,2938.62,6652.32,1997.03,2390.31,434.8,286.65000000000003,1094.47,455.63199999999995,9.584,329.052,1344.942,1148.806,14.112,7572.968,963.94,218.308,831.399,1305.81,151.96,13627.124,18899.911,16012.506,43.372,3169.473,1493.212,891.6279999999999,1753.799,97.632,215.82,158.376,2035.096,1288.3029999999999,366.744,10.192,339.96,321.978,116.312,685.0,501.47999999999996,330.284,3166.228,8.952,1388.71,568.832,22.288,737.142,857.2500000000001,603.8,7960.4,171.43,1665.0500000000002,9306.42,1021.34,19630.45,1545.13,776.24,209.55,84.61,3091.1800000000003,16.28,6235.15,1238.33,57.43,278.4,2008.8400000000001,1687.3,9.99,358.36,149.12,30.32,312.38,273.96,895.79,606.91,825.27,211.81,4559.8,1786.42,15661.01,7275.39,264.62,71.18,6761.52,1417.18,89.32000000000001,5404.75,547.41,1757.37,6156.842000000001,5514.251,10962.35,405.91999999999996,43.8,152.59,469.77,889.273,818.13,1603.3100000000002,1051.5700000000002,23018.732,11262.78,8165.432,526.13,137.86,15420.036,1610.286,387.602,5291.512,17.14,580.8599999999999,132.52,638.33,35.34,395.86,110.03999999999999,353.7,1765.1950000000002,2057.976,137.94,503.13,144.35999999999999,214.28,4260.95,882.87,16870.54,543.86,1957.4,2215.52,1331.82,192.82999999999998,607.65,166.5,1722.84,7426.61,1455.39,2990.04,164.34,2417.37,86.62,241.34,270.94,285.96000000000004,697.16,15051.380000000001,8.288,43.66,4605.58,443.84,487.984,1119.0099999999998,15.96,17.43,6312.53,1888.0580000000002,1834.02,9801.002,644.062,2561.96,2220.16,419.34,111.42,718.72,98.77,1114.192,100.92,1384.158,9063.496,523.3299999999999,2589.586,4708.79,55.48,8521.2,2119.632,1255.228,54761.496,45551.598,78697.182,77357.885,199.84199999999998,3851.126,6017.13,534.852,1326.556,655.04,4044.998,7657.666,1475.376,12681.282,505.20799999999997,14.016,13693.339,5111.844,879.96,3183.116,895.06,34.944,2406.78,2117.83,40.764,5579.8550000000005,1213.0639999999999,4507.54,151.292,743.1619999999999,368.73199999999997,919.91,2729.986,1865.565,1611.976,6346.185,15900.793,29.093999999999998,2379.16,1.824,3077.697,123.588,328.224,346.302,1756.324,8202.625,2015.1109999999999,3010.986,94.264,2477.722,693.13,8128.0689999999995,3879.756,5613.167,4466.053,3180.535,2439.53,959.55,1057.49,1721.7,1351.3300000000002,6596.820000000001,5556.97,1465.032,2133.424,87.838,90.218,4051.869,1043.027,1404.695,5761.265,1393.7820000000002,853.252,20.451,1689.6339999999998,1968.4789999999998,1211.395,26292.518,39390.293,22752.914,20641.288,873.7120000000001,817.978,6168.16,1064.57,545.94,284.25,11.85,406.93999999999994,25.5,152.64000000000001,1137.42,88.96,436.60200000000003,988.803,2217.73,5162.774,948.228,319.538,2117.212,765.848,3928.166,488.896,5942.341,337.333,6070.863,848.579,1.392,290.206,3773.0628,5847.772,6057.982,10.368,472.11600000000004,226.25600000000003,1292.2268000000001,616.656,2200.6459999999997,122.376,291.042,111.672,135.936,220.54399999999998,6341.1428,9720.652,4070.1374,6.924,88.27600000000001,3546.064,6602.7064,57.504,67.704,1012.486,41.528,269.32800000000003,471.404,18522.7876,16556.9592,18347.5944,11077.4192,6710.6168,605.5,6.0,30.392,1024.34,875.3679999999999,592.564,558.877,866.716,52.147999999999996,6.37,976.1239999999999,2477.458,494.996,1540.708,3530.3746,737.0528,1288.4640000000002,4854.0527999999995,650.636,21843.528,108.44399999999999,790.972,142.16000000000003,347.206,606.1072,263.65,4.96,1516.726,280.276,146.318,2994.0879999999997,2138.178,2761.234,802.776,311.85,5519.57,14366.76,102.60999999999999,5996.72,2722.26,4388.71,3321.9500000000003,5141.26,2039.55,16628.53,1597.9,5752.13,3058.77,4.18,103.622,3790.24,413.68,3454.438,2523.692,3.856,1351.2540000000001,119.21000000000001,102.18,1020.448,2201.112,55.230000000000004,1242.6319999999998,36541.826,41838.008,41160.908,2027.9180000000001,686.836,1209.824,1671.31,1645.65,4774.25,527.3199999999999,3906.73,830.41,5346.79,11410.22,79.74000000000001,1299.73,54.5,317.48,250.48000000000002,1603.136],\"coloraxis\":\"coloraxis\",\"size\":[1766.83,3374.82,1997.35,525.85,2484.3700000000003,5462.99,3722.73,175.70000000000002,946.808,22.288,1076.747,4172.382,2917.865,4037.7400000000002,1341.352,11000.257,1466.307,76.072,1070.3020000000001,6313.016,840.865,301.96,3742.8100000000004,245.82999999999998,2915.32,3560.35,212.91,40.41,4.3,654.24,7986.87,19.44,1915.0810000000001,1377.29,5090.114,3247.1580000000004,1467.5175,2050.178,1041.62,129.39,163.55,2602.928,1497.67,1158.882,32.4,22.0,865.616,591.981,94.548,1470.584,7888.5285,1213.1715,2527.82,3479.328,367.53000000000003,46.32,290.983,283.92,1625.536,1583.683,477.444,136.98,4933.83,23684.259,25208.0435,22420.4085,29157.853,37419.765,37961.012,452.182,775.986,326.15000000000003,27.88,1262.4660000000001,545.01,484.65,5964.418,499.61199999999997,283.92,1558.1000000000001,4112.688,145.9,1482.502,231.852,333.576,2891.021,1959.803,41.904,1944.2459999999999,734.776,7311.278,728.8910000000001,979.3000000000001,90.05799999999999,7054.148,25676.273,14790.608,25010.31,34991.315,52667.467,2061.01,6071.229,3.62,75.18,3366.31,4289.2339999999995,222.192,115.44,1227.6,636.21,808.6659999999999,238.804,3132.268,423.28,1221.41,318.78000000000003,3826.6459999999997,444.768,264.66200000000003,50.8,503.4,4083.5099999999998,793.504,3694.009,146.352,12198.793,124.056,935.252,30.351999999999997,72.294,915.088,5070.416,20.964000000000002,1067.942,1686.9379999999999,765.248,449.12,20448.05,6553.899,2865.02,904.554,63.007999999999996,469.585,64.248,824.992,272.3315,242.536,893.24,4929.532499999999,2338.949,1070.474,132.552,39133.328,2.064,751.984,5606.8865000000005,15.552,95.616,3619.4210000000003,1918.3685,3135.285,1531.192,22.128,1740.08,2.808,274.428,1714.3754999999999,2.214,1436.836,90.44,7.824,248.95,1690.7920000000001,225.54600000000002,7250.669,1413.51,5196.0805,141.328,1720.81,17197.84,14845.05,268.4,364.01,2938.62,6652.32,1997.03,2390.31,434.8,286.65000000000003,1094.47,455.63199999999995,9.584,329.052,1344.942,1148.806,14.112,7572.968,963.94,218.308,831.399,1305.81,151.96,13627.124,18899.911,16012.506,43.372,3169.473,1493.212,891.6279999999999,1753.799,97.632,215.82,158.376,2035.096,1288.3029999999999,366.744,10.192,339.96,321.978,116.312,685.0,501.47999999999996,330.284,3166.228,8.952,1388.71,568.832,22.288,737.142,857.2500000000001,603.8,7960.4,171.43,1665.0500000000002,9306.42,1021.34,19630.45,1545.13,776.24,209.55,84.61,3091.1800000000003,16.28,6235.15,1238.33,57.43,278.4,2008.8400000000001,1687.3,9.99,358.36,149.12,30.32,312.38,273.96,895.79,606.91,825.27,211.81,4559.8,1786.42,15661.01,7275.39,264.62,71.18,6761.52,1417.18,89.32000000000001,5404.75,547.41,1757.37,6156.842000000001,5514.251,10962.35,405.91999999999996,43.8,152.59,469.77,889.273,818.13,1603.3100000000002,1051.5700000000002,23018.732,11262.78,8165.432,526.13,137.86,15420.036,1610.286,387.602,5291.512,17.14,580.8599999999999,132.52,638.33,35.34,395.86,110.03999999999999,353.7,1765.1950000000002,2057.976,137.94,503.13,144.35999999999999,214.28,4260.95,882.87,16870.54,543.86,1957.4,2215.52,1331.82,192.82999999999998,607.65,166.5,1722.84,7426.61,1455.39,2990.04,164.34,2417.37,86.62,241.34,270.94,285.96000000000004,697.16,15051.380000000001,8.288,43.66,4605.58,443.84,487.984,1119.0099999999998,15.96,17.43,6312.53,1888.0580000000002,1834.02,9801.002,644.062,2561.96,2220.16,419.34,111.42,718.72,98.77,1114.192,100.92,1384.158,9063.496,523.3299999999999,2589.586,4708.79,55.48,8521.2,2119.632,1255.228,54761.496,45551.598,78697.182,77357.885,199.84199999999998,3851.126,6017.13,534.852,1326.556,655.04,4044.998,7657.666,1475.376,12681.282,505.20799999999997,14.016,13693.339,5111.844,879.96,3183.116,895.06,34.944,2406.78,2117.83,40.764,5579.8550000000005,1213.0639999999999,4507.54,151.292,743.1619999999999,368.73199999999997,919.91,2729.986,1865.565,1611.976,6346.185,15900.793,29.093999999999998,2379.16,1.824,3077.697,123.588,328.224,346.302,1756.324,8202.625,2015.1109999999999,3010.986,94.264,2477.722,693.13,8128.0689999999995,3879.756,5613.167,4466.053,3180.535,2439.53,959.55,1057.49,1721.7,1351.3300000000002,6596.820000000001,5556.97,1465.032,2133.424,87.838,90.218,4051.869,1043.027,1404.695,5761.265,1393.7820000000002,853.252,20.451,1689.6339999999998,1968.4789999999998,1211.395,26292.518,39390.293,22752.914,20641.288,873.7120000000001,817.978,6168.16,1064.57,545.94,284.25,11.85,406.93999999999994,25.5,152.64000000000001,1137.42,88.96,436.60200000000003,988.803,2217.73,5162.774,948.228,319.538,2117.212,765.848,3928.166,488.896,5942.341,337.333,6070.863,848.579,1.392,290.206,3773.0628,5847.772,6057.982,10.368,472.11600000000004,226.25600000000003,1292.2268000000001,616.656,2200.6459999999997,122.376,291.042,111.672,135.936,220.54399999999998,6341.1428,9720.652,4070.1374,6.924,88.27600000000001,3546.064,6602.7064,57.504,67.704,1012.486,41.528,269.32800000000003,471.404,18522.7876,16556.9592,18347.5944,11077.4192,6710.6168,605.5,6.0,30.392,1024.34,875.3679999999999,592.564,558.877,866.716,52.147999999999996,6.37,976.1239999999999,2477.458,494.996,1540.708,3530.3746,737.0528,1288.4640000000002,4854.0527999999995,650.636,21843.528,108.44399999999999,790.972,142.16000000000003,347.206,606.1072,263.65,4.96,1516.726,280.276,146.318,2994.0879999999997,2138.178,2761.234,802.776,311.85,5519.57,14366.76,102.60999999999999,5996.72,2722.26,4388.71,3321.9500000000003,5141.26,2039.55,16628.53,1597.9,5752.13,3058.77,4.18,103.622,3790.24,413.68,3454.438,2523.692,3.856,1351.2540000000001,119.21000000000001,102.18,1020.448,2201.112,55.230000000000004,1242.6319999999998,36541.826,41838.008,41160.908,2027.9180000000001,686.836,1209.824,1671.31,1645.65,4774.25,527.3199999999999,3906.73,830.41,5346.79,11410.22,79.74000000000001,1299.73,54.5,317.48,250.48000000000002,1603.136],\"sizemode\":\"area\",\"sizeref\":31.4788728,\"symbol\":\"circle\"},\"mode\":\"markers\",\"name\":\"\",\"showlegend\":false,\"type\":\"scattergeo\"}],                        {\"template\":{\"data\":{\"histogram2dcontour\":[{\"type\":\"histogram2dcontour\",\"colorbar\":{\"outlinewidth\":0,\"ticks\":\"\"},\"colorscale\":[[0.0,\"#0d0887\"],[0.1111111111111111,\"#46039f\"],[0.2222222222222222,\"#7201a8\"],[0.3333333333333333,\"#9c179e\"],[0.4444444444444444,\"#bd3786\"],[0.5555555555555556,\"#d8576b\"],[0.6666666666666666,\"#ed7953\"],[0.7777777777777778,\"#fb9f3a\"],[0.8888888888888888,\"#fdca26\"],[1.0,\"#f0f921\"]]}],\"choropleth\":[{\"type\":\"choropleth\",\"colorbar\":{\"outlinewidth\":0,\"ticks\":\"\"}}],\"histogram2d\":[{\"type\":\"histogram2d\",\"colorbar\":{\"outlinewidth\":0,\"ticks\":\"\"},\"colorscale\":[[0.0,\"#0d0887\"],[0.1111111111111111,\"#46039f\"],[0.2222222222222222,\"#7201a8\"],[0.3333333333333333,\"#9c179e\"],[0.4444444444444444,\"#bd3786\"],[0.5555555555555556,\"#d8576b\"],[0.6666666666666666,\"#ed7953\"],[0.7777777777777778,\"#fb9f3a\"],[0.8888888888888888,\"#fdca26\"],[1.0,\"#f0f921\"]]}],\"heatmap\":[{\"type\":\"heatmap\",\"colorbar\":{\"outlinewidth\":0,\"ticks\":\"\"},\"colorscale\":[[0.0,\"#0d0887\"],[0.1111111111111111,\"#46039f\"],[0.2222222222222222,\"#7201a8\"],[0.3333333333333333,\"#9c179e\"],[0.4444444444444444,\"#bd3786\"],[0.5555555555555556,\"#d8576b\"],[0.6666666666666666,\"#ed7953\"],[0.7777777777777778,\"#fb9f3a\"],[0.8888888888888888,\"#fdca26\"],[1.0,\"#f0f921\"]]}],\"heatmapgl\":[{\"type\":\"heatmapgl\",\"colorbar\":{\"outlinewidth\":0,\"ticks\":\"\"},\"colorscale\":[[0.0,\"#0d0887\"],[0.1111111111111111,\"#46039f\"],[0.2222222222222222,\"#7201a8\"],[0.3333333333333333,\"#9c179e\"],[0.4444444444444444,\"#bd3786\"],[0.5555555555555556,\"#d8576b\"],[0.6666666666666666,\"#ed7953\"],[0.7777777777777778,\"#fb9f3a\"],[0.8888888888888888,\"#fdca26\"],[1.0,\"#f0f921\"]]}],\"contourcarpet\":[{\"type\":\"contourcarpet\",\"colorbar\":{\"outlinewidth\":0,\"ticks\":\"\"}}],\"contour\":[{\"type\":\"contour\",\"colorbar\":{\"outlinewidth\":0,\"ticks\":\"\"},\"colorscale\":[[0.0,\"#0d0887\"],[0.1111111111111111,\"#46039f\"],[0.2222222222222222,\"#7201a8\"],[0.3333333333333333,\"#9c179e\"],[0.4444444444444444,\"#bd3786\"],[0.5555555555555556,\"#d8576b\"],[0.6666666666666666,\"#ed7953\"],[0.7777777777777778,\"#fb9f3a\"],[0.8888888888888888,\"#fdca26\"],[1.0,\"#f0f921\"]]}],\"surface\":[{\"type\":\"surface\",\"colorbar\":{\"outlinewidth\":0,\"ticks\":\"\"},\"colorscale\":[[0.0,\"#0d0887\"],[0.1111111111111111,\"#46039f\"],[0.2222222222222222,\"#7201a8\"],[0.3333333333333333,\"#9c179e\"],[0.4444444444444444,\"#bd3786\"],[0.5555555555555556,\"#d8576b\"],[0.6666666666666666,\"#ed7953\"],[0.7777777777777778,\"#fb9f3a\"],[0.8888888888888888,\"#fdca26\"],[1.0,\"#f0f921\"]]}],\"mesh3d\":[{\"type\":\"mesh3d\",\"colorbar\":{\"outlinewidth\":0,\"ticks\":\"\"}}],\"scatter\":[{\"fillpattern\":{\"fillmode\":\"overlay\",\"size\":10,\"solidity\":0.2},\"type\":\"scatter\"}],\"parcoords\":[{\"type\":\"parcoords\",\"line\":{\"colorbar\":{\"outlinewidth\":0,\"ticks\":\"\"}}}],\"scatterpolargl\":[{\"type\":\"scatterpolargl\",\"marker\":{\"colorbar\":{\"outlinewidth\":0,\"ticks\":\"\"}}}],\"bar\":[{\"error_x\":{\"color\":\"#2a3f5f\"},\"error_y\":{\"color\":\"#2a3f5f\"},\"marker\":{\"line\":{\"color\":\"#E5ECF6\",\"width\":0.5},\"pattern\":{\"fillmode\":\"overlay\",\"size\":10,\"solidity\":0.2}},\"type\":\"bar\"}],\"scattergeo\":[{\"type\":\"scattergeo\",\"marker\":{\"colorbar\":{\"outlinewidth\":0,\"ticks\":\"\"}}}],\"scatterpolar\":[{\"type\":\"scatterpolar\",\"marker\":{\"colorbar\":{\"outlinewidth\":0,\"ticks\":\"\"}}}],\"histogram\":[{\"marker\":{\"pattern\":{\"fillmode\":\"overlay\",\"size\":10,\"solidity\":0.2}},\"type\":\"histogram\"}],\"scattergl\":[{\"type\":\"scattergl\",\"marker\":{\"colorbar\":{\"outlinewidth\":0,\"ticks\":\"\"}}}],\"scatter3d\":[{\"type\":\"scatter3d\",\"line\":{\"colorbar\":{\"outlinewidth\":0,\"ticks\":\"\"}},\"marker\":{\"colorbar\":{\"outlinewidth\":0,\"ticks\":\"\"}}}],\"scattermapbox\":[{\"type\":\"scattermapbox\",\"marker\":{\"colorbar\":{\"outlinewidth\":0,\"ticks\":\"\"}}}],\"scatterternary\":[{\"type\":\"scatterternary\",\"marker\":{\"colorbar\":{\"outlinewidth\":0,\"ticks\":\"\"}}}],\"scattercarpet\":[{\"type\":\"scattercarpet\",\"marker\":{\"colorbar\":{\"outlinewidth\":0,\"ticks\":\"\"}}}],\"carpet\":[{\"aaxis\":{\"endlinecolor\":\"#2a3f5f\",\"gridcolor\":\"white\",\"linecolor\":\"white\",\"minorgridcolor\":\"white\",\"startlinecolor\":\"#2a3f5f\"},\"baxis\":{\"endlinecolor\":\"#2a3f5f\",\"gridcolor\":\"white\",\"linecolor\":\"white\",\"minorgridcolor\":\"white\",\"startlinecolor\":\"#2a3f5f\"},\"type\":\"carpet\"}],\"table\":[{\"cells\":{\"fill\":{\"color\":\"#EBF0F8\"},\"line\":{\"color\":\"white\"}},\"header\":{\"fill\":{\"color\":\"#C8D4E3\"},\"line\":{\"color\":\"white\"}},\"type\":\"table\"}],\"barpolar\":[{\"marker\":{\"line\":{\"color\":\"#E5ECF6\",\"width\":0.5},\"pattern\":{\"fillmode\":\"overlay\",\"size\":10,\"solidity\":0.2}},\"type\":\"barpolar\"}],\"pie\":[{\"automargin\":true,\"type\":\"pie\"}]},\"layout\":{\"autotypenumbers\":\"strict\",\"colorway\":[\"#636efa\",\"#EF553B\",\"#00cc96\",\"#ab63fa\",\"#FFA15A\",\"#19d3f3\",\"#FF6692\",\"#B6E880\",\"#FF97FF\",\"#FECB52\"],\"font\":{\"color\":\"#2a3f5f\"},\"hovermode\":\"closest\",\"hoverlabel\":{\"align\":\"left\"},\"paper_bgcolor\":\"white\",\"plot_bgcolor\":\"#E5ECF6\",\"polar\":{\"bgcolor\":\"#E5ECF6\",\"angularaxis\":{\"gridcolor\":\"white\",\"linecolor\":\"white\",\"ticks\":\"\"},\"radialaxis\":{\"gridcolor\":\"white\",\"linecolor\":\"white\",\"ticks\":\"\"}},\"ternary\":{\"bgcolor\":\"#E5ECF6\",\"aaxis\":{\"gridcolor\":\"white\",\"linecolor\":\"white\",\"ticks\":\"\"},\"baxis\":{\"gridcolor\":\"white\",\"linecolor\":\"white\",\"ticks\":\"\"},\"caxis\":{\"gridcolor\":\"white\",\"linecolor\":\"white\",\"ticks\":\"\"}},\"coloraxis\":{\"colorbar\":{\"outlinewidth\":0,\"ticks\":\"\"}},\"colorscale\":{\"sequential\":[[0.0,\"#0d0887\"],[0.1111111111111111,\"#46039f\"],[0.2222222222222222,\"#7201a8\"],[0.3333333333333333,\"#9c179e\"],[0.4444444444444444,\"#bd3786\"],[0.5555555555555556,\"#d8576b\"],[0.6666666666666666,\"#ed7953\"],[0.7777777777777778,\"#fb9f3a\"],[0.8888888888888888,\"#fdca26\"],[1.0,\"#f0f921\"]],\"sequentialminus\":[[0.0,\"#0d0887\"],[0.1111111111111111,\"#46039f\"],[0.2222222222222222,\"#7201a8\"],[0.3333333333333333,\"#9c179e\"],[0.4444444444444444,\"#bd3786\"],[0.5555555555555556,\"#d8576b\"],[0.6666666666666666,\"#ed7953\"],[0.7777777777777778,\"#fb9f3a\"],[0.8888888888888888,\"#fdca26\"],[1.0,\"#f0f921\"]],\"diverging\":[[0,\"#8e0152\"],[0.1,\"#c51b7d\"],[0.2,\"#de77ae\"],[0.3,\"#f1b6da\"],[0.4,\"#fde0ef\"],[0.5,\"#f7f7f7\"],[0.6,\"#e6f5d0\"],[0.7,\"#b8e186\"],[0.8,\"#7fbc41\"],[0.9,\"#4d9221\"],[1,\"#276419\"]]},\"xaxis\":{\"gridcolor\":\"white\",\"linecolor\":\"white\",\"ticks\":\"\",\"title\":{\"standoff\":15},\"zerolinecolor\":\"white\",\"automargin\":true,\"zerolinewidth\":2},\"yaxis\":{\"gridcolor\":\"white\",\"linecolor\":\"white\",\"ticks\":\"\",\"title\":{\"standoff\":15},\"zerolinecolor\":\"white\",\"automargin\":true,\"zerolinewidth\":2},\"scene\":{\"xaxis\":{\"backgroundcolor\":\"#E5ECF6\",\"gridcolor\":\"white\",\"linecolor\":\"white\",\"showbackground\":true,\"ticks\":\"\",\"zerolinecolor\":\"white\",\"gridwidth\":2},\"yaxis\":{\"backgroundcolor\":\"#E5ECF6\",\"gridcolor\":\"white\",\"linecolor\":\"white\",\"showbackground\":true,\"ticks\":\"\",\"zerolinecolor\":\"white\",\"gridwidth\":2},\"zaxis\":{\"backgroundcolor\":\"#E5ECF6\",\"gridcolor\":\"white\",\"linecolor\":\"white\",\"showbackground\":true,\"ticks\":\"\",\"zerolinecolor\":\"white\",\"gridwidth\":2}},\"shapedefaults\":{\"line\":{\"color\":\"#2a3f5f\"}},\"annotationdefaults\":{\"arrowcolor\":\"#2a3f5f\",\"arrowhead\":0,\"arrowwidth\":1},\"geo\":{\"bgcolor\":\"white\",\"landcolor\":\"#E5ECF6\",\"subunitcolor\":\"white\",\"showland\":true,\"showlakes\":true,\"lakecolor\":\"white\"},\"title\":{\"x\":0.05},\"mapbox\":{\"style\":\"light\"}}},\"geo\":{\"domain\":{\"x\":[0.0,1.0],\"y\":[0.0,1.0]},\"projection\":{\"type\":\"albers usa\"},\"center\":{},\"scope\":\"usa\"},\"coloraxis\":{\"colorbar\":{\"title\":{\"text\":\"Vendas\"}},\"colorscale\":[[0.0,\"#440154\"],[0.1111111111111111,\"#482878\"],[0.2222222222222222,\"#3e4989\"],[0.3333333333333333,\"#31688e\"],[0.4444444444444444,\"#26828e\"],[0.5555555555555556,\"#1f9e89\"],[0.6666666666666666,\"#35b779\"],[0.7777777777777778,\"#6ece58\"],[0.8888888888888888,\"#b5de2b\"],[1.0,\"#fde725\"]]},\"legend\":{\"tracegroupgap\":0,\"itemsizing\":\"constant\"},\"title\":{\"text\":\"Total de Vendas por Cidade nos EUA\",\"font\":{\"size\":36,\"family\":\"Arial\"}},\"width\":1200,\"height\":800},                        {\"responsive\": true}                    ).then(function(){\n",
              "                            \n",
              "var gd = document.getElementById('74363cc1-225c-4327-9404-a582af3efc5c');\n",
              "var x = new MutationObserver(function (mutations, observer) {{\n",
              "        var display = window.getComputedStyle(gd).display;\n",
              "        if (!display || display === 'none') {{\n",
              "            console.log([gd, 'removed!']);\n",
              "            Plotly.purge(gd);\n",
              "            observer.disconnect();\n",
              "        }}\n",
              "}});\n",
              "\n",
              "// Listen for the removal of the full notebook cells\n",
              "var notebookContainer = gd.closest('#notebook-container');\n",
              "if (notebookContainer) {{\n",
              "    x.observe(notebookContainer, {childList: true});\n",
              "}}\n",
              "\n",
              "// Listen for the clearing of the current output cell\n",
              "var outputEl = gd.closest('.output');\n",
              "if (outputEl) {{\n",
              "    x.observe(outputEl, {childList: true});\n",
              "}}\n",
              "\n",
              "                        })                };                            </script>        </div>\n",
              "</body>\n",
              "</html>"
            ]
          },
          "metadata": {}
        }
      ]
    },
    {
      "cell_type": "markdown",
      "source": [
        "## 5.2 Gráfico de Barras Horizontais - Total de Vendas Por Estado"
      ],
      "metadata": {
        "id": "aq_DKAFD8KL8"
      }
    },
    {
      "cell_type": "markdown",
      "source": [
        "Esse gráfico de barras horizontais tem o objetivo de estabelecer em ordem decrescente o total de vendas por estado."
      ],
      "metadata": {
        "id": "X01TAISq8IBd"
      }
    },
    {
      "cell_type": "code",
      "source": [
        "# Agrupamento das vendas por estado\n",
        "sales_by_state = df_store.groupby('Estado')['Vendas'].sum().reset_index()\n",
        "\n",
        "# Ordenamento dos valores de vendas em ordem decrescente\n",
        "sales_by_state = sales_by_state.sort_values(by='Vendas', ascending=True)\n",
        "\n",
        "# Gráfico de barras por estado\n",
        "fig = px.bar(sales_by_state, x='Vendas', y='Estado', title='Total de Vendas por Estado', orientation='h')\n",
        "\n",
        "# Ajustar o tamanho do gráfico e a visibilidade\n",
        "fig.update_layout(\n",
        "    width=1400,  # Largura do gráfico em pixels\n",
        "    height=800,  # Altura do gráfico em pixels\n",
        "    title={'text': 'Total de Vendas por Estado', 'font': {'size': 24}},  # Ajustar o tamanho do texto do título\n",
        "    xaxis_title='Vendas',\n",
        "    yaxis_title='Estado',\n",
        "    xaxis=dict(tickformat=\".2s\"),  # Formatar os valores do eixo x para facilitar a leitura\n",
        "    bargap=0.2  # Ajustar o espaço entre as barras\n",
        ")\n",
        "\n",
        "# Mostrar o gráfico\n",
        "fig.show()"
      ],
      "metadata": {
        "colab": {
          "base_uri": "https://localhost:8080/",
          "height": 837
        },
        "id": "eGpoz8b5lFPG",
        "outputId": "688792d5-2673-4008-9875-546116f7e047"
      },
      "execution_count": 29,
      "outputs": [
        {
          "output_type": "display_data",
          "data": {
            "text/html": [
              "<html>\n",
              "<head><meta charset=\"utf-8\" /></head>\n",
              "<body>\n",
              "    <div>            <script src=\"https://cdnjs.cloudflare.com/ajax/libs/mathjax/2.7.5/MathJax.js?config=TeX-AMS-MML_SVG\"></script><script type=\"text/javascript\">if (window.MathJax && window.MathJax.Hub && window.MathJax.Hub.Config) {window.MathJax.Hub.Config({SVG: {font: \"STIX-Web\"}});}</script>                <script type=\"text/javascript\">window.PlotlyConfig = {MathJaxConfig: 'local'};</script>\n",
              "        <script charset=\"utf-8\" src=\"https://cdn.plot.ly/plotly-2.24.1.min.js\"></script>                <div id=\"4291e126-5c6e-4a55-b19b-0d8c679f47bd\" class=\"plotly-graph-div\" style=\"height:800px; width:1400px;\"></div>            <script type=\"text/javascript\">                                    window.PLOTLYENV=window.PLOTLYENV || {};                                    if (document.getElementById(\"4291e126-5c6e-4a55-b19b-0d8c679f47bd\")) {                    Plotly.newPlot(                        \"4291e126-5c6e-4a55-b19b-0d8c679f47bd\",                        [{\"alignmentgroup\":\"True\",\"hovertemplate\":\"Vendas=%{x}\\u003cbr\\u003eEstado=%{y}\\u003cextra\\u003e\\u003c\\u002fextra\\u003e\",\"legendgroup\":\"\",\"marker\":{\"color\":\"#636efa\",\"pattern\":{\"shape\":\"\"}},\"name\":\"\",\"offsetgroup\":\"\",\"orientation\":\"h\",\"showlegend\":false,\"textposition\":\"auto\",\"x\":[919.91,1209.824,1270.53,1315.56,1603.136,2865.02,2914.31,4382.486,4579.76,4783.522,5589.352,7292.524,7464.93,8481.71,8929.369999999999,9216.03,10771.34,11220.056,11678.13,13384.357,16729.102,17431.15,19510.64,19683.39,22205.15,22627.956,23705.523,27451.069,28634.434,29863.15,30661.873,32108.118,32114.61,35282.001,35764.312,36591.75,49095.84,53555.36,55603.164,70636.72,76269.614,78258.136,80166.101,89473.708,116511.914,138641.27,170188.0458,310876.271,457687.6315],\"xaxis\":\"x\",\"y\":[\"North Dakota\",\"West Virginia\",\"Maine\",\"South Dakota\",\"Wyoming\",\"District of Columbia\",\"Kansas\",\"Idaho\",\"Iowa\",\"New Mexico\",\"Montana\",\"New Hampshire\",\"Nebraska\",\"South Carolina\",\"Vermont\",\"Louisiana\",\"Mississippi\",\"Utah\",\"Arkansas\",\"Connecticut\",\"Nevada\",\"Oregon\",\"Alabama\",\"Oklahoma\",\"Missouri\",\"Rhode Island\",\"Maryland\",\"Delaware\",\"Massachusetts\",\"Minnesota\",\"Tennessee\",\"Colorado\",\"Wisconsin\",\"Arizona\",\"New Jersey\",\"Kentucky\",\"Georgia\",\"Indiana\",\"North Carolina\",\"Virginia\",\"Michigan\",\"Ohio\",\"Illinois\",\"Florida\",\"Pennsylvania\",\"Washington\",\"Texas\",\"New York\",\"California\"],\"yaxis\":\"y\",\"type\":\"bar\"}],                        {\"template\":{\"data\":{\"histogram2dcontour\":[{\"type\":\"histogram2dcontour\",\"colorbar\":{\"outlinewidth\":0,\"ticks\":\"\"},\"colorscale\":[[0.0,\"#0d0887\"],[0.1111111111111111,\"#46039f\"],[0.2222222222222222,\"#7201a8\"],[0.3333333333333333,\"#9c179e\"],[0.4444444444444444,\"#bd3786\"],[0.5555555555555556,\"#d8576b\"],[0.6666666666666666,\"#ed7953\"],[0.7777777777777778,\"#fb9f3a\"],[0.8888888888888888,\"#fdca26\"],[1.0,\"#f0f921\"]]}],\"choropleth\":[{\"type\":\"choropleth\",\"colorbar\":{\"outlinewidth\":0,\"ticks\":\"\"}}],\"histogram2d\":[{\"type\":\"histogram2d\",\"colorbar\":{\"outlinewidth\":0,\"ticks\":\"\"},\"colorscale\":[[0.0,\"#0d0887\"],[0.1111111111111111,\"#46039f\"],[0.2222222222222222,\"#7201a8\"],[0.3333333333333333,\"#9c179e\"],[0.4444444444444444,\"#bd3786\"],[0.5555555555555556,\"#d8576b\"],[0.6666666666666666,\"#ed7953\"],[0.7777777777777778,\"#fb9f3a\"],[0.8888888888888888,\"#fdca26\"],[1.0,\"#f0f921\"]]}],\"heatmap\":[{\"type\":\"heatmap\",\"colorbar\":{\"outlinewidth\":0,\"ticks\":\"\"},\"colorscale\":[[0.0,\"#0d0887\"],[0.1111111111111111,\"#46039f\"],[0.2222222222222222,\"#7201a8\"],[0.3333333333333333,\"#9c179e\"],[0.4444444444444444,\"#bd3786\"],[0.5555555555555556,\"#d8576b\"],[0.6666666666666666,\"#ed7953\"],[0.7777777777777778,\"#fb9f3a\"],[0.8888888888888888,\"#fdca26\"],[1.0,\"#f0f921\"]]}],\"heatmapgl\":[{\"type\":\"heatmapgl\",\"colorbar\":{\"outlinewidth\":0,\"ticks\":\"\"},\"colorscale\":[[0.0,\"#0d0887\"],[0.1111111111111111,\"#46039f\"],[0.2222222222222222,\"#7201a8\"],[0.3333333333333333,\"#9c179e\"],[0.4444444444444444,\"#bd3786\"],[0.5555555555555556,\"#d8576b\"],[0.6666666666666666,\"#ed7953\"],[0.7777777777777778,\"#fb9f3a\"],[0.8888888888888888,\"#fdca26\"],[1.0,\"#f0f921\"]]}],\"contourcarpet\":[{\"type\":\"contourcarpet\",\"colorbar\":{\"outlinewidth\":0,\"ticks\":\"\"}}],\"contour\":[{\"type\":\"contour\",\"colorbar\":{\"outlinewidth\":0,\"ticks\":\"\"},\"colorscale\":[[0.0,\"#0d0887\"],[0.1111111111111111,\"#46039f\"],[0.2222222222222222,\"#7201a8\"],[0.3333333333333333,\"#9c179e\"],[0.4444444444444444,\"#bd3786\"],[0.5555555555555556,\"#d8576b\"],[0.6666666666666666,\"#ed7953\"],[0.7777777777777778,\"#fb9f3a\"],[0.8888888888888888,\"#fdca26\"],[1.0,\"#f0f921\"]]}],\"surface\":[{\"type\":\"surface\",\"colorbar\":{\"outlinewidth\":0,\"ticks\":\"\"},\"colorscale\":[[0.0,\"#0d0887\"],[0.1111111111111111,\"#46039f\"],[0.2222222222222222,\"#7201a8\"],[0.3333333333333333,\"#9c179e\"],[0.4444444444444444,\"#bd3786\"],[0.5555555555555556,\"#d8576b\"],[0.6666666666666666,\"#ed7953\"],[0.7777777777777778,\"#fb9f3a\"],[0.8888888888888888,\"#fdca26\"],[1.0,\"#f0f921\"]]}],\"mesh3d\":[{\"type\":\"mesh3d\",\"colorbar\":{\"outlinewidth\":0,\"ticks\":\"\"}}],\"scatter\":[{\"fillpattern\":{\"fillmode\":\"overlay\",\"size\":10,\"solidity\":0.2},\"type\":\"scatter\"}],\"parcoords\":[{\"type\":\"parcoords\",\"line\":{\"colorbar\":{\"outlinewidth\":0,\"ticks\":\"\"}}}],\"scatterpolargl\":[{\"type\":\"scatterpolargl\",\"marker\":{\"colorbar\":{\"outlinewidth\":0,\"ticks\":\"\"}}}],\"bar\":[{\"error_x\":{\"color\":\"#2a3f5f\"},\"error_y\":{\"color\":\"#2a3f5f\"},\"marker\":{\"line\":{\"color\":\"#E5ECF6\",\"width\":0.5},\"pattern\":{\"fillmode\":\"overlay\",\"size\":10,\"solidity\":0.2}},\"type\":\"bar\"}],\"scattergeo\":[{\"type\":\"scattergeo\",\"marker\":{\"colorbar\":{\"outlinewidth\":0,\"ticks\":\"\"}}}],\"scatterpolar\":[{\"type\":\"scatterpolar\",\"marker\":{\"colorbar\":{\"outlinewidth\":0,\"ticks\":\"\"}}}],\"histogram\":[{\"marker\":{\"pattern\":{\"fillmode\":\"overlay\",\"size\":10,\"solidity\":0.2}},\"type\":\"histogram\"}],\"scattergl\":[{\"type\":\"scattergl\",\"marker\":{\"colorbar\":{\"outlinewidth\":0,\"ticks\":\"\"}}}],\"scatter3d\":[{\"type\":\"scatter3d\",\"line\":{\"colorbar\":{\"outlinewidth\":0,\"ticks\":\"\"}},\"marker\":{\"colorbar\":{\"outlinewidth\":0,\"ticks\":\"\"}}}],\"scattermapbox\":[{\"type\":\"scattermapbox\",\"marker\":{\"colorbar\":{\"outlinewidth\":0,\"ticks\":\"\"}}}],\"scatterternary\":[{\"type\":\"scatterternary\",\"marker\":{\"colorbar\":{\"outlinewidth\":0,\"ticks\":\"\"}}}],\"scattercarpet\":[{\"type\":\"scattercarpet\",\"marker\":{\"colorbar\":{\"outlinewidth\":0,\"ticks\":\"\"}}}],\"carpet\":[{\"aaxis\":{\"endlinecolor\":\"#2a3f5f\",\"gridcolor\":\"white\",\"linecolor\":\"white\",\"minorgridcolor\":\"white\",\"startlinecolor\":\"#2a3f5f\"},\"baxis\":{\"endlinecolor\":\"#2a3f5f\",\"gridcolor\":\"white\",\"linecolor\":\"white\",\"minorgridcolor\":\"white\",\"startlinecolor\":\"#2a3f5f\"},\"type\":\"carpet\"}],\"table\":[{\"cells\":{\"fill\":{\"color\":\"#EBF0F8\"},\"line\":{\"color\":\"white\"}},\"header\":{\"fill\":{\"color\":\"#C8D4E3\"},\"line\":{\"color\":\"white\"}},\"type\":\"table\"}],\"barpolar\":[{\"marker\":{\"line\":{\"color\":\"#E5ECF6\",\"width\":0.5},\"pattern\":{\"fillmode\":\"overlay\",\"size\":10,\"solidity\":0.2}},\"type\":\"barpolar\"}],\"pie\":[{\"automargin\":true,\"type\":\"pie\"}]},\"layout\":{\"autotypenumbers\":\"strict\",\"colorway\":[\"#636efa\",\"#EF553B\",\"#00cc96\",\"#ab63fa\",\"#FFA15A\",\"#19d3f3\",\"#FF6692\",\"#B6E880\",\"#FF97FF\",\"#FECB52\"],\"font\":{\"color\":\"#2a3f5f\"},\"hovermode\":\"closest\",\"hoverlabel\":{\"align\":\"left\"},\"paper_bgcolor\":\"white\",\"plot_bgcolor\":\"#E5ECF6\",\"polar\":{\"bgcolor\":\"#E5ECF6\",\"angularaxis\":{\"gridcolor\":\"white\",\"linecolor\":\"white\",\"ticks\":\"\"},\"radialaxis\":{\"gridcolor\":\"white\",\"linecolor\":\"white\",\"ticks\":\"\"}},\"ternary\":{\"bgcolor\":\"#E5ECF6\",\"aaxis\":{\"gridcolor\":\"white\",\"linecolor\":\"white\",\"ticks\":\"\"},\"baxis\":{\"gridcolor\":\"white\",\"linecolor\":\"white\",\"ticks\":\"\"},\"caxis\":{\"gridcolor\":\"white\",\"linecolor\":\"white\",\"ticks\":\"\"}},\"coloraxis\":{\"colorbar\":{\"outlinewidth\":0,\"ticks\":\"\"}},\"colorscale\":{\"sequential\":[[0.0,\"#0d0887\"],[0.1111111111111111,\"#46039f\"],[0.2222222222222222,\"#7201a8\"],[0.3333333333333333,\"#9c179e\"],[0.4444444444444444,\"#bd3786\"],[0.5555555555555556,\"#d8576b\"],[0.6666666666666666,\"#ed7953\"],[0.7777777777777778,\"#fb9f3a\"],[0.8888888888888888,\"#fdca26\"],[1.0,\"#f0f921\"]],\"sequentialminus\":[[0.0,\"#0d0887\"],[0.1111111111111111,\"#46039f\"],[0.2222222222222222,\"#7201a8\"],[0.3333333333333333,\"#9c179e\"],[0.4444444444444444,\"#bd3786\"],[0.5555555555555556,\"#d8576b\"],[0.6666666666666666,\"#ed7953\"],[0.7777777777777778,\"#fb9f3a\"],[0.8888888888888888,\"#fdca26\"],[1.0,\"#f0f921\"]],\"diverging\":[[0,\"#8e0152\"],[0.1,\"#c51b7d\"],[0.2,\"#de77ae\"],[0.3,\"#f1b6da\"],[0.4,\"#fde0ef\"],[0.5,\"#f7f7f7\"],[0.6,\"#e6f5d0\"],[0.7,\"#b8e186\"],[0.8,\"#7fbc41\"],[0.9,\"#4d9221\"],[1,\"#276419\"]]},\"xaxis\":{\"gridcolor\":\"white\",\"linecolor\":\"white\",\"ticks\":\"\",\"title\":{\"standoff\":15},\"zerolinecolor\":\"white\",\"automargin\":true,\"zerolinewidth\":2},\"yaxis\":{\"gridcolor\":\"white\",\"linecolor\":\"white\",\"ticks\":\"\",\"title\":{\"standoff\":15},\"zerolinecolor\":\"white\",\"automargin\":true,\"zerolinewidth\":2},\"scene\":{\"xaxis\":{\"backgroundcolor\":\"#E5ECF6\",\"gridcolor\":\"white\",\"linecolor\":\"white\",\"showbackground\":true,\"ticks\":\"\",\"zerolinecolor\":\"white\",\"gridwidth\":2},\"yaxis\":{\"backgroundcolor\":\"#E5ECF6\",\"gridcolor\":\"white\",\"linecolor\":\"white\",\"showbackground\":true,\"ticks\":\"\",\"zerolinecolor\":\"white\",\"gridwidth\":2},\"zaxis\":{\"backgroundcolor\":\"#E5ECF6\",\"gridcolor\":\"white\",\"linecolor\":\"white\",\"showbackground\":true,\"ticks\":\"\",\"zerolinecolor\":\"white\",\"gridwidth\":2}},\"shapedefaults\":{\"line\":{\"color\":\"#2a3f5f\"}},\"annotationdefaults\":{\"arrowcolor\":\"#2a3f5f\",\"arrowhead\":0,\"arrowwidth\":1},\"geo\":{\"bgcolor\":\"white\",\"landcolor\":\"#E5ECF6\",\"subunitcolor\":\"white\",\"showland\":true,\"showlakes\":true,\"lakecolor\":\"white\"},\"title\":{\"x\":0.05},\"mapbox\":{\"style\":\"light\"}}},\"xaxis\":{\"anchor\":\"y\",\"domain\":[0.0,1.0],\"title\":{\"text\":\"Vendas\"},\"tickformat\":\".2s\"},\"yaxis\":{\"anchor\":\"x\",\"domain\":[0.0,1.0],\"title\":{\"text\":\"Estado\"}},\"legend\":{\"tracegroupgap\":0},\"title\":{\"text\":\"Total de Vendas por Estado\",\"font\":{\"size\":24}},\"barmode\":\"relative\",\"width\":1400,\"height\":800,\"bargap\":0.2},                        {\"responsive\": true}                    ).then(function(){\n",
              "                            \n",
              "var gd = document.getElementById('4291e126-5c6e-4a55-b19b-0d8c679f47bd');\n",
              "var x = new MutationObserver(function (mutations, observer) {{\n",
              "        var display = window.getComputedStyle(gd).display;\n",
              "        if (!display || display === 'none') {{\n",
              "            console.log([gd, 'removed!']);\n",
              "            Plotly.purge(gd);\n",
              "            observer.disconnect();\n",
              "        }}\n",
              "}});\n",
              "\n",
              "// Listen for the removal of the full notebook cells\n",
              "var notebookContainer = gd.closest('#notebook-container');\n",
              "if (notebookContainer) {{\n",
              "    x.observe(notebookContainer, {childList: true});\n",
              "}}\n",
              "\n",
              "// Listen for the clearing of the current output cell\n",
              "var outputEl = gd.closest('.output');\n",
              "if (outputEl) {{\n",
              "    x.observe(outputEl, {childList: true});\n",
              "}}\n",
              "\n",
              "                        })                };                            </script>        </div>\n",
              "</body>\n",
              "</html>"
            ]
          },
          "metadata": {}
        }
      ]
    },
    {
      "cell_type": "markdown",
      "source": [
        "## 5.3 Gráfico de Dispersão - Vendas x Lucro Por Categoria"
      ],
      "metadata": {
        "id": "kyuLLMvM9PbE"
      }
    },
    {
      "cell_type": "markdown",
      "source": [
        "Esse gráfico de dispersão tem a finalidade de demonstrar a relação entre as vendas e o lucro por categoria. Tal segmentação permite verificar quais categorias estão dando lucro/prejuízo, assim como implementar decisões estratégicas por setor."
      ],
      "metadata": {
        "id": "Ln3z0Ni-9Mur"
      }
    },
    {
      "cell_type": "code",
      "source": [
        "# Gráfico de dispersão entre vendas e lucro\n",
        "fig = px.scatter(df_store, x='Vendas', y='Lucro', color='Categoria', title='Relação entre Vendas e Lucro por Categoria')\n",
        "\n",
        "# Atualizar o layout para alterar o tamanho da figura\n",
        "fig.update_layout(\n",
        "    width=1300,  # Largura da figura\n",
        "    height=500  # Altura da figura\n",
        ")\n",
        "\n",
        "\n",
        "fig.show()"
      ],
      "metadata": {
        "colab": {
          "base_uri": "https://localhost:8080/",
          "height": 517
        },
        "id": "caAOmfJEiWnT",
        "outputId": "2a7af5d2-1eab-44fc-8f36-e6da91b6f333"
      },
      "execution_count": 30,
      "outputs": [
        {
          "output_type": "display_data",
          "data": {
            "text/html": [
              "<html>\n",
              "<head><meta charset=\"utf-8\" /></head>\n",
              "<body>\n",
              "    <div>            <script src=\"https://cdnjs.cloudflare.com/ajax/libs/mathjax/2.7.5/MathJax.js?config=TeX-AMS-MML_SVG\"></script><script type=\"text/javascript\">if (window.MathJax && window.MathJax.Hub && window.MathJax.Hub.Config) {window.MathJax.Hub.Config({SVG: {font: \"STIX-Web\"}});}</script>                <script type=\"text/javascript\">window.PlotlyConfig = {MathJaxConfig: 'local'};</script>\n",
              "        <script charset=\"utf-8\" src=\"https://cdn.plot.ly/plotly-2.24.1.min.js\"></script>                <div id=\"ca3ca70f-8907-43c6-a684-b37a588cb401\" class=\"plotly-graph-div\" style=\"height:500px; width:1300px;\"></div>            <script type=\"text/javascript\">                                    window.PLOTLYENV=window.PLOTLYENV || {};                                    if (document.getElementById(\"ca3ca70f-8907-43c6-a684-b37a588cb401\")) {                    Plotly.newPlot(                        \"ca3ca70f-8907-43c6-a684-b37a588cb401\",                        [{\"hovertemplate\":\"Categoria=Mob\\u00edlias\\u003cbr\\u003eVendas=%{x}\\u003cbr\\u003eLucro=%{y}\\u003cextra\\u003e\\u003c\\u002fextra\\u003e\",\"legendgroup\":\"Mob\\u00edlias\",\"marker\":{\"color\":\"#636efa\",\"symbol\":\"circle\"},\"mode\":\"markers\",\"name\":\"Mob\\u00edlias\",\"showlegend\":true,\"x\":[261.96,731.94,957.5775,48.86,1706.184,71.372,1044.63,3083.43,124.2,190.92,532.3992,212.058,6.16,89.99,319.41,79.76,213.115,831.936,97.04,9.708,19.3,301.96,53.34,96.53,102.36,41.96,787.53,47.04,600.558,617.7,81.424,238.56,43.12,82.8,93.888,1951.84,457.568,1740.06,340.144,396.802,899.136,626.352,218.75,35.168,452.45,72.704,622.45,161.568,389.696,233.86,620.6145,258.072,419.68,11.688,177.225,4.044,2001.86,321.568,12.132,5.28,1038.84,86.97,300.416,230.352,218.352,77.6,219.075,26.8,15.136,466.768,15.232,87.54,135.882,15.992,786.744,698.352,388.704,488.646,47.12,1043.92,1488.424,375.4575,2.96,2396.2656,1004.024,1336.829,113.568,307.136,383.8,56.56,866.4,28.4,207.846,12.22,242.94,2.91,284.364,129.568,747.558,23.56,1272.63,254.744,205.3328,222.666,40.2,514.165,189.882,255.76,241.568,69.3,801.568,126.3,210.98,683.952,45.696,190.72,47.94,283.92,66.112,1121.568,34.504,1335.68,42.6,13.128,451.152,8.792,70.98,327.76,45.696,40.48,9.94,88.02,301.96,35.56,392.94,1049.2,18.84,14.8,701.372,918.785,30.36,23.976,108.925,82.524,191.984,104.01,15.072,209.88,369.912,883.92,9.94,103.056,73.32,1652.94,129.92,400.032,542.646,84.98,567.12,157.74,79.92,383.438,310.88,641.96,34.58,544.008,35.49,348.928,332.94,283.92,22.23,18.28,28.4,1298.55,18.28,1228.465,301.96,186.048,287.94,48.896,44.46,51.94,322.59,1242.9,31.4,17.46,323.136,22.2,46.94,99.918,797.944,1114.272,393.165,516.488,1007.232,2065.32,25.472,78.8528,204.6,321.568,127.104,599.292,603.92,520.05,1166.92,24.1,33.11,1090.782,151.72,155.25,1618.37,13.96,155.82,1267.53,854.94,124.11,86.62,697.16,722.352,254.604,102.36,168.464,282.888,108.4,107.772,194.848,1106.91,836.592,31.984,447.84,8.73,2.328,119.833,38.6,1067.94,343.92,204.6,8.352,2244.48,455.1,195.184,109.48,172.5,892.224,15.712,55.968,95.984,544.008,854.352,579.136,141.372,17.024,113.79,8.73,47.952,63.968,165.048,12.35,764.688,3610.848,254.9745,1141.938,6.696,43.872,41.85,292.272,29.328,388.43,39.88,572.76,286.38,61.96,23.99,161.568,155.372,183.84,51.072,37.05,25.11,29.78,258.279,300.904,1.988,145.568,899.136,145.9,590.058,912.75,83.952,18.84,239.98,652.45,66.645,205.176,154.764,39.98,393.165,408.006,165.28,37.74,4.928,1819.86,2453.43,470.302,452.94,27.46,244.006,1024.716,121.376,872.94,6.688,42.6,977.292,9.64,9.94,1004.976,8.36,63.686,1669.6,206.112,11.648,203.983,782.94,8.32,1573.488,171.96,1044.63,603.92,381.44,763.28,382.806,47.04,6.16,359.058,47.992,547.3,15.992,211.96,290.666,198.46,517.5,17.92,41.37,34.79,1018.104,21.936,42.368,14.82,310.88,853.092,21.88,515.88,1931.04,71.992,765.625,307.666,35.92,39.76,359.058,1048.35,7.168,206.962,9.46,411.332,293.199,109.8,2807.84,215.65,4.18,16.156,1441.3,77.6,4.656,170.136,29.32,62.958,11.84,22.784,262.11,207.0,44.128,140.81,40.784,37.68,362.352,257.568,727.45,24.96,196.45,801.568,272.848,70.98,176.784,393.568,383.607,31.56,409.59,174.0585,478.48,136.92,18.96,462.564,145.74,15.4,14.73,662.88,11.54,254.526,1282.41,545.88,933.536,23.88,1024.38,8.752,304.45,183.372,350.98,872.32,141.96,269.97,75.36,289.8,341.488,25.344,17.31,1586.69,411.8,146.352,710.832,283.92,58.2,7.712,310.443,479.9,259.136,323.136,425.833,209.67,215.976,241.96,64.944,139.86,14.76,991.764,422.058,43.31,233.058,22.608,79.384,139.92,305.312,442.764,63.68,121.3,22.2,191.82,20.104,27.42,108.608,70.686,72.294,330.588,526.45,44.4,109.48,1212.96,359.97,435.26,143.432,122.352,85.98,97.568,614.272,199.98,892.98,595.38,181.95,259.7,723.92,141.372,280.792,182.94,46.384,547.136,63.2,557.585,1552.831,1579.746,1071.576,613.908,127.88,120.712,532.704,60.288,253.372,54.712,113.92,956.6648,211.84,629.064,754.45,301.96,273.06,12.544,7.4,366.786,545.85,145.98,7.904,174.286,492.835,14.272,451.136,217.584,1322.352,1137.75,300.93,647.84,77.92,47.992,129.93,181.986,1348.704,700.152,111.888,173.94,102.833,821.88,51.712,1406.86,2665.62,526.45,62.82,12.42,22.23,14.136,601.47,136.784,61.12,1218.735,6.096,41.568,230.28,39.96,42.624,220.96,4.928,858.24,18.624,57.69,821.88,424.9575,1292.94,883.84,370.62,40.784,785.88,109.9,15.384,30.768,122.352,227.36,45.888,23.976,350.352,107.53,299.97,35.34,257.64,700.056,585.552,225.296,76.92,19.104,195.466,23.68,601.536,58.36,39.96,308.499,41.37,47.516,704.9,561.568,185.58,214.11,653.55,60.74,124.36,298.776,300.5328,1139.92,845.488,56.28,14.98,20.32,1603.136,225.296,1628.82,17.088,314.352,153.568,1013.488,6.96,307.92,51.96,69.08,408.422,539.658,14.368,70.448,70.71,18.84,19.76,144.784,90.99,1526.56,368.97,18.7,38.29,26.25,113.888,113.568,191.646,81.568,97.184,18.96,32.952,28.272,244.006,188.552,545.94,43.296,123.136,275.49,24.96,3.984,191.82,344.22,22.608,66.69,327.7328,254.352,504.9,194.32,195.136,29.16,171.288,16.72,2054.272,411.8,41.96,30.56,24.368,124.41,120.666,16.74,981.372,3.984,61.0,220.2656,242.352,220.98,532.704,1123.92,48.672,44.46,241.568,13.28,22.848,347.802,963.136,262.864,284.364,67.0,390.272,528.43,180.588,20.94,58.68,149.232,39.88,53.2,114.9,181.797,318.43,7.068,317.058,113.888,60.312,79.974,203.92,15.24,3.48,60.312,86.45,603.92,271.764,341.96,662.88,128.82,2.032,129.92,568.728,244.615,435.999,70.56,35.28,9.552,290.666,141.96,28.44,364.41,361.764,24.048,384.174,154.764,22.288,65.424,281.372,281.372,22.336,271.764,1408.1,215.148,128.9,24.288,16.192,251.006,22.512,361.96,133.38,16.74,180.98,1421.664,8.96,29.12,1202.94,408.422,382.116,603.92,513.024,193.0656,825.174,796.425,5.352,99.372,33.94,844.116,15.008,2430.08,801.96,191.96,17.472,657.93,25.16,91.92,718.116,142.4,681.408,148.288,30.88,6.408,127.372,44.46,181.96,15.488,141.96,37.93,15.168,6.368,510.24,162.6,603.92,18.92,71.97,368.97,198.46,230.28,563.43,24.4,241.96,99.372,1013.832,2003.52,665.88,333.0,523.764,102.592,523.92,146.136,801.96,1056.86,314.352,1458.65,26.64,476.8,76.14,611.058,674.352,134.01,170.352,616.998,85.3,4.95,480.96,151.96,240.784,191.968,842.352,364.704,40.256,1684.752,547.136,7.584,352.45,9.82,801.6,161.568,311.976,35.34,241.332,197.372,1424.9,14.56,255.108,5.47,22.14,44.76,44.67,414.0,39.92,53.316,22.77,287.968,257.499,79.12,52.96,63.552,512.94,860.93,373.08,231.92,63.47,637.896,474.43,170.058,853.93,556.665,232.88,24.9,70.56,204.85,276.69,172.764,409.272,67.176,572.16,156.3728,220.064,339.136,638.82,15.92,27.414,160.98,91.032,79.12,120.784,322.59,433.568,81.94,696.42,24.7,14.76,17.67,1604.9,385.686,482.664,174.42,94.428,61.584,332.028,1049.2,20.9,751.92,887.103,10.476,196.784,863.128,956.6648,871.4,692.472,207.76,9.96,69.264,246.1328,896.328,177.225,129.39,2.784,63.92,573.728,82.38,14.368,631.782,60.72,77.72,520.464,303.25,1487.04,253.176,384.944,913.43,183.968,172.186,69.008,971.5,190.848,302.94,1805.88,24.1,842.94,12.56,25.4,1279.165,129.568,32.776,321.568,128.058,63.686,344.22,21.248,248.98,418.296,8.128,909.72,917.9235,23.99,171.288,37.3,290.98,20.32,89.34,39.08,408.006,122.352,15.84,493.92,383.607,7.76,351.216,230.28,127.869,36.4,419.136,76.14,33.48,25.632,25.02,146.352,902.712,150.98,47.12,542.94,14.136,17.14,123.96,586.398,579.136,145.764,434.646,844.116,79.92,623.4648,272.94,15.008,241.92,163.88,51.968,242.352,302.94,142.36,546.66,212.13,7.996,173.24,56.568,521.96,268.935,275.952,19.92,658.746,35.544,35.28,209.568,6.464,63.882,683.144,69.576,52.416,54.92,364.95,43.13,30.192,91.008,380.058,48.576,127.554,77.952,27.58,975.92,12.54,9.24,77.6,464.85,2404.704,975.92,182.67,183.372,674.058,254.058,173.94,91.275,897.15,333.999,1268.82,283.92,18.84,37.4,48.712,110.98,207.984,35.568,1325.76,20.32,209.979,35.168,10.11,39.92,302.67,212.94,687.4,653.55,199.836,467.46,1352.3976,123.96,1781.682,53.88,744.1,401.59,359.499,214.95,10.776,186.304,17.496,464.292,101.12,30.36,1317.492,86.26,8.544,842.376,212.94,569.058,14.224,1367.84,301.96,170.352,563.94,3504.9,328.3992,37.68,1516.2,397.6,104.23,498.26,212.94,353.568,697.16,30.93,605.34,210.008,164.22,362.94,136.464,99.372,33.568,200.795,32.36,27.92,399.672,715.2,340.116,6.16,89.991,966.7,51.588,14.89,2275.5,37.296,8.544,68.95,191.058,64.96,187.056,11.808,9.656,2314.116,19.76,25.08,63.94,10.68,279.456,198.272,70.56,273.96,306.9,347.361,1025.88,63.2,556.665,111.9,599.165,31.984,19.52,213.216,40.56,68.46,1478.272,9.24,181.47,122.352,585.552,13.36,102.018,419.136,218.352,411.332,664.146,3.312,145.9,239.96,54.768,181.986,455.97,25.16,67.9932,10.16,6.16,89.768,383.64,243.92,19.98,6.16,245.98,17.088,98.392,19.52,201.96,68.64,6.16,2348.82,273.552,815.292,1256.22,60.84,1325.76,572.16,7.04,74.45,192.22,1194.165,377.45,21.44,355.36,38.976,129.888,275.058,542.94,71.088,136.53,79.44,127.764,459.92,638.82,25.16,19.3,26.48,21.56,355.455,866.4,46.152,54.92,1448.82,14.91,638.288,112.648,217.764,12.32,72.784,51.75,117.36,421.372,205.9992,132.224,91.96,285.48,90.801,181.764,581.96,29.98,363.92,47.98,80.96,225.568,36.6,29.22,14.76,239.666,301.96,1133.35,1603.136,1293.488,127.95,801.568,885.528,28.28,71.12,31.56,14.52,199.764,4228.704,2003.92,313.176,1215.92,8.92,87.21,25.4,6.28,23.968,521.96,770.352,21.12,43.02,240.784,429.9,161.96,185.58,504.9,184.752,458.43,328.59,338.352,87.96,19.76,109.764,127.95,91.96,33.11,239.24,21.12,15.24,42.6,14.368,314.352,238.152,692.94,28.0,518.272,6.98,191.82,25.16,29.22,272.646,80.991,2888.127,2254.41,314.532,1474.802,1537.074,449.372,409.216,72.588,327.996,767.214,161.28,205.666,340.704,354.9,1198.33,51.968,42.408,4.992,20.016,1690.04,403.92,799.56,563.92,7.712,56.686,65.94,68.16,72.704,66.294,291.168,177.568,166.5,247.44,22.14,6.24,21.36,1159.056,12.42,24.75,63.824,563.24,661.176,502.488,915.136,327.76,701.96,25.83,104.784,650.352,127.95,272.94,14.73,47.04,221.382,108.4,38.08,113.568,83.92,561.584,14.76,299.975,396.92,241.96,8.01,569.568,899.43,368.97,454.272,945.036,410.352,35.0,974.988,589.41,82.26,103.5,36.96,261.96,13.28,72.42,61.96,241.568,384.768,103.936,289.568,20.94,332.832,218.352,529.9,302.67,4007.84,328.59,291.1,139.92,634.116,155.88,327.564,1522.638,194.25,872.32,317.058,170.352,101.94,8.8,302.94,60.72,239.84,484.704,191.96,209.88,239.666,212.94,41.88,102.438,199.304,698.352,1747.25,1421.664,564.195,21.184,213.43,68.704,386.91,356.85,42.85,67.96,46.872,20.04,41.552,225.296,163.136,883.84,230.352,266.352,56.328,159.92,50.496,643.136,359.772,122.136,121.96,47.4,512.96,253.764,317.058,14.56,344.94,14.76,20.096,138.588,129.93,9.98,34.504,20.104,7.88,35.445,47.968,22.38,113.372,127.936,6.24,7.968,113.372,2.96,358.58,146.04,22.72,1059.12,478.48,59.92,1565.88,218.352,2887.056,1652.94,131.376,2003.92,1913.4,2567.84,20.32,602.651,14.76,115.96,1403.92,681.408,31.984,84.272,523.92,128.058,79.974,51.75,24.85,621.76,186.54,366.744,289.24,205.164,8.544,598.458,25.984,148.257,4.224,245.646,523.392,124.36,198.744,99.592,363.92,892.136,472.518,760.116,38.784,1685.88,141.96,10.02,19.92,257.94,27.46,828.6,290.352,135.3,111.15,154.764,141.96,182.55,275.88,717.72,170.352,145.764,908.82,74.592,16.784,674.352,19.54,331.023,756.8,8.736,17.46,30.8,113.6,43.96,66.36,24.14,4416.174,302.45,47.4,155.372,315.776,273.666,63.98,66.112,57.69,59.99,20.24,292.1,8.544,424.116,97.184,890.841,113.888,142.182,135.3,41.96,111.0,22.752,67.36,54.528,449.568,192.186,67.88,25.71,721.875,64.784,169.568,523.764,194.352,347.802,1336.44,390.368,101.52,313.176,866.646,43.13,509.9575,122.91,97.568,722.352,167.84,172.11,13.592,386.68,36.672,85.246,32.712,46.9,236.528,22.2,88.92,318.43,1196.86,523.26,34.92,14.56,2573.82,445.802,1053.164,106.68,512.19,276.69,18.84,396.92,85.246,1487.04,9.24,266.352,483.136,196.784,231.92,13.592,242.352,508.704,906.68,21.204,349.965,31.68,170.786,198.744,435.168,48.58,591.32,563.94,127.764,17.31,58.248,71.246,887.271,25.176,5.584,14.91,189.576,725.344,75.33,127.302,1207.84,300.98,258.75,441.96,892.224,1352.032,1548.99,80.96,187.76,76.728,129.92,170.98,38.97,446.068,341.96,605.88,1568.61,872.94,167.888,526.582,447.84,77.952,179.886,291.136,60.84,17.088,154.95,1779.9,876.3,22.608,207.846,40.48,550.431,10.56,1497.666,232.88,90.882,63.936,241.568,307.136,1184.72,124.404,16.192,441.92,127.764,915.136,242.176,337.176,23.376,16.72,16.192,343.85,31.984,423.648,268.704,205.666,30.344,344.372,50.97,298.116,230.28,81.424,362.25,63.552,435.168,72.9,206.352,90.882,120.784,254.352,254.9,145.764,1673.184,12.18,45.84,9.82,1323.9,18.84,60.672,657.93,210.68,23.076,75.384,435.999,388.704,26.72,21.184,307.666,4.16,16.02,141.42,310.744,27.42,61.1,23.88,89.0664,215.544,127.386,248.43,85.246,148.02,526.344,41.96,451.152,161.568,64.96,72.78,562.2925,56.52,557.728,141.96,239.372,227.96,96.96,512.499,863.128,2036.86,449.568,277.5,1252.704,22.608,1.892,170.072,187.76,335.744,11.82,577.764,191.5155,44.46,31.776,82.64,1266.86,933.262,2803.92,43.936,85.44,4.712,69.375,2563.056,387.136,207.0,51.756,4.928,362.352,486.368,376.509,62.72,512.358,354.9,436.704,32.952,218.376,31.4,9.48,24.3,32.448,373.47,186.54,913.43,902.712,120.666,82.26,241.5,27.46,111.15,366.009,155.372,164.646,83.92,39.98,630.024,933.408,286.85,40.48,2154.9,303.92,274.2,9.96,240.744,35.0,210.68,637.896,344.372,127.88,106.869,2678.94,387.136,77.952,199.8,18.69,184.752,366.744,73.784,30.336,12.99,182.22,302.94,54.992,51.264,241.424,389.97,422.625,20.24,39.92,24.64,1056.86,2.328,1454.9,220.704,102.3,607.52,10.332,11.664,56.96,353.568,13.96,399.672,30.56,481.176,177.45,130.98,139.58,4.712,194.352,97.424,14.19,723.92,21.968,94.2,182.352,600.558,7.692,517.405,300.904,31.168,120.96,172.764,305.9745,626.352,359.499,6.984,379.372,53.352,131.104,126.3,11.032,210.58,27.42,83.136,528.43,287.976,1227.9984,1128.39,698.352,77.728,341.96,40.48,266.352,39.96,159.84,8.92,493.43,70.68,629.64,121.78,2676.672,489.23,312.03,32.064,191.079,177.68,11.568,626.1,609.98,211.372,99.95,16.74,239.358,934.956,155.456,21.0,853.93,273.96,756.8,470.155,271.764,344.981,127.785,159.04,145.98,77.952,9.68,1875.258,458.43,5.82,135.8,29.46,98.328,117.882,37.74,14.82,191.82,283.56,487.96,73.915,337.088,2621.322,74.76,364.776,1115.17,215.976,11.352,318.08,454.965,482.94,64.96,31.968,887.271,9.552,5.344,301.47,27.46,19.312,405.86,680.01,31.96,51.75,207.184,256.784,120.98,39.88,79.44,301.47,1504.52,94.68,568.728,147.568,119.833,60.89,332.94,215.976,389.97,14.56,102.582,10.02,398.972,163.88,392.94,18.176,457.485,1079.316,115.96,56.686,163.764,183.92,11.376,66.112,594.816,80.96,314.352,455.97,30.144,899.43,842.72,41.96,184.752,520.464,313.722,45.98,22.14,272.97,41.568,317.058,64.784,120.576,582.336,631.782,801.568,4.272,209.148,12.07,87.92,2803.92,10.11,3785.292,199.9,1212.96,103.481,477.3,701.96,31.96,166.5,128.124,101.4,51.56,781.864,673.344,1592.85,26.94,32.04,204.6664,199.9,427.644,8.856,477.666,191.968,369.1992,68.432,71.12,5.312,51.968,1125.488,31.56,105.686,104.93,589.41,400.784,24.7,302.72,60.84,376.866,282.84,307.314,409.9992,1628.82,137.54,730.2,4297.644,436.704,481.568,3406.664,595.38,97.44,579.528,119.94,12.42,41.6,201.04,613.9992,30.336,242.136,19.96,273.568,18.96,326.646,500.24,4404.9,364.08,71.088,10.984,797.944,292.1,1403.92,339.92,17.496,8.28,149.9,1023.332,600.558,211.246,107.772,7.38,45.568,194.848,173.208,195.136,242.352,8.624,14.0,483.136,61.544,511.5,12.56,214.7,50.32,3393.68,18.96,68.704,573.174,403.56,95.2,466.32,82.64,330.588,22.752,25.128,131.88,717.72,207.35,44.67,362.136,14.91,528.43,24.27,683.332,71.088,60.35,1925.88,273.568,383.4656,13.4,84.98,25.248,91.96],\"xaxis\":\"x\",\"y\":[41.9136,219.582,-383.031,14.1694,85.3092,-1.0196,240.2649,-1665.0522,15.525,-147.963,-46.9764,-15.147,2.9568,17.0981,7.098,22.3328,-15.2225,-114.3912,1.213,-5.8248,-14.475,33.2156,16.5354,40.5426,-3.8385,10.9096,165.3813,18.3456,-8.5794,-407.682,-9.1602,26.2416,20.6976,10.35,12.9096,585.552,51.4764,-24.858,21.259,-11.3372,112.392,46.9764,-161.875,9.6712,-244.323,19.0848,136.939,-28.2744,43.8408,-102.048,-248.2458,0.0,-356.728,-4.6752,-120.513,-2.8308,580.5394,28.1372,-8.4924,2.3232,51.942,-48.7032,78.8592,20.1558,-24.5646,38.024,-131.445,12.864,3.5948,52.5114,1.7136,37.6422,24.1568,0.9995,-258.5016,-17.4588,-4.8588,86.8704,20.7328,271.4192,-297.6848,-157.0095,0.777,-317.1528,-112.9527,31.4548,-18.4548,26.8744,38.38,14.7056,225.264,11.076,2.3094,3.666,29.1528,1.3677,-75.8304,-24.294,-96.1146,7.068,-814.4832,-312.0614,-36.2352,10.4784,19.296,-30.245,-94.941,81.8432,18.1176,22.869,50.098,40.416,21.098,42.747,5.1408,11.92,2.397,70.98,-84.2928,0.0,6.0382,-217.048,16.614,3.7743,0.0,-5.7148,4.9686,91.7728,5.1408,15.7872,3.0814,27.2862,87.5684,12.0904,43.2234,272.792,6.0288,6.068,-50.098,-118.1295,8.7285,-14.3856,-71.8905,-41.262,4.7996,14.5614,4.1448,35.6796,-13.8717,-110.49,3.0814,24.4758,21.996,231.4116,21.112,-153.3456,102.4998,18.6956,-28.356,56.7864,28.7712,-167.3184,23.316,179.7488,14.5236,40.8006,-15.6156,34.8928,79.9056,17.745,7.3359,6.2152,11.076,311.652,6.2152,0.0,90.588,9.3024,77.7438,8.5568,14.6718,21.2954,64.518,262.39,10.048,5.9364,12.1176,9.102,19.2454,-18.5562,-56.996,41.7852,-204.4458,-12.9122,75.5424,-619.596,7.6416,-11.596,53.196,28.1372,28.5984,93.2232,75.49,72.807,131.2785,9.158,12.9129,-290.8752,27.3096,46.575,356.0414,6.7008,63.8862,316.8825,213.735,52.1262,8.662,146.4036,90.294,-18.186,-3.8385,-29.4812,56.5776,22.764,-29.2524,12.178,121.7601,-264.9208,1.999,11.196,4.1031,-0.7566,-12.6882,11.58,224.2674,75.6624,53.196,1.2528,493.7856,100.122,19.5184,33.9388,51.75,89.2224,2.5532,-2.0988,-4.1136,40.8006,10.6794,21.7176,-48.4704,1.7024,20.4822,2.9682,13.7862,0.0,41.262,5.434,95.586,135.4068,11.9988,139.5702,0.5022,11.5164,10.881,18.267,3.666,-88.784,11.1664,166.1004,83.0502,4.3372,5.5177,-8.0784,-13.3176,62.5056,5.1072,16.302,6.5286,8.0406,-70.1043,11.2839,-1.4413,0.0,-146.1096,62.737,-786.744,118.6575,-90.2484,7.1592,52.7956,-430.617,-42.6528,-58.1332,-36.1116,9.995,-204.4458,72.5344,14.8752,12.8316,-1.4784,163.7874,-350.49,-87.3418,67.941,9.8856,-31.3722,-29.2776,-3.0344,226.9644,-4.0128,16.614,173.7408,3.6632,3.0814,-175.8708,3.0096,-9.098,116.872,48.9516,3.3488,16.7986,203.5644,2.288,196.686,44.7096,-295.9785,-67.941,23.84,-21.808,-153.1224,18.3456,2.9568,-35.9058,-2.0568,175.136,-13.993,42.392,27.3568,99.23,155.25,2.464,17.3754,10.7849,-373.3048,-10.4196,8.4736,6.2244,23.316,-227.4912,6.2905,113.4936,321.84,-0.8999,-566.5625,-14.4784,15.0864,12.3256,-71.8116,-69.89,0.9856,-32.5226,3.6894,-4.8392,-20.6964,46.116,673.8816,73.321,1.5048,-12.117,245.021,28.13,1.5714,-8.5068,-24.189,-2.6982,3.108,4.8416,62.9064,25.875,12.1352,39.4268,-30.588,15.8256,27.1764,-28.9764,-465.568,4.368,70.722,50.098,27.2848,20.5842,-22.098,-44.2764,63.9345,10.4148,-122.877,-110.7645,47.848,41.076,8.532,97.6524,23.3184,7.392,4.8609,74.574,3.462,-93.3262,213.735,70.9644,105.0228,10.5072,215.1198,-3.7196,76.1125,-36.6744,84.2352,244.2496,39.7488,51.2943,20.724,36.225,-73.176,3.4848,5.193,412.5394,70.006,-9.147,-97.7394,-46.137,28.518,1.7352,-48.7839,81.583,-25.9136,20.196,20.0392,-13.978,-2.6997,41.1332,6.4944,60.1398,-11.439,-347.1174,-18.0882,4.331,-53.2704,-10.1736,29.769,-150.414,-8.7232,59.0352,28.0192,25.473,9.102,74.8098,1.7591,11.2422,9.5032,-24.2352,-98.8018,-115.7058,31.587,-52.17,33.9388,90.972,79.1934,95.7572,3.5858,13.7646,22.3548,-6.098,-23.0352,37.9962,80.3682,297.69,38.2095,106.477,188.2192,-14.1372,35.099,27.441,1.1596,-68.392,23.384,0.0,200.9546,-447.5947,-553.6476,-122.7816,40.9216,-18.1068,-26.6352,-27.1296,-14.4784,11.6263,42.1504,-225.0976,76.2624,31.4532,60.356,60.392,-104.673,-9.0944,3.034,65.2064,114.6285,-99.2664,2.1736,-19.9184,-14.081,4.2816,-67.6704,-29.9178,-99.1764,250.305,-34.392,32.392,34.2848,-2.0568,12.993,-54.5958,-219.1644,78.7671,22.3776,13.9152,-6.049,213.6888,-32.32,140.686,239.9058,31.587,30.7818,4.4712,9.7812,-7.7748,-300.735,5.1294,20.7808,-121.8735,-3.9624,2.598,23.028,17.1828,4.2624,24.858,0.7392,143.04,6.2856,23.6529,213.6888,19.998,77.5764,99.432,-142.071,4.5882,212.1876,37.366,4.0383,8.0766,15.294,81.8496,9.1776,-14.3856,-140.1408,21.506,56.9943,13.4292,100.4796,-130.0104,73.194,22.5296,31.5372,5.7312,-13.7976,6.216,0.0,-24.803,-23.976,-18.147,17.3754,-2.0364,56.392,28.0784,76.0878,36.3987,111.1035,15.185,27.3592,7.4694,-97.2312,284.98,-12.0784,15.7584,6.8908,6.9088,100.196,22.5296,374.6286,1.068,-35.3646,-5.7588,76.0116,2.2272,-34.641,12.99,29.0136,-5.8346,-7.7094,3.9512,12.3284,4.9497,7.9128,8.2992,10.8588,14.5584,427.4368,40.5867,7.106,16.4647,11.025,9.9652,-5.6784,31.941,9.1764,6.074,7.584,-19.7712,6.3612,-31.3722,-2.6936,87.3504,4.3296,13.8528,-170.8038,6.24,0.6474,74.8098,-103.266,-10.1736,22.0077,-14.4588,0.0,80.784,31.0912,-12.196,10.7892,-6.4233,3.344,256.784,70.006,2.9372,10.3904,-3.3506,14.9292,18.4548,-14.229,-140.196,-2.6892,25.62,-42.1096,9.0882,50.8254,-39.9528,-182.637,7.3008,14.6718,18.1176,6.3744,-17.7072,-24.843,108.3528,69.0018,-75.8304,32.16,-24.392,0.0,-240.784,6.0726,18.1908,3.7308,11.1664,14.896,39.066,-15.5826,-77.333,-2.8272,-18.1176,9.9652,5.2773,-29.3238,22.941,5.1816,1.1136,5.2773,38.038,45.294,48.3136,-427.45,74.574,50.2398,-1.3208,10.3936,28.4364,20.967,20.5176,-4.032,11.9952,-3.8208,3.4196,41.1684,11.376,8.098,68.3332,7.2144,29.8802,-36.1116,-8.9152,-52.3392,-12.0588,-12.0588,7.8176,60.392,394.268,-103.9882,15.468,-12.7512,-8.5008,-68.1302,2.2512,83.2508,58.6872,4.3524,47.0548,-195.4788,2.7776,12.5216,300.735,-5.8346,-92.7996,181.176,12.8256,-19.8744,-117.882,-525.6405,1.6056,-7.098,9.1638,-36.1764,-12.0064,388.8128,200.49,32.6332,5.0232,-93.99,8.5544,31.2528,-71.8116,52.688,42.588,29.6576,3.86,1.4418,-30.9332,14.6718,20.0156,3.6784,22.7136,6.8274,3.792,-2.5472,6.378,34.146,45.294,7.3788,16.5531,81.1734,99.23,23.028,-56.343,10.248,24.196,-1.4196,101.3832,-325.572,106.5408,-16.65,-192.0468,10.2592,-72.039,16.4403,200.49,306.4894,-15.7176,423.0085,7.4592,119.2,26.649,-34.9176,-109.5822,36.1827,10.647,-36.294,14.501,2.178,-269.3376,-182.352,27.0882,16.7972,42.1176,-36.4704,11.0704,210.594,-68.392,2.37,-211.47,3.2406,-448.896,10.098,-42.8967,13.4292,-14.196,-25.3764,356.225,6.2608,-18.222,2.3521,6.4206,14.547,12.0609,124.2,11.1776,-19.5492,9.7911,-3.5996,24.2352,13.846,20.1248,14.2992,97.4586,189.4046,82.0776,5.798,19.041,-127.5792,199.2606,-4.8588,0.0,6.549,60.5488,8.217,23.9904,57.358,49.8042,32.6332,-81.8544,-20.1528,35.76,-52.8908,55.016,0.0,172.4814,7.0048,-14.1639,20.9274,-2.2758,13.846,-13.5882,64.518,-65.0352,20.485,160.1766,10.374,4.2804,7.7748,481.47,-60.6078,85.176,41.8608,-42.4926,-6.9282,-348.6294,272.792,7.524,150.384,177.4206,-6.8094,-22.1382,-160.2952,-225.0976,148.138,190.4298,85.1816,3.2868,14.6224,-76.0116,22.4082,-120.513,54.3438,0.4176,3.196,-64.5444,25.5378,3.9512,140.396,26.1096,-66.062,-14.8704,63.6825,148.704,-31.647,-126.4816,-52.196,-25.2956,-46.7362,12.0764,252.59,-21.4704,75.735,523.7052,9.158,160.1586,4.0192,8.636,225.735,-12.9568,3.2776,-16.0784,-23.7822,-15.4666,-189.321,7.4368,54.7756,5.2287,1.4224,-51.984,75.5937,5.5177,-6.4233,17.158,75.6548,6.9088,24.1218,14.4596,72.5344,13.7646,4.9104,-28.224,-5.4801,-2.134,4.3902,23.028,-9.1335,13.832,-57.6312,26.649,8.7048,3.8448,10.5084,-5.4882,33.8517,43.7842,20.7328,141.1644,4.2408,6.1704,11.1564,34.494,-28.9568,-8.098,62.7822,-36.1764,34.3656,-119.1918,30.0234,1.5008,-56.448,-81.94,10.3936,-42.4116,48.4704,38.4372,136.665,14.8491,-6.9965,17.324,-74.9526,88.7332,-209.7693,-37.9434,9.5616,146.388,-0.8886,11.9952,-23.5764,-4.04,10.647,0.0,-143.7904,15.0696,10.984,-248.166,18.1146,8.3028,19.3392,-21.7176,9.7152,-9.111,15.5904,11.5836,121.99,4.5144,4.4352,38.024,92.97,150.294,292.776,52.9743,-7.8588,-19.2588,-32.6646,38.2668,-67.5435,251.202,3.9294,266.4522,82.3368,6.0288,14.212,5.4801,15.5372,-28.5978,5.7798,149.148,3.556,-356.9643,9.6712,3.2352,11.1776,72.6408,25.5528,48.118,111.1035,-37.1124,191.6586,-437.5404,11.1564,-653.2834,22.6296,-95.67,-131.951,-29.6058,-120.372,-4.8492,13.9728,-7.4358,-108.3348,37.4144,13.0548,292.776,29.3284,1.9224,105.297,34.0704,-178.8468,-10.3124,259.8896,33.2156,-17.0352,112.788,700.98,-91.7586,15.8256,394.212,43.736,28.1421,134.5302,57.4938,-44.196,8.7145,12.6813,145.2816,2.6251,50.9082,36.294,15.3522,-7.098,-5.4548,-22.948,11.6496,8.0968,-14.9877,178.8,-9.7176,2.9568,-152.9847,-13.81,-15.4764,4.0203,386.835,-1.0656,-7.476,28.959,-46.3998,21.4368,11.691,1.3284,1.5691,-1002.7836,5.928,9.0288,24.9366,4.0584,20.9592,-32.2192,23.9904,71.2296,79.794,-69.4722,235.9524,23.384,6.549,51.474,35.245,1.999,5.368,15.9912,12.9792,20.538,92.392,4.4352,-320.597,13.7646,73.194,4.008,-183.6324,-68.1096,-19.1058,-4.8392,88.5528,0.6624,62.737,-10.284,6.846,-54.5958,-218.8656,10.5672,-12.9987,3.4544,1.9712,-2.5648,122.7648,-15.245,8.5914,1.9712,27.0578,1.068,-11.0691,5.368,50.49,17.16,2.9568,399.2994,-13.6776,-339.705,75.3732,23.1192,149.148,35.76,3.0976,20.1015,69.1992,210.735,-264.215,7.504,92.3936,-50.6688,12.9888,-90.3762,141.1644,-1.7772,-52.3365,30.1872,21.294,41.3928,185.2578,8.5544,5.79,10.0624,6.8992,-184.8366,225.264,12.1149,19.7712,209.274,4.6221,-31.9144,11.2648,-384.7164,1.848,0.0,15.525,36.3816,-6.0196,-27.2646,-18.1808,15.6332,-10.7055,14.1246,-8.0784,104.7528,8.0946,0.0,11.0354,29.1456,2.8196,15.372,12.8568,-11.439,14.098,45.294,294.671,100.196,80.843,21.7515,50.098,-99.6219,7.3528,22.0472,10.4148,5.6628,8.8784,158.5764,-25.049,-120.0508,316.1392,3.9248,-45.3492,8.636,2.6376,7.7896,-250.5408,77.0352,6.5472,15.4872,30.098,111.774,45.3488,76.0878,126.225,-20.7846,-137.529,-147.8655,4.2294,7.6965,8.2992,8.5372,21.7515,15.6332,12.9129,23.924,6.5472,5.1816,16.614,3.9512,-35.3646,89.307,173.235,7.7,-97.176,3.3504,61.3824,-11.322,12.8568,18.1764,8.0991,609.7157,375.735,-83.8752,-21.0686,0.0,-12.8392,61.3824,-128.2388,54.666,161.9674,12.096,-12.098,-34.0704,88.725,70.49,10.3936,9.5418,1.3728,5.5044,422.51,25.245,207.8856,7.049,1.7352,-14.5764,22.4196,27.9456,19.0848,-103.8606,-14.5584,8.8784,21.645,101.4504,6.4206,2.6208,8.1168,43.4646,4.4712,10.89,9.5736,56.324,-231.4116,-87.9354,102.9528,91.7728,168.4704,9.5571,-14.4078,-97.5528,21.7515,30.0234,4.8609,15.9936,2.4598,-105.69,-29.512,12.7764,21.8192,70.198,4.2804,-167.986,198.46,33.8744,3.0438,7.1196,-12.849,81.1734,-73.8192,-299.2614,-51.294,14.7,-97.4988,-6.549,33.7266,-77.625,11.4576,23.5764,6.3744,23.8986,-53.2856,0.0,-115.4304,16.8896,10.8588,6.0726,-24.9624,0.0,105.98,72.6408,-50.098,-147.8655,75.686,23.7864,-172.1172,38.97,21.8376,169.182,-38.85,244.2496,-18.1176,-17.0352,30.582,3.872,69.6762,23.6808,64.7568,-84.8232,51.8292,35.6796,14.098,53.235,12.1452,-13.1706,-8.5416,52.3764,629.01,-734.5264,-304.6653,-11.6512,-39.637,16.3172,-185.7168,60.6645,15.426,12.2328,3.5154,8.8176,-19.7372,22.5296,20.392,99.432,20.1558,-292.9872,-26.7558,31.984,8.2056,56.2744,-5.1396,-13.7403,20.7332,18.96,143.6288,31.0156,-18.1176,-6.188,31.0446,4.2804,3.0144,-34.647,12.993,2.7944,-15.5268,-16.5858,-3.94,-24.1026,4.1972,-7.833,-29.1528,4.7976,2.6208,-2.3904,-3.2392,-1.406,39.4438,-12.7785,9.3152,307.1448,47.848,27.5632,407.1288,-19.1058,180.441,314.0586,-95.2476,125.245,401.814,770.352,6.9088,-163.5767,4.2804,25.5112,70.196,42.588,1.1994,-75.8448,-26.196,-23.7822,-29.3238,15.525,7.7035,46.632,41.0388,-110.0232,26.0316,13.6776,-7.476,-42.747,-3.8976,15.6978,1.2672,8.1882,52.3392,27.3592,-14.196,2.4898,-31.843,111.517,-149.6307,-43.4352,7.272,320.3172,41.1684,4.4088,6.5736,67.0644,9.8856,240.294,-36.294,37.884,48.906,-46.4292,35.49,-135.087,46.8996,71.772,19.1646,3.2392,227.205,-2.1312,-22.2388,-8.4294,7.2298,-114.3534,75.68,-4.8048,5.9364,10.164,44.304,18.4632,26.544,7.9662,-630.882,-199.617,21.33,-35.5136,31.5776,-12.8784,21.7532,-9.0904,23.6529,21.5964,7.8936,-175.26,-7.476,-30.294,6.074,-152.7156,9.9652,-37.9152,37.884,10.9096,14.43,-8.532,10.104,14.3136,56.196,36.3018,18.3276,9.2556,-420.0,-12.147,0.0,-192.0468,-36.441,-24.843,387.5676,48.796,19.035,-120.0508,173.3292,14.6642,41.9965,34.4148,-6.098,81.2646,11.7488,-94.6605,-0.3398,-5.524,6.4176,-6.089,-26.1696,13.132,-2.9566,-26.085,14.4495,-77.333,119.686,125.5824,11.8728,6.2608,746.4078,-108.2662,-105.3164,33.0708,-65.853,49.8042,7.9128,148.845,-1.2178,148.704,2.9568,-13.3176,54.3528,-22.1382,5.798,-14.2716,-363.528,0.0,68.001,-11.6622,-216.9783,9.8208,0.0,0.0,-59.8356,7.7728,112.3508,112.788,2.8392,5.193,11.6496,-19.3382,-63.3765,-33.3582,-1.6752,4.6221,9.4788,54.4008,19.5858,-9.093,314.0384,87.2842,77.625,101.6508,89.2224,84.502,-464.697,29.1456,76.9816,-53.7096,10.3936,32.4862,4.6764,0.0,78.6508,151.47,329.4081,157.1292,14.6902,-52.6582,98.5248,15.5904,-2.5698,-25.4744,19.4688,1.068,30.99,373.779,-292.1,-10.1736,2.3094,14.5728,-47.1798,4.6464,140.9568,17.466,15.147,6.3936,-15.098,-11.5176,106.6248,-21.3264,-6.8816,49.716,-191.646,102.9528,-302.72,-118.0116,7.0128,3.344,4.6552,137.54,0.0,47.6604,6.7176,-12.098,-31.8612,-93.4724,9.1746,-4.2588,23.028,-9.1602,0.0,-34.9536,-59.8356,26.973,5.1588,-190.8522,13.5882,0.0,76.47,-247.7988,20.9148,3.8976,15.5856,3.2406,383.931,6.0288,12.8928,-93.99,50.5632,-10.9611,-20.7306,5.1294,38.8704,11.7568,4.7664,28.9568,1.7472,6.0876,-187.3815,-26.6352,9.3228,18.33,10.5072,-17.0274,-58.5048,-25.4772,-17.745,-1.2178,41.4456,-75.192,10.9096,0.0,-28.2744,-43.848,-70.9605,-255.5875,21.4776,6.9716,39.7488,-23.9372,36.4736,33.936,-30.147,-32.3673,366.6348,-73.0548,-188.7,-480.2032,-10.1736,-0.9933,-12.148,76.9816,25.1808,4.728,115.5528,-76.6062,-17.784,-19.0656,7.4376,291.3778,-458.1468,0.0,6.0412,31.6128,-1.8848,-47.175,313.2624,4.8392,25.875,-33.6414,0.7392,45.294,36.4776,-43.0296,24.4608,-14.6388,88.725,-38.2116,6.5904,-10.9188,13.188,3.792,10.449,7.3008,-112.041,41.0388,-169.637,33.8517,21.294,33.7266,0.0,9.8856,48.906,-47.0583,-35.5136,12.8058,5.8744,9.1954,-199.5076,-173.3472,63.107,17.4064,129.294,-30.392,112.422,-6.723,-13.7568,14.7,50.5632,-127.5792,-93.4724,-67.137,-29.0073,241.1046,-14.5176,-11.6928,71.928,7.1022,-20.7846,-110.0232,-77.4732,-17.4432,1.5588,45.555,18.1764,8.9362,7.6896,-36.2136,35.0973,0.0,8.7032,11.1776,4.004,158.529,-0.7566,378.274,-8.2764,26.598,97.2032,-5.9409,3.3534,21.0752,-44.196,6.7008,-14.9877,-19.864,-120.294,-78.078,-89.0664,39.0824,1.4136,19.4352,10.9602,5.5341,-81.441,-15.9268,39.564,-18.2352,-8.5794,-3.6537,-81.3065,11.2839,9.3504,-28.224,13.4372,25.1979,-23.4882,-29.6058,-4.5396,-119.2312,16.0056,8.194,40.416,3.0338,12.6348,9.3228,5.196,0.0,7.1994,-36.1176,259.5297,52.3764,-3.8864,54.7136,14.5728,13.3176,14.3856,45.954,3.9248,-70.49,31.0992,107.0388,30.445,267.6672,41.934,43.6842,-12.8256,-38.2158,46.1968,2.6028,-538.446,-113.282,-45.294,22.9885,4.3524,-47.8716,-249.3216,-7.7728,5.775,-24.398,71.2296,75.68,-13.433,60.392,28.4102,-31.0335,-194.824,-99.2664,12.6672,3.7752,-968.8833,-124.431,2.7354,66.542,9.7218,9.8328,1.3098,12.8316,6.2244,61.3824,45.3696,146.388,-45.8273,16.8544,553.3902,23.9232,27.3582,334.551,-2.6997,2.6961,34.9888,-136.4895,-376.6932,-84.448,6.3936,-63.3765,-3.8208,-2.1376,-241.176,9.8856,3.1382,32.4688,176.8026,1.598,15.525,25.898,32.098,12.098,11.1664,28.5984,-204.9996,346.0396,31.2444,28.4364,-3.6892,7.049,15.2225,53.2704,-2.6997,35.0973,5.5328,6.8388,4.4088,-28.498,40.97,43.2234,4.7712,-84.9615,-15.4188,-64.9376,-20.245,25.4744,31.2664,-5.688,-84.2928,59.4816,34.8128,-15.7176,-106.393,8.2896,-12.849,202.2528,10.9096,-20.7846,-14.8704,-99.3453,7.8166,6.4206,43.6752,-4.1568,-86.0586,6.4784,33.1584,-29.1168,140.396,-10.0196,0.9612,-66.2302,3.9831,15.386,0.0,3.2352,420.588,39.98,-69.312,-16.2613,138.417,168.4704,1.598,-66.6,24.2012,38.532,-61.872,-137.976,-76.9536,350.427,11.3148,8.01,-6.0196,39.98,80.7772,-6.8634,84.294,16.7972,-114.0174,8.554,9.779,-1.5936,10.3936,98.4802,10.4148,-28.6862,-4.497,-6.549,-5.0098,-9.88,-378.4,19.4688,-213.5574,19.7988,-39.5118,-96.4704,260.6112,55.016,94.926,-1862.3124,21.8352,54.1764,160.3136,297.69,35.0784,83.7096,23.988,4.4712,14.144,54.2808,-18.0588,9.48,12.1068,5.5888,-34.196,7.584,39.9234,145.0696,1013.127,9.102,-1.7772,-7.9634,-56.996,58.42,70.196,8.498,-10.0602,2.9808,40.473,-30.098,-8.5794,-66.3916,-29.2524,2.1402,9.6832,12.178,45.4671,-12.196,15.147,-2.5872,-6.3,60.392,-40.0036,132.99,4.0192,83.733,21.1344,610.8624,8.532,16.3172,63.686,96.8544,27.608,34.974,0.0,-143.2548,7.11,-6.9102,55.3896,71.772,24.882,12.0609,-54.3204,4.6221,-143.431,8.7372,-40.196,-1.7772,19.9155,539.2464,10.2588,-67.6704,6.432,22.3548,4.1028,15.6332],\"yaxis\":\"y\",\"type\":\"scattergl\"},{\"hovertemplate\":\"Categoria=Itens de Escrit\\u00f3rio\\u003cbr\\u003eVendas=%{x}\\u003cbr\\u003eLucro=%{y}\\u003cextra\\u003e\\u003c\\u002fextra\\u003e\",\"legendgroup\":\"Itens de Escrit\\u00f3rio\",\"marker\":{\"color\":\"#EF553B\",\"symbol\":\"circle\"},\"mode\":\"markers\",\"name\":\"Itens de Escrit\\u00f3rio\",\"showlegend\":true,\"x\":[14.62,22.368,7.28,18.504,114.9,15.552,407.976,68.81,2.544,665.88,55.5,8.56,22.72,19.46,60.34,11.648,9.618,3.264,86.304,6.858,15.76,29.472,113.328,77.88,95.616,17.46,211.96,38.22,75.18,15.26,208.56,32.4,14.56,48.48,1.68,25.824,146.73,1113.024,75.88,4.616,19.05,72.784,1.248,27.24,208.16,16.74,14.9,21.39,200.984,230.376,6.16,158.368,20.1,6.48,12.96,32.96,5.682,51.312,77.88,64.624,1.788,23.92,36.882,3.304,75.96,27.24,40.096,4.72,23.976,130.464,157.794,30.84,226.56,115.02,2.388,243.992,78.304,21.456,20.04,35.44,11.52,4.02,76.176,65.88,8.82,10.86,143.7,839.43,671.93,171.55,157.92,58.38,105.52,80.88,6.63,14.62,5.98,28.4,27.68,9.936,275.928,32.064,177.98,20.94,110.96,52.448,20.16,97.264,15.88,3.28,24.816,7.16,37.224,20.016,51.84,19.9,14.28,7.408,6.048,46.26,2.946,16.056,21.744,2.6,66.284,83.92,15.92,52.29,91.99,23.68,93.06,5.584,22.704,19.776,27.168,2.2,21.98,18.648,5.328,10.56,25.92,7.408,166.72,47.88,1503.25,25.92,7.61,80.58,361.92,82.368,53.92,221.55,17.52,1.624,14.016,7.56,37.208,57.576,725.84,10.92,8.82,5.98,11.648,18.176,59.712,24.84,2.08,141.76,31.104,254.058,194.528,961.48,19.096,18.496,78.6,27.552,32.4,1082.48,56.91,14.28,9.84,45.48,289.2,4.89,6.264,15.552,99.136,43.57,7.16,251.52,54.224,100.24,37.764,20.724,4.896,4.752,14.368,7.712,4.96,17.856,509.97,30.992,88.8,7.56,24.56,12.96,24.56,3.048,49.12,4355.168,8.26,17.04,34.4,36.24,647.84,20.7,20.7,5.56,211.96,23.2,7.36,104.79,25.92,53.424,8.16,9.24,99.136,8.652,23.832,12.176,50.96,49.536,2.624,23.36,12.462,75.792,49.96,12.96,70.12,35.952,131.136,9.568,39.072,35.91,27.15,9.68,28.35,55.98,139.86,95.92,5.78,9.32,15.25,32.7,287.92,6.672,189.588,4.768,714.3,4.812,313.488,31.872,194.94,70.95,91.36,22.05,59.52,161.94,263.88,30.48,9.84,665.408,8.928,103.92,51.312,28.485,185.376,78.272,4.788,55.48,340.92,92.52,62.65,94.85,14.7,704.25,5.96,29.6,70.368,449.15,11.07,105.42,119.616,22.62,14.952,2.376,32.792,15.92,2.74,8.34,46.74,6354.95,7.152,6.63,5.88,51.45,11.96,1126.02,129.568,14.112,22.2,36.336,666.248,52.512,22.75,16.768,42.616,10.752,152.94,646.776,41.28,13.36,250.272,11.364,8.72,10.824,1295.78,19.456,20.7,32.4,84.056,13.0,3.96,2.61,91.84,81.088,19.44,72.45,13.96,33.264,8.82,160.72,19.92,7.3,69.712,51.52,31.152,6.783,294.93,20.736,16.821,10.368,9.344,76.12,11.632,5.84,142.776,7.218,43.188,131.904,3.282,21.168,15.712,8.448,3.648,107.424,8.69,555.21,523.48,161.82,97.16,15.24,13.23,243.384,235.944,18.882,122.328,15.424,330.4,26.25,6.48,209.3,31.56,30.144,379.4,97.82,113.552,3.318,134.288,2.308,999.432,724.08,2.724,459.95,10.74,23.76,85.056,36.352,19.56,61.44,38.9,2.688,182.994,14.352,64.96,68.6,167.44,14.62,19.44,36.84,33.4,198.272,47.36,200.984,97.696,2.696,18.588,4.896,10.368,166.84,46.72,55.48,24.448,281.34,19.92,59.808,146.82,296.37,45.584,17.568,182.72,33.63,6.3,242.94,99.696,27.936,18.72,11.784,272.736,3.54,51.52,3.528,4.624,55.168,359.32,58.05,56.98,2.88,24.56,13.128,22.72,58.32,12.39,11.36,50.94,5.64,572.58,18.28,32.35,7.71,40.3,32.76,59.94,23.92,4.28,32.07,186.69,17.456,143.96,15.42,43.04,9.96,21.72,20.16,132.79,12.96,21.56,355.32,12.96,43.176,11.52,213.92,51.84,5.344,41.472,3.168,31.086,335.52,9.82,35.0,37.24,15.28,180.66,35.216,23.696,51.184,9.664,60.45,11.52,37.44,26.976,11.36,14.62,5.16,38.88,185.88,242.94,39.96,102.3,21.36,7.61,7.16,7.36,23.1,5.248,2.89,15.936,44.91,1141.47,34.44,11.36,106.344,192.16,5.892,68.472,30.84,13.48,13.944,83.76,37.66,34.68,51.312,4.54,15.92,155.82,70.008,15.648,103.6,46.96,8.904,10.44,18.336,20.04,64.96,12.96,52.776,352.38,8.568,149.352,12.992,24.56,406.6,841.568,15.552,46.2,28.84,14.592,89.856,13.872,12.192,45.056,29.718,15.552,447.696,12.96,134.48,17.12,6.096,32.4,540.57,167.76,15.552,25.344,27.168,173.8,4.752,15.552,6.24,21.88,4.608,9.82,35.97,12.96,191.6,8.64,501.81,18.588,30.072,75.792,1.08,3.282,34.02,3.392,7.968,27.968,1.112,17.97,14.624,10.23,154.9,2715.93,10.67,36.63,44.02,19.44,484.65,115.296,7.08,4.401,44.75,14.03,32.4,601.65,22.74,6.208,11.808,15.552,63.312,177.2,14.4,15.696,2.628,14.427,36.624,23.968,28.728,8.84,58.464,6.72,11.16,82.344,9.088,19.936,65.568,4.416,45.216,10.416,7.872,1.448,55.47,1.744,25.176,19.46,29.472,8.64,6.27,4.368,40.88,119.96,31.44,6.88,19.92,26.38,362.92,6.48,3.15,120.15,28.9,355.96,348.208,35.784,7.04,8.64,2.694,2.934,22.92,100.704,10.78,58.368,40.968,10.368,1.192,46.672,6.3,279.9,4.36,15.28,22.96,6.63,23.34,10.16,101.88,40.99,63.9,19.44,124.608,7.56,85.224,287.52,37.68,19.98,20.58,17.38,8.72,6.48,62.18,644.076,5.84,12.76,3.64,159.768,122.48,62.31,362.94,11.54,53.94,125.76,25.32,46.8,272.94,19.44,31.92,22.38,16.52,5.176,50.112,27.93,11.56,3.76,21.744,12.096,485.88,25.92,197.58,81.92,223.92,23.12,15.552,24.672,1088.792,1.872,593.568,338.04,11.21,9.144,14.07,41.86,8.544,3.036,4.503,4.672,249.75,1.728,40.56,182.94,193.86,15.28,5.68,2.78,79.96,37.425,40.97,22.96,398.352,8.72,48.69,38.82,1704.56,3.2,5.248,27.882,540.048,17.616,17.472,6.57,142.86,12.48,102.336,48.792,44.848,10.368,14.352,86.352,15.12,17.43,251.64,2.772,14.9,15.48,12.192,20.82,13.216,32.4,32.94,114.2,3.08,845.728,13.904,20.72,26.96,46.76,17.712,21.78,161.94,3.69,122.12,38.88,579.3,5.184,5.229,285.552,72.8,10.816,46.26,17.46,11.34,87.92,27.44,1.08,7.96,140.736,552.56,75.04,15.66,28.854,47.82,13.05,93.78,47.18,19.68,53.4,35.88,31.4,17.61,220.776,281.424,79.14,123.256,23.68,38.388,14.04,29.6,17.088,1089.75,447.84,16.4,158.9,13.184,80.98,348.84,9.45,167.96,122.97,154.44,342.37,9.552,17.216,11.56,6.48,251.79,419.4,10.304,75.48,23.68,334.768,86.272,72.588,60.672,77.031,119.904,363.648,9.728,14.75,29.8,427.42,152.76,7.27,33.9,31.104,5.248,29.7,39.96,36.672,13.76,139.424,164.736,2.502,2.025,70.98,91.68,33.75,91.2,52.2,15.936,55.424,3.68,41.54,12.96,6.848,8.67,17.28,17.712,28.91,52.136,25.92,40.46,33.87,9.728,3.424,3.76,5.04,62.96,5.88,40.05,10.192,16.784,13.12,18.16,16.056,223.056,540.048,6.72,17.88,34.5,385.6,35.82,200.064,21.38,6.744,83.84,13.272,21.336,16.52,19.92,198.272,247.104,86.304,4.16,26.18,7.3,74.352,10.744,8.376,212.88,40.74,11.67,16.28,242.48,10.464,82.896,34.24,335.52,23.912,27.056,9.324,111.96,21.56,124.75,5.28,9.344,79.36,35.352,18.9,2.78,11.352,354.9,8.784,122.97,12.84,21.84,23.952,4.98,170.88,41.96,1217.568,143.7,10.65,10.96,33.488,8.04,13.44,16.896,6.672,99.136,6.672,155.94,5.46,73.2,5.84,22.72,9.336,1000.02,3.75,41.4,29.79,59.48,6.69,786.48,23.168,523.25,41.256,1006.056,10.688,10.368,25.12,15.552,669.08,19.44,9.64,12.7,12.624,1247.64,209.7,3.168,121.104,109.92,13.36,169.68,2.96,8.448,95.94,88.752,13.904,13.896,41.92,4.344,74.352,14.04,196.62,6.588,104.28,17.94,64.784,18.97,99.28,1.188,7.518,10.368,33.45,10.4,14.46,106.96,21.56,11.808,9.96,12.35,9.702,11.61,43.86,7.42,19.9,1702.12,14.304,7.712,242.9,454.9,47.744,434.352,3.552,88.832,7.83,96.256,10.688,338.04,154.24,34.848,4.368,31.44,20.88,20.736,11.168,13.36,11.232,10.272,10.368,6.24,559.62,109.92,8.56,360.712,41.568,19.536,28.752,35.06,4.13,9.82,7.644,51.465,6.976,12.222,97.984,20.86,497.61,5.34,3.15,368.91,14.7,83.36,6.58,122.94,219.84,33.04,48.94,46.64,60.416,107.94,63.84,37.008,11.168,53.952,5.607,4663.736,45.36,54.816,7.38,9.26,9.96,75.6,92.064,6.976,5.184,31.32,38.88,36.288,21.4,1245.86,17.544,62.92,78.304,40.096,40.08,7.184,34.76,26.4,106.75,97.82,141.4,14.52,127.92,34.24,137.62,49.632,31.104,78.256,6.48,99.2,16.224,68.742,29.34,563.4,217.056,6.0,7.104,398.352,121.792,10.56,3.38,7.824,24.784,34.65,487.984,1793.98,29.808,505.176,191.88,5.184,909.12,2.952,27.018,273.896,4.608,15.528,11.952,11.65,895.92,15.008,47.616,92.94,88.768,6.48,46.51,244.55,19.968,33.488,8.736,47.36,27.44,3.24,10.368,23.1,12.98,26.432,18.9,4.92,17.12,16.2,33.99,13.71,24.9,286.29,24.18,69.5,166.44,6.408,5.104,2.896,275.97,5.248,42.976,3.76,320.88,26.76,17.22,26.22,17.34,4.956,71.04,5.344,11.304,294.62,15.0,41.86,95.94,11.364,29.68,4.224,333.056,24.896,46.344,13.08,900.08,17.568,14.62,33.36,40.14,1606.23,17.04,49.53,239.12,33.024,67.136,14.73,104.9,61.04,10.95,9.392,9.328,8.26,29.04,14.62,11.952,4.536,9.156,57.504,38.864,15.552,162.64,55.48,2.502,6.48,11.12,11.34,80.3,15.968,64.74,19.296,405.64,12.39,1.941,7.312,39.9,90.86,94.85,106.232,37.44,23.68,122.12,18.45,324.9,146.73,3.96,5.76,26.55,12.88,13.12,511.84,91.96,8.34,37.68,636.408,83.168,221.92,15.552,0.876,19.98,398.352,5.04,17.45,29.7,46.84,159.88,5.28,895.92,2.808,27.72,104.68,20.736,33.28,38.52,19.65,152.991,10.584,3.656,146.82,149.544,17.14,30.48,16.688,38.088,254.352,14.94,14.16,21.48,501.81,161.94,17.856,8.808,34.58,314.55,8.288,15.872,6.286,14.016,19.752,9.264,61.792,45.68,60.12,41.72,71.6,85.232,44.4,54.896,70.08,60.81,153.552,65.34,123.92,35.1,4.704,14.67,15.552,5.232,6.096,67.56,29.932,16.52,43.8,167.292,1.44,61.776,241.96,2.816,9.984,14.98,37.376,54.816,2.896,673.568,52.98,228.92,190.86,24.32,44.4,1016.792,38.136,56.56,5.56,9.02,8.62,13.36,41.72,11.52,541.44,19.44,143.7,43.26,43.56,18.54,5.0,5.28,8.26,7.968,12.96,6.48,6.984,47.96,199.74,306.2,48.16,60.69,14.352,35.04,17.48,16.4,12.96,13.52,12.72,11.52,106.32,27.216,68.448,88.04,15.872,215.592,14.62,416.32,43.0,60.83,194.32,94.74,60.64,76.3,364.8,79.872,12.96,14.352,41.96,41.7,277.4,5.78,69.216,10.86,426.79,25.92,45.92,10.72,41.86,123.552,490.32,70.08,1.272,9.024,69.456,10.86,79.47,10.08,137.24,34.86,155.04,13.71,160.32,46.0,23.12,4.912,2.632,23.688,5.67,76.776,9.184,32.75,7.216,49.568,176.04,16.02,185.92,7.86,24.448,6.48,41.86,39.68,37.0,5.76,16.68,628.81,56.45,94.2,28.4,24.2,5.68,7.52,11.96,79.872,63.56,230.376,9.664,13.023,39.312,1.344,8.272,58.48,33.96,826.11,35.808,662.84,26.88,17.48,269.49,29.12,18.75,9.144,107.44,7.31,59.1,46.53,97.84,29.97,98.352,83.92,14.624,3.15,9.11,571.44,32.4,16.91,64.864,87.71,1101.48,5.46,11.184,153.584,1003.62,99.68,5.56,85.52,9.84,20.04,23.92,90.24,64.17,124.46,9.584,37.608,12.224,2.304,9.36,7.38,53.72,8187.65,32.784,1117.92,45.66,264.32,604.656,20.16,29.46,868.59,12.96,121.6,42.048,6.9,9.648,7.968,10.368,114.2,17.96,12.67,1801.632,143.952,14.76,205.92,2.304,313.024,5.04,21.96,25.92,6.992,15.75,323.1,9.216,10.368,33.82,25.12,478.08,13.248,2.912,16.23,319.9,11.36,675.12,489.92,19.44,16.68,6.608,248.57,5.98,327.84,180.96,914.97,530.34,14.94,121.94,122.71,14.94,1.167,16.99,2.52,5.904,15.696,18.288,5.78,121.68,4.17,37.32,18.45,25.92,63.9,11.22,14.94,7.23,323.1,19.04,13.128,64.14,186.048,42.81,12.96,10.776,11.784,164.88,25.584,261.74,14.4,10.86,79.96,8.76,3.984,2.742,28.352,105.96,166.44,26.2,1325.85,166.44,8.76,43.584,11.088,25.164,14.4,89.52,312.552,95.952,3.204,3.98,15.7,5.248,5.346,15.48,30.352,21.376,8.016,18.936,116.28,16.68,19.44,192.16,12.828,60.12,13.9,124.36,8.376,58.24,81.2,14.45,95.648,1.641,6.63,5.58,49.12,42.28,477.24,46.72,8.226,423.28,5.56,1447.65,11.96,481.32,48.4,101.84,10.332,31.155,8.928,34.384,1924.16,32.192,54.5,49.44,10.368,154.44,60.984,59.2,22.0,7.9,16.464,25.96,36.27,6.48,18.088,13.36,39.96,145.85,7.88,12.84,25.68,9.42,12.96,179.82,114.6,1088.76,6.72,8.928,47.584,33.792,2.724,3.264,108.336,55.92,78.304,443.92,15.47,7.16,10.89,19.44,121.6,120.33,229.544,143.728,50.94,762.594,2690.97,7.434,64.784,28.16,40.29,20.23,286.93,20.736,31.44,83.79,59.52,31.92,14.72,38.976,74.352,4.26,811.28,6.03,52.34,4.66,25.44,27.93,8.85,17.456,6.63,12.96,32.4,23.85,17.94,11.56,26.4,49.65,12.6,184.66,23.12,37.464,310.12,8.56,52.4,14.94,11.22,387.136,41.4,35.0,39.552,12.56,5.952,15.8,129.3,3.882,6.08,19.9,8.64,1633.188,6.608,7.28,35.89,47.208,248.08,189.7,59.808,305.01,64.96,43.7,23.12,2.313,19.936,45.92,20.34,39.28,24.32,30.016,499.584,31.104,13.272,259.136,10.8,15.936,22.58,20.736,11.264,53.424,19.36,1267.65,18.56,449.15,31.248,61.44,895.92,55.36,55.92,24.896,44.416,9.006,19.0,33.376,207.48,91.68,904.9,34.272,243.88,12.03,21.594,8.964,20.736,727.296,5.04,92.94,91.68,52.272,17.94,8.288,25.99,20.736,36.26,56.3,32.4,12.96,22.18,13.9,26.38,43.176,227.84,37.94,5.28,8.96,31.5,26.88,90.8,45.36,288.24,663.936,2934.33,57.75,114.46,342.864,31.84,12.96,58.34,3.928,252.784,12.992,447.86,166.44,31.68,10.368,12.032,5.768,33.12,10.776,695.16,12.957,25.68,15.712,298.464,21.93,242.94,7.64,51.84,265.17,135.9,34.68,43.1,15.88,60.768,78.6,3.768,1036.624,563.808,49.12,12.672,30.56,77.952,12.224,206.43,210.392,10.608,32.4,32.4,31.05,735.98,93.024,67.64,5.18,15.56,78.35,59.52,38.52,19.35,62.192,23.88,3.168,13.392,181.86,18.76,254.9,9.64,1633.14,544.38,26.046,74.352,3.75,20.928,12.672,6.37,3.648,31.104,23.34,3.366,18.704,15.936,62.24,39.84,13.392,11.228,207.24,1.504,34.848,75.18,931.176,94.85,51.12,9.408,4.672,12.768,15.36,375.34,26.046,2.896,32.544,3.984,44.94,45.576,56.45,13.468,324.9,18.24,24.85,7.056,19.296,4.608,2.946,3.136,20.736,733.95,241.44,10.08,281.904,201.432,6.54,18.24,27.78,22.96,12.96,22.96,4164.05,4.624,63.924,6.56,13.11,29.2,11.68,11.91,30.96,19.194,121.792,50.997,76.792,1.944,12.984,2.286,25.344,232.4,81.98,14.376,181.35,8.64,43.512,25.92,68.94,896.99,1.234,67.56,21.72,262.336,17.12,117.144,203.52,51.75,122.97,81.54,11.68,29.0,50.8,16.03,15.712,20.88,3.81,73.008,3.208,30.44,19.44,37.88,10.368,14.352,66.048,25.824,160.96,111.672,13.776,10.272,2.896,17.94,580.672,18.936,50.454,6.848,6.928,40.032,443.92,169.99,25.92,629.1,193.95,5.46,77.88,7.488,10.368,65.79,271.984,11.76,77.52,48.64,1.81,8.26,43.56,5.84,262.24,182.72,22.72,15.24,32.896,30.96,29.79,60.12,24.816,14.976,15.08,54.192,4.304,108.92,16.74,2504.74,84.784,29.9,70.88,3.76,27.264,56.65,14.97,4.02,58.72,5.16,16.496,3.444,538.194,286.79,5.08,61.96,278.82,47.952,10.848,152.0,8.56,45.36,7.92,147.184,68.6,435.504,11.168,487.92,15.24,62.94,25.92,10.368,900.08,3.392,15.552,11.648,509.488,17.76,6.912,30.816,569.536,12.832,40.46,45.84,21.4,54.9,13.12,10.75,11.62,40.74,83.25,9.45,20.65,45.36,2.672,28.672,29.312,105.98,35.06,30.0,45.528,7.476,330.4,45.36,10.128,21.792,8.256,25.56,4.368,11.52,12.96,3.96,1577.94,5.184,11.68,104.8,14.496,4.784,4.73,7.89,65.5,104.85,3.9,2.61,5.96,1665.62,2.88,1443.96,2.92,465.18,22.428,37.52,2.624,15.552,12.448,277.4,29.34,139.44,6.912,27.096,177.568,16.448,31.776,9.555,487.984,217.85,40.776,7.16,3.52,5.58,2060.744,52.272,213.136,69.52,763.44,9.216,89.568,22.248,334.88,4.624,69.888,487.984,47.3,4.13,155.12,6.48,15.52,2.946,55.104,34.7,33.72,14.94,638.73,113.568,8.688,33.8,24.56,27.888,6.456,13.88,11.52,10.368,39.072,8.872,121.104,47.952,15.8,12.39,84.09,79.36,153.36,43.68,98.21,9.84,2.694,25.344,43.92,232.96,66.54,43.26,79.4,24.78,19.14,32.4,23.832,34.176,204.95,45.68,23.55,5.04,33.4,15.42,35.712,551.985,7.056,18.72,360.38,11.16,14.94,41.96,636.86,65.08,26.38,32.54,61.929,16.52,60.12,49.536,11.85,118.25,321.92,28.4,116.28,841.568,354.9,42.784,111.104,11.68,16.9,87.6,8.52,1.788,1.344,1.984,82.368,6.912,10.368,37.94,8.904,720.064,3.132,1085.42,3.912,62.376,29.05,180.96,4.419,16.032,29.79,57.23,36.44,251.64,93.024,12.768,35.008,39.152,11.76,5.238,4.662,25.06,19.824,15.984,12.816,18.98,18.24,991.2,12.96,107.44,87.444,19.96,2.368,19.008,7.184,6.28,480.74,141.4,501.81,691.96,85.96,33.568,26.4,3.564,10.272,40.176,10.896,10.64,11.56,11.8,23.472,86.058,10.272,38.19,49.632,52.096,9.568,82.368,4.368,12.128,8.56,356.94,9.98,3.552,15.552,2.368,10.368,270.34,98.112,563.808,10.428,19.44,16.096,7.656,61.68,63.96,25.344,26.72,30.28,57.93,137.24,5.184,145.544,5.472,9.4,74.0,28.752,27.216,3.048,25.92,835.17,17.34,44.384,2.944,6.368,48.848,19.648,17.248,12.7,79.36,11.277,4.448,38.28,12.84,7.872,7.872,88.04,40.635,5.728,42.24,53.82,79.36,13.48,29.8,41.328,8.94,56.52,48.94,2591.56,41.95,286.344,41.376,172.704,14.98,36.6,1.78,25.92,6.848,8.448,39.296,17.12,542.94,8.64,193.8,21.4,97.88,25.86,29.664,9.184,12.864,236.88,29.9,18.693,24.816,21.12,14.352,274.77,9.156,23.992,80.88,4.224,55.44,20.928,1801.632,646.2,25.032,20.016,3.104,7.52,10.272,47.808,13.14,10.024,7.04,5.04,116.28,60.048,5.022,182.994,10.272,7.857,20.952,11.784,20.7,10.95,14.352,221.024,32.4,404.9,9449.95,12.94,2.264,0.444,146.176,13.76,4.312,13.96,17.34,3.28,8.856,1219.96,3.168,19.44,454.86,91.392,37.44,37.59,26.032,35.91,54.66,67.344,73.28,14.48,11.952,15.552,45.0,112.12,1575.14,25.06,6.924,37.392,18.9,57.42,12.74,8.82,9.762,13.72,259.136,29.24,15.552,4.896,38.088,2.808,26.064,15.696,12.84,22.58,16.52,671.94,168.624,19.44,31.92,31.104,54.816,48.86,14.2,12.96,58.34,56.3,122.97,46.35,14.976,4.24,17.04,344.91,6.874,1.996,8.928,9.99,21.12,51.98,21.93,394.816,18.192,7.31,41.28,184.66,49.25,10.16,34.08,15.984,9.42,6.56,24.56,128.4,62.28,9.24,37.94,18.288,102.96,1.964,45.92,22.48,11.394,15.552,31.104,6.316,11.352,20.808,11.416,9.408,19.83,209.7,43.92,20.232,27.81,1.64,88.08,10.688,63.312,96.784,9.762,47.98,13.05,80.48,11.673,3.564,12.588,25.99,3.592,48.632,323.1,25.3,11.36,3.69,1103.97,11.696,64.784,33.28,14.088,11.16,189.0,54.32,49.568,161.376,8.72,3.912,59.752,7.752,33.568,21.936,19.44,16.78,20.96,88.752,304.23,167.86,33.29,14.952,2.286,14.352,9.21,18.0,42.93,15.552,17.92,22.92,27.312,7.92,113.82,5.184,16.28,544.38,19.824,20.724,415.872,16.768,12.96,19.008,1598.058,36.96,10.368,111.96,131.94,25.92,704.76,7.41,21.5,10.528,20.544,104.9,39.68,51.75,11.68,103.968,270.72,17.48,71.88,60.45,2.88,43.92,25.032,46.76,68.97,70.368,25.984,27.36,199.9,901.95,11.328,21.24,38.976,9.08,314.55,4.91,5.78,107.94,19.65,59.7,387.99,30.4,478.24,5.484,40.92,15.552,17.24,113.94,27.18,70.95,20.0,7.98,8.75,2.182,27.384,26.406,10.368,23.68,965.85,29.2,32.4,78.35,31.68,29.12,169.45,6.48,186.69,43.96,27.92,6.368,244.55,1332.496,147.184,76.776,14.352,209.792,3.304,16.38,167.96,12.96,15.552,8.448,333.09,24.9,15.26,43.32,43.584,116.28,9.296,19.44,314.55,16.27,69.12,4.47,36.288,38.88,631.176,12.96,12.96,23.2,25.92,21.312,361.96,20.34,81.96,54.792,10.784,36.44,21.4,48.664,16.56,1347.52,9.432,34.86,99.9,2.296,40.44,15.28,11.96,86.376,18.24,13.12,5.936,325.86,1.928,6.912,5.76,12.84,56.82,31.56,27.92,8.559,49.568,271.44,100.704,45.216,28.782,24.448,10.476,21.24,127.96,13.9,26.86,9.584,113.1,65.78,23.616,8.26,76.58,8.8,590.352,5.58,452.55,17.76,7.9,53.97,33.92,21.81,91.6,137.25,11.52,18.272,153.728,12.224,535.41,6.096,45.36,31.36,47.616,23.48,62.79,28.44,90.48,77.55,8.832,177.536,258.48,77.55,24.88,140.75,36.63,51.75,80.98,242.94,123.92,12.39,47.3,11.09,3.168,6.368,13.62,440.19,64.4,244.55,195.76,11.76,166.45,2.88,45.248,59.904,23.696,7.968,18.2,76.752,3.0,7.506,16.56,11.06,772.68,283.14,33.088,80.98,21.36,62.048,29.61,3.486,10.584,5.715,221.92,8.448,29.52,5.248,74.416,6.848,8.712,65.17,14.62,895.92,130.71,11.68,0.852,36.288,8.22,45.36,947.17,61.96,7.58,14.73,9.888,671.544,1117.92,123.144,212.64,9.87,8.26,29.84,61.06,9.96,9.21,27.93,7.9,221.16,127.96,18.69,25.35,33.4,3.882,115.296,1.908,43.372,48.896,7.856,5.904,13.712,182.94,27.76,25.99,25.344,11.952,6.24,11.52,23.36,8.67,25.71,100.94,1.476,40.712,279.9,13.12,4.224,85.056,27.696,24.96,5.64,57.582,31.104,4.768,10.38,13.392,37.94,42.8,33.63,62.808,195.64,17.94,18.264,34.656,81.552,227.136,10.36,463.248,44.856,14.016,69.52,5.64,13.776,245.88,36.63,22.58,12.39,39.92,61.96,19.936,3.798,27.744,5.553,243.92,14.96,7.184,10.512,71.632,9.328,5.88,303.84,485.88,8.94,70.008,10.192,1793.98,20.368,49.848,563.024,344.91,8.64,229.544,1.824,18.32,48.816,1.188,61.568,6.192,2.214,5.32,59.92,171.2,3.36,114.2,1126.02,1263.3,8.82,37.94,4.2,227.28,47.9,61.96,1117.92,7.968,26.352,481.32,13.98,25.92,91.59,22.92,269.9,11.808,18.336,36.288,5.97,2.508,35.96,14.952,67.144,2.296,96.08,3.62,629.1,14.88,19.44,57.75,14.94,23.1,12.536,1.08,4.512,33.74,1325.85,19.9,5.68,375.34,96.08,11.68,4.36,29.24,117.488,12.42,12.96,69.48,18.06,79.14,2.512,18.864,67.84,17.94,242.94,7.764,8.4,36.112,88.768,12.9,21.36,6.688,20.568,4.356,5.22,84.84,7.24,14.4,15.552,3.108,6.672,1889.99,55.936,18.432,52.064,48.784,13.092,56.7,69.5,191.6,10.56,714.3,17.94,9.522,4.923,33.93,222.32,20.46,347.58,33.48,137.62,8.34,8.57,119.616,26.49,221.06,67.71,129.92,61.4,720.76,5.184,14.7,8.134,18.54,24.4,195.64,7.056,26.4,41.88,99.846,584.82,43.98,21.4,167.535,38.34,62.8,13.904,44.84,18.24,10.48,20.736,64.704,105.52,5.792,2.556,7.968,8.784,3.024,51.45,14.016,4.6,35.168,19.152,4.448,5.184,15.552,40.032,42.048,67.92,52.512,186.912,10.048,15.552,10.776,3.304,35.48,34.44,79.056,232.55,19.44,12.96,68.46,601.3,44.82,58.73,93.344,17.05,8.096,23.34,51.55,63.84,3.592,139.04,46.8,67.78,39.9,2.688,6.6,28.4,3.9,12.84,15.84,62.94,535.41,144.12,314.55,3.408,2.072,53.248,4.992,75.84,45.36,45.78,40.29,38.71,1801.632,45.04,23.16,85.96,13.12,45.66,158.13,3930.072,2.304,70.26,9.26,105.98,1.24,20.7,28.9,27.18,465.18,36.63,51.45,7.83,35.4,29.9,17.48,79.14,8.4,706.86,43.19,166.44,36.56,186.144,81.98,14.624,27.496,54.96,332.94,39.872,13.68,3.318,10.44,12.544,20.768,12.576,49.12,182.91,107.648,10.56,38.88,35.2,45.528,2.92,21.864,11.76,167.94,3.89,406.6,3.744,105.52,85.52,36.84,15.84,44.4,21.24,9.552,163.96,17.904,182.112,4.464,50.4,89.568,4.08,18.9,62.1,296.37,13.04,1525.188,9.216,28.048,30.56,20.736,27.36,34.236,15.96,16.9,6.68,19.44,33.568,60.6,22.72,17.34,3.38,26.976,307.776,244.55,12.24,1.632,725.84,10.896,8.544,32.34,39.9,143.856,41.92,87.28,8.0,27.24,15.78,45.98,720.76,81.96,64.864,11.56,15.58,85.056,15.552,10.368,31.44,348.488,172.736,15.54,25.92,15.808,10.368,40.41,9.82,26.352,22.5,9.96,213.08,21.98,39.0,2.907,24.672,3.744,10.65,87.92,22.424,90.48,42.76,10.08,73.176,20.736,15.36,36.288,11.232,26.4,3.52,46.53,161.568,4.064,6.216,8.896,1640.7,9.81,588.784,2.064,6.368,62.296,10.71,20.936,357.93,331.96,86.2,38.016,8.384,6.848,19.6,13.344,16.272,32.34,56.064,108.72,16.176,19.44,123.92,78.256,750.68,44.4,84.55,17.94,128.4,1.869,40.68,23.472,3.592,6.264,20.808,18.16,7.36,41.4,7.656,6.56,7.83,8.96,20.136,8.856,61.96,17.92,56.704,32.896,22.776,160.32,13.392,23.92,21.552,58.24,80.28,9.78,1.81,37.94,115.296,59.94,64.14,11.67,12.96,17.43,1.592,22.344,10.44,5.214,67.4,43.68,2.672,16.656,36.288,56.3,6.48,1325.85,14.94,34.54,64.12,19.456,29.76,15.552,98.376,29.94,17.472,56.52,6.56,47.52,8.0,83.56,269.49,10.9,6.096,34.05,352.38,18.94,59.913,68.62,25.02,10.71,55.984,14.48,14.16,79.92,590.352,11.05,7.78,117.96,21.3,1040.8,29.34,443.92,3.04,13.872,17.46,10.528,152.8,82.56,28.8,11.12,17.94,34.76,19.44,32.4,57.9,10.56,40.99,2.94,45.24,18.688,11.648,15.936,511.056,18.656,11.088,66.688,99.488,14.62,53.984,15.84,8.448,12.96,20.44,109.92,6.38,6.48,15.84,154.9,98.352,14.32,48.944,27.36,44.75,26.4,27.396,13.456,11.84,35.88,40.752,2.624,11.64,40.176,357.93,19.44,177.55,57.96,29.403,81.4,8.72,12.96,331.536,1089.75,61.06,27.52,30.69,13.92,19.36,38.376,12.96,26.72,20.04,795.48,44.4,20.65,5.56,3.16,481.32,6.384,542.94,353.88,60.144,3.15,22.72,1158.12,23.968,13.208,15.528,104.85,30.48,2.21,15.52,36.44,39.072,22.638,95.144,4.419,35.0,97.84,46.672,1395.54,18.9,77.52,10.368,10.272,61.792,12.192,87.168,31.744,105.52,19.44,12.912,17.088,93.15,11.52,238.62,7.77,19.168,26.136,419.4,5.56,6.264,64.2,38.52,83.7,32.4,304.9,777.21,32.4,715.64,795.51,74.76,9.64,33.488,23.04,1.362,7.968,109.92,19.44,11.16,79.47,4.56,4.672,104.58,59.76,108.08,9.54,11.736,447.86,17.94,245.88,192.16,368.91,4912.59,14.352,42.76,45.68,25.06,38.432,21.568,2.78,99.87,44.4,21.4,9.78,24.192,59.94,45.36,26.4,41.4,24.704,59.7,104.184,46.53,25.5,14.9,87.71,94.6,110.96,22.96,7.31,15.552,13.392,13.216,5.88,25.92,48.84,25.9,42.68,262.24,234.36,20.736,10.5,676.55,154.9,30.56,7.78,123.92,17.22,226.56,81.98,104.85,8.704,19.92,414.96,387.72,360.38,13.56,32.06,19.86,12.96,20.544,77.56,87.92,245.94,8.6,2357.488,64.96,13.52,387.136,25.92,91.36,5.214,12.294,68.52,74.94,271.44,14.9,19.44,55.48,91.92,17.34,7.08,646.272,10.368,8.4,18.48,9.84,54.9,19.568,310.392,113.94,129.92,5.28,27.888,16.146,1345.485,173.488,57.75,272.4,11.952,12.201,2.068,83.84,11.36,36.4,142.04,14.67,12.6,17.94,23.904,88.96,17.544,152.688,3.488,5.888,153.552,270.62,10.95,151.056,6.216,23.616,2.088,4.488,6.48,1.188,38.52,45.4,13.76,11.784,4.36,13.632,19.432,6.0,1.908,110.096,16.752,41.904,14.94,23.832,61.568,20.96,11.96,3.912,49.408,3.76,163.96,192.8,73.164,32.064,115.44,274.8,195.64,119.04,20.07,11.76,11.76,40.736,87.92,51.336,332.704,81.54,772.68,11.808,26.16,33.57,117.456,22.96,13.36,34.248,3.52,26.7,838.38,85.96,121.96,23.92,63.96,14.6,887.84,106.8,70.95,34.944,119.04,31.44,25.92,6.33,75.88,71.376,63.77,96.08,51.016,25.248,51.168,2793.528,1000.02,18.24,76.12,7.64,62.24,20.86,56.7,12.264,218.352,30.32,19.44,71.28,1471.96,57.576,26.336,360.38,11.744,18.24,25.35,119.04,43.41,465.16,7.98,2.394,58.32,9.856,3.444,384.592,22.92,11.36,14.592,41.4,442.372,34.5,28.85,3.488,143.856,22.45,179.9,87.71,69.52,12.816,5.904,141.552,304.9,196.704,64.14,33.552,1737.18,704.25,141.76,36.36,24.588,13.984,74.352,6.68,17.584,47.952,629.184,15.176,579.51,151.92,196.62,144.12,15.96,34.08,10.368,7.752,15.28,33.4,210.84,13.98,19.05,247.716,66.58,43.92,29.7,49.12,18.28,156.512,30.44,69.28,24.55,12.176,37.32,35.06,2.412,8.39,83.92,19.68,25.92,6.48,56.3,51.016,150.8,51.84,240.37,133.12,6.63,99.92,4.928,286.15,49.792,32.784,4.276,10.56,229.94,311.15,12.96,14.62,5.76,21.48,17.15,23.12,5.248,24.64,227.88,3.89,149.73,46.2,47.952,76.864,102.93,11.52,83.88,5.984,21.96,12.39,332.94,19.44,6.294,10.368,25.984,14.301,23.52,477.15,34.7,99.87,37.94,24.9,7.104,2.464,8.72,10.76,45.68,6.7,3.44,56.56,15.96,3.76,14.7,37.2,74.0,84.96,2079.4,100.24,871.8,4.554,5.2,15.552,24.472,45.36,962.08,12.843,295.456,32.4,39.72,15.552,135.09,90.06,19.242,1247.64,5.304,19.136,279.9,50.352,34.02,23.88,11.52,286.93,99.3,108.96,2.688,5443.96,56.07,10.08,5.715,9.42,216.4,6.936,4.428,8.8,2152.776,98.352,73.68,33.29,58.17,5.04,24.784,17.472,13.36,158.9,505.32,3.808,8.682,24.424,419.9,3.15,33.62,16.14,8.64,243.992,7.12,2.688,149.352,11.96,563.4,6.68,8.34,101.94,19.68,14.94,231.72,9.912,34.65,33.568,125.93,11.76,5.344,1.365,62.016,146.82,15.66,146.352,5.94,45.36,89.82,19.296,21.3,22.5,219.84,32.4,209.94,4164.05,58.48,12.96,7.38,54.48,68.541,122.12,6.99,107.424,125.88,133.2,133.472,87.168,42.616,45.92,20.736,51.168,10.64,39.66,113.92,447.86,251.58,219.84,6.16,17.0,29.84,49.568,265.86,10.92,19.75,10.9,79.92,146.82,3.6,180.016,13.12,1117.92,12.16,17.52,155.88,477.51,164.88,415.176,35.232,54.96,16.34,50.352,6.408,5.43,7.83,273.92,9.912,95.232,30.0,25.92,34.944,23.32,16.74,14.82,10.47,11.07,20.704,177.2,6.129,20.736,177.536,32.432,11.696,113.76,579.51,150.66,48.032,102.624,13.392,35.88,23.92,14.952,17.94,8.74,61.96,7.96,275.24,81.96,32.776,272.94,29.24,35.168,15.76,196.21,35.4,419.4,13.005,7.712,4.176,38.88,17.64,93.456,12.76,58.48,37.752,259.92,20.736,69.93,140.736,8.32,62.94,21.488,3.798,9.96,3.856,98.376,3.882,18.312,17.9,3266.376,1.68,168.1,98.46,32.48,735.98,34.37,33.96,17.48,8.016,152.65,11.12,1640.7,14.832,11.34,67.9,32.04,76.864,106.05,62.04,367.96,44.96,182.94,28.14,7.38,10.9,23.04,10.368,12.672,12.96,47.52,11.952,4.98,10.78,25.06,5.344,32.4,146.73,114.2,19.05,73.344,50.96,113.94,25.92,34.48,244.55,10.782,7.656,16.0,5.588,235.92,10.68,41.28,2.502,186.54,132.16,17.904,124.032,28.8,24.588,356.79,16.98,491.55,7.38,23.66,18.9,93.68,21.93,19.98,41.584,36.544,102.368,28.4,713.88,68.52,11.12,2.48,221.024,58.408,11.808,53.568,21.34,36.4,15.51,146.82,12.96,7.8,10.2,22.32,24.1,6.46,60.12,12.624,18.18,31.744,5.904,48.87,154.9,5.92,30.18,24.1,376.74,29.52,11.96,26.4,1158.12,1.392,44.43,265.86,27.9,31.08,13.84,175.872,12.96,208.44,25.76,69.456,5.184,12.828,17.96,5.04,208.16,146.76,14.94,25.83,15.552,6.8,31.104,223.056,46.24,5.22,33.9,28.14,92.94,55.008,35.232,12.96,17.94,166.72,24.816,9.184,9.248,15.552,14.576,209.6,23.32,30.98,35.808,122.688,50.22,83.42,5.872,12.144,27.792,6.208,32.67,1261.33,38.88,1.964,82.656,5.98,9.248,4.448,5.184,175.92,4.752,13.344,54.9,22.911,309.456,19.456,17.22,3.52,8.595,190.896,99.87,79.36,106.32,163.44,42.76,51.55,146.688,276.784,25.32,318.96,212.64,23.472,19.648,6.57,421.1,3.28,459.88,7.76,71.96,54.9,9.28,5.728,61.96,1.344,17.94,13.904,67.194,41.86,144.12,17.94,13.89,16.45,123.088,7.23,17.44,62.88,12.294,43.28,92.94,52.56,88.768,53.088,157.9,4.91,87.92,5.98,16.0,21.84,15.6,247.84,9.912,69.52,11.52,236.5,74.352,87.168,32.232,2.202,9.396,12.78,23.24,5.552,8.016,38.864,5.388,30.976,1350.12,15.92,21.4,12.6,11.96,6.08,2.912,20.736,9.568,30.18,51.648,11.232,14.73,16.4,25.92,8.82,62.496,49.568,274.491,151.62,123.92,89.712,22.83,30.88,465.16,27.12,12.96,69.456,8.64,39.76,92.88,49.56,354.9,15.12,44.672,9.216,68.52,364.74,49.76,5.56,629.1,14.7,45.36,14.7,31.68,181.86,13.428,67.136,89.568,17.48,20.608,4.095,2541.98,3.036,25.92,305.01,50.784,26.01,37.84,5.472,77.24,2.892,381.72,10.368,158.13,14.13,64.75,1.872,11.214,37.376,43.92,19.608,4.158,8.904,9.45,400.8,28.792,1856.19,81.438,15.51,5.76,162.89,191.88,13.584,176.772,38.82,21.9,16.52,29.9,116.4,1.408,19.44,36.624,12.672,6.888,32.544,15.57,4.608,153.78,61.02,110.11,7.89,36.024,54.336,92.52,10.272,40.74,14.4,16.9,17.61,378.0,17.64,373.08,74.352,15.7,59.52,34.4,795.408,35.856,30.87,70.12,11.52,41.24,51.897,552.56,23.16,126.08,195.104,11.43,30.44,12.96,16.0,32.67,4.464,9.345,9.144,23.136,99.2,21.36,18.72,18.9,10.688,237.096,5.184,65.584,419.4,9.912,5.8,9.248,1036.624,9.14,52.76,14.88,34.24,261.74,87.84,14.94,3.576,147.184,13.568,609.98,5.48,31.12,6.54,12.78,18.464,2.48,25.9,29.9,12.96,10.272,1.556,4.448,4.96,71.92,6.08,23.36,12.176,362.92,9.248,62.04,239.456,13.12,29.36,214.9,15.92,15.14,5.76,8.952,8.856,21.728,71.88,35.88,17.04,931.176,29.7,70.88,114.288,36.624,11.98,0.898,34.74,12.96,25.92,22.32,158.28,497.94,533.94,167.94,20.736,26.46,49.12,15.0,194.7,2.84,221.96,2625.12,17.94,422.856,14.4,122.97,9.32,122.94,128.744,7.872,146.86,36.56,5.248,38.256,40.24,148.704,12.96,1297.368,264.32,25.92,22.96,19.44,9.54,5.81,5.76,6.642,18.54,679.96,7.44,39.48,850.5,325.632,16.52,335.72,12.53,34.58,59.52,57.96,68.04,17.904,11.976,4.544,19.872,118.16,19.56,25.92,106.96,76.776,53.9,10.43,99.2,15.92,30.4,119.1,40.08,59.94,154.9,152.94,195.64,14.94,186.732,3812.97,26.424,17.3,179.94,12.96,88.8,163.96,5.232,73.85,25.71,17.28,11.56,8.64,11.68,13.698,147.184,47.952,250.26,29.6,1.938,59.52,17.48,13.168,40.74,286.256,24.224,331.536,17.52,17.856,114.848,10.688,15.232,12.42,19.44,70.368,12.672,6.58,25.92,7.96,9.84,7.56,450.04,34.6,33.02,3.008,268.24,15.552,42.208,10.368,2.224,74.52,17.52,219.9,7.152,26.72,45.96,456.588,6.12,10.98,7.86,51.45,37.056,203.92,8.568,45.248,185.376,25.06,2.89,7.896,30.528,4.842,1.8,32.4,97.88,26.9,47.01,324.744,12.0,720.064,25.424,2.816,3.204,30.828,47.616,4.77,7.98,113.22,35.88,4535.976,11.84,592.74,111.672,8.64,9.912,59.52,50.352,13.12,12.6,6.12,45.96,58.05,71.28,154.9,18.936,12.672,5.04,8.448,20.388,9.96,320.64,25.584,235.95,39.96,18.528,81.96,272.736,18.496,166.44,13.38,24.448,6.16,8.56,97.82,31.104,11.176,5.04,13.344,10.32,47.32,32.4,19.89,106.32,13.92,82.4,6.24,447.84,272.048,1614.582,24.32,14.76,76.64,4.464,3.96,715.64,21.92,48.72,25.696,30.384,22.848,38.62,174.3,15.57,22.32,103.6,59.52,105.52,23.36,8.56,13.92,2518.29,540.57,221.056,134.8,39.582,44.688,31.744,40.98,3.168,18.84,129.552,5.984,66.96,6.24,14.9,15.8,81.36,20.232,389.056,20.736,41.472,33.36,10.368,2.724,3.762,10.272,5.104,16.448,81.92,15.12,7.872,8.32,25.2,37.59,14.97,39.936,4.896,9.612,57.68,25.76,93.36,541.24,106.32,126.624,663.92,3.29,30.816,83.9,11.76,4.992,87.92,1.044,78.8,772.68,25.92,47.952,0.984,4.608,37.68,41.91,572.58,295.056,393.25,2.214,16.272,706.86,5.97,41.376,17.94,2.655,892.35,728.82,41.36,61.4,24.448,12.96,116.82,276.784,454.56,12.736,6.47,13.748,15.224,165.98,134.272,146.544,131.904,203.88,14.301,718.64,28.08,10.496,39.92,77.58,269.36,5.76,109.9,26.2,12.96,118.25,4.28,8.26,104.79,175.44,55.584,11.648,20.64,33.29,204.95,31.504,30.672,2.934,670.752,11.96,13.12,535.41,36.84,87.71,11.264,284.08,18.496,14.73,186.54,471.9,3.52,49.12,20.16,10.68,32.48,20.04,61.96,16.032,293.52,117.488,11.952,264.18,2.88,41.904,23.92,156.512,128.34,63.312,7.824,62.82,19.44,7.38,38.88,6.048,98.352,8.96,71.96,15.552,10.43,72.784,67.15,2.624,1369.764,294.368,81.568,314.088,6.336,10.48,2.469,3.264,4.344,4.928,1.788,15.072,12.624,185.88,12.96,189.7,40.99,31.02,35.97,169.45,40.68,3.328,4.768,6.672,4.448,23.744,344.91,70.97,36.784,11.212,180.98,60.416,192.16,46.74,100.704,368.91,8.02,171.04,19.44,13.092,122.94,35.448,31.68,9.344,3.424,1085.42,43.056,3.762,34.86,432.456,675.06,65.232,59.904,31.104,47.96,211.248,5.552,2.952,10.332,18.368,26.55,11.784,7.98,180.96,32.4,41.86,77.56,37.17,137.352,3.488,22.288,16.032,1.752,20.992,11.21,45.04,15.624,8.74,44.75,61.68,2.864,94.192,143.7,6.48,11.21,17.94,51.8,299.52,7.7,23.92,32.4,61.44,73.36,59.2,6.48,26.388,64.2,8.0,87.08,31.744,5.432,372.144,27.36,20.56,83.92,4.984,29.74,87.36,56.16,64.384,64.784,15.552,223.888,10.896,13.36,11.808,16.24,77.55,76.12,17.184,11.76,901.95,310.688,7.68,10.744,232.4,22.68,105.52,28.91,174.95,110.528,27.86,51.84,106.32,147.92,104.28,66.96,17.9,18.432,10.944,4.36,129.3,6.048,6.848,8.552,45.584,136.96,10.584,84.416,2.043,43.44,2.22,1554.936,3.564,25.68,12.384,25.3,95.94,7.5,17.94,370.14,8.928,3.0,9.952,37.896,65.584,44.784,5.76,19.98,16.656,20.7,83.7,45.68,110.96,11.94,36.4,5.94,60.736,6.08,59.52,18.62,49.632,97.82,12.96,8.856,146.352,23.0,25.584,20.736,17.52,35.76,3.64,55.86,5.193,54.224,33.36,13.76,496.86,9.82,18.312,25.92,8.016,30.84,33.568,32.54,12.6,6.264,14.432,150.408,45.36,4.842,15.232,31.104,968.744,222.352,10.272,24.56,5.67,14.336,31.16,2.61,10.368,66.96,17.248,11.088,168.1,51.968,4.768,7.98,18.688,11.88,35.44,67.136,4.32,14.94,40.54,7.312,15.56,39.68,7.38,14.256,81.98,39.624,65.12,20.768,39.808,121.104,15.696,70.26,6.096,7.24,1369.764,9.48,174.95,826.0,12.39,760.98,67.86,31.504,5.04,39.879,704.76,27.396,5.7,7.3,48.94,22.66,0.836,30.96,127.904,49.5,16.52,55.36,17.12,118.16,18.368,50.352,28.032,8.608,2104.55,40.7,5.16,96.36,231.72,17.9,12.48,8.016,19.44,76.608,142.776,91.36,3.552,4.71,3.52,344.91,29.8,1.824,64.384,11.264,15.552,67.536,1.524,37.408,25.344,46.2,22.512,52.59,19.44,64.96,535.41,8.1,13.248,73.2,10.74,17.12,59.94,30.96,3050.376,93.248,17.712,4.86,6.258,37.68,51.84,5.4,1270.99,125.36,14.03,27.96,5.344,1.696,24.588,7.98,942.784,74.352,26.88,10.896,3.536,41.472,29.304,55.328,20.416,4.608,15.552,46.62,14.62,22.55,12.96,45.98,10.688,18.9,102.72,33.282,14.76,37.52,207.144,13.9,44.1,13.12,16.56,38.88,335.52,4.086,55.984,10.688,8.856,6.912,26.72,33.488,10.56,386.34,33.44,1217.568,15.51,14.28,12.72,15.75,70.95,65.568,67.15,7.236,4.824,91.36,130.112,2.892,9.392,123.92,55.6,21.312,5083.96,31.05,209.6,111.04,38.88,36.27,15.92,541.24,18.264,21.99,185.376,58.924,34.05,192.72,14.352,6.528,2.862,20.856,276.28,1927.59,17.94,37.52,25.06,18.496,10.368,30.53,75.06,182.72,21.93,3.564,4.928,856.656,13.184,48.784,76.64,18.528,4.572,1.728,99.2,12.672,204.85,16.4,92.96,7.632,4.158,164.88,10.95,19.44,12.3,13.97,26.16,23.128,59.24,8.56,67.84,18.688,1.248,39.128,19.728,36.288,78.304,6.104,5.76,1.72,8.952,2.334,1.728,95.97,9.344,91.36,152.24,56.704,274.064,8.226,15.24,23.84,92.52,37.76,7.38,3.816,26.16,13.9,19.4,13.488,11.416,17.64,17.04,166.92,13.904,314.6,1793.98,2.992,25.92,22.58,9892.74,61.44,5.984,29.95,44.4,66.03,10.86,3.36,27.936,21.96,89.696,50.12,36.48,322.192,2.946,19.136,65.94,24.56,16.56,828.84,7.218,27.2,5.8,19.44,5.56,146.73,29.9,276.784,93.032,295.4,348.56,15.552,403.68,28.91,32.4,10.368,23.64,84.784,32.06,177.648,22.368,32.368,36.4,315.2,15.18,21.696,22.05,99.9,90.86,7.78,78.759,8.28,50.136,88.074,18.656,125.13,129.552,51.984,10.272,18.336,8.288,64.9,2.808,8.04,1564.29,138.56,65.52,14.576,16.464,40.08,101.96,259.74,4.338,11.88,143.128,104.85,241.44,319.76,45.68,47.9,1112.94,22.92,19.44,31.086,23.65,11.952,31.128,24.56,1473.1,3.488,663.072,99.588,49.568,29.372,47.992,39.96,41.04,315.98,28.752,114.95,23.04,15.48,51.84,16.06,7.28,5.4,19.44,20.664,32.4,13.762,15.28,44.688,11.07,25.92,7.536,1.408,4.144,52.752,381.36,6.72,15.192,58.32,946.764,23.67,18.69,7.312,56.784,5.607,6.576,14.304,5.56,32.4,9.84,2.78,3.64,115.84,107.648,12.96,14.94,9.64,51.9,64.96,25.5,269.91,11.673,64.848,20.04,32.088,4305.552,1577.94,255.85,184.704,15.936,8.001,67.9,72.224,11.696,6.888,48.91,9.84,34.5,0.556,43.8,13.872,74.352,4.312,7.872,15.552,1.476,8.4,6.56,14.88,25.44,146.688,4.928,63.488,418.32,123.858,769.184,13.36,211.04,72.96,25.98,45.28,15.56,195.68,14.2,4.608,17.9,2.992,20.064,146.73,18.75,51.184,5.715,13.216,11.424,19.44,3.64,18.54,43.12,428.68,30.576,13.02,359.32,11.56,68.48,1676.88,37.94,8.04,61.38,32.56,7.072,45.528,424.272,1.344,83.92,25.92,79.92,12.28,542.94,2.04,228.92,75.18,30.98,14.112,31.12,1591.02,7.92,8.448,3.273,104.696,6.816,17.94,10.368,11.952,15.224,21.984,40.7,35.4,5.904,36.288,10.272,2.946,12.96,22.24,14.62,48.36,16.256,12.39,35.88,12.32,8.608,136.26,186.15,81.792,47.19,12.06,144.6,34.44,19.456,17.28,164.688,12.96,110.96,11.424,5.904,173.488,3.564,13.16,3.828,304.99,18.16,19.68,30.816,6.54,197.05,2022.272,9.12,38.16,11.88,8.67,4.41,167.94,67.8,32.13,2.88,111.96,26.7,40.2,13.89,689.82,38.34,9.264,91.056,54.208,6.912,435.504,81.08,93.02,15.552,32.592,83.92,172.752,9.296,12.768,52.76,55.616,40.67,33.48,9.728,16.9,39.96,35.52,6.23,56.704,75.88,6.848,4.626,453.6,13.848,577.584,3.008,184.66,195.64,6.0,11.76,12.645,4.032,6.732,33.568,15.84,24.424,17.12,70.98,29.95,9.648,53.72,31.008,61.12,195.136,121.536,17.472,104.58,8.56,11.56,25.86,276.784,35.208,41.472,239.5,34.2,197.72,194.352,21.6,11.07,27.72,11.68,22.98,2033.584,5.76,86.352,16.704,32.896,21.392,9.248,14.67,37.408,3.438,7.152,90.64,79.45,11.56,20.65,204.9,35.168,72.588,221.16,37.17,64.96,4.938,3.984,13.04,18.75,193.95,12.96,18.088,71.97,14.94,64.68,7.968,26.632,64.02,6.99,6.84,323.1,8.64,38.88,12.96,35.1,11.646,32.4,7.04,470.36,31.08,7.3,73.536,491.55,22.83,54.32,3.62,11.54,849.95,11.01,39.624,12.39,340.92,13.194,1080.096,57.584,37.312,221.024,296.712,12.224,286.86,4.36,10.048,807.75,34.24,20.12,896.99,5.88,310.12,70.464,19.68,140.67,62.65,9.45,268.576,5.344,27.72,2.496,8.26,17.76,332.94,17.64,4.3,81.96,238.62,9.84,7.78,54.9,50.04,10.528,42.384,123.92,2177.584,16.784,8.88,4.836,673.568,274.8,62.18,48.81,56.064,4.832,18.24,3.798,10.368,97.3,3.328,28.752,2.112,25.92,120.768,25.92,34.65,204.95,79.95,173.488,516.96,4.448,9.0,42.24,18.264,152.91,92.94,17.856,46.44,129.3,11.568,3.984,16.392,10.9,29.6,4.98,5.76,15.936,132.696,43.1,147.92,39.68,90.48,13.08,24.56,43.68,67.4,2.52,18.76,11.34,1085.42,13.11,3.132,22.428,290.336,19.152,6.48,63.968,6.36,848.544,8.7,85.056,14.04,11.16,5.94,9.96,8.94,20.62,62.016,237.096,6.672,25.032,209.7,115.36,31.05,12.96,94.85,13.48,39.98,22.386,5.742,49.848,23.99,1087.936,83.92,9.872,29.96,33.528,36.744,102.93,35.52,11.2,998.82,51.15,40.74,3.424,2405.2,17.38,55.264,6.48,34.248,46.35,223.92,7.3,9.344,65.584,10.368,4.98,109.69,40.2,735.98,22.75,119.56,140.75,99.568,18.69,13.36,13.86,13.376,437.472,16.52,35.56,31.5,55.6,29.6,243.16],\"xaxis\":\"x\",\"y\":[6.8714,2.5164,1.9656,5.7825,34.47,5.4432,132.5922,-123.858,-3.816,13.3176,9.99,2.4824,7.384,5.0596,15.6884,4.2224,-7.0532,1.1016,9.7092,-5.715,3.546,9.9468,35.415,3.894,9.5616,8.2062,8.4784,17.9634,35.3346,6.2566,52.14,15.552,6.9888,16.362,0.84,9.3612,68.9631,111.3024,35.6636,1.731,8.763,-18.196,-1.9344,2.724,56.2032,8.0352,4.172,6.2031,62.8075,-48.9549,2.9568,13.8572,6.633,3.1104,6.2208,16.1504,-3.788,17.9592,22.5852,22.6184,-3.0396,11.7208,-25.8174,1.0738,22.788,13.3476,14.5348,1.652,7.4925,44.0316,-115.7156,13.878,63.4368,51.759,-1.8308,30.499,29.364,6.9732,9.6192,16.6568,3.456,1.9698,26.6616,18.4464,2.3814,5.1042,68.976,218.2518,20.1579,80.6285,17.766,26.271,48.5392,21.0288,1.7901,6.8714,2.691,13.348,9.688,2.7324,-58.6347,6.8136,-453.849,9.8418,53.2608,-131.12,6.552,-243.16,-3.7715,1.4104,1.8612,3.4368,3.7224,6.255,24.8832,6.567,6.7116,1.2038,1.5876,12.0276,-2.2586,5.8203,6.795,0.2925,-178.9668,5.8744,7.4824,16.2099,3.6796,8.88,26.0568,1.8148,8.2302,-13.8432,2.7168,0.968,0.2198,-12.432,-3.552,4.752,9.396,1.2038,41.68,23.94,496.0725,12.4416,3.5767,22.5624,162.864,-19.5624,4.044,6.6465,6.132,-4.466,4.7304,0.3024,-7.4416,21.591,210.4936,4.095,4.0572,1.5548,4.0768,5.9072,5.9712,8.694,-3.432,47.844,10.8864,-169.372,24.316,-204.3145,6.6836,6.2424,-62.88,9.2988,15.552,10.8248,27.3168,6.5688,2.8536,20.9208,83.868,2.0049,2.0358,5.4432,8.6744,13.071,3.58,81.744,3.389,33.831,-27.6936,-13.816,-3.4272,1.6038,4.49,2.7956,2.3312,1.116,-407.976,10.0724,-2.22,3.0996,11.5432,4.1472,11.5432,1.0668,23.0864,1415.4296,3.7996,6.9864,15.824,11.325,168.4384,9.936,9.936,1.4456,8.4784,10.44,0.1472,29.3412,9.396,4.6746,-5.712,0.924,30.98,-20.3322,2.6811,-18.8728,25.48,17.3376,0.4264,7.884,-20.5623,25.5798,9.4924,6.2208,21.036,3.5952,-32.784,3.4684,9.768,9.6957,13.3035,4.6464,13.608,27.4302,65.7342,25.8984,2.8322,2.7028,7.015,8.502,138.2016,0.5004,-145.3508,-0.7748,207.147,-3.6892,113.6394,11.5536,23.3928,20.5755,42.0256,10.584,15.4752,9.7164,71.2476,7.9248,2.8536,66.5408,3.348,36.372,18.6006,-20.889,-34.758,5.8704,-7.9002,26.6304,3.4092,24.9804,28.819,45.528,6.615,84.51,1.6688,14.8,6.1572,8.983,5.0922,51.6558,40.3704,-15.08,-11.9616,-1.9008,11.8871,5.373,0.7398,2.1684,11.685,3177.475,0.7152,1.7901,1.7052,13.8915,5.382,56.301,-25.9136,-21.168,10.434,-7.2672,-149.9058,19.692,11.375,1.4672,-68.1856,3.36,41.2938,-145.5246,13.932,6.4128,15.642,-17.046,-1.744,2.5707,310.9872,3.4048,9.936,15.552,27.3182,1.3,0.0,1.2006,45.0016,27.3672,9.3312,34.776,6.4216,11.2266,2.3814,78.7528,9.7608,2.19,8.714,1.5456,3.5046,-4.7481,144.5157,7.2576,-12.8961,3.6288,1.168,22.0748,1.0178,0.73,17.847,-5.5338,-31.6712,47.8152,-2.6256,2.3814,5.6956,2.64,-2.7968,33.57,-14.773,178.901,130.87,46.9278,28.1764,5.1435,6.0858,-51.7191,85.5297,-13.8468,12.2328,5.0128,85.904,12.6,3.1752,56.511,9.8625,3.0144,178.318,45.9754,8.5164,-2.6544,45.3222,-3.462,124.929,-135.765,-4.2222,18.398,5.2626,2.079,28.7064,11.36,1.7115,16.5888,17.505,-7.392,-320.2395,4.6644,2.5984,18.522,14.651,6.8714,9.3312,10.3152,16.032,17.3488,17.76,62.8075,31.7512,0.8088,-13.6312,-3.4272,3.6288,18.7695,15.768,26.6304,8.8624,109.7226,6.972,19.4376,73.41,80.0199,5.1282,6.3684,84.0512,10.089,3.024,9.7176,33.6474,9.4284,6.552,4.2717,-64.7748,-5.487,-10.948,1.1466,1.6762,6.2064,7.1864,26.703,22.792,1.4112,6.8768,4.2666,10.224,27.9936,5.6994,5.3392,25.47,2.7072,34.3548,9.14,16.175,3.4695,10.881,3.6855,28.1718,11.7208,1.926,-22.449,87.7443,5.8914,69.1008,4.1634,21.0896,4.5816,10.6428,9.8784,63.7392,6.2208,10.3488,99.4896,6.2208,4.3176,3.2256,62.0368,24.8832,1.8704,14.5152,-2.4288,-22.7964,117.432,4.8118,16.8,10.7996,7.4872,50.5848,2.6412,6.5164,-79.3352,3.2616,16.3215,3.3408,11.7,8.7672,3.2944,6.8714,1.3416,18.6624,50.1876,9.7176,18.7812,26.598,5.7672,3.5767,3.58,0.1472,10.626,0.5904,1.3583,5.1792,-35.928,-760.98,17.22,5.2256,37.2204,67.256,-4.1244,23.1093,8.3268,5.9312,4.5318,1.6752,18.4534,16.9932,18.6006,2.043,5.4128,42.0714,24.5028,5.0856,51.8,22.5408,-6.5296,3.393,-32.088,9.6192,2.5984,6.2208,19.791,81.0474,-14.5656,50.4063,-0.812,6.8768,113.848,294.5488,5.4432,12.936,9.5172,2.5536,21.3408,5.0286,4.1148,15.2064,-21.7932,5.4432,33.5772,6.2208,34.9648,8.0464,2.2098,15.552,140.5482,62.91,5.4432,7.92,2.7168,43.45,-3.168,5.6376,3.0576,10.94,1.6704,4.8118,9.7119,6.2208,91.968,4.2336,0.0,-13.6312,10.1493,25.5798,-0.792,-2.6256,16.6698,0.8056,2.5896,9.4392,-1.8904,5.2113,5.484,4.9104,69.705,1276.4871,4.9082,9.8901,11.4452,9.3312,92.0835,40.3536,2.478,-3.5208,20.585,4.0687,15.552,156.429,8.8686,2.1728,4.2804,5.4432,20.5764,83.284,7.056,5.1012,-1.9272,-10.5798,13.734,2.6964,1.7955,2.9835,-146.16,2.436,4.3524,27.7911,3.2944,7.2268,22.9488,1.6008,4.5216,-2.2134,1.2792,0.2353,-46.225,-0.3488,-18.4624,5.0596,9.9468,3.024,-4.598,-3.3488,10.6288,33.5888,8.4888,2.322,9.3624,12.1348,105.2468,3.1104,1.512,33.642,14.161,103.2284,30.4682,-28.6272,2.0416,2.5056,-4.7145,-4.9878,11.2308,-16.3644,-17.248,21.888,13.8267,3.6288,-2.0264,16.3352,3.024,137.151,2.0492,7.4872,6.6584,1.7901,10.9698,2.6416,50.94,20.0851,28.755,9.3312,-23.364,2.646,7.4571,129.384,10.5504,8.991,5.5566,8.69,2.8776,3.1104,16.7886,107.346,2.628,5.8696,1.638,53.9217,0.0,29.2857,90.735,5.77,15.6426,40.872,9.1785,21.06,0.0,9.3312,8.2992,10.7424,5.5755,-7.764,16.2864,8.0997,5.4332,1.0904,7.3386,4.2336,9.7176,12.4416,53.3466,22.1184,109.7208,11.3288,5.4432,2.1588,-1850.9464,-1.4352,0.0,-33.804,3.363,3.2004,6.8943,10.465,2.8836,-2.3276,-3.6024,1.5768,44.955,0.6048,19.8744,3.6588,11.6316,7.4872,1.7608,0.7228,35.982,-29.94,10.6522,10.7912,124.485,3.5752,23.8581,17.469,511.368,1.376,0.5904,-20.4468,-47.2542,-14.0928,6.3336,1.7739,41.4294,5.616,-12.792,-126.8592,-67.272,3.6288,5.2026,5.397,4.914,-13.363,88.074,-4.851,1.043,4.4892,4.1148,7.4952,4.4604,15.552,9.2232,52.532,1.4784,84.5728,4.5188,6.475,7.0096,22.4448,6.4206,5.6628,9.7164,1.7343,56.1752,18.6624,28.965,-3.6288,-4.1832,35.694,19.656,3.5152,12.4902,-30.555,5.5566,26.376,2.401,-1.728,-13.93,52.776,0.0,36.0192,-12.528,-21.1596,14.346,6.003,36.5742,23.59,5.7072,25.098,17.2224,7.85,8.4528,-44.1552,-35.178,36.4044,9.2442,7.4,-25.592,1.5795,14.8,5.5536,305.13,219.4416,4.264,7.945,4.7792,1.6196,170.9316,0.189,78.9412,60.2553,1.5444,160.9139,1.5522,6.0256,5.6644,3.1104,118.3413,146.79,-2.1896,19.6248,8.88,108.7996,31.2736,-48.392,14.4096,-59.0571,-1.4988,-86.3664,3.2832,7.08,9.3125,196.6132,74.8524,1.9629,15.594,10.8864,0.5904,13.365,17.982,11.46,6.3296,17.428,-39.1248,-1.7514,-1.35,34.7802,45.84,16.875,41.952,23.49,5.1792,19.3984,1.8032,19.5238,6.2208,0.5992,4.0749,5.0112,6.4206,13.2986,5.8653,12.4416,19.8254,8.8062,1.7024,1.07,1.316,1.764,28.332,2.8812,11.214,3.185,-0.2098,3.772,6.583,5.8203,69.705,-47.2542,3.36,5.5875,15.525,111.824,11.8206,12.504,-33.139,-11.4648,27.248,4.3134,7.7343,2.065,6.723,61.96,-58.6872,9.7092,0.364,0.5236,3.431,23.235,0.8058,2.7222,0.0,0.4074,3.0342,6.512,116.3904,1.7004,29.0136,16.0928,117.432,-40.6504,2.3674,-24.7086,54.8604,10.3488,57.385,1.5312,3.504,9.92,12.8151,9.072,0.7228,4.1151,17.745,-13.6152,60.2553,3.7236,10.4832,2.3952,2.4402,49.5552,2.9372,456.588,68.976,5.0055,2.9592,5.8604,2.9145,6.5856,5.28,0.5004,8.6744,1.668,45.2226,1.5288,21.228,1.971,10.224,3.2676,290.0058,1.8,19.872,12.5118,8.922,3.0774,385.3752,7.8192,141.2775,-34.38,88.0299,3.7408,3.6288,1.57,5.4432,-167.27,9.3312,4.4344,5.842,3.945,349.3392,100.656,-0.7128,-100.92,53.8608,6.4128,45.8136,1.4208,2.9568,9.594,27.735,5.214,-9.264,3.668,0.8688,23.235,1.5795,96.3438,-10.2114,26.07,8.7906,-14.5764,9.1056,12.41,-0.99,-5.7638,3.6288,15.387,5.096,7.0854,31.0184,10.3488,4.2804,4.6812,5.8045,-7.1148,-9.288,20.6142,3.71,6.567,510.636,5.0064,2.7956,70.441,0.0,14.92,43.4352,0.444,7.7728,3.6018,31.2832,3.7408,-33.804,17.352,6.534,0.3822,8.4888,9.6048,7.2576,-2.5128,4.9432,-8.2368,3.21,3.6288,0.546,151.0974,53.8608,3.852,130.7581,-66.5088,4.884,9.7038,10.518,1.8998,4.8118,-5.8604,-39.4565,-1.3952,-20.1663,-24.496,9.387,129.3786,1.4952,1.512,180.7659,6.615,20.84,3.0268,59.0112,107.7216,15.5288,24.47,12.5928,6.0416,26.985,16.5984,11.565,3.6296,17.5344,-4.2987,-1049.3406,21.7728,17.8152,3.4686,3.0558,4.5816,-166.32,-225.5568,1.8312,1.8144,-25.056,18.6624,12.7008,6.206,361.2994,5.9211,10.2245,29.364,13.5324,19.2384,2.245,9.7328,11.88,49.105,45.9754,38.178,4.7916,-15.99,-53.072,60.5528,4.9632,10.8864,-17.6076,3.1104,25.792,5.8812,-48.1194,14.67,67.608,78.6828,2.1,2.3976,-331.96,13.7016,4.752,1.2506,2.934,7.745,10.395,152.495,843.1706,10.8054,-336.784,19.188,1.8144,9.0912,-2.1648,-21.6144,92.4399,1.6704,4.8525,3.8844,3.3785,302.373,1.5008,3.5712,41.823,31.0688,3.1104,1.8604,114.9385,-13.312,-1.2558,-6.1152,17.76,2.401,-5.184,3.6288,6.468,3.7642,8.9208,9.072,2.214,7.704,7.776,14.6157,6.5808,11.703,17.1774,7.254,20.155,79.8912,0.6408,-8.6768,0.4706,11.0388,0.5904,4.2976,1.8048,93.0552,12.3096,7.9212,12.3234,8.4966,-3.7996,26.64,0.7348,-2.1195,-766.012,7.2,14.2324,9.594,-17.046,11.5752,0.4752,29.1424,7.78,4.6344,6.0168,117.0104,6.3684,6.8714,8.6736,19.6686,481.869,7.668,23.7744,77.714,11.5584,23.4976,6.9231,25.176,30.52,5.1465,3.2872,0.8162,3.8822,13.9392,6.8714,4.3326,-3.3264,-6.104,20.1264,7.7728,5.4432,45.5392,26.6304,-2.0016,-4.752,0.834,5.2164,20.878,5.3892,30.4278,6.03,12.1692,3.717,-1.294,2.5592,19.95,26.3494,45.528,37.1812,16.848,8.88,56.1752,8.6715,38.988,68.9631,1.4652,2.6496,13.0095,0.3864,1.476,240.5648,25.7488,2.1684,2.355,-15.9102,9.3564,106.5216,5.4432,-1.4016,9.3906,124.485,1.26,8.027,8.019,12.6468,73.5448,2.376,302.373,-1.9656,13.3056,35.3295,7.2576,9.3184,11.9412,9.039,-122.3928,-2.3814,-5.8496,73.41,50.4711,4.4564,9.906,5.4236,-27.9312,-50.8704,7.0218,5.133,10.74,0.0,9.7164,2.0088,-14.9736,10.0282,150.984,3.0044,1.1904,-11.0005,1.752,6.9132,-13.896,6.1792,21.0128,28.8576,13.0375,32.936,30.8966,22.2,18.5274,35.04,17.0268,51.8238,22.869,55.764,12.285,0.4116,3.9609,5.4432,1.7004,2.1336,8.445,-46.3946,7.5992,21.024,29.7408,0.504,20.8494,60.49,0.9856,3.6192,4.1944,4.672,17.8152,0.4706,252.588,14.8344,14.3075,11.4516,8.2688,12.432,381.297,13.3476,15.2712,1.4456,3.5178,2.2412,6.4128,13.0375,4.176,157.0176,9.3312,68.976,14.2758,15.246,8.7138,2.4,2.376,3.8822,2.6892,6.3504,3.1104,2.3571,4.1965,47.9376,0.0,22.1536,16.3863,5.2026,12.264,1.311,4.756,6.2208,6.2192,6.36,5.6448,49.9704,9.8658,7.7004,6.603,1.984,-48.5082,6.8714,112.4064,20.21,30.415,56.3528,44.5278,27.8944,38.15,167.808,29.952,6.2208,5.2026,2.9372,20.85,133.152,2.8322,11.2476,5.1042,123.7691,12.4416,22.5008,1.742,10.465,-29.3436,137.2896,24.528,-2.1624,3.1584,22.5732,5.3214,22.2516,5.04,46.3185,16.3842,75.9696,-10.054,44.8896,20.7,11.3288,0.307,0.8225,7.6986,0.1134,-58.8616,1.148,15.065,1.7138,15.49,45.7704,4.4856,62.748,3.6156,8.8624,3.1104,20.5114,10.3168,16.65,2.8224,4.3368,12.5762,14.677,23.55,13.348,7.986,1.917,2.632,5.8604,29.952,3.178,-48.9549,3.2616,-10.4184,12.7764,-2.1504,-13.6488,27.4856,16.98,322.1829,12.5328,172.3384,12.9024,8.2156,5.3898,9.828,9.0,3.0861,27.9344,3.4357,22.458,12.0978,25.4384,13.4865,34.4232,29.372,5.1184,1.512,4.0995,165.7176,15.552,4.5657,6.4864,41.2237,429.5772,1.4742,0.8388,-32.6366,0.0,32.396,1.4456,22.2352,2.6568,9.6192,10.764,41.5104,18.6093,58.4962,3.3544,12.6927,4.4312,-3.5712,-16.38,3.4686,15.0416,327.506,-85.2384,55.896,-33.484,19.824,204.0714,9.8784,14.4354,251.8911,6.2208,55.936,5.256,-12.075,-16.884,2.8884,3.6288,52.532,8.2616,4.5612,-337.806,14.3952,6.9372,2.0592,0.2592,105.6456,1.764,10.7604,12.4416,0.5244,7.56,61.389,3.3408,3.6288,9.1314,7.85,133.8624,3.6432,0.91,7.9527,156.751,5.3392,290.3016,0.0,9.3312,8.34,2.1476,67.1139,1.0166,157.3632,81.432,411.7365,95.4612,7.3206,35.3626,36.813,7.0218,-0.8558,4.9271,0.882,1.9926,5.1012,5.715,2.7166,38.025,1.0842,10.4496,8.6715,12.4416,28.755,-7.48,7.0218,-5.784,61.389,9.3296,4.2666,16.6764,67.4424,20.1207,6.2208,3.5022,4.2717,80.7912,8.9544,65.435,7.056,5.1042,35.982,4.2048,1.2948,-2.0108,9.5688,29.6688,79.8912,12.838,238.653,79.8912,0.7665,4.3584,-8.1312,-16.776,7.056,42.0744,101.5794,29.985,-2.4564,-6.567,7.065,1.64,-4.455,5.6115,10.6232,7.4816,1.002,5.9175,56.9772,4.3368,9.3312,92.2368,-8.9796,22.2444,5.56,33.5772,2.7222,5.096,12.18,6.7915,31.0856,-1.3128,1.7901,2.1762,23.0864,19.8716,9.5448,17.52,-6.0324,110.0528,2.224,419.8185,5.8604,125.1432,23.232,36.917,-7.5768,-23.8855,0.6696,3.8682,312.676,-80.48,14.17,24.2256,3.6288,1.5444,4.5738,29.6,9.68,2.528,1.4406,7.5284,10.881,3.1104,6.5569,4.1416,18.7812,70.008,1.773,5.778,11.556,0.471,6.2208,84.5154,51.57,315.7404,2.352,0.558,-2.974,10.56,-4.3584,1.1016,37.9176,6.291,29.364,-94.333,4.1769,3.4368,2.8314,9.3312,39.52,31.2858,83.2097,-32.3388,14.2632,-1143.891,1264.7559,-5.6994,-12.9568,13.2352,10.4754,9.5081,140.5957,7.2576,8.4888,22.6233,15.4752,9.2568,-3.312,-2.436,23.235,1.7466,24.3384,2.9547,24.5998,1.3514,12.72,8.0997,-13.7175,5.8914,1.7901,6.2208,15.552,10.7325,8.6112,5.6644,11.88,20.853,6.048,84.9436,8.381,12.1758,80.6312,3.852,14.148,6.8724,0.2244,24.196,19.458,10.5,14.3376,5.652,0.372,2.37,6.465,-5.823,3.04,8.955,2.5056,-1306.5504,2.2302,2.73,16.1505,15.3426,116.5976,89.159,19.4376,76.2525,22.736,20.539,8.381,-1.9275,7.2268,21.5824,9.3564,19.2472,8.208,3.0016,43.7136,10.8864,-10.6176,-51.8272,5.184,5.3784,5.8708,7.2576,3.8016,4.6746,9.2928,152.118,6.496,8.983,10.9368,16.5888,421.0824,18.684,6.291,8.4024,3.8864,-7.2048,8.93,10.43,62.244,45.84,253.372,11.1384,27.4365,-9.223,-15.8356,-6.5736,7.2576,-172.7328,0.2016,41.823,28.65,17.6418,8.073,2.6936,7.5371,7.2576,16.6796,15.764,15.552,6.2208,10.8682,3.614,12.1348,13.4925,66.0736,18.2112,2.4288,4.3008,15.12,9.744,25.424,21.7728,138.3552,82.992,792.2691,26.565,28.615,38.5722,10.5072,6.2208,28.0032,1.3257,-417.0936,-32.48,219.4514,79.8912,2.772,3.6288,2.256,-13.5548,11.592,3.5022,34.758,-9.5018,11.556,5.6956,26.1156,10.0878,4.8588,3.7436,25.4016,47.7306,63.873,16.9932,11.206,0.1588,7.596,-62.88,-3.14,51.8312,21.1428,23.0864,4.4352,-45.84,-15.5904,4.4312,90.8292,-336.6272,0.9282,10.368,15.552,14.904,331.191,33.7212,5.9185,-8.029,7.3132,36.8245,15.4752,17.334,9.4815,19.435,11.2236,-4.752,1.5066,50.9208,9.0048,68.823,4.4344,473.6106,157.8702,-44.2782,26.9526,1.8,7.5864,-3.168,-9.555,-6.0192,10.8864,0.2334,-2.244,2.338,5.7768,28.008,18.3264,5.022,-18.5262,58.0272,0.1692,6.534,35.3346,314.2719,45.528,23.004,3.4104,1.46,4.6284,-3.264,18.767,-44.2782,-4.7784,-7.7292,1.3944,12.5832,15.9516,14.677,-22.8956,38.988,5.2896,11.6795,2.205,6.03,1.6704,-2.0622,-4.704,7.2576,352.296,72.432,3.528,10.5714,67.9833,2.6814,9.12,9.1674,7.5768,6.3504,6.6584,83.281,1.6762,-46.8776,1.9024,3.4086,9.855,3.504,0.1191,-52.632,-12.796,13.7016,-40.7976,-16.3183,-1.4256,4.7067,-3.6576,8.8704,78.435,40.1702,4.8519,48.9645,4.2336,3.8073,9.072,20.682,-1480.0335,-1.9744,6.756,7.8735,95.0968,4.9648,42.4647,54.9504,24.84,60.2553,36.693,5.256,13.92,13.208,-25.648,5.6956,9.6048,1.8288,26.4654,-5.2932,14.3068,9.3312,18.94,3.6288,4.485,23.1168,9.0384,48.288,6.9795,-22.0416,3.21,0.9774,8.7906,65.3256,5.9175,-33.636,2.14,-11.0848,15.012,13.3176,78.1954,12.4416,301.968,9.6975,1.4742,3.894,-5.2416,3.6288,30.2634,88.3948,3.1752,37.9848,15.808,0.6516,3.8822,3.267,0.73,78.672,84.0512,7.384,6.858,11.1024,11.223,8.6391,28.8576,8.3754,5.4288,-22.62,4.0644,1.5602,49.014,8.37,626.185,-16.9568,5.083,33.3136,1.0904,8.8608,24.3595,4.1916,1.9698,27.0112,0.8385,5.5674,-2.7552,-412.6154,74.5654,1.651,16.1096,125.469,16.1838,3.5256,69.92,2.4824,21.7728,3.564,-29.4368,6.0025,48.9942,3.7692,136.6176,5.334,30.2112,7.776,3.6288,117.0104,-5.088,5.4432,4.0768,-127.372,5.55,0.864,9.63,64.0728,4.3308,19.8254,22.0032,6.206,15.372,3.8048,3.5475,3.6022,0.4074,14.985,4.536,9.499,21.7728,0.3674,10.3936,-74.7456,4.2392,10.518,14.4,15.9348,-5.9808,85.904,21.7728,3.6714,7.6272,0.6192,-20.448,-3.0576,3.744,6.2208,0.0792,757.4112,1.8144,5.4896,26.2,4.8924,1.5548,2.3177,0.3156,32.095,50.328,1.521,1.2006,1.6688,33.3124,1.4112,375.4296,0.365,120.9468,-17.9424,3.752,0.4264,5.4432,3.89,133.152,13.4964,47.061,2.5056,2.0322,-37.7332,5.5512,8.7384,-7.3255,152.495,65.355,4.5873,3.4368,1.0208,1.395,643.9825,9.801,23.9778,19.4656,45.8064,3.3408,32.4684,7.5087,29.302,1.6762,-46.592,152.495,12.298,1.1564,50.414,3.1752,4.5008,-2.0622,18.5976,12.492,15.5112,7.0218,166.0698,-21.294,2.9322,4.225,11.5432,9.0636,-4.5192,-2.6025,3.744,3.6288,2.9304,3.2161,-100.92,16.1838,5.056,5.6994,42.045,32.5376,70.5456,21.4032,28.4809,3.2472,-2.245,7.92,15.921,116.48,32.6046,14.2758,5.955,6.9384,8.8044,15.552,6.5538,-87.1488,100.4255,21.0128,1.1775,0.1512,12.358,6.939,2.232,-459.9875,2.205,3.51,93.6988,2.79,6.8724,7.9724,0.0,31.8892,12.1348,15.9446,23.3954,7.5992,28.8576,17.3376,3.792,34.2925,96.576,8.236,56.9772,294.5488,17.745,15.5092,8.3328,5.4896,5.07,42.048,4.1748,-3.0396,0.504,0.6696,-19.5624,2.3328,3.6288,18.2112,3.339,-63.0056,-2.61,282.2092,1.0269,7.0173,9.0055,67.86,-3.3879,2.2044,12.5118,14.3075,12.0252,88.074,33.7212,1.4364,13.128,14.682,1.323,-4.0158,-3.7296,11.7782,6.4428,4.995,4.3254,8.9206,6.156,257.712,4.536,10.744,18.4604,9.3812,0.8288,6.8904,2.245,0.0628,14.4222,38.178,0.0,318.3016,40.4012,-53.7088,0.0,-6.237,0.8988,14.5638,3.9498,2.7664,5.6644,5.664,7.6284,-63.1092,3.21,-26.733,3.7224,3.9072,2.99,-19.5624,0.3822,-20.6176,2.6536,107.082,-16.467,1.2432,5.4432,0.8288,3.6288,75.6952,18.396,21.1428,-6.952,9.3312,5.2312,-6.1248,16.6536,30.7008,7.92,9.352,1.2112,16.2204,46.3185,1.8792,16.3737,1.6416,2.726,37.0,9.3444,9.8658,1.0287,9.072,16.7034,8.4966,15.5344,-0.6624,1.0348,15.8756,6.6312,6.0368,5.842,23.808,-8.6457,0.3336,17.6088,3.4668,0.8856,0.8856,22.8904,-32.508,-9.1648,13.2,24.219,20.6336,6.74,9.3125,14.9814,4.1124,15.8256,24.47,621.9744,10.4875,-64.4274,4.6548,10.794,4.494,11.895,0.4984,12.4416,0.5992,2.64,3.9296,4.9648,152.0232,4.2336,94.962,9.63,48.94,6.7236,10.0116,2.87,-22.512,66.3264,14.651,-14.3313,1.551,9.504,4.6644,126.3942,-13.734,-62.3792,39.6312,1.4784,18.018,6.8016,-337.806,-8.0775,7.8225,1.7514,0.3492,1.41,0.8988,15.5376,-21.681,-16.5396,3.3088,0.2016,56.9772,22.518,-3.5154,-320.2395,3.21,-6.0237,7.0713,3.9771,9.936,3.285,4.6644,-55.256,15.552,16.196,4630.4755,6.47,-5.2072,-1.11,47.5072,4.644,-6.8992,0.2792,8.4966,0.9512,2.9889,381.2375,0.99,9.3312,54.5832,29.7024,16.848,17.6673,9.4366,9.6957,18.0378,7.5762,21.2512,-23.892,4.0338,5.6376,21.6,42.045,204.7682,12.53,-10.386,2.337,8.694,26.4132,5.733,2.3814,-15.1311,1.2005,-58.3056,9.8685,5.4432,1.6524,-27.9312,-1.9656,-19.9824,5.1012,3.7236,5.8708,7.5992,315.8118,14.7546,9.3312,8.2992,10.8864,17.8152,0.9772,6.532,6.2208,28.0032,15.764,60.2553,21.7845,5.4288,-6.36,7.668,10.3473,-10.6547,-3.2934,0.6696,4.4955,6.6,15.0742,10.3071,93.7688,-14.5536,3.4357,18.9888,84.9436,18.715,4.7752,15.6768,4.995,4.239,1.9024,11.5432,64.2,29.2716,4.4352,18.2112,6.6294,1.0296,-3.2406,21.5824,10.3408,-17.6607,5.6376,11.2752,-10.4214,4.1151,7.0227,-18.8364,0.7056,5.949,100.656,11.8584,6.5754,13.0707,0.738,40.5168,2.2712,20.5764,-145.176,-6.8334,23.99,6.003,24.144,-7.782,-6.237,-20.1408,7.5371,1.1225,-121.58,61.389,11.891,5.2256,1.7343,496.7865,3.9474,-12.9568,-49.92,4.9308,2.79,68.04,0.5432,15.49,12.1032,2.943,1.0269,19.4194,2.8101,11.7488,8.226,9.3312,4.195,5.24,27.735,9.1269,78.8942,7.9896,-11.9616,-1.6764,0.897,2.3025,8.28,19.3185,5.4432,1.12,8.022,9.2178,2.772,53.4954,1.8144,6.512,157.8702,6.6906,-15.1976,-41.5872,1.4672,6.2208,-12.672,-1065.372,12.012,3.6288,54.8604,35.6238,8.2944,162.0948,3.4827,7.095,3.29,6.42,50.352,16.2688,24.84,5.4896,16.8948,78.5088,8.2156,32.346,16.3215,-4.464,11.8584,7.8225,22.4448,19.3116,6.1572,-5.1968,-21.888,89.955,297.6435,2.5488,8.0712,-2.436,4.086,150.984,2.3077,2.7166,30.2232,9.039,26.865,182.3553,15.2,219.9904,-4.0216,3.069,2.3328,4.4824,54.6912,12.231,18.447,9.6,2.0748,2.625,-3.6003,2.7384,-71.2962,3.6288,7.4,135.219,10.512,15.552,36.8245,14.256,14.2688,42.3625,3.1104,87.7443,20.6612,0.5584,2.1492,114.9385,-299.8116,-29.4368,-58.8616,5.2026,26.224,1.1151,7.371,78.9412,6.2208,5.4432,2.64,23.3163,11.703,5.0358,14.2956,15.7992,56.9772,3.0212,9.3312,150.984,-25.2185,-14.688,-7.8225,12.7008,19.0512,-462.8624,6.2208,6.2208,8.12,9.072,7.1928,101.3488,0.2034,39.3408,-40.1808,0.8088,12.0252,10.058,15.8158,6.9552,84.22,3.0654,16.0356,47.952,-3.9032,10.5144,7.4872,5.8604,30.2316,6.2016,4.3296,-8.904,149.8956,-2.9884,0.6912,2.8224,5.778,28.41,14.202,0.5584,-6.5619,17.9684,122.148,-1.2588,4.5216,-21.1068,8.8624,-17.2854,8.0712,60.1412,3.614,6.715,3.3544,56.55,32.2322,7.9704,3.7996,38.29,4.224,206.6232,0.1674,22.6275,4.9728,2.054,15.1116,13.2288,5.8887,26.564,63.135,5.4144,5.9384,53.8048,4.4312,160.623,2.0574,21.7728,15.68,3.5712,8.218,-166.3935,4.266,33.93,21.714,-1.9872,62.1376,-3.231,20.163,6.9664,39.41,9.8901,24.84,3.2392,9.7176,33.4584,5.6994,12.298,5.4341,-2.5344,2.1492,6.129,206.8893,1.932,114.9385,97.88,5.7624,39.948,1.3536,3.9592,14.2272,6.5164,2.8884,2.0475,-9.594,1.05,-6.0048,5.796,-18.802,-57.951,72.358,11.1672,3.2392,5.7672,20.1656,13.3245,-2.7888,-2.3814,-4.7625,77.672,2.64,14.4648,0.5904,-14.8832,2.14,-19.602,18.8993,6.8714,302.373,39.213,3.0368,-0.5964,12.7008,2.2194,21.7728,9.4717,27.882,2.9562,7.2177,-6.9216,50.3658,55.896,46.179,99.9408,4.5402,3.8822,13.428,28.0876,4.5816,2.3025,8.0997,2.528,57.5016,62.7004,9.1581,7.605,16.032,-2.588,40.3536,-1.5264,-69.3952,18.336,2.8478,1.9926,1.0284,85.9818,9.9936,7.5371,9.1872,4.1832,1.872,4.176,6.0736,4.0749,6.6846,33.3102,-2.214,3.5623,137.151,1.148,0.4752,28.7064,9.6936,11.232,2.7072,-44.1462,10.8864,0.4172,-7.612,-9.8208,18.2112,19.26,10.089,21.1977,91.9508,8.073,6.1641,5.6316,8.1552,-42.588,5.0764,-1181.2824,-35.8848,4.9056,19.4656,1.6356,4.4772,68.8464,9.8901,5.8708,5.8233,13.473,27.882,7.2268,-2.6586,10.0572,-4.0722,-54.882,0.2992,2.245,3.6792,17.908,0.8162,2.646,91.152,19.4352,0.6258,24.5028,1.0192,843.1706,7.3834,16.8237,190.0206,10.3473,4.2336,83.2097,0.6156,-46.716,-11.5938,-1.9602,4.6176,0.4644,-1.476,2.6068,16.7776,64.2,0.8736,52.532,56.301,315.825,2.5578,18.2112,1.176,2.2728,22.992,30.3604,55.896,2.8884,-18.4464,125.1432,3.6348,9.072,42.1314,11.0016,16.194,-8.6592,6.6468,12.7008,-4.577,-1.8392,10.4284,5.4201,5.8751,-3.9032,46.1184,1.1946,301.968,3.72,9.3312,16.17,7.0218,6.93,4.2309,-0.792,0.846,15.5204,238.653,6.567,1.7608,18.767,46.1184,3.942,1.7876,13.7428,41.1208,5.2164,6.2208,20.844,4.6956,36.4044,-4.396,6.1308,18.3168,4.6644,4.8588,-5.176,4.116,12.6392,31.0688,6.321,7.209,2.3408,1.5426,-11.7612,2.4012,22.9068,1.1765,7.056,5.4432,-2.1756,2.1684,-2929.4845,18.8784,5.9904,18.8732,3.6588,-10.0372,27.783,20.155,91.968,5.0688,207.147,3.0498,-6.9828,-3.9384,-22.62,25.011,5.3196,17.379,16.4052,60.5528,2.1684,2.2282,40.3704,7.4172,103.8982,32.5008,38.976,28.858,187.3976,1.8144,3.969,-13.8278,8.7138,7.93,91.9508,0.7938,11.88,0.8376,-83.205,70.1784,21.99,6.206,37.23,17.253,15.7,4.5188,5.605,8.5728,2.8296,7.2576,23.4552,48.5392,-9.5568,-1.7892,2.8884,3.1842,-0.6048,13.8915,-31.536,-8.05,-8.3524,6.4638,0.3336,1.8792,5.4432,12.51,5.256,6.792,19.692,-35.046,3.14,5.4432,3.3675,1.0738,0.0,16.1868,28.6578,9.302,9.3312,6.3504,31.4916,198.429,21.0654,14.6825,32.6704,8.184,2.7324,10.9698,24.2285,18.5136,1.1225,38.9312,16.38,16.945,10.374,0.84,2.904,13.064,1.521,5.778,7.128,11.9586,160.623,69.1776,150.984,0.8946,-3.5224,19.968,1.6848,29.5776,21.7728,22.89,10.0725,17.8066,-337.806,4.504,11.58,40.4012,4.3296,22.3734,77.4837,-786.0144,0.7776,18.9702,3.0558,4.2392,0.5828,9.936,14.161,12.7746,120.9468,9.8901,13.8915,3.6018,13.452,13.455,8.2156,36.4044,4.2,197.9208,20.7312,79.8912,12.796,60.4968,40.1702,5.1184,9.2799,15.9384,6.6588,12.9584,3.6936,-5.6406,4.8024,4.704,-52.9584,4.0872,23.0864,53.0439,33.64,4.752,18.6624,16.544,15.9348,-4.818,3.5529,5.7624,82.2906,1.0114,113.848,-2.6208,48.5392,22.2352,17.3148,0.0,22.2,7.434,-7.3232,80.3404,6.2664,61.4628,0.3348,23.184,32.4684,1.9176,8.694,29.808,80.0199,3.912,-2287.782,3.3408,3.506,14.9744,7.2576,-21.888,-26.2476,7.98,6.253,2.004,9.3312,11.7488,20.4525,6.5888,8.4966,1.5548,8.7672,111.5688,4.891,5.7528,0.5508,210.4936,3.9498,2.8836,15.5232,19.95,48.5514,15.196,41.0216,3.84,9.534,0.6312,12.8744,54.057,22.9488,6.4864,5.4332,3.895,28.7064,5.4432,3.6288,7.86,117.6147,-30.2288,7.6146,9.072,5.3352,3.7584,18.5886,4.8118,9.5526,10.8,4.5816,102.2784,9.891,11.31,-2.0349,7.71,1.3104,5.0055,40.4432,8.409,33.93,11.1176,3.528,-197.5752,7.2576,7.68,12.7008,3.9312,11.88,1.0208,12.0978,16.1568,1.3716,-4.9728,0.6672,459.396,-6.867,183.995,0.1548,2.388,21.0249,2.7846,7.0659,7.1586,149.382,24.998,13.7808,0.7336,0.7704,9.604,4.3368,-3.8646,-23.716,19.6224,36.693,6.066,9.3312,9.294,-17.6076,37.534,22.2,22.8285,8.7906,62.916,-1.3083,0.4068,7.6284,-6.286,2.0358,1.8207,1.816,0.1472,19.872,-6.1248,1.9024,3.6018,4.3904,1.2585,2.8782,27.882,8.6016,19.1376,11.1024,7.6869,44.8896,3.1806,8.671,7.0044,15.7248,36.9288,4.0098,0.6516,18.2112,40.3536,28.1718,30.7872,5.6016,6.2208,8.0178,-2.6268,2.5137,-7.656,-4.1712,17.524,11.7936,0.334,-3.123,12.7008,15.764,3.1104,238.653,6.8724,17.27,30.7776,2.1888,1.86,5.6376,35.6613,-23.952,5.6784,15.8256,1.9024,22.8096,3.44,1.6712,5.3898,3.597,2.2098,9.534,81.0474,9.47,-45.9333,32.2514,6.5052,2.7846,4.1988,4.887,1.062,27.972,206.6232,2.9835,2.0228,5.898,8.733,281.016,7.9218,8.8784,1.0336,4.6818,8.2062,3.6848,76.4,28.896,10.08,2.8912,8.7906,11.297,9.3312,15.552,28.95,0.0,20.0851,0.7938,-30.16,2.336,3.7856,5.1792,-95.823,1.3992,-8.1312,4.168,8.7052,6.8714,17.5448,5.544,2.64,6.2208,9.198,53.8608,2.9348,3.1104,7.128,40.274,35.6526,5.191,16.5186,9.3024,20.585,12.672,-42.4638,-23.548,4.44,17.5812,15.282,0.2952,3.3756,14.5638,7.1586,9.3312,47.9385,27.2412,5.2272,21.164,2.289,6.2208,-82.884,305.13,28.0876,12.6592,7.9794,4.872,9.2928,13.4316,6.3504,12.8256,9.6192,7.9548,22.2,9.499,1.4456,-8.532,125.1432,2.1546,152.0232,17.694,20.2986,1.512,10.224,335.8548,2.3968,4.6228,5.823,50.328,7.9248,0.5967,7.4496,16.398,4.3956,-16.6012,10.7037,-3.0933,16.8,25.4384,16.3352,362.8404,8.694,37.9848,3.6288,1.1556,6.1792,4.1148,8.7168,8.3328,48.5392,9.3312,4.6806,5.7672,44.712,5.6448,4.7724,2.0979,6.4692,1.9602,201.312,2.224,2.0358,-42.8,-26.964,3.348,15.552,6.098,54.4047,15.552,178.91,143.1918,34.3896,4.7236,-1.2558,-4.896,-2.1792,2.8884,53.8608,9.3312,4.3524,22.2516,2.0064,0.584,-80.178,16.7328,54.04,4.3884,1.0269,219.4514,8.7906,68.8464,92.2368,180.7659,196.5036,5.0232,11.1176,21.0128,11.7782,13.4512,1.6176,1.3622,23.9688,22.2,9.63,4.89,7.56,28.1718,22.2264,12.672,19.872,9.264,26.865,33.8598,13.0284,6.63,1.043,41.2237,27.434,53.2608,6.6584,3.4357,5.4432,1.0044,4.2952,1.5876,12.4416,13.1868,12.691,19.6328,78.672,112.4928,7.2576,2.94,6.7655,40.274,14.9744,2.0228,55.764,5.166,63.4368,40.1702,50.328,3.1552,9.7608,124.488,-67.851,93.6988,6.2376,15.3888,5.7594,6.3504,6.42,35.6776,0.8792,120.5106,4.042,884.058,-4.06,1.69,24.196,12.4416,42.0256,-4.1712,-8.6058,31.5192,14.2386,122.148,7.152,9.3312,26.6304,11.49,4.6818,2.478,64.6272,3.7584,0.336,6.006,2.8536,15.372,-52.8336,-512.1468,54.6912,5.1968,2.5344,10.1094,-12.9168,-1031.5385,54.215,16.17,76.272,4.0338,-9.7608,-3.4122,30.392,5.3392,17.472,38.3508,6.0147,6.174,8.073,7.7688,10.008,5.9211,-26.7204,0.5668,-1.3248,51.8238,2.7062,3.285,7.5528,-9.6348,2.6568,0.6786,-6.732,3.1104,-0.99,18.1044,12.712,6.3296,3.9771,1.7876,3.5784,-49.5516,2.1,-3.2436,33.0288,5.4444,14.1426,6.8724,6.5538,4.6176,6.812,5.382,1.2714,18.528,1.316,59.4355,55.912,-186.5682,11.2224,30.0144,134.652,3.9128,48.8064,9.2322,3.1752,3.1752,14.7668,0.8792,5.7753,33.2704,38.3238,108.1752,3.9852,1.962,-25.737,44.046,11.2504,6.4128,11.5587,1.0208,12.549,226.3626,24.0688,57.3212,11.7208,6.396,6.862,17.7568,10.68,20.5755,11.7936,35.712,8.4888,9.072,-9.8115,26.558,-4.461,28.6965,46.1184,15.9425,7.89,-6.396,942.8157,290.0058,9.12,22.0748,3.7436,29.2528,1.4602,26.082,1.0731,-54.588,11.8248,9.3312,34.2144,459.9875,21.591,9.2176,93.6988,3.8168,-14.592,7.605,30.9504,19.9686,120.9416,3.99,-6.3441,27.9936,3.4496,-2.5256,-81.7258,11.2308,5.5664,4.9248,19.872,-729.9138,15.525,14.425,1.1772,48.5514,10.327,44.975,41.2237,17.38,4.1652,1.9926,-26.541,143.303,68.8464,16.6764,12.582,503.7822,84.51,66.6272,12.2715,-38.1114,4.7196,23.235,3.2064,-4.1762,16.7832,228.0792,5.3116,81.1314,45.576,96.3438,69.1776,7.98,15.336,3.6288,2.8101,7.4872,16.032,103.3116,4.0542,8.9535,93.5816,15.9792,12.7368,13.365,23.0864,6.398,-35.2152,14.9156,33.2544,12.0295,4.4138,10.4496,10.518,-2.01,2.0975,-13.637,6.888,12.4416,3.1104,15.764,8.2901,56.55,24.8832,7.2111,49.92,3.1161,-1.249,1.7248,71.5375,-11.8256,-52.4544,-6.6278,4.752,6.8982,146.2405,6.3504,6.7252,2.8224,10.5252,4.6305,7.803,0.5904,11.8272,68.364,1.8672,43.4217,5.775,16.1838,26.9024,48.3771,-7.68,29.358,-1.3464,6.1488,3.4692,9.9882,9.3312,-4.196,3.6288,-1.624,-10.4874,8.526,28.629,12.492,23.9688,18.2112,11.454,2.4864,0.8624,0.654,5.1648,21.0128,2.211,0.559,15.2712,7.0224,1.0904,6.615,9.3,37.0,6.372,582.232,33.831,87.18,-3.4914,0.585,5.4432,1.8354,22.2264,156.338,-9.8463,96.0232,15.552,4.4685,5.4432,62.1414,41.4276,-13.4694,349.3392,0.4641,5.98,137.151,17.6232,16.6698,8.1192,5.6448,140.5957,41.706,30.5088,0.84,2504.2216,25.2315,3.276,-4.7625,-7.85,56.264,2.3409,-6.8634,2.552,726.5619,-24.588,34.6296,7.9896,-46.536,1.764,7.745,5.6784,6.4128,7.945,31.5825,1.2376,-14.7594,7.9378,197.353,1.512,-90.774,7.9086,2.5056,-426.986,0.712,1.008,50.4063,5.8604,67.608,3.2064,2.2518,29.5626,5.7072,7.1712,11.586,3.2214,9.702,11.7488,35.2604,-7.84,1.8704,-0.91,22.4808,73.41,7.2036,-32.9292,0.0,21.7728,25.1496,6.03,9.798,10.8,107.7216,15.552,54.5844,83.281,27.4856,6.2208,-5.412,15.2544,-52.5481,39.689,2.0271,36.2556,60.4224,66.6,15.0156,8.7168,-68.1856,15.498,7.2576,-6.396,3.857,11.898,33.0368,210.4942,113.211,79.692,2.9568,4.42,13.428,17.3488,79.758,4.914,5.135,2.834,37.5624,73.41,1.728,-15.7514,1.476,55.896,2.128,8.4096,54.558,219.6546,80.7912,134.9322,11.4504,26.9304,7.6798,17.6232,-4.9128,1.7919,3.6018,99.296,1.239,24.9984,14.4,12.7008,3.0576,6.0632,4.8546,6.9654,4.8162,5.2029,7.764,83.284,-4.4946,7.2576,62.1376,3.2432,3.9474,44.3664,81.1314,6.0264,15.6104,7.6968,3.1806,16.146,1.794,5.0463,8.073,2.2724,27.882,3.7412,121.1056,0.0,2.4582,0.0,9.8685,-8.3524,3.546,98.105,13.452,146.79,-9.9705,2.7956,1.305,18.6624,8.1144,-17.523,5.8696,27.4856,4.2471,-25.992,7.2576,31.4685,12.3144,2.808,30.2112,1.6116,-6.0768,4.8804,1.3978,35.6613,-2.588,-12.208,8.95,1061.5722,-2.688,43.706,49.23,4.872,331.191,16.8413,9.5088,4.5448,1.002,70.219,2.8912,459.396,-10.3824,5.2164,0.679,14.418,26.9024,49.8435,17.3712,14.7184,20.6816,85.9818,13.5072,3.4686,3.597,11.2896,3.6288,4.752,6.2208,21.384,3.8844,2.3406,-17.248,11.7782,1.8704,15.552,2.9346,52.532,8.763,27.504,24.4608,34.182,12.4416,9.9992,114.9385,-7.9068,-13.0152,5.6,-15.0876,-44.235,2.8836,19.8144,-2.0016,50.3658,9.912,-31.332,44.9616,0.864,-18.0312,99.9012,8.49,240.8595,3.3948,10.8836,8.694,25.2936,10.3071,9.3906,4.6782,11.8768,37.1084,8.236,214.164,31.5192,5.4488,1.1656,-55.256,18.2525,4.1328,19.4184,9.8164,17.108,4.3428,73.41,6.2208,2.106,4.794,5.58,11.086,3.1654,28.8576,-2.5248,-13.938,8.3328,1.9926,23.9463,69.705,2.8416,13.8828,11.086,71.162,14.4648,2.99,12.672,130.2885,-3.7584,18.6606,79.758,6.975,8.3916,-22.144,63.7536,6.3504,62.532,0.7728,22.5732,1.8144,-8.9796,5.837,0.1512,56.2032,38.1576,7.0218,12.1401,5.4432,0.51,10.8864,69.705,15.606,2.4012,15.594,7.8792,25.0938,17.19,11.4504,6.2208,6.4584,41.68,8.3754,1.148,3.3524,5.4432,2.3686,68.12,6.0632,13.941,11.19,39.8736,2.0088,24.1918,2.1286,4.0986,10.422,0.6984,8.4942,327.9458,18.6624,-3.2406,30.996,2.691,3.3524,0.3336,1.8144,15.393,-8.316,1.0008,26.901,-17.5651,34.8138,3.4048,-12.628,1.6896,-6.303,-42.9516,23.9688,23.808,49.9704,45.7632,11.1176,24.2285,55.008,89.9548,9.1785,149.9112,99.9408,8.802,6.6312,-5.037,105.275,1.476,13.7964,2.2504,17.99,15.372,3.248,2.0048,27.882,0.4704,8.7906,4.5188,-51.5154,18.837,69.1776,8.7906,4.5837,7.567,40.0036,-5.784,1.308,-50.304,-8.6058,3.246,41.823,18.396,31.0688,-108.8304,74.213,2.4059,0.8792,2.9302,5.6,10.92,7.644,121.4416,3.3453,17.38,3.2256,68.585,23.235,-226.6368,2.4174,-1.5414,-7.5168,5.2398,7.553,-1.041,1.002,-99.1032,-4.49,5.0336,175.5156,7.4824,6.206,5.796,3.1096,2.0672,0.91,7.2576,2.99,13.8828,18.7224,3.9312,7.2177,4.756,12.4416,2.5578,21.8736,17.3488,-228.7425,50.0346,38.725,30.2778,10.7301,15.44,120.9416,12.4752,6.3504,22.5732,2.4192,18.6872,30.186,18.8328,17.745,4.914,-10.0512,3.3408,31.5192,109.422,13.9328,1.4456,301.968,3.969,21.7728,4.116,11.088,50.9208,-11.19,-0.8392,32.4684,4.5448,-4.3792,-2.73,1270.99,-5.0094,3.888,76.2525,17.7744,12.2247,2.838,1.8468,7.724,-4.9164,-66.801,3.6288,77.4837,0.7065,29.1375,-1.3104,-8.5974,7.4752,12.7368,6.6177,-3.465,3.339,4.536,112.224,10.0772,334.1142,-65.1504,3.8775,1.6128,76.5583,19.188,1.3584,-459.6072,19.41,10.512,5.369,13.455,52.38,0.1584,9.3312,13.734,2.6928,-5.0512,-7.7292,-11.937,1.6704,44.5962,0.6102,31.9319,3.5505,11.7078,5.4336,24.9804,1.1556,0.4074,7.056,5.07,8.4528,136.08,8.6436,100.7316,23.235,7.065,15.4752,15.824,59.6556,12.9978,14.2002,21.036,4.176,13.9185,-41.5176,-138.14,-15.44,-28.368,21.9492,5.3721,14.9156,6.3504,7.68,8.4942,-0.9486,-6.5415,3.0861,8.3868,25.792,7.209,6.552,8.694,3.7408,20.7459,1.8144,23.7742,146.79,3.2214,-10.15,3.1212,51.8312,4.57,24.2696,3.72,15.408,65.435,23.7168,7.0218,-2.8608,-29.4368,3.2224,274.491,1.4796,0.3112,3.0084,5.751,6.924,0.868,12.691,14.651,6.2208,3.21,-4.2012,1.4456,2.3312,20.8568,2.0672,11.68,-18.8728,105.2468,3.3524,4.653,17.9592,2.132,13.5056,62.321,7.4824,0.6056,2.6496,-7.46,-6.4944,7.6048,33.0648,16.146,5.538,314.2719,8.019,33.3136,12.8574,-24.416,-19.168,-1.5715,17.37,4.536,12.4416,5.301,72.8088,224.073,154.8426,82.2906,7.2576,11.907,23.0864,7.2,9.735,0.8804,4.4392,735.0336,4.485,15.8571,6.624,60.2553,2.7028,59.0112,12.8744,0.5904,70.4928,18.28,0.4592,4.782,13.078,46.47,6.2208,97.3026,19.824,12.4416,6.6584,9.3312,4.293,1.8011,1.728,-4.428,8.7138,220.987,2.604,11.0544,245.7,28.4928,5.369,113.3055,5.8891,10.0282,15.4752,27.2412,33.3396,-14.92,-9.1816,1.6472,6.7068,-25.109,5.4768,12.4416,31.0184,-53.7432,25.872,-18.2525,25.792,2.786,13.984,34.539,19.2384,28.1718,69.705,41.2938,91.9508,7.0218,41.496,1906.485,9.5787,8.304,50.3832,6.2208,44.4,59.4355,-8.1096,2.2155,6.6846,8.1216,5.6644,2.5056,4.2048,-9.5886,-29.4368,16.1838,72.5754,9.25,-1.3566,15.4752,8.2156,4.6088,12.222,17.891,-4.8448,-82.884,6.3072,4.2408,35.89,3.7408,5.5216,5.2164,9.3312,26.388,1.4256,3.0268,12.4416,3.7412,2.8536,0.3024,58.5052,16.608,15.8496,0.3384,93.884,5.4432,13.7176,3.6288,0.556,35.0244,5.256,59.373,0.7152,9.352,13.788,-304.392,2.8764,2.9646,3.6156,13.8915,13.896,55.0584,-14.5656,3.9592,-34.758,11.7782,-4.7685,2.4675,9.54,-3.3894,-2.88,15.876,48.94,13.181,22.0947,-77.1267,4.2,-63.0056,-4.767,0.3168,-2.5632,-24.6624,5.952,2.1465,2.0748,29.4372,17.5812,1644.2913,5.6832,160.0398,6.9795,2.5056,3.2214,15.4752,17.6232,2.132,5.796,2.8764,13.788,26.703,34.2144,69.705,-3.7872,-3.168,1.764,2.9568,-53.0088,4.8804,89.7792,8.9544,77.8635,17.982,-12.352,0.0,-64.7748,6.7048,79.8912,6.1548,8.8624,2.9568,3.852,45.9754,11.2752,0.8382,1.764,1.0008,3.741,5.915,15.552,5.3703,49.9704,4.35,40.376,3.0576,219.4416,30.6054,-1237.8462,9.12,4.797,26.824,1.674,-6.93,178.91,5.9184,7.308,1.9272,3.798,7.4256,10.8136,81.921,-11.418,10.7136,51.8,17.856,34.294,11.68,3.852,4.872,654.7554,140.5482,77.3696,35.048,-59.373,5.0274,2.3808,-65.568,-5.0688,-3.5325,-22.6716,2.244,2.6784,3.0576,6.854,4.108,-19.323,-16.1856,48.632,7.2576,14.5152,16.68,3.6288,-1.9068,-2.7588,3.21,1.6588,5.5512,22.1184,4.914,0.8856,2.808,11.592,17.6673,4.1916,-26.624,-3.4272,-7.3692,19.0344,0.5152,0.9336,5.4124,49.9704,41.1528,207.475,1.4805,2.6964,20.975,5.7624,-12.9792,29.673,-1.827,1.576,108.1752,9.072,16.1838,-1.476,1.6704,16.956,10.8966,34.3548,106.9578,129.7725,-1.476,5.2884,197.9208,-4.577,3.1032,4.485,-1.8585,267.705,29.1528,13.959,28.858,8.8624,6.2208,5.841,89.9548,-107.958,2.2288,-9.705,-22.6842,-38.8212,74.691,46.9952,47.6268,47.8152,20.388,-10.4874,-161.694,5.265,1.1808,12.974,20.1708,70.0336,2.8224,32.97,12.052,6.2208,34.2925,1.926,3.7996,29.3412,52.632,20.844,-30.8672,2.322,7.9896,100.4255,11.0264,9.585,-4.9878,-125.766,5.8604,3.8048,160.623,17.3148,41.2237,1.2672,24.857,6.7048,7.2177,50.3658,155.727,1.6896,23.0864,9.8784,5.0196,4.872,9.6192,27.882,5.6112,76.3152,41.1208,4.1832,68.6868,1.4112,14.1426,4.0664,52.8228,37.2186,20.5764,2.934,29.5254,9.3312,3.6162,18.6624,-4.2336,9.8352,4.3904,7.196,5.4432,-18.2525,-18.196,16.7875,0.4264,-913.176,-58.8736,7.1372,19.6305,-4.6464,3.799,-1.8106,-2.2848,0.8688,1.7248,-3.0396,-3.768,-2.5248,83.646,6.2208,91.056,20.0851,8.0652,9.7119,42.3625,0.4068,0.416,-0.7748,2.502,1.112,8.3104,10.3473,-191.619,3.6784,-16.818,-470.548,6.0416,92.2368,11.685,37.764,180.7659,3.7694,44.4704,9.3312,-10.0372,30.735,12.8499,2.772,3.1536,0.2996,282.2092,15.6078,-2.7588,-26.726,32.4342,87.7578,22.0158,14.2272,10.8864,4.1965,15.8436,-1.041,0.9963,-7.5768,5.9696,12.744,4.2717,2.0748,81.432,15.552,19.2556,35.6776,11.151,8.5845,0.5668,3.9004,5.6112,0.1533,2.3616,3.363,4.504,-24.9984,2.2724,20.585,5.397,-4.5824,-164.836,68.976,3.1104,3.363,8.7906,23.31,149.76,3.157,11.7208,15.552,16.5888,19.8072,22.2,3.1104,-17.592,-44.94,2.8,24.3824,3.968,-13.58,27.9108,7.3872,9.6632,31.47,-8.4728,4.461,23.5872,17.55,8.048,-14.5764,5.6376,69.965,3.405,6.4128,4.1328,2.436,21.714,22.0748,6.2292,5.7624,297.6435,108.7408,-11.52,0.8058,78.435,11.1132,48.5392,8.673,45.487,38.6848,9.1938,18.144,49.9704,46.225,26.07,2.6784,8.771,-12.288,0.9576,0.1744,6.465,-1.3608,2.14,-13.6832,16.5242,51.36,3.4398,27.4352,-1.4982,21.2856,0.666,77.7468,-6.237,-39.804,-19.8144,11.891,9.594,3.6,3.0498,144.3546,3.1248,1.05,0.9952,-29.0536,23.7742,16.2342,1.6704,8.991,3.3312,9.936,41.013,21.0128,53.2608,5.97,18.2,0.1188,20.4984,-10.336,15.4752,5.3998,16.7508,45.9754,6.2208,-14.1696,49.3938,10.35,8.9544,7.2576,8.2344,10.0128,0.9828,27.93,-3.462,3.389,16.68,6.3296,24.843,4.8118,-12.208,9.072,1.002,9.6375,1.6784,15.9446,6.048,2.0358,3.4276,-33.8418,14.742,-3.5508,5.5216,10.8864,314.8418,77.8232,3.21,11.5432,0.1134,0.896,7.79,1.2006,3.6288,-13.392,6.0368,-8.1312,43.706,-10.3936,0.4768,3.9102,7.008,5.346,16.6568,25.176,1.512,7.0218,11.3512,2.5592,4.0456,10.3168,3.4686,4.455,40.1702,13.8684,16.9312,2.3364,3.9808,-100.92,5.1012,18.9702,2.0574,2.3892,-913.176,0.711,45.487,214.76,5.8233,-1141.47,-45.24,11.814,1.638,-29.2446,26.4285,-20.0904,2.679,2.19,24.47,9.7438,-1.3376,11.223,41.5688,13.365,1.652,19.376,7.704,-25.109,6.1992,-8.1822,3.504,-13.3424,694.5015,11.803,1.3416,25.0536,11.586,8.95,5.616,1.1022,9.5256,6.7032,17.847,29.692,0.444,0.0,1.6896,10.3473,9.3125,-1.3984,-160.96,3.9424,5.6376,6.7536,-2.667,13.0928,8.8704,21.252,2.2512,15.777,9.3312,9.744,160.623,-5.94,3.6432,21.228,5.1552,4.9648,28.1718,10.062,1143.891,31.4712,5.9778,-3.564,-5.215,10.5504,24.8832,2.592,635.495,58.9192,4.0687,7.2696,0.7348,-2.544,-67.617,-13.167,94.2784,23.235,6.72,3.8136,0.3094,14.5152,2.5641,6.2244,6.6352,1.6704,5.4432,21.4452,6.8714,8.7945,6.2208,12.8744,3.7408,8.694,37.236,-27.735,4.9815,18.0096,48.3336,3.753,20.727,5.6416,7.7832,18.6624,117.432,-2.9964,4.1988,3.7408,2.8782,2.5056,9.352,10.465,4.752,54.0876,11.704,456.588,3.8775,3.7128,4.9608,7.56,18.447,23.7684,16.7875,-6.03,1.7487,29.692,13.0112,-2.3136,3.2872,55.764,6.255,7.992,1906.485,14.904,96.416,29.9808,18.6624,10.881,5.373,5.4124,-13.3936,-32.985,-34.758,-153.2024,9.534,92.5056,4.485,-4.5696,-2.2896,-16.6848,0.0,751.7601,3.0498,18.0096,11.7782,6.7048,3.6288,14.0438,33.777,84.0512,10.3071,-2.97,1.7248,107.082,-20.4352,-131.7168,26.824,-27.792,-3.81,-2.6784,25.792,3.96,53.261,7.052,31.374,-1.8126,-3.465,80.7912,3.285,9.3312,6.15,3.6322,1.962,2.891,16.291,3.852,-179.776,3.7376,-1.9344,-8.8038,1.7262,12.7008,29.364,-9.156,2.8224,-2.838,-14.7708,-6.3018,-2.7648,-73.577,1.168,29.692,17.127,19.1376,102.774,-6.0324,7.1628,6.4368,24.9804,10.5728,3.4686,1.1925,12.8184,3.753,9.312,4.3836,3.8529,8.6436,5.538,-116.844,4.5188,103.818,843.1706,-4.488,12.4416,5.8708,4946.37,16.5888,2.244,8.6855,22.2,17.1678,5.3214,0.84,9.4284,6.1488,33.636,23.5564,18.24,100.685,-4.8609,6.9368,30.9918,6.8768,7.7832,0.0,-5.5338,2.04,2.61,9.3312,1.4456,2.9346,13.455,89.9548,-251.1864,-62.7725,104.568,5.4432,181.656,13.2986,15.552,3.7584,5.319,-16.9568,-51.296,-28.8678,1.6776,11.7334,17.472,6.304,7.1346,7.0512,10.584,46.953,26.3494,3.501,-57.7566,3.4776,-11.2806,-58.716,1.6324,36.2877,-22.6716,-5.1984,3.4668,-12.224,3.0044,18.821,-4.4928,2.7336,406.7154,66.5088,12.376,2.3686,1.8522,19.2384,27.5292,124.6752,-3.0366,-7.92,-393.602,50.328,72.432,147.0896,21.0128,22.992,222.588,11.2308,9.3312,-20.724,6.149,4.1832,11.673,11.5432,412.468,-0.6976,-165.768,-82.99,15.49,-46.9952,3.5994,19.1808,11.0808,148.5106,10.0632,32.186,6.912,4.4892,24.8832,4.1756,3.4944,2.592,9.3312,6.9741,15.552,-24.7716,7.4872,3.3516,5.2029,12.4416,-13.188,-2.3232,-6.4232,-12.5286,106.7808,3.36,5.5071,27.9936,-694.2936,0.9468,5.2332,2.5592,20.5842,-3.9249,0.5754,4.6488,2.224,15.552,2.8536,0.7228,1.365,54.4448,33.64,6.2208,6.8724,4.4344,24.393,2.5984,6.63,53.982,-7.782,24.318,9.6192,11.2308,1453.1238,757.4112,112.574,13.8528,5.1792,-5.6007,20.37,25.2784,3.9474,-11.0208,22.9877,2.8536,15.525,-0.9452,20.586,5.0286,6.5058,-6.8992,0.8856,5.4432,-2.2878,2.184,1.9024,3.72,9.9216,45.84,1.7248,4.7616,117.1296,46.7908,-163.4516,6.4128,97.0784,23.712,7.2744,15.3952,7.3132,50.8768,6.674,1.4976,8.771,1.122,7.0224,68.9631,9.0,19.194,-4.7625,4.4604,3.7128,9.3312,1.0192,8.7138,15.092,0.0,10.3194,0.3906,7.1864,5.6644,25.68,83.844,18.2112,2.9145,15.9588,8.4656,2.3868,15.9348,-10.6068,0.504,-1.049,12.4416,37.5624,5.7716,152.0232,0.9588,14.3075,35.3346,8.0548,1.2348,14.6264,286.3836,1.683,2.64,-2.5093,6.5435,-11.5872,8.7906,3.6288,4.0338,-38.8212,-56.0592,11.803,13.452,1.9926,12.7008,1.1556,-2.0622,6.2208,2.502,6.7252,6.045,1.2192,5.6994,16.146,5.9136,3.0128,5.4504,55.845,26.5824,13.6851,-10.05,41.934,17.22,3.4048,7.9488,55.5822,6.2208,53.2608,3.7128,1.9926,54.215,-6.237,4.1125,-6.5076,-533.7325,1.816,6.4944,9.63,2.1582,59.115,682.5168,3.1008,19.08,5.346,2.3409,2.0286,82.2906,31.188,8.3538,0.8064,54.8604,7.476,18.09,4.5837,20.6946,15.7194,-13.896,31.8696,8.8088,2.5056,48.9942,22.7024,3.7208,5.4432,-7.7406,29.372,60.4632,3.0212,0.9576,24.2696,5.5616,12.6077,1.3392,3.2832,7.774,18.7812,13.32,-9.6565,19.1376,35.6636,2.14,-3.855,90.72,5.193,43.3188,0.564,84.9436,-44.019,2.1,5.7624,-10.116,1.0584,-4.488,1.6784,5.544,7.9378,1.926,3.549,8.6855,3.4974,13.9672,11.2404,22.156,-43.9056,15.192,5.6784,-172.557,3.852,5.6644,6.7236,89.9548,2.6406,14.5152,114.96,9.234,55.3616,-43.7292,9.936,5.2029,13.3056,5.256,6.894,762.594,1.6704,5.397,1.2528,11.1024,-54.5496,3.3524,6.7482,13.0928,-2.5212,2.3244,38.9752,22.246,5.6644,9.499,0.0,-8.3524,-48.392,57.5016,10.4076,19.488,-3.6212,1.3944,5.7376,9.0,9.6975,6.2208,6.5569,35.985,6.8724,8.085,2.6892,1.3316,29.4492,2.0271,1.8468,61.389,4.2336,18.6624,6.3504,10.179,-17.469,15.552,2.0416,122.2936,15.2292,2.19,9.192,240.8595,10.7301,16.296,1.1946,5.5392,390.977,5.3949,13.8684,5.6994,3.4092,-8.796,-94.5084,20.1544,2.7984,-55.256,100.1403,4.4312,80.3208,0.1744,3.14,153.4725,9.9296,9.2552,421.5853,1.9845,80.6312,22.9008,6.888,54.8613,29.4455,4.536,90.6444,0.668,3.465,0.9048,3.7996,8.88,9.9882,8.1144,1.419,22.9488,4.7724,4.7232,3.501,26.901,25.02,3.4216,4.2384,38.725,-3701.8928,-26.8544,-13.32,-12.09,252.588,134.652,16.7886,23.9169,21.024,1.6308,-31.008,-5.8869,1.5552,28.217,1.2064,-21.0848,-3.3792,9.072,9.0576,12.4416,9.702,100.4255,38.376,54.215,-6.462,0.3336,3.15,13.2,-13.3936,42.8148,41.823,6.2496,15.093,6.465,3.7596,1.4442,-26.2272,5.123,14.8,2.2908,1.6704,5.1792,9.9522,11.206,46.225,16.2688,33.93,6.0168,11.5432,20.9664,17.524,0.1008,5.2528,5.5566,282.2092,3.4086,-2.61,-17.9424,32.6628,1.197,3.1104,19.99,0.0636,-21.2136,-6.38,28.7064,6.7392,5.58,0.0,4.6812,2.4138,9.6914,22.4808,20.7459,2.085,7.8225,100.656,56.5264,14.904,6.2208,45.528,3.5048,17.991,-35.8176,-4.5936,16.8237,11.995,353.5792,20.1408,3.4552,13.482,2.5146,3.6744,48.3771,9.9456,4.816,29.9646,13.299,0.4074,1.07,793.716,8.69,20.724,3.1104,11.5587,21.7845,109.7208,2.19,1.8688,23.7742,3.6288,2.3406,51.5543,18.09,331.191,6.5975,54.9976,42.225,33.6042,5.2332,6.4128,0.0,4.6816,153.1152,5.369,16.7132,15.12,16.124,13.32,72.948],\"yaxis\":\"y\",\"type\":\"scattergl\"},{\"hovertemplate\":\"Categoria=T\\u00e9cnologia\\u003cbr\\u003eVendas=%{x}\\u003cbr\\u003eLucro=%{y}\\u003cextra\\u003e\\u003c\\u002fextra\\u003e\",\"legendgroup\":\"T\\u00e9cnologia\",\"marker\":{\"color\":\"#00cc96\",\"symbol\":\"circle\"},\"mode\":\"markers\",\"name\":\"T\\u00e9cnologia\",\"showlegend\":true,\"x\":[907.152,911.424,213.48,90.57,1097.544,371.168,147.168,45.98,45.0,21.8,1029.95,30.0,13.98,167.968,19.99,73.584,95.976,238.896,74.112,27.992,339.96,68.04,59.97,384.45,149.97,203.184,944.93,54.384,8159.952,143.976,408.744,503.96,149.95,29.0,176.8,71.76,444.768,131.98,20.8,62.982,1188.0,89.584,302.376,479.988,617.976,31.984,3347.37,647.904,20.37,3059.982,2519.958,328.224,79.9,209.93,1114.4,239.8,255.984,178.384,3991.98,275.94,360.0,99.99,290.898,82.8,959.984,71.928,47.976,6.79,1023.936,479.04,41.9,83.976,482.34,39.98,246.384,1799.97,57.584,179.95,1199.976,196.752,69.99,408.744,291.96,247.8,1007.979,35.12,63.88,899.91,703.968,95.76,9.09,159.98,279.96,2735.952,7.992,63.984,93.98,38.04,2999.95,18.392,55.176,66.26,979.95,468.9,380.864,58.112,100.792,374.376,14.85,470.376,105.584,406.368,84.784,31.2,1199.976,445.96,143.982,494.376,55.188,369.576,728.946,119.94,37.91,119.8,300.768,17.88,132.52,302.376,316.0,103.12,381.576,99.39,27.816,7999.98,479.97,284.82,166.24,15.216,119.96,307.98,299.97,55.992,179.97,49.98,11.992,1199.976,119.8,107.982,646.74,207.0,24.0,47.984,1363.96,215.968,1983.968,149.97,25.78,1399.93,239.97,67.8,167.97,191.98,65.99,265.475,21.072,83.72,115.36,191.472,59.184,280.782,29.99,371.97,149.95,543.92,323.976,90.93,1199.8,1928.78,143.73,85.14,21.99,252.0,159.99,29.592,124.2,160.93,3059.982,559.984,336.51,617.97,2309.65,95.984,99.6,124.95,1379.92,15.588,197.97,31.86,1363.96,1113.504,99.99,118.782,31.984,4899.93,71.976,71.984,219.184,29.29,71.96,119.98,619.95,699.93,686.32,10.95,599.98,9.99,447.93,179.97,258.696,1322.93,7.92,889.536,431.928,271.96,95.88,258.696,1931.958,255.936,78.15,839.988,22.0,1099.96,35.91,255.68,863.88,69.9,63.992,32.97,83.88,278.4,114.95,287.97,419.944,14.2,575.92,2.97,677.58,695.7,183.96,309.576,95.994,239.952,201.584,49.08,399.96,104.85,484.83,88.4,21.8,116.784,239.97,946.344,151.2,263.96,220.752,263.88,1979.928,47.984,88.752,3040.0,159.984,95.976,255.968,31.968,177.0,1212.848,89.97,33.52,396.0,39.99,559.992,91.96,453.576,21.48,29.99,40.68,307.98,979.95,247.8,201.568,39.96,201.584,83.984,83.976,50.0,675.96,1265.85,58.112,438.336,3149.93,35.36,45.894,132.52,160.776,677.58,297.576,94.992,16.68,58.58,167.968,32.382,399.54,13.616,63.96,104.98,148.48,159.984,255.968,100.0,22.0,17.9,129.45,442.4,1718.4,46.864,62.4,59.97,98.16,86.97,134.97,699.98,139.95,347.97,79.984,2575.944,254.24,69.93,1127.976,779.796,1439.92,1439.982,90.57,831.2,100.49,119.96,370.782,470.376,302.376,14.78,28.4,99.39,597.132,149.95,299.9,863.64,199.98,177.48,659.976,271.992,166.16,95.968,197.97,238.0,167.97,296.85,112.8,281.97,291.96,408.744,35.016,1394.95,479.96,1439.976,161.61,144.95,199.95,47.53,159.984,597.0,199.95,84.99,251.91,199.96,59.97,761.544,111.984,279.944,26.0,1295.84,62.958,86.376,94.92,23.988,84.95,111.79,191.976,71.976,107.982,3999.95,199.95,29.0,1454.49,44.75,881.93,38.272,832.93,1145.6,485.94,124.792,319.968,205.03,494.982,659.976,437.85,371.97,166.24,499.98,1119.984,223.96,23.92,287.97,4.95,42.95,1399.93,503.96,316.0,390.75,389.97,265.93,113.97,36.51,239.976,252.0,211.168,479.984,1619.91,37.6,59.9,1115.91,128.744,79.92,359.976,595.0,2396.4,99.99,158.928,54.368,345.0,95.1,257.98,119.7,57.06,71.6,136.99,82.95,35.168,631.96,4548.81,719.96,196.776,479.94,106.5,95.968,5.5,25.488,339.96,46.32,431.976,155.37,1879.96,705.544,50.0,15.02,71.0,164.388,1399.944,155.35,187.98,246.168,79.1,587.97,1349.85,24.672,67.04,11199.968,2399.6,52.99,60.864,652.995,29.99,36.792,104.85,1979.89,79.512,619.95,350.973,164.99,108.576,821.3,22638.48,132.6,1919.976,302.376,129.98,71.98,377.97,359.97,629.958,799.96,73.98,377.97,89.98,25.98,125.976,79.992,27.168,323.37,783.96,239.97,0.99,50.12,47.976,2.376,257.98,23.988,23.976,1075.088,438.368,783.96,999.96,302.376,155.976,695.7,36.048,67.8,377.97,254.97,35.88,959.968,479.984,135.72,263.96,156.792,431.976,41.6,7.92,671.984,39.99,12.99,95.968,206.991,2549.985,666.4,403.168,53.7,1022.97,360.0,517.9,2799.96,119.976,83.97,104.97,140.736,214.95,43.176,539.97,127.984,671.93,479.95,837.6,249.584,258.528,395.0,627.168,67.992,44.784,119.96,88.776,2025.36,1799.994,101.988,26.0,119.976,239.984,47.984,826.62,69.93,65.99,29.97,95.968,601.536,10.99,349.95,377.928,149.97,430.88,90.0,318.4,230.376,7.16,122.92,219.8,49.08,105.584,27.184,107.984,99.98,135.98,44.95,2.97,7.92,3359.952,28.99,47.984,494.376,248.85,36.24,1704.89,1919.976,539.964,217.584,328.776,47.984,148.48,241.176,227.976,52.68,431.968,59.97,89.97,83.984,359.98,26.176,1287.45,39.96,1799.75,222.384,1091.168,219.168,36.99,131.6,558.4,471.92,71.976,47.984,492.768,47.992,18.544,99.98,34.95,92.52,579.95,36.192,72.0,655.9,209.97,95.736,201.584,418.8,66.3,44.784,404.94,116.0,657.552,599.97,38.97,38.24,87.168,287.968,812.736,604.752,439.8,59.98,2395.2,1687.8,7.992,1169.694,64.704,135.516,431.928,58.416,36.784,5.56,63.936,36.32,41.958,178.92,104.88,9.096,377.97,258.9,52.68,103.92,464.97,59.994,439.992,87.96,163.96,899.97,5.544,11.54,249.95,499.99,1259.93,129.98,10.9,59.98,879.984,119.96,62.91,383.976,335.944,71.976,273.96,269.982,41.424,1359.96,22.704,100.792,823.96,59.97,879.984,1049.97,911.984,170.97,34.95,823.96,447.944,124.792,238.0,155.34,148.32,108.784,134.85,239.97,659.9,559.92,279.944,48.9,127.984,47.984,14.85,41.988,470.376,359.976,47.984,201.584,159.984,149.95,84.784,2799.96,769.95,345.0,287.91,101.94,251.91,82.782,95.84,153.584,479.97,100.0,383.952,767.952,191.976,599.9,72.744,68.112,39.992,978.84,999.98,821.94,47.976,302.384,3080.0,79.96,587.97,159.96,73.98,158.376,19.04,2624.985,209.97,55.2,47.984,539.97,169.064,629.95,319.96,98.16,10499.97,304.776,799.984,4799.984,385.8,149.97,66.3,55.944,11.824,63.96,171.96,71.928,9099.93,439.992,53.982,4367.896,383.96,666.344,447.968,23.976,323.982,71.976,19.99,50.88,107.97,657.504,99.54,199.96,27.12,95.84,29.16,159.75,153.584,1259.97,59.96,361.376,34.8,617.97,575.92,34.75,55.98,109.95,54.384,239.976,659.988,173.656,62.85,818.376,62.31,269.98,116.832,105.98,148.48,537.544,659.168,110.352,479.984,657.93,239.7,302.384,167.944,45.99,134.376,589.9,2879.952,1599.92,558.4,27.552,69.98,635.96,118.99,82.8,863.928,440.91,71.976,62.31,344.704,201.584,15.576,53.25,67.98,837.6,40.68,22.368,783.96,113.52,359.88,742.336,222.384,58.08,43.6,39.594,239.9,1199.976,383.952,30.345,158.376,263.96,758.352,239.97,89.988,119.8,2249.91,101.7,9.588,111.984,231.98,90.48,16.776,85.9,61.192,467.04,128.85,199.98,717.12,773.94,19.04,689.408,109.592,79.99,47.79,2321.9,791.964,210.564,1502.376,772.47,72.64,772.47,461.97,239.976,33.9,239.96,716.0,79.984,398.4,699.98,377.97,391.98,383.976,549.99,299.98,35.168,466.158,10.312,35.04,16.776,66.36,629.93,99.98,2799.96,16.99,287.97,107.976,119.9,1214.85,1001.584,105.584,68.72,258.576,748.752,199.96,167.952,43.6,431.976,41.72,114.95,59.98,333.576,43.5,249.95,196.776,46.688,52.44,159.8,44.75,13.48,543.92,1979.7,39.98,31.92,13.98,899.95,267.96,31.95,329.584,16.36,151.192,88.776,98.16,105.552,358.2,545.916,167.976,109.53,71.98,79.98,445.96,36.24,101.34,224.75,39.984,150.384,280.782,31.984,1649.95,270.0,99.6,33.0,249.95,57.4,103.192,36.0,239.96,23.976,63.92,41.9,859.2,11.12,239.97,128.85,1319.96,255.968,79.96,2479.96,179.94,26.85,323.37,126.56,139.93,79.512,2999.95,209.986,959.984,34.36,36.738,179.94,546.06,391.98,437.85,142.488,659.9,53.04,843.9,1496.16,499.95,100.0,359.98,234.45,284.97,112.776,28.68,389.97,140.376,57.408,27.6,1049.93,134.99,139.96,263.96,2799.944,36.792,5.94,619.95,29.16,91.176,159.968,899.91,946.344,178.11,532.72,249.584,68.112,16.56,74.95,1999.96,32.985,333.576,85.2,599.99,71.976,575.968,15.984,1487.976,11.672,279.96,519.96,72.6,57.568,415.968,549.99,179.97,81.576,259.96,16.95,209.97,659.9,67.8,1099.5,683.988,16.776,527.92,177.48,71.976,95.992,435.84,211.168,95.1,299.97,575.928,107.88,552.0,369.544,128.85,2548.56,287.88,4158.912,71.98,69.98,71.96,859.2,506.28,27.968,1199.96,343.2,468.9,72.48,24.032,212.8,72.64,1299.66,104.85,59.97,65.44,2279.96,191.976,44.75,53.25,27.696,257.98,201.584,167.28,323.976,170.24,21.2,629.95,113.73,383.84,329.988,50.97,1439.968,43.56,235.152,29.97,125.7,191.98,88.776,110.376,55.176,79.96,13.98,200.97,311.98,39.992,116.312,428.4,20.784,239.976,88.776,195.96,14.99,39.96,65.97,339.96,87.8,5199.96,119.85,587.97,361.376,337.98,86.352,1039.992,41.22,119.02,371.97,99.99,158.376,47.984,62.592,824.95,177.48,7.992,98.16,108.576,111.93,8399.976,122.382,180.96,302.376,158.376,135.99,89.97,68.46,629.95,131.98,114.52,205.992,503.96,110.4,78.66,244.768,24.0,26.176,279.86,539.964,50.232,206.384,59.994,1999.96,142.8,399.95,158.99,107.88,319.968,227.976,319.92,1049.44,173.94,1007.944,179.97,271.96,19.8,211.168,371.976,469.95,6999.96,279.86,199.99,627.168,79.78,438.368,139.944,319.984,333.576,31.992,87.4,83.9,393.54,111.96,47.97,217.584,143.976,519.68,39.264,149.95,479.952,629.95,116.98,395.94,1362.9,449.91,239.976,269.97,45.12,100.8,99.98,12.585,241.17,17499.95,197.97,27.88,371.2,20.7,55.992,494.97,274.89,91.96,254.97,31.984,119.976,37.056,259.896,95.68,411.98,559.93,2399.96,1001.584,159.56,55.984,862.344,13.494,23.988,95.976,479.72,623.96,479.988,503.96,75.98,824.97,89.584,471.92,59.98,8.78,226.2,32.96,587.97,143.64,227.46,36.0,479.984,599.97,399.96,119.96,1012.68,1626.192,119.96,479.952,122.328,25.98,35.168,1879.96,89.98,113.52,776.85,971.88,222.384,107.97,143.96,2399.96,89.97,40.0,203.976,138.0,116.76,369.16,339.96,137.94,40.68,110.376,1319.8,341.991,119.98,989.97,125.99,32.7,339.96,799.92,35.984,389.97,185.528,599.985,46.36,6.9,559.71,649.0,72.0,286.4,979.95,100.8,1279.968,61.542,843.9,73.568,111.79,445.44,251.964,340.182,257.98,149.95,29.97,23.84,99.98,156.792,35.36,379.96,539.91,449.1,1415.76,148.48,569.64,639.968,538.92,1499.95,391.98,755.96,2249.91,119.94,140.97,470.376,164.792,46.384,1889.946,146.45,1399.98,49.616,57.36,719.952,755.944,833.94,63.824,47.976,236.0,41.94,52.792,3499.93,225.576,29.925,55.92,71.96,539.92,23.344,251.944,703.71,67.96,1299.99,119.448,5399.91,259.98,23.472,1687.8,625.99,160.0,319.968,1199.98,209.97,479.97,40.776,87.8,40.776,159.96,431.976,89.95,94.99,35.12,566.97,25.488,467.97,431.16,43.6,1039.728,4499.985,59.976,29.56,39.984,307.168,469.99,108.784,17.52,149.97,508.768,311.976,19.136,479.92,159.98,1871.88,52.0,464.0,17.9,24.0,76.752,102.336,399.98,1.584,3404.5,101.34,59.98,383.96,2.97,569.99,71.976,861.76,7.992,15.992,519.792,31.176,659.97,113.73,89.95,1.98,18.464,199.75,263.96,299.94,271.9,125.944,120.0,52.792,19.99,106.08,33.18,63.88,43.176,263.96,359.97,239.97,75.0,234.95,26.85,3357.6,2973.32,775.728,438.336,1079.976,18.528,41.94,159.968,13999.96,238.0,595.0,199.75,307.98,108.96,474.95,999.98,110.97,89.568,549.98,4643.8,89.97,357.0,806.336,743.988,299.99,242.624,174.95,19.98,2003.168,600.53,637.44,158.928,299.9,111.98,1649.95,73.584,2939.93,158.376,7.88,498.0,209.5,105.584,217.44,751.984,604.768,84.784,59.97,137.94,141.9,165.6,199.98,45.0,62.352,25.488,49.616,431.94,68.238,1679.96,222.384,302.376,46.688,45.408,1035.8,35.98,8749.95,479.976,165.6,479.97,15.984,27.96,175.23,125.99,12.99,44.376,159.984,56.4,479.984,199.98,39.0,719.976,239.92,447.944,453.576,287.88,131.88,67.176,479.984,998.85,20.784,1287.45,191.976,499.168,475.944,30.08,165.6,180.96,23.18,82.95,479.97,111.96,90.0,399.95,199.98,144.96,118.0,619.152,11.56,159.56,47.79,21.21,259.896,247.188,279.96,450.0,239.976,2239.936,115.136,79.968,71.952,4.728,72.744,1287.45,83.988,53.04,239.984,133.98,177.48,288.0,146.952,195.96,271.968,537.544,583.8,211.168,1294.75,1799.97,221.98,34.77,118.65,307.98,959.984,89.9,299.97,89.97,31.86,74.24,617.976,209.94,31.984,35.96,11.12,686.4,101.994,480.0,239.97,50.12,15.984,449.97,165.6,494.97,30.84,66.976,95.976,143.928,159.98,52.68,1439.968,239.976,29.34,1119.888,135.984,179.991,46.864,120.0,299.96,89.97,72.0,151.188,47.496,105.584,4899.93,104.75,18.528,35.184,5.95,239.94,100.8,99.98,20.97,139.96,108.768,55.176,479.97,189.95,149.95,28.784,21.98,23.08,90.48,279.95,89.97,143.952,246.168,299.98,41.9,369.544,791.88,287.91,207.984,22.96,623.96,429.6,555.96,180.96,475.944,159.98,43.6,1123.128,99.98,23.2,255.42,2.376,4476.8,71.976,13.98,707.88,55.76,21.728,344.704,102.24,1432.0,39.816,1091.168,881.93,199.95,631.96,47.92,41.424,244.768,97.968,45.48,118.782,47.904,455.712,859.2,117.576,57.594,419.944,50.0,31.8,7.992,629.95,1349.91,574.91,1071.0,249.584,604.752,302.376,45.0,1099.96,30.08,252.8,285.576,219.184,95.84,36.784,91.475,27.192,15.992,321.552,99.98,319.984,572.8,120.0,1091.93,1649.75,26.982,323.976,31.176,1.98,151.96,132.52,431.976,224.937,79.96,399.54,1079.85,110.352,70.72,239.984,102.13,899.982,139.96,3.152,179.7,177.0,89.544,281.97,95.984,3023.928,26.96,477.6,22.0,1499.97,668.16,16.59,503.96,196.776,51.56,58.416,79.96,223.96,89.97,89.97,979.95,269.98,159.98,206.1,239.97,139.8,135.95,431.136,437.85,39.992,235.188,26.376,10.384,107.118,135.99,319.968,895.944,479.976,44.736,67.8,12.12,159.8,122.382,272.61,62.31,159.98,79.99,124.25,297.55,153.824,127.984,191.968,199.98,2799.96,164.85,223.58,151.2,83.97,39.89,18.0,271.96,249.584,97.98,36.24,79.99,206.1,258.576],\"xaxis\":\"x\",\"y\":[90.7152,68.3568,16.011,11.7741,123.4737,41.7564,16.5564,19.7714,4.95,6.104,298.6855,3.3,6.1512,62.988,6.7966,8.2782,-10.7973,-26.8758,17.6016,2.0994,67.992,19.7316,-11.994,103.8015,5.9988,15.2388,236.2325,1.3596,-1359.992,8.9985,76.6395,131.0296,41.986,7.25,22.984,20.0928,44.4768,35.6346,6.5,-14.6958,-950.4,4.4792,22.6782,-383.9904,-7.7247,11.1944,636.0003,56.6916,6.9258,-509.997,-251.9958,28.7196,35.156,92.3692,376.11,47.96,54.3966,22.298,1995.99,80.0226,129.6,34.9965,-67.8762,-20.7,335.9944,8.3916,4.7976,2.3086,179.1888,-29.94,8.799,-1.0497,-337.638,13.5932,27.7182,701.9883,0.7198,37.7895,434.9913,56.5662,30.0957,76.6395,54.7425,-18.585,43.1991,9.1312,24.9132,377.9622,87.996,7.182,1.9089,57.5928,17.4975,341.994,0.5994,10.3974,13.1572,12.1728,1379.977,5.2877,-12.4146,27.1666,274.386,206.316,38.0864,7.264,6.2995,46.797,4.0095,52.9173,9.2386,30.4776,-20.1362,9.75,434.9913,55.745,-28.7964,-115.3544,-10.1178,41.5773,-157.9383,15.992,10.9939,29.95,30.0768,2.4585,54.3332,22.6782,31.6,10.312,28.6182,40.7499,4.5201,-3839.9904,163.1898,74.0532,24.936,2.2824,52.7824,89.3142,113.9886,5.5992,86.3856,8.4966,0.8994,374.9925,47.92,-26.9955,258.696,51.75,-2.7,0.5998,85.2475,18.8972,247.996,50.9898,2.578,601.9699,71.991,4.068,40.3128,51.8346,17.1574,-111.4995,1.5804,23.4416,49.6048,40.6878,5.1786,-46.797,13.1956,66.9546,14.995,135.98,20.2485,2.7279,323.946,829.3754,56.0547,34.9074,10.5552,53.55,54.3966,2.5893,-31.05,3.2186,679.996,55.9984,44.868,173.0316,762.1845,5.999,36.852,2.499,648.5624,-9.8724,57.4113,11.151,85.2475,125.2692,37.9962,-27.7158,1.999,2400.9657,7.1976,25.1944,19.1786,9.6657,25.186,57.5904,111.591,181.9818,223.054,0.438,209.993,4.5954,49.2723,44.9925,64.674,357.1911,0.693,66.7152,64.7892,16.9975,28.764,64.674,-386.3916,28.7928,34.386,69.999,5.5,285.9896,-8.379,76.704,107.985,18.873,-7.1991,12.8583,30.1968,80.736,2.299,77.7519,52.493,3.3725,71.99,-0.6435,176.1708,-27.828,20.6955,-56.7556,-63.996,-35.9928,15.1188,4.908,34.9965,28.3095,126.0558,11.492,6.104,21.897,26.3967,118.293,32.13,23.0965,-40.4712,42.8805,148.4946,5.998,11.094,1459.2,43.9956,-10.7973,31.996,2.3976,30.09,106.1242,37.7874,3.352,190.08,11.5971,174.9975,39.5428,39.6879,-0.2685,6.2979,-9.153,89.3142,274.386,34.692,22.6764,12.987,20.1584,31.494,-13.6461,10.5,84.495,556.974,7.264,-87.6672,1480.4671,-3.094,-9.1788,54.3332,10.0485,-158.102,-7.4394,-2.3748,5.2125,19.3314,62.988,4.3176,-559.356,3.5742,19.8276,52.49,16.704,11.9988,51.1936,21.0,1.375,3.401,46.602,-55.3,150.36,7.6154,19.5,14.9925,9.816,25.2213,64.7856,195.9944,26.5905,100.9113,22.9954,257.5944,76.272,0.6993,126.8973,-168.9558,374.3792,-263.9967,11.7741,124.68,25.1225,33.5888,-92.6955,47.0376,22.6782,3.9906,6.745,40.7499,49.761,65.978,74.975,107.955,69.993,19.9665,49.4982,23.7993,59.8176,26.3912,57.4113,38.08,40.3128,53.433,6.768,78.9516,102.186,76.6395,-2.1885,362.687,134.3888,191.9968,42.0186,42.0355,21.9945,16.1602,35.9964,280.59,63.984,30.5964,47.8629,69.986,13.7931,66.6351,11.1984,80.4839,11.7,145.782,9.4437,1.0797,15.82,-4.7976,22.087,43.5981,23.997,-8.997,-26.9955,1159.9855,21.9945,7.25,378.1674,8.5025,229.3018,3.8272,233.2204,100.24,-89.089,15.599,35.9964,67.6599,-115.4958,49.4982,131.355,66.9546,24.936,114.9954,377.9946,53.7504,6.6976,77.7519,1.3365,1.2885,601.9699,125.99,31.6,171.93,132.5898,63.8232,27.3528,15.6993,80.9919,93.24,15.8376,59.998,97.1946,2.256,23.96,200.8638,-28.9674,26.973,130.4913,95.2,179.73,43.9956,41.7186,4.0776,86.25,30.432,74.8142,31.122,18.2592,13.604,36.9873,29.0325,11.4296,303.3408,1228.1787,53.997,14.7582,52.7934,41.535,1.1996,1.375,4.4604,122.3856,18.0648,-100.7944,-36.253,211.4955,70.5544,12.0,2.7036,27.69,-35.6174,52.4979,0.0,52.6344,21.5397,39.55,158.7519,364.4595,0.0,6.704,3919.9888,647.892,0.5299,9.1296,-935.9595,2.999,4.1391,28.3095,494.9725,20.8719,111.591,152.0883,49.497,8.1432,-16.426,-1811.0784,17.238,215.9973,37.797,62.3904,15.1158,109.6113,-71.994,94.4937,343.9828,19.9746,94.4925,43.1904,1.5588,47.241,21.9978,-1.3584,129.348,68.5965,71.991,0.4356,-0.6265,1.7991,0.7425,74.8142,-15.992,-15.5844,94.0702,38.3572,78.396,229.9908,22.6782,54.5916,-27.828,-0.9012,4.068,98.2722,91.7892,10.0464,119.996,59.998,35.2872,71.2692,13.7193,26.9985,13.0,0.693,50.3988,11.5971,0.7794,28.7904,-172.4925,-3399.98,-33.32,25.198,10.203,-255.7425,129.6,134.654,874.9875,22.4955,23.5116,7.3479,49.2576,88.1295,15.1116,134.9925,15.998,188.1404,129.5865,62.82,31.198,-47.3968,39.5,70.5564,8.499,-0.5598,35.988,7.7679,607.608,-2639.9912,-16.998,11.7,-17.9964,23.9984,0.5998,355.4466,32.1678,17.1574,14.0859,9.5968,60.1536,4.2861,118.983,141.723,52.4895,124.9552,32.4,107.46,20.1579,-0.0895,46.095,24.7275,4.908,7.9188,2.0388,9.4486,7.9984,33.995,12.586,1.3068,3.4848,1049.985,8.4071,13.1956,49.4376,27.3735,15.2208,767.2005,215.9973,-107.9928,19.0386,28.7679,14.3952,16.704,15.0735,28.497,19.755,37.7972,28.7856,18.8937,31.494,93.5948,-3.272,244.6155,10.3896,539.925,16.6788,68.198,-43.8336,9.9873,7.896,41.88,29.495,19.7934,14.3952,55.4364,7.1988,3.0134,42.9914,15.378,18.504,168.1855,2.7144,12.96,275.478,71.3898,20.3439,20.1584,-97.72,8.619,4.4784,109.3338,29.0,49.3164,257.9871,0.7794,-9.56,10.896,97.1892,60.9552,37.797,145.134,26.3912,209.58,742.632,2.6973,-253.4337,-4.8528,-31.6204,64.7892,16.7946,10.5754,1.7375,5.5944,10.896,-9.7902,-29.0745,41.952,1.7055,94.4925,93.204,19.755,-18.186,209.2365,-45.9954,164.997,30.786,70.5028,314.9895,1.6632,3.462,107.4785,129.9974,327.5818,62.3904,3.052,25.1916,329.994,11.996,22.6476,81.5949,41.993,8.997,10.9584,40.4973,8.2848,118.9965,5.9598,10.0792,51.4975,0.0,329.994,-209.994,113.998,70.0977,15.378,51.4975,89.5888,10.9193,38.08,55.9224,63.7776,6.799,37.758,67.1916,217.767,190.3728,48.9902,18.093,25.5968,-1.1996,-3.2175,-9.7972,52.9173,35.9976,13.1956,12.599,13.9986,44.985,-20.1362,944.9865,223.2855,58.65,33.5895,21.4074,47.8629,-15.1767,34.742,13.4386,239.985,21.0,76.7904,287.982,19.1976,191.968,-15.4581,17.8794,7.4985,110.1195,449.991,213.7044,4.7976,30.2384,1416.8,18.3908,170.5113,17.9955,19.9746,13.8579,-1.428,-944.9946,90.2871,-2.07,0.5998,134.9925,-14.7931,163.787,115.1856,9.816,5039.9856,22.8582,249.995,359.9988,130.2075,5.9988,8.619,-13.2867,1.0346,19.8276,45.1395,6.2937,2365.9818,164.997,-10.7964,327.5922,38.396,66.6344,139.99,-5.6943,-80.9955,0.8997,6.7966,14.628,22.6737,-131.5008,10.9494,85.9828,-4.746,34.742,8.4564,11.1825,13.4386,327.5922,21.7355,27.1032,2.175,160.6722,71.99,15.6375,15.6744,36.2835,1.3596,65.9934,109.998,17.3656,13.1985,51.1485,22.4316,67.495,33.5892,1.0598,16.704,53.7544,49.4376,8.2764,89.997,184.2204,105.468,30.2384,50.3832,13.3371,6.7188,147.475,1007.9832,751.9624,41.88,-0.3444,13.2962,165.3496,33.3172,6.624,86.3928,123.4548,21.5928,22.4316,38.7792,20.1584,3.3099,20.7675,14.9556,62.82,-9.153,6.4308,219.5088,29.799,22.4925,83.5128,16.6788,-6.534,4.36,-7.2589,71.97,179.9964,47.994,-24.276,-34.3148,19.797,265.4232,67.1916,-14.998,29.95,517.4793,6.102,-2.0774,6.999,67.2742,23.5248,1.6776,2.577,6.1192,58.38,3.8655,83.9916,152.388,224.4426,-1.428,77.5584,8.2194,28.7964,16.2486,1114.512,-131.994,-52.641,-250.396,146.7693,21.792,146.7693,133.9713,53.9946,2.034,83.986,193.32,13.9972,84.66,195.9944,105.8316,113.6742,81.5949,274.995,83.9944,8.3524,-93.2316,-1.289,-7.008,5.0328,23.226,296.0671,42.9914,1371.9804,4.4174,80.6316,37.7916,43.164,352.3065,125.198,9.2386,-14.603,19.3932,-162.2296,15.9968,-27.2922,4.36,32.3982,5.7365,2.299,26.3912,33.3576,10.875,19.996,14.7582,-2.918,24.1224,70.312,8.5025,1.8872,135.98,653.301,1.999,2.394,6.0114,53.997,16.7475,2.2365,37.0782,1.636,13.2293,7.7679,9.816,35.6238,41.79,72.7888,10.4985,47.0979,15.1158,26.3934,55.745,15.2208,8.1072,62.93,-8.9964,15.0384,-60.8361,1.1994,659.98,97.2,36.852,8.25,87.4825,10.906,11.6091,6.48,115.1808,-5.6943,19.176,8.799,-186.16,3.475,2.3997,3.8655,527.984,-28.7964,27.986,743.988,75.5748,5.1015,129.348,47.46,34.9825,20.8719,1439.976,8.9994,335.9944,-7.3015,-9.1845,-44.985,163.818,109.7544,131.355,-3.5622,217.767,-4.641,371.316,224.424,174.9825,21.0,21.5988,103.158,85.491,-8.4582,-7.17,132.5898,8.7735,5.7408,2.208,293.9804,36.4473,-22.7435,42.8935,1014.9797,4.1391,1.6038,111.591,8.4564,4.5588,29.994,395.9604,118.293,32.0598,53.272,31.198,17.8794,-2.484,36.7255,624.9875,-1.9791,25.0182,20.235,233.9961,24.2919,43.1976,1.1988,185.997,-0.7295,78.3888,176.7864,-8.1675,5.7568,51.996,274.995,86.3856,2.0394,124.7808,1.017,58.7916,217.767,1.356,362.835,-113.998,4.8231,85.787,19.9665,8.997,9.5992,130.752,18.4772,30.432,125.9874,57.5928,10.788,34.5,32.3351,3.8655,286.713,35.985,363.9048,15.1158,4.8986,25.186,75.18,177.198,6.992,224.9925,38.61,206.316,30.4416,-0.6008,95.76,21.792,350.9082,28.3095,20.3898,-8.18,592.7896,19.1976,8.5025,20.7675,3.462,74.8142,12.599,23.4192,28.3479,53.2,9.116,176.386,32.9817,47.98,-76.9972,13.2522,485.9892,-4.9005,-47.0304,0.2997,35.196,51.8346,7.7679,-20.2356,15.8631,-17.991,6.0114,50.2425,93.594,-7.9984,23.2624,89.964,-4.6764,17.9982,7.7679,19.596,7.3451,3.4965,31.0059,42.495,43.9,1351.9896,52.734,170.5113,27.1032,101.394,8.6352,103.9992,11.1294,33.3256,66.9546,41.9958,-36.9544,14.3952,13.3008,247.485,19.9665,0.6993,9.816,-25.3344,34.6983,1119.9968,-24.4764,13.572,22.6782,13.8579,36.7173,18.8937,25.3302,176.386,35.6346,11.452,-2.5749,50.396,-4.14,36.1836,24.4768,-2.7,-3.272,64.3678,-107.9928,-10.0464,23.2182,-12.9987,899.982,29.988,143.982,41.3374,10.788,71.9928,28.497,118.3704,440.7648,50.4426,75.5958,86.3856,67.99,1.7325,23.7564,116.2425,131.586,2239.9872,134.3328,85.9957,70.5564,29.5186,38.3572,-31.4874,107.9946,25.0182,4.7988,34.96,22.653,165.2868,21.2724,14.8707,19.0386,8.9985,58.464,-4.908,31.4895,107.9892,163.787,29.245,102.9444,-19.47,157.4685,26.9973,-386.957,-7.896,21.42,34.993,-18.0385,-168.819,8399.976,53.4519,3.9032,41.76,1.656,3.4995,148.491,46.7313,-20.691,91.7892,-7.996,-17.9964,8.8008,-56.3108,26.7904,119.4742,167.979,839.986,125.198,59.0372,4.1988,97.0137,-2.249,-13.993,-10.7973,52.7692,38.9975,55.9986,50.396,18.2352,214.4922,4.4792,29.495,17.994,2.2828,58.812,14.1728,164.6316,10.773,65.9634,6.48,89.997,69.9965,139.986,25.1916,303.804,121.9644,7.4975,89.991,1.5291,0.7794,8.3524,545.1884,43.1904,46.5432,-181.265,109.3365,16.6788,22.6737,1.7995,569.9905,25.1916,0.5,25.497,34.5,14.595,32.3015,122.3856,35.8644,-7.119,12.4173,214.4675,-319.1916,35.994,395.988,35.2772,-6.54,42.495,239.976,4.498,132.5898,48.7011,-479.988,15.2988,0.552,-121.2705,-272.58,12.96,25.06,264.5865,21.42,415.9896,-13.3341,371.316,-16.5528,43.5981,-81.664,-50.3928,-73.7061,74.8142,41.986,0.2997,3.278,7.9984,17.6391,-3.094,47.495,-116.9805,-643.71,88.485,16.704,148.1064,215.9892,80.838,449.985,113.6742,204.1092,517.4793,5.997,19.7358,52.9173,18.5391,5.2182,-377.9892,48.3285,629.991,4.9616,-14.34,71.9952,66.1451,216.8244,13.5626,8.3958,40.12,15.0984,4.6193,909.9818,22.5576,-21.945,16.776,7.196,47.243,-1.459,88.1804,-938.28,0.8495,-571.9956,-13.4379,2591.9568,88.3932,4.9878,742.632,187.797,62.4,35.9964,467.9922,58.7916,163.1898,0.5097,32.925,0.5097,51.1872,-75.5958,43.176,28.497,13.17,153.0819,4.779,140.391,107.79,12.208,90.9762,-6599.978,11.9952,7.9812,-1.4994,30.7168,136.2971,10.8784,-3.504,52.4895,38.1576,38.997,1.9136,41.993,57.5928,561.564,23.4,134.56,3.401,-2.7,10.5534,14.0712,171.9914,0.4752,1668.205,8.1072,10.7964,38.396,1.3365,170.997,8.997,249.9104,2.6973,-2.9985,-112.6216,-5.4558,197.991,32.9817,43.176,0.891,2.308,87.89,76.5484,128.9742,78.851,15.743,13.2,4.6193,6.7966,-9.282,11.613,24.9132,15.1116,71.2692,100.7916,86.3892,18.0,32.893,5.1015,377.73,334.4985,58.1796,-87.6672,125.9972,4.4004,15.0984,-31.9936,6719.9808,38.08,95.2,87.89,89.3142,32.688,142.485,449.991,-24.0435,-1.1196,142.9948,2229.024,37.7874,57.12,50.396,-123.998,89.997,27.2952,12.2465,5.1948,250.396,137.264,135.456,41.7186,74.975,26.8752,659.98,8.2782,764.3818,13.8579,2.5216,184.26,58.66,9.2386,91.3248,84.5982,60.4768,-20.1362,14.9925,35.8644,58.179,-6.21,87.9912,4.95,-10.9116,4.4604,4.9616,-71.99,-12.5103,125.997,22.2384,22.6782,-2.918,11.9196,269.308,10.0744,2799.984,161.9919,-6.21,177.5889,1.1988,8.388,61.3305,31.4975,0.2598,-7.396,43.9956,3.384,59.998,83.9916,17.55,134.9955,23.992,89.5888,39.6879,35.985,14.8365,6.7176,89.997,-199.77,-3.6372,244.6155,38.3952,31.198,59.493,-5.264,-6.21,13.572,7.6494,29.0325,177.5889,-1.3995,16.2,143.982,75.9924,60.8832,20.06,69.6546,3.757,33.9065,16.2486,4.4541,-56.3108,-49.4376,48.993,162.0,26.9973,223.9936,11.5136,-17.9928,5.3964,0.7092,-12.7302,244.6155,-20.997,-4.641,38.9974,33.495,19.9665,57.6,9.1845,19.596,54.3936,47.0351,72.975,15.8376,336.635,239.996,62.1544,11.4741,19.775,89.3142,311.9948,25.172,131.9868,39.5868,11.151,8.352,-7.7247,39.8886,-7.996,3.596,3.475,77.22,-71.3958,225.6,86.3892,-0.6265,1.3986,220.4853,10.35,148.491,6.168,6.6976,15.5961,-32.3838,57.5928,19.755,143.9968,17.9982,10.8558,209.979,16.998,-251.9874,7.6154,-7.2,37.495,18.8937,14.4,-25.198,-1.1874,9.2386,2302.9671,21.9975,4.4004,12.3144,0.833,26.3934,21.42,7.9984,9.0171,9.7972,2.7192,-12.4146,163.1898,45.588,31.4895,2.8784,8.5722,6.924,23.5248,67.188,18.8937,17.994,21.5397,83.9944,11.732,27.7158,128.6805,33.5895,36.3972,4.3624,38.9975,-93.08,41.697,13.572,95.1888,47.994,12.208,70.1955,42.9914,1.45,104.7222,0.7425,503.64,8.997,3.9144,44.2425,7.8064,3.8024,38.7792,-16.614,125.3,7.4655,68.198,220.4825,63.984,303.3408,11.98,8.2848,24.4768,6.123,15.918,-27.7158,-2.994,34.1784,75.18,11.7576,-11.5188,52.493,10.5,13.674,2.5974,157.4875,661.4559,156.047,171.36,15.599,60.4752,37.797,4.95,82.497,-5.264,-31.6,-57.1152,19.1786,34.742,-8.2764,-1.8295,0.3399,-2.9985,20.097,3.9992,91.9954,50.12,46.8,272.9825,544.4175,4.0473,36.4473,-7.0146,0.891,36.4704,34.7865,-75.5958,-164.9538,22.3888,-79.908,323.955,8.2764,-6.188,23.9984,15.3195,74.9985,-1.7495,0.4728,88.053,30.09,12.3123,78.9516,11.998,226.7946,3.7744,161.19,1.375,-374.9925,75.168,5.8065,125.99,14.7582,-6.445,16.7946,7.996,11.198,39.5868,37.7874,284.1855,72.8946,57.5928,55.647,86.3892,12.2325,39.4255,-26.946,131.355,6.9986,-43.1178,2.6376,2.2066,-21.4236,36.7173,95.9904,190.3881,161.9919,4.4736,1.356,2.5452,70.312,-24.4764,98.1396,22.4316,57.5928,28.7964,48.4575,83.314,38.456,25.5968,28.7952,53.9946,944.9865,47.8065,87.1962,32.13,15.9543,14.7593,3.24,27.196,31.198,25.4344,14.25,28.7964,55.647,19.3932],\"yaxis\":\"y\",\"type\":\"scattergl\"}],                        {\"template\":{\"data\":{\"histogram2dcontour\":[{\"type\":\"histogram2dcontour\",\"colorbar\":{\"outlinewidth\":0,\"ticks\":\"\"},\"colorscale\":[[0.0,\"#0d0887\"],[0.1111111111111111,\"#46039f\"],[0.2222222222222222,\"#7201a8\"],[0.3333333333333333,\"#9c179e\"],[0.4444444444444444,\"#bd3786\"],[0.5555555555555556,\"#d8576b\"],[0.6666666666666666,\"#ed7953\"],[0.7777777777777778,\"#fb9f3a\"],[0.8888888888888888,\"#fdca26\"],[1.0,\"#f0f921\"]]}],\"choropleth\":[{\"type\":\"choropleth\",\"colorbar\":{\"outlinewidth\":0,\"ticks\":\"\"}}],\"histogram2d\":[{\"type\":\"histogram2d\",\"colorbar\":{\"outlinewidth\":0,\"ticks\":\"\"},\"colorscale\":[[0.0,\"#0d0887\"],[0.1111111111111111,\"#46039f\"],[0.2222222222222222,\"#7201a8\"],[0.3333333333333333,\"#9c179e\"],[0.4444444444444444,\"#bd3786\"],[0.5555555555555556,\"#d8576b\"],[0.6666666666666666,\"#ed7953\"],[0.7777777777777778,\"#fb9f3a\"],[0.8888888888888888,\"#fdca26\"],[1.0,\"#f0f921\"]]}],\"heatmap\":[{\"type\":\"heatmap\",\"colorbar\":{\"outlinewidth\":0,\"ticks\":\"\"},\"colorscale\":[[0.0,\"#0d0887\"],[0.1111111111111111,\"#46039f\"],[0.2222222222222222,\"#7201a8\"],[0.3333333333333333,\"#9c179e\"],[0.4444444444444444,\"#bd3786\"],[0.5555555555555556,\"#d8576b\"],[0.6666666666666666,\"#ed7953\"],[0.7777777777777778,\"#fb9f3a\"],[0.8888888888888888,\"#fdca26\"],[1.0,\"#f0f921\"]]}],\"heatmapgl\":[{\"type\":\"heatmapgl\",\"colorbar\":{\"outlinewidth\":0,\"ticks\":\"\"},\"colorscale\":[[0.0,\"#0d0887\"],[0.1111111111111111,\"#46039f\"],[0.2222222222222222,\"#7201a8\"],[0.3333333333333333,\"#9c179e\"],[0.4444444444444444,\"#bd3786\"],[0.5555555555555556,\"#d8576b\"],[0.6666666666666666,\"#ed7953\"],[0.7777777777777778,\"#fb9f3a\"],[0.8888888888888888,\"#fdca26\"],[1.0,\"#f0f921\"]]}],\"contourcarpet\":[{\"type\":\"contourcarpet\",\"colorbar\":{\"outlinewidth\":0,\"ticks\":\"\"}}],\"contour\":[{\"type\":\"contour\",\"colorbar\":{\"outlinewidth\":0,\"ticks\":\"\"},\"colorscale\":[[0.0,\"#0d0887\"],[0.1111111111111111,\"#46039f\"],[0.2222222222222222,\"#7201a8\"],[0.3333333333333333,\"#9c179e\"],[0.4444444444444444,\"#bd3786\"],[0.5555555555555556,\"#d8576b\"],[0.6666666666666666,\"#ed7953\"],[0.7777777777777778,\"#fb9f3a\"],[0.8888888888888888,\"#fdca26\"],[1.0,\"#f0f921\"]]}],\"surface\":[{\"type\":\"surface\",\"colorbar\":{\"outlinewidth\":0,\"ticks\":\"\"},\"colorscale\":[[0.0,\"#0d0887\"],[0.1111111111111111,\"#46039f\"],[0.2222222222222222,\"#7201a8\"],[0.3333333333333333,\"#9c179e\"],[0.4444444444444444,\"#bd3786\"],[0.5555555555555556,\"#d8576b\"],[0.6666666666666666,\"#ed7953\"],[0.7777777777777778,\"#fb9f3a\"],[0.8888888888888888,\"#fdca26\"],[1.0,\"#f0f921\"]]}],\"mesh3d\":[{\"type\":\"mesh3d\",\"colorbar\":{\"outlinewidth\":0,\"ticks\":\"\"}}],\"scatter\":[{\"fillpattern\":{\"fillmode\":\"overlay\",\"size\":10,\"solidity\":0.2},\"type\":\"scatter\"}],\"parcoords\":[{\"type\":\"parcoords\",\"line\":{\"colorbar\":{\"outlinewidth\":0,\"ticks\":\"\"}}}],\"scatterpolargl\":[{\"type\":\"scatterpolargl\",\"marker\":{\"colorbar\":{\"outlinewidth\":0,\"ticks\":\"\"}}}],\"bar\":[{\"error_x\":{\"color\":\"#2a3f5f\"},\"error_y\":{\"color\":\"#2a3f5f\"},\"marker\":{\"line\":{\"color\":\"#E5ECF6\",\"width\":0.5},\"pattern\":{\"fillmode\":\"overlay\",\"size\":10,\"solidity\":0.2}},\"type\":\"bar\"}],\"scattergeo\":[{\"type\":\"scattergeo\",\"marker\":{\"colorbar\":{\"outlinewidth\":0,\"ticks\":\"\"}}}],\"scatterpolar\":[{\"type\":\"scatterpolar\",\"marker\":{\"colorbar\":{\"outlinewidth\":0,\"ticks\":\"\"}}}],\"histogram\":[{\"marker\":{\"pattern\":{\"fillmode\":\"overlay\",\"size\":10,\"solidity\":0.2}},\"type\":\"histogram\"}],\"scattergl\":[{\"type\":\"scattergl\",\"marker\":{\"colorbar\":{\"outlinewidth\":0,\"ticks\":\"\"}}}],\"scatter3d\":[{\"type\":\"scatter3d\",\"line\":{\"colorbar\":{\"outlinewidth\":0,\"ticks\":\"\"}},\"marker\":{\"colorbar\":{\"outlinewidth\":0,\"ticks\":\"\"}}}],\"scattermapbox\":[{\"type\":\"scattermapbox\",\"marker\":{\"colorbar\":{\"outlinewidth\":0,\"ticks\":\"\"}}}],\"scatterternary\":[{\"type\":\"scatterternary\",\"marker\":{\"colorbar\":{\"outlinewidth\":0,\"ticks\":\"\"}}}],\"scattercarpet\":[{\"type\":\"scattercarpet\",\"marker\":{\"colorbar\":{\"outlinewidth\":0,\"ticks\":\"\"}}}],\"carpet\":[{\"aaxis\":{\"endlinecolor\":\"#2a3f5f\",\"gridcolor\":\"white\",\"linecolor\":\"white\",\"minorgridcolor\":\"white\",\"startlinecolor\":\"#2a3f5f\"},\"baxis\":{\"endlinecolor\":\"#2a3f5f\",\"gridcolor\":\"white\",\"linecolor\":\"white\",\"minorgridcolor\":\"white\",\"startlinecolor\":\"#2a3f5f\"},\"type\":\"carpet\"}],\"table\":[{\"cells\":{\"fill\":{\"color\":\"#EBF0F8\"},\"line\":{\"color\":\"white\"}},\"header\":{\"fill\":{\"color\":\"#C8D4E3\"},\"line\":{\"color\":\"white\"}},\"type\":\"table\"}],\"barpolar\":[{\"marker\":{\"line\":{\"color\":\"#E5ECF6\",\"width\":0.5},\"pattern\":{\"fillmode\":\"overlay\",\"size\":10,\"solidity\":0.2}},\"type\":\"barpolar\"}],\"pie\":[{\"automargin\":true,\"type\":\"pie\"}]},\"layout\":{\"autotypenumbers\":\"strict\",\"colorway\":[\"#636efa\",\"#EF553B\",\"#00cc96\",\"#ab63fa\",\"#FFA15A\",\"#19d3f3\",\"#FF6692\",\"#B6E880\",\"#FF97FF\",\"#FECB52\"],\"font\":{\"color\":\"#2a3f5f\"},\"hovermode\":\"closest\",\"hoverlabel\":{\"align\":\"left\"},\"paper_bgcolor\":\"white\",\"plot_bgcolor\":\"#E5ECF6\",\"polar\":{\"bgcolor\":\"#E5ECF6\",\"angularaxis\":{\"gridcolor\":\"white\",\"linecolor\":\"white\",\"ticks\":\"\"},\"radialaxis\":{\"gridcolor\":\"white\",\"linecolor\":\"white\",\"ticks\":\"\"}},\"ternary\":{\"bgcolor\":\"#E5ECF6\",\"aaxis\":{\"gridcolor\":\"white\",\"linecolor\":\"white\",\"ticks\":\"\"},\"baxis\":{\"gridcolor\":\"white\",\"linecolor\":\"white\",\"ticks\":\"\"},\"caxis\":{\"gridcolor\":\"white\",\"linecolor\":\"white\",\"ticks\":\"\"}},\"coloraxis\":{\"colorbar\":{\"outlinewidth\":0,\"ticks\":\"\"}},\"colorscale\":{\"sequential\":[[0.0,\"#0d0887\"],[0.1111111111111111,\"#46039f\"],[0.2222222222222222,\"#7201a8\"],[0.3333333333333333,\"#9c179e\"],[0.4444444444444444,\"#bd3786\"],[0.5555555555555556,\"#d8576b\"],[0.6666666666666666,\"#ed7953\"],[0.7777777777777778,\"#fb9f3a\"],[0.8888888888888888,\"#fdca26\"],[1.0,\"#f0f921\"]],\"sequentialminus\":[[0.0,\"#0d0887\"],[0.1111111111111111,\"#46039f\"],[0.2222222222222222,\"#7201a8\"],[0.3333333333333333,\"#9c179e\"],[0.4444444444444444,\"#bd3786\"],[0.5555555555555556,\"#d8576b\"],[0.6666666666666666,\"#ed7953\"],[0.7777777777777778,\"#fb9f3a\"],[0.8888888888888888,\"#fdca26\"],[1.0,\"#f0f921\"]],\"diverging\":[[0,\"#8e0152\"],[0.1,\"#c51b7d\"],[0.2,\"#de77ae\"],[0.3,\"#f1b6da\"],[0.4,\"#fde0ef\"],[0.5,\"#f7f7f7\"],[0.6,\"#e6f5d0\"],[0.7,\"#b8e186\"],[0.8,\"#7fbc41\"],[0.9,\"#4d9221\"],[1,\"#276419\"]]},\"xaxis\":{\"gridcolor\":\"white\",\"linecolor\":\"white\",\"ticks\":\"\",\"title\":{\"standoff\":15},\"zerolinecolor\":\"white\",\"automargin\":true,\"zerolinewidth\":2},\"yaxis\":{\"gridcolor\":\"white\",\"linecolor\":\"white\",\"ticks\":\"\",\"title\":{\"standoff\":15},\"zerolinecolor\":\"white\",\"automargin\":true,\"zerolinewidth\":2},\"scene\":{\"xaxis\":{\"backgroundcolor\":\"#E5ECF6\",\"gridcolor\":\"white\",\"linecolor\":\"white\",\"showbackground\":true,\"ticks\":\"\",\"zerolinecolor\":\"white\",\"gridwidth\":2},\"yaxis\":{\"backgroundcolor\":\"#E5ECF6\",\"gridcolor\":\"white\",\"linecolor\":\"white\",\"showbackground\":true,\"ticks\":\"\",\"zerolinecolor\":\"white\",\"gridwidth\":2},\"zaxis\":{\"backgroundcolor\":\"#E5ECF6\",\"gridcolor\":\"white\",\"linecolor\":\"white\",\"showbackground\":true,\"ticks\":\"\",\"zerolinecolor\":\"white\",\"gridwidth\":2}},\"shapedefaults\":{\"line\":{\"color\":\"#2a3f5f\"}},\"annotationdefaults\":{\"arrowcolor\":\"#2a3f5f\",\"arrowhead\":0,\"arrowwidth\":1},\"geo\":{\"bgcolor\":\"white\",\"landcolor\":\"#E5ECF6\",\"subunitcolor\":\"white\",\"showland\":true,\"showlakes\":true,\"lakecolor\":\"white\"},\"title\":{\"x\":0.05},\"mapbox\":{\"style\":\"light\"}}},\"xaxis\":{\"anchor\":\"y\",\"domain\":[0.0,1.0],\"title\":{\"text\":\"Vendas\"}},\"yaxis\":{\"anchor\":\"x\",\"domain\":[0.0,1.0],\"title\":{\"text\":\"Lucro\"}},\"legend\":{\"title\":{\"text\":\"Categoria\"},\"tracegroupgap\":0},\"title\":{\"text\":\"Rela\\u00e7\\u00e3o entre Vendas e Lucro por Categoria\"},\"width\":1300,\"height\":500},                        {\"responsive\": true}                    ).then(function(){\n",
              "                            \n",
              "var gd = document.getElementById('ca3ca70f-8907-43c6-a684-b37a588cb401');\n",
              "var x = new MutationObserver(function (mutations, observer) {{\n",
              "        var display = window.getComputedStyle(gd).display;\n",
              "        if (!display || display === 'none') {{\n",
              "            console.log([gd, 'removed!']);\n",
              "            Plotly.purge(gd);\n",
              "            observer.disconnect();\n",
              "        }}\n",
              "}});\n",
              "\n",
              "// Listen for the removal of the full notebook cells\n",
              "var notebookContainer = gd.closest('#notebook-container');\n",
              "if (notebookContainer) {{\n",
              "    x.observe(notebookContainer, {childList: true});\n",
              "}}\n",
              "\n",
              "// Listen for the clearing of the current output cell\n",
              "var outputEl = gd.closest('.output');\n",
              "if (outputEl) {{\n",
              "    x.observe(outputEl, {childList: true});\n",
              "}}\n",
              "\n",
              "                        })                };                            </script>        </div>\n",
              "</body>\n",
              "</html>"
            ]
          },
          "metadata": {}
        }
      ]
    },
    {
      "cell_type": "markdown",
      "source": [
        "## 5.4 Heatmap de Correlação - Vendas, Lucros e Descontos"
      ],
      "metadata": {
        "id": "exLuOHNO9ym0"
      }
    },
    {
      "cell_type": "markdown",
      "source": [
        "Esse heatmap tem a finalidade de demonstrar a correlação entre vendas, lucro e descontos. Os insights podem melhorar as estratégias de marketing e vendas. Por exemplo, caso haja uma alta correlação entre descontos e vendas, uma decisão de marketing para a área promocional da empresa seria ampliar descontos, por exemplo."
      ],
      "metadata": {
        "id": "o0IzL0SV9x3z"
      }
    },
    {
      "cell_type": "code",
      "source": [
        "import plotly.graph_objects as go\n",
        "\n",
        "# Calcular a matriz de correlação\n",
        "correlation_matrix = df_store[['Vendas', 'Lucro', 'Desconto']].corr()\n",
        "\n",
        "# Criar o mapa de calor com valores de correlação no centro de cada célula\n",
        "fig = go.Figure(data=go.Heatmap(\n",
        "    z=correlation_matrix.values,\n",
        "    x=correlation_matrix.columns,\n",
        "    y=correlation_matrix.index,\n",
        "    colorscale='Greens',\n",
        "    colorbar=dict(title='Correlação'),\n",
        "    text=correlation_matrix.values,\n",
        "    texttemplate='%{text:.2f}',\n",
        "    textfont=dict(size=14)\n",
        "))\n",
        "\n",
        "# Atualizar o layout para alterar o tamanho da figura\n",
        "fig.update_layout(\n",
        "    title='Mapa de Calor - Correlação entre Venda, Lucro e Desconto',\n",
        "    width=600,  # Largura da figura\n",
        "    height=600  # Altura da figura\n",
        ")\n",
        "\n",
        "# Mostrar o gráfico\n",
        "fig.show()"
      ],
      "metadata": {
        "colab": {
          "base_uri": "https://localhost:8080/",
          "height": 617
        },
        "id": "eWO8PB9Zja_d",
        "outputId": "d450d63b-4ee9-4bee-e842-4e9a9f943e63"
      },
      "execution_count": 31,
      "outputs": [
        {
          "output_type": "display_data",
          "data": {
            "text/html": [
              "<html>\n",
              "<head><meta charset=\"utf-8\" /></head>\n",
              "<body>\n",
              "    <div>            <script src=\"https://cdnjs.cloudflare.com/ajax/libs/mathjax/2.7.5/MathJax.js?config=TeX-AMS-MML_SVG\"></script><script type=\"text/javascript\">if (window.MathJax && window.MathJax.Hub && window.MathJax.Hub.Config) {window.MathJax.Hub.Config({SVG: {font: \"STIX-Web\"}});}</script>                <script type=\"text/javascript\">window.PlotlyConfig = {MathJaxConfig: 'local'};</script>\n",
              "        <script charset=\"utf-8\" src=\"https://cdn.plot.ly/plotly-2.24.1.min.js\"></script>                <div id=\"b252fbec-056a-4044-96e0-d26b21b42b7c\" class=\"plotly-graph-div\" style=\"height:600px; width:600px;\"></div>            <script type=\"text/javascript\">                                    window.PLOTLYENV=window.PLOTLYENV || {};                                    if (document.getElementById(\"b252fbec-056a-4044-96e0-d26b21b42b7c\")) {                    Plotly.newPlot(                        \"b252fbec-056a-4044-96e0-d26b21b42b7c\",                        [{\"colorbar\":{\"title\":{\"text\":\"Correla\\u00e7\\u00e3o\"}},\"colorscale\":[[0.0,\"rgb(247,252,245)\"],[0.125,\"rgb(229,245,224)\"],[0.25,\"rgb(199,233,192)\"],[0.375,\"rgb(161,217,155)\"],[0.5,\"rgb(116,196,118)\"],[0.625,\"rgb(65,171,93)\"],[0.75,\"rgb(35,139,69)\"],[0.875,\"rgb(0,109,44)\"],[1.0,\"rgb(0,68,27)\"]],\"text\":[[1.0,0.47906463016014517,-0.028190001626197444],[0.47906463016014517,1.0,-0.21948648901234377],[-0.028190001626197444,-0.21948648901234377,1.0]],\"textfont\":{\"size\":14},\"texttemplate\":\"%{text:.2f}\",\"x\":[\"Vendas\",\"Lucro\",\"Desconto\"],\"y\":[\"Vendas\",\"Lucro\",\"Desconto\"],\"z\":[[1.0,0.47906463016014517,-0.028190001626197444],[0.47906463016014517,1.0,-0.21948648901234377],[-0.028190001626197444,-0.21948648901234377,1.0]],\"type\":\"heatmap\"}],                        {\"template\":{\"data\":{\"histogram2dcontour\":[{\"type\":\"histogram2dcontour\",\"colorbar\":{\"outlinewidth\":0,\"ticks\":\"\"},\"colorscale\":[[0.0,\"#0d0887\"],[0.1111111111111111,\"#46039f\"],[0.2222222222222222,\"#7201a8\"],[0.3333333333333333,\"#9c179e\"],[0.4444444444444444,\"#bd3786\"],[0.5555555555555556,\"#d8576b\"],[0.6666666666666666,\"#ed7953\"],[0.7777777777777778,\"#fb9f3a\"],[0.8888888888888888,\"#fdca26\"],[1.0,\"#f0f921\"]]}],\"choropleth\":[{\"type\":\"choropleth\",\"colorbar\":{\"outlinewidth\":0,\"ticks\":\"\"}}],\"histogram2d\":[{\"type\":\"histogram2d\",\"colorbar\":{\"outlinewidth\":0,\"ticks\":\"\"},\"colorscale\":[[0.0,\"#0d0887\"],[0.1111111111111111,\"#46039f\"],[0.2222222222222222,\"#7201a8\"],[0.3333333333333333,\"#9c179e\"],[0.4444444444444444,\"#bd3786\"],[0.5555555555555556,\"#d8576b\"],[0.6666666666666666,\"#ed7953\"],[0.7777777777777778,\"#fb9f3a\"],[0.8888888888888888,\"#fdca26\"],[1.0,\"#f0f921\"]]}],\"heatmap\":[{\"type\":\"heatmap\",\"colorbar\":{\"outlinewidth\":0,\"ticks\":\"\"},\"colorscale\":[[0.0,\"#0d0887\"],[0.1111111111111111,\"#46039f\"],[0.2222222222222222,\"#7201a8\"],[0.3333333333333333,\"#9c179e\"],[0.4444444444444444,\"#bd3786\"],[0.5555555555555556,\"#d8576b\"],[0.6666666666666666,\"#ed7953\"],[0.7777777777777778,\"#fb9f3a\"],[0.8888888888888888,\"#fdca26\"],[1.0,\"#f0f921\"]]}],\"heatmapgl\":[{\"type\":\"heatmapgl\",\"colorbar\":{\"outlinewidth\":0,\"ticks\":\"\"},\"colorscale\":[[0.0,\"#0d0887\"],[0.1111111111111111,\"#46039f\"],[0.2222222222222222,\"#7201a8\"],[0.3333333333333333,\"#9c179e\"],[0.4444444444444444,\"#bd3786\"],[0.5555555555555556,\"#d8576b\"],[0.6666666666666666,\"#ed7953\"],[0.7777777777777778,\"#fb9f3a\"],[0.8888888888888888,\"#fdca26\"],[1.0,\"#f0f921\"]]}],\"contourcarpet\":[{\"type\":\"contourcarpet\",\"colorbar\":{\"outlinewidth\":0,\"ticks\":\"\"}}],\"contour\":[{\"type\":\"contour\",\"colorbar\":{\"outlinewidth\":0,\"ticks\":\"\"},\"colorscale\":[[0.0,\"#0d0887\"],[0.1111111111111111,\"#46039f\"],[0.2222222222222222,\"#7201a8\"],[0.3333333333333333,\"#9c179e\"],[0.4444444444444444,\"#bd3786\"],[0.5555555555555556,\"#d8576b\"],[0.6666666666666666,\"#ed7953\"],[0.7777777777777778,\"#fb9f3a\"],[0.8888888888888888,\"#fdca26\"],[1.0,\"#f0f921\"]]}],\"surface\":[{\"type\":\"surface\",\"colorbar\":{\"outlinewidth\":0,\"ticks\":\"\"},\"colorscale\":[[0.0,\"#0d0887\"],[0.1111111111111111,\"#46039f\"],[0.2222222222222222,\"#7201a8\"],[0.3333333333333333,\"#9c179e\"],[0.4444444444444444,\"#bd3786\"],[0.5555555555555556,\"#d8576b\"],[0.6666666666666666,\"#ed7953\"],[0.7777777777777778,\"#fb9f3a\"],[0.8888888888888888,\"#fdca26\"],[1.0,\"#f0f921\"]]}],\"mesh3d\":[{\"type\":\"mesh3d\",\"colorbar\":{\"outlinewidth\":0,\"ticks\":\"\"}}],\"scatter\":[{\"fillpattern\":{\"fillmode\":\"overlay\",\"size\":10,\"solidity\":0.2},\"type\":\"scatter\"}],\"parcoords\":[{\"type\":\"parcoords\",\"line\":{\"colorbar\":{\"outlinewidth\":0,\"ticks\":\"\"}}}],\"scatterpolargl\":[{\"type\":\"scatterpolargl\",\"marker\":{\"colorbar\":{\"outlinewidth\":0,\"ticks\":\"\"}}}],\"bar\":[{\"error_x\":{\"color\":\"#2a3f5f\"},\"error_y\":{\"color\":\"#2a3f5f\"},\"marker\":{\"line\":{\"color\":\"#E5ECF6\",\"width\":0.5},\"pattern\":{\"fillmode\":\"overlay\",\"size\":10,\"solidity\":0.2}},\"type\":\"bar\"}],\"scattergeo\":[{\"type\":\"scattergeo\",\"marker\":{\"colorbar\":{\"outlinewidth\":0,\"ticks\":\"\"}}}],\"scatterpolar\":[{\"type\":\"scatterpolar\",\"marker\":{\"colorbar\":{\"outlinewidth\":0,\"ticks\":\"\"}}}],\"histogram\":[{\"marker\":{\"pattern\":{\"fillmode\":\"overlay\",\"size\":10,\"solidity\":0.2}},\"type\":\"histogram\"}],\"scattergl\":[{\"type\":\"scattergl\",\"marker\":{\"colorbar\":{\"outlinewidth\":0,\"ticks\":\"\"}}}],\"scatter3d\":[{\"type\":\"scatter3d\",\"line\":{\"colorbar\":{\"outlinewidth\":0,\"ticks\":\"\"}},\"marker\":{\"colorbar\":{\"outlinewidth\":0,\"ticks\":\"\"}}}],\"scattermapbox\":[{\"type\":\"scattermapbox\",\"marker\":{\"colorbar\":{\"outlinewidth\":0,\"ticks\":\"\"}}}],\"scatterternary\":[{\"type\":\"scatterternary\",\"marker\":{\"colorbar\":{\"outlinewidth\":0,\"ticks\":\"\"}}}],\"scattercarpet\":[{\"type\":\"scattercarpet\",\"marker\":{\"colorbar\":{\"outlinewidth\":0,\"ticks\":\"\"}}}],\"carpet\":[{\"aaxis\":{\"endlinecolor\":\"#2a3f5f\",\"gridcolor\":\"white\",\"linecolor\":\"white\",\"minorgridcolor\":\"white\",\"startlinecolor\":\"#2a3f5f\"},\"baxis\":{\"endlinecolor\":\"#2a3f5f\",\"gridcolor\":\"white\",\"linecolor\":\"white\",\"minorgridcolor\":\"white\",\"startlinecolor\":\"#2a3f5f\"},\"type\":\"carpet\"}],\"table\":[{\"cells\":{\"fill\":{\"color\":\"#EBF0F8\"},\"line\":{\"color\":\"white\"}},\"header\":{\"fill\":{\"color\":\"#C8D4E3\"},\"line\":{\"color\":\"white\"}},\"type\":\"table\"}],\"barpolar\":[{\"marker\":{\"line\":{\"color\":\"#E5ECF6\",\"width\":0.5},\"pattern\":{\"fillmode\":\"overlay\",\"size\":10,\"solidity\":0.2}},\"type\":\"barpolar\"}],\"pie\":[{\"automargin\":true,\"type\":\"pie\"}]},\"layout\":{\"autotypenumbers\":\"strict\",\"colorway\":[\"#636efa\",\"#EF553B\",\"#00cc96\",\"#ab63fa\",\"#FFA15A\",\"#19d3f3\",\"#FF6692\",\"#B6E880\",\"#FF97FF\",\"#FECB52\"],\"font\":{\"color\":\"#2a3f5f\"},\"hovermode\":\"closest\",\"hoverlabel\":{\"align\":\"left\"},\"paper_bgcolor\":\"white\",\"plot_bgcolor\":\"#E5ECF6\",\"polar\":{\"bgcolor\":\"#E5ECF6\",\"angularaxis\":{\"gridcolor\":\"white\",\"linecolor\":\"white\",\"ticks\":\"\"},\"radialaxis\":{\"gridcolor\":\"white\",\"linecolor\":\"white\",\"ticks\":\"\"}},\"ternary\":{\"bgcolor\":\"#E5ECF6\",\"aaxis\":{\"gridcolor\":\"white\",\"linecolor\":\"white\",\"ticks\":\"\"},\"baxis\":{\"gridcolor\":\"white\",\"linecolor\":\"white\",\"ticks\":\"\"},\"caxis\":{\"gridcolor\":\"white\",\"linecolor\":\"white\",\"ticks\":\"\"}},\"coloraxis\":{\"colorbar\":{\"outlinewidth\":0,\"ticks\":\"\"}},\"colorscale\":{\"sequential\":[[0.0,\"#0d0887\"],[0.1111111111111111,\"#46039f\"],[0.2222222222222222,\"#7201a8\"],[0.3333333333333333,\"#9c179e\"],[0.4444444444444444,\"#bd3786\"],[0.5555555555555556,\"#d8576b\"],[0.6666666666666666,\"#ed7953\"],[0.7777777777777778,\"#fb9f3a\"],[0.8888888888888888,\"#fdca26\"],[1.0,\"#f0f921\"]],\"sequentialminus\":[[0.0,\"#0d0887\"],[0.1111111111111111,\"#46039f\"],[0.2222222222222222,\"#7201a8\"],[0.3333333333333333,\"#9c179e\"],[0.4444444444444444,\"#bd3786\"],[0.5555555555555556,\"#d8576b\"],[0.6666666666666666,\"#ed7953\"],[0.7777777777777778,\"#fb9f3a\"],[0.8888888888888888,\"#fdca26\"],[1.0,\"#f0f921\"]],\"diverging\":[[0,\"#8e0152\"],[0.1,\"#c51b7d\"],[0.2,\"#de77ae\"],[0.3,\"#f1b6da\"],[0.4,\"#fde0ef\"],[0.5,\"#f7f7f7\"],[0.6,\"#e6f5d0\"],[0.7,\"#b8e186\"],[0.8,\"#7fbc41\"],[0.9,\"#4d9221\"],[1,\"#276419\"]]},\"xaxis\":{\"gridcolor\":\"white\",\"linecolor\":\"white\",\"ticks\":\"\",\"title\":{\"standoff\":15},\"zerolinecolor\":\"white\",\"automargin\":true,\"zerolinewidth\":2},\"yaxis\":{\"gridcolor\":\"white\",\"linecolor\":\"white\",\"ticks\":\"\",\"title\":{\"standoff\":15},\"zerolinecolor\":\"white\",\"automargin\":true,\"zerolinewidth\":2},\"scene\":{\"xaxis\":{\"backgroundcolor\":\"#E5ECF6\",\"gridcolor\":\"white\",\"linecolor\":\"white\",\"showbackground\":true,\"ticks\":\"\",\"zerolinecolor\":\"white\",\"gridwidth\":2},\"yaxis\":{\"backgroundcolor\":\"#E5ECF6\",\"gridcolor\":\"white\",\"linecolor\":\"white\",\"showbackground\":true,\"ticks\":\"\",\"zerolinecolor\":\"white\",\"gridwidth\":2},\"zaxis\":{\"backgroundcolor\":\"#E5ECF6\",\"gridcolor\":\"white\",\"linecolor\":\"white\",\"showbackground\":true,\"ticks\":\"\",\"zerolinecolor\":\"white\",\"gridwidth\":2}},\"shapedefaults\":{\"line\":{\"color\":\"#2a3f5f\"}},\"annotationdefaults\":{\"arrowcolor\":\"#2a3f5f\",\"arrowhead\":0,\"arrowwidth\":1},\"geo\":{\"bgcolor\":\"white\",\"landcolor\":\"#E5ECF6\",\"subunitcolor\":\"white\",\"showland\":true,\"showlakes\":true,\"lakecolor\":\"white\"},\"title\":{\"x\":0.05},\"mapbox\":{\"style\":\"light\"}}},\"title\":{\"text\":\"Mapa de Calor - Correla\\u00e7\\u00e3o entre Venda, Lucro e Desconto\"},\"width\":600,\"height\":600},                        {\"responsive\": true}                    ).then(function(){\n",
              "                            \n",
              "var gd = document.getElementById('b252fbec-056a-4044-96e0-d26b21b42b7c');\n",
              "var x = new MutationObserver(function (mutations, observer) {{\n",
              "        var display = window.getComputedStyle(gd).display;\n",
              "        if (!display || display === 'none') {{\n",
              "            console.log([gd, 'removed!']);\n",
              "            Plotly.purge(gd);\n",
              "            observer.disconnect();\n",
              "        }}\n",
              "}});\n",
              "\n",
              "// Listen for the removal of the full notebook cells\n",
              "var notebookContainer = gd.closest('#notebook-container');\n",
              "if (notebookContainer) {{\n",
              "    x.observe(notebookContainer, {childList: true});\n",
              "}}\n",
              "\n",
              "// Listen for the clearing of the current output cell\n",
              "var outputEl = gd.closest('.output');\n",
              "if (outputEl) {{\n",
              "    x.observe(outputEl, {childList: true});\n",
              "}}\n",
              "\n",
              "                        })                };                            </script>        </div>\n",
              "</body>\n",
              "</html>"
            ]
          },
          "metadata": {}
        }
      ]
    },
    {
      "cell_type": "markdown",
      "source": [
        "## 5.5 BoxPlot"
      ],
      "metadata": {
        "id": "ve8WFXLU-pfE"
      }
    },
    {
      "cell_type": "markdown",
      "source": [
        "Este gráfico tem como objetivo verificar os elementos interquartis e os outliers das vendas entre as 4 regiões dos EUA."
      ],
      "metadata": {
        "id": "OjR-_ZXv-2aM"
      }
    },
    {
      "cell_type": "code",
      "source": [
        " # Criação do boxplot com Plotly\n",
        "fig = px.box(df_store, x='Região', y='Vendas', title='Boxplot das Vendas por Região')\n",
        "\n",
        "# Ajustando a visualização dos elementos internos\n",
        "fig.update_traces(\n",
        "    boxmean=True,  # Mostra a linha da média\n",
        "    boxpoints='outliers',  # Exibe todos os pontos dos dados, incluindo outliers\n",
        "    marker=dict(color='blue', size=4),  # Define cor e tamanho dos pontos dos outliers\n",
        "    line=dict(width=1)  # Aumenta a largura da linha da caixa\n",
        ")\n",
        "\n",
        "# Layout\n",
        "fig.update_layout(\n",
        "    xaxis_title='Região',\n",
        "    yaxis_title='Vendas',\n",
        "    font=dict(\n",
        "        size=16,  # Tamanho da fonte\n",
        "    ),\n",
        "    width=1200,  # Largura do gráfico\n",
        "    height=800,  # Altura do gráfico\n",
        "    margin=dict(\n",
        "        l=120,  # Margem esquerda\n",
        "        r=120,  # Margem direita\n",
        "        b=150,  # Margem inferior\n",
        "        t=100,  # Margem superior\n",
        "        pad=4  # Espaçamento entre o gráfico e o título\n",
        "    ),\n",
        "    showlegend=False  # Oculta a legenda para este exemplo específico\n",
        ")\n",
        "\n",
        "# Exibindo o gráfico\n",
        "fig.show()"
      ],
      "metadata": {
        "colab": {
          "base_uri": "https://localhost:8080/",
          "height": 817
        },
        "id": "0e6q77Y5jxY7",
        "outputId": "589fd09e-3258-4b04-c812-9c74854bdb92"
      },
      "execution_count": 32,
      "outputs": [
        {
          "output_type": "display_data",
          "data": {
            "text/html": [
              "<html>\n",
              "<head><meta charset=\"utf-8\" /></head>\n",
              "<body>\n",
              "    <div>            <script src=\"https://cdnjs.cloudflare.com/ajax/libs/mathjax/2.7.5/MathJax.js?config=TeX-AMS-MML_SVG\"></script><script type=\"text/javascript\">if (window.MathJax && window.MathJax.Hub && window.MathJax.Hub.Config) {window.MathJax.Hub.Config({SVG: {font: \"STIX-Web\"}});}</script>                <script type=\"text/javascript\">window.PlotlyConfig = {MathJaxConfig: 'local'};</script>\n",
              "        <script charset=\"utf-8\" src=\"https://cdn.plot.ly/plotly-2.24.1.min.js\"></script>                <div id=\"c6f85633-aa21-4bcc-8add-f019a525ee26\" class=\"plotly-graph-div\" style=\"height:800px; width:1200px;\"></div>            <script type=\"text/javascript\">                                    window.PLOTLYENV=window.PLOTLYENV || {};                                    if (document.getElementById(\"c6f85633-aa21-4bcc-8add-f019a525ee26\")) {                    Plotly.newPlot(                        \"c6f85633-aa21-4bcc-8add-f019a525ee26\",                        [{\"alignmentgroup\":\"True\",\"hovertemplate\":\"Regi\\u00e3o=%{x}\\u003cbr\\u003eVendas=%{y}\\u003cextra\\u003e\\u003c\\u002fextra\\u003e\",\"legendgroup\":\"\",\"marker\":{\"color\":\"blue\",\"size\":4},\"name\":\"\",\"notched\":false,\"offsetgroup\":\"\",\"orientation\":\"v\",\"showlegend\":false,\"x\":[\"Sul\",\"Sul\",\"Oeste\",\"Sul\",\"Sul\",\"Oeste\",\"Oeste\",\"Oeste\",\"Oeste\",\"Oeste\",\"Oeste\",\"Oeste\",\"Sul\",\"Oeste\",\"Central\",\"Central\",\"Central\",\"Oeste\",\"Oeste\",\"Oeste\",\"Oeste\",\"Central\",\"Central\",\"Leste\",\"Oeste\",\"Oeste\",\"Oeste\",\"Leste\",\"Leste\",\"Leste\",\"Leste\",\"Leste\",\"Leste\",\"Leste\",\"Central\",\"Central\",\"Central\",\"Central\",\"Central\",\"Central\",\"Central\",\"Central\",\"Oeste\",\"Sul\",\"Central\",\"Central\",\"Central\",\"Leste\",\"Leste\",\"Central\",\"Central\",\"Central\",\"Central\",\"Leste\",\"Leste\",\"Leste\",\"Leste\",\"Leste\",\"Leste\",\"Leste\",\"Leste\",\"Leste\",\"Oeste\",\"Oeste\",\"Oeste\",\"Oeste\",\"Central\",\"Oeste\",\"Oeste\",\"Sul\",\"Leste\",\"Central\",\"Sul\",\"Sul\",\"Sul\",\"Central\",\"Central\",\"Central\",\"Central\",\"Sul\",\"Sul\",\"Oeste\",\"Oeste\",\"Sul\",\"Central\",\"Sul\",\"Central\",\"Central\",\"Central\",\"Oeste\",\"Oeste\",\"Oeste\",\"Central\",\"Central\",\"Central\",\"Oeste\",\"Leste\",\"Oeste\",\"Central\",\"Central\",\"Central\",\"Central\",\"Central\",\"Oeste\",\"Oeste\",\"Oeste\",\"Sul\",\"Sul\",\"Sul\",\"Central\",\"Leste\",\"Central\",\"Central\",\"Leste\",\"Leste\",\"Leste\",\"Leste\",\"Oeste\",\"Sul\",\"Leste\",\"Leste\",\"Leste\",\"Leste\",\"Leste\",\"Central\",\"Central\",\"Oeste\",\"Oeste\",\"Oeste\",\"Oeste\",\"Leste\",\"Leste\",\"Leste\",\"Oeste\",\"Oeste\",\"Oeste\",\"Oeste\",\"Oeste\",\"Oeste\",\"Oeste\",\"Leste\",\"Oeste\",\"Oeste\",\"Oeste\",\"Central\",\"Oeste\",\"Leste\",\"Central\",\"Central\",\"Central\",\"Central\",\"Oeste\",\"Oeste\",\"Oeste\",\"Oeste\",\"Oeste\",\"Oeste\",\"Oeste\",\"Central\",\"Central\",\"Oeste\",\"Leste\",\"Oeste\",\"Oeste\",\"Central\",\"Central\",\"Central\",\"Central\",\"Central\",\"Central\",\"Central\",\"Oeste\",\"Oeste\",\"Oeste\",\"Central\",\"Central\",\"Central\",\"Leste\",\"Leste\",\"Leste\",\"Central\",\"Central\",\"Sul\",\"Sul\",\"Sul\",\"Leste\",\"Oeste\",\"Central\",\"Central\",\"Leste\",\"Leste\",\"Leste\",\"Leste\",\"Leste\",\"Oeste\",\"Leste\",\"Leste\",\"Leste\",\"Leste\",\"Leste\",\"Leste\",\"Oeste\",\"Oeste\",\"Central\",\"Sul\",\"Oeste\",\"Central\",\"Central\",\"Central\",\"Central\",\"Central\",\"Central\",\"Leste\",\"Leste\",\"Leste\",\"Leste\",\"Leste\",\"Oeste\",\"Oeste\",\"Leste\",\"Leste\",\"Leste\",\"Leste\",\"Leste\",\"Leste\",\"Central\",\"Central\",\"Central\",\"Sul\",\"Sul\",\"Sul\",\"Sul\",\"Sul\",\"Sul\",\"Sul\",\"Sul\",\"Oeste\",\"Central\",\"Central\",\"Central\",\"Central\",\"Central\",\"Central\",\"Central\",\"Central\",\"Central\",\"Central\",\"Central\",\"Central\",\"Oeste\",\"Oeste\",\"Oeste\",\"Leste\",\"Leste\",\"Central\",\"Central\",\"Central\",\"Central\",\"Leste\",\"Leste\",\"Leste\",\"Central\",\"Central\",\"Central\",\"Central\",\"Oeste\",\"Sul\",\"Leste\",\"Leste\",\"Leste\",\"Oeste\",\"Oeste\",\"Oeste\",\"Oeste\",\"Oeste\",\"Oeste\",\"Leste\",\"Leste\",\"Leste\",\"Leste\",\"Central\",\"Central\",\"Oeste\",\"Oeste\",\"Oeste\",\"Oeste\",\"Sul\",\"Sul\",\"Sul\",\"Leste\",\"Leste\",\"Leste\",\"Leste\",\"Oeste\",\"Oeste\",\"Oeste\",\"Oeste\",\"Oeste\",\"Leste\",\"Leste\",\"Leste\",\"Leste\",\"Leste\",\"Central\",\"Leste\",\"Central\",\"Leste\",\"Leste\",\"Sul\",\"Oeste\",\"Oeste\",\"Oeste\",\"Oeste\",\"Leste\",\"Sul\",\"Sul\",\"Leste\",\"Leste\",\"Leste\",\"Leste\",\"Leste\",\"Leste\",\"Oeste\",\"Oeste\",\"Oeste\",\"Sul\",\"Leste\",\"Leste\",\"Leste\",\"Leste\",\"Leste\",\"Leste\",\"Leste\",\"Leste\",\"Oeste\",\"Oeste\",\"Oeste\",\"Oeste\",\"Oeste\",\"Oeste\",\"Leste\",\"Leste\",\"Leste\",\"Leste\",\"Central\",\"Oeste\",\"Leste\",\"Leste\",\"Leste\",\"Leste\",\"Leste\",\"Leste\",\"Leste\",\"Leste\",\"Leste\",\"Leste\",\"Leste\",\"Leste\",\"Sul\",\"Sul\",\"Sul\",\"Leste\",\"Leste\",\"Leste\",\"Leste\",\"Oeste\",\"Leste\",\"Leste\",\"Leste\",\"Leste\",\"Central\",\"Central\",\"Oeste\",\"Oeste\",\"Oeste\",\"Oeste\",\"Central\",\"Leste\",\"Central\",\"Central\",\"Central\",\"Oeste\",\"Oeste\",\"Central\",\"Sul\",\"Sul\",\"Leste\",\"Leste\",\"Leste\",\"Leste\",\"Leste\",\"Oeste\",\"Oeste\",\"Central\",\"Oeste\",\"Leste\",\"Leste\",\"Central\",\"Central\",\"Central\",\"Central\",\"Central\",\"Sul\",\"Sul\",\"Leste\",\"Oeste\",\"Oeste\",\"Oeste\",\"Oeste\",\"Oeste\",\"Oeste\",\"Oeste\",\"Oeste\",\"Oeste\",\"Oeste\",\"Oeste\",\"Oeste\",\"Oeste\",\"Sul\",\"Oeste\",\"Oeste\",\"Oeste\",\"Leste\",\"Leste\",\"Sul\",\"Central\",\"Central\",\"Leste\",\"Central\",\"Sul\",\"Sul\",\"Sul\",\"Sul\",\"Leste\",\"Sul\",\"Sul\",\"Central\",\"Central\",\"Central\",\"Leste\",\"Central\",\"Central\",\"Central\",\"Central\",\"Central\",\"Central\",\"Central\",\"Leste\",\"Leste\",\"Leste\",\"Leste\",\"Leste\",\"Leste\",\"Leste\",\"Leste\",\"Central\",\"Oeste\",\"Central\",\"Central\",\"Oeste\",\"Oeste\",\"Oeste\",\"Oeste\",\"Oeste\",\"Oeste\",\"Oeste\",\"Oeste\",\"Central\",\"Central\",\"Central\",\"Leste\",\"Oeste\",\"Oeste\",\"Oeste\",\"Oeste\",\"Oeste\",\"Oeste\",\"Oeste\",\"Leste\",\"Leste\",\"Leste\",\"Oeste\",\"Leste\",\"Leste\",\"Oeste\",\"Oeste\",\"Oeste\",\"Central\",\"Central\",\"Central\",\"Central\",\"Leste\",\"Leste\",\"Oeste\",\"Sul\",\"Sul\",\"Oeste\",\"Oeste\",\"Oeste\",\"Oeste\",\"Oeste\",\"Oeste\",\"Oeste\",\"Oeste\",\"Oeste\",\"Leste\",\"Sul\",\"Sul\",\"Sul\",\"Sul\",\"Central\",\"Central\",\"Leste\",\"Oeste\",\"Oeste\",\"Oeste\",\"Oeste\",\"Oeste\",\"Oeste\",\"Central\",\"Central\",\"Central\",\"Central\",\"Oeste\",\"Oeste\",\"Leste\",\"Sul\",\"Sul\",\"Leste\",\"Leste\",\"Leste\",\"Oeste\",\"Oeste\",\"Sul\",\"Sul\",\"Oeste\",\"Central\",\"Leste\",\"Sul\",\"Sul\",\"Central\",\"Oeste\",\"Leste\",\"Central\",\"Central\",\"Central\",\"Leste\",\"Leste\",\"Central\",\"Central\",\"Central\",\"Oeste\",\"Sul\",\"Central\",\"Oeste\",\"Sul\",\"Oeste\",\"Oeste\",\"Oeste\",\"Oeste\",\"Oeste\",\"Sul\",\"Sul\",\"Oeste\",\"Oeste\",\"Oeste\",\"Oeste\",\"Oeste\",\"Oeste\",\"Oeste\",\"Leste\",\"Leste\",\"Leste\",\"Leste\",\"Oeste\",\"Oeste\",\"Oeste\",\"Oeste\",\"Central\",\"Central\",\"Oeste\",\"Oeste\",\"Oeste\",\"Oeste\",\"Oeste\",\"Oeste\",\"Sul\",\"Sul\",\"Oeste\",\"Oeste\",\"Oeste\",\"Oeste\",\"Central\",\"Central\",\"Oeste\",\"Oeste\",\"Oeste\",\"Oeste\",\"Leste\",\"Leste\",\"Leste\",\"Leste\",\"Sul\",\"Sul\",\"Sul\",\"Sul\",\"Sul\",\"Leste\",\"Leste\",\"Leste\",\"Central\",\"Central\",\"Leste\",\"Leste\",\"Leste\",\"Leste\",\"Leste\",\"Leste\",\"Leste\",\"Leste\",\"Leste\",\"Central\",\"Central\",\"Central\",\"Central\",\"Central\",\"Leste\",\"Oeste\",\"Oeste\",\"Oeste\",\"Oeste\",\"Oeste\",\"Oeste\",\"Sul\",\"Sul\",\"Sul\",\"Oeste\",\"Oeste\",\"Oeste\",\"Oeste\",\"Central\",\"Oeste\",\"Oeste\",\"Central\",\"Leste\",\"Central\",\"Oeste\",\"Oeste\",\"Oeste\",\"Oeste\",\"Oeste\",\"Leste\",\"Leste\",\"Leste\",\"Leste\",\"Leste\",\"Leste\",\"Central\",\"Central\",\"Central\",\"Central\",\"Central\",\"Central\",\"Leste\",\"Sul\",\"Central\",\"Central\",\"Central\",\"Leste\",\"Central\",\"Central\",\"Central\",\"Central\",\"Central\",\"Central\",\"Central\",\"Central\",\"Central\",\"Central\",\"Central\",\"Leste\",\"Leste\",\"Leste\",\"Sul\",\"Sul\",\"Sul\",\"Sul\",\"Sul\",\"Leste\",\"Sul\",\"Sul\",\"Sul\",\"Oeste\",\"Oeste\",\"Leste\",\"Leste\",\"Leste\",\"Leste\",\"Leste\",\"Leste\",\"Leste\",\"Leste\",\"Oeste\",\"Oeste\",\"Sul\",\"Sul\",\"Sul\",\"Leste\",\"Leste\",\"Leste\",\"Leste\",\"Sul\",\"Leste\",\"Leste\",\"Leste\",\"Oeste\",\"Leste\",\"Leste\",\"Oeste\",\"Oeste\",\"Oeste\",\"Central\",\"Central\",\"Leste\",\"Sul\",\"Central\",\"Central\",\"Leste\",\"Leste\",\"Leste\",\"Leste\",\"Leste\",\"Oeste\",\"Oeste\",\"Oeste\",\"Oeste\",\"Oeste\",\"Oeste\",\"Oeste\",\"Central\",\"Central\",\"Central\",\"Central\",\"Central\",\"Central\",\"Central\",\"Oeste\",\"Oeste\",\"Central\",\"Central\",\"Central\",\"Central\",\"Central\",\"Oeste\",\"Oeste\",\"Sul\",\"Central\",\"Central\",\"Leste\",\"Central\",\"Oeste\",\"Sul\",\"Leste\",\"Sul\",\"Sul\",\"Sul\",\"Sul\",\"Sul\",\"Sul\",\"Sul\",\"Central\",\"Central\",\"Central\",\"Central\",\"Central\",\"Central\",\"Leste\",\"Oeste\",\"Oeste\",\"Oeste\",\"Oeste\",\"Leste\",\"Leste\",\"Leste\",\"Leste\",\"Sul\",\"Oeste\",\"Oeste\",\"Sul\",\"Sul\",\"Sul\",\"Sul\",\"Sul\",\"Oeste\",\"Oeste\",\"Central\",\"Leste\",\"Leste\",\"Leste\",\"Oeste\",\"Oeste\",\"Oeste\",\"Leste\",\"Sul\",\"Oeste\",\"Oeste\",\"Oeste\",\"Central\",\"Central\",\"Oeste\",\"Oeste\",\"Oeste\",\"Oeste\",\"Oeste\",\"Oeste\",\"Central\",\"Leste\",\"Leste\",\"Leste\",\"Leste\",\"Leste\",\"Leste\",\"Leste\",\"Leste\",\"Oeste\",\"Oeste\",\"Central\",\"Central\",\"Central\",\"Sul\",\"Sul\",\"Sul\",\"Sul\",\"Sul\",\"Sul\",\"Sul\",\"Central\",\"Sul\",\"Central\",\"Leste\",\"Leste\",\"Leste\",\"Oeste\",\"Oeste\",\"Oeste\",\"Oeste\",\"Sul\",\"Sul\",\"Leste\",\"Leste\",\"Oeste\",\"Oeste\",\"Sul\",\"Leste\",\"Leste\",\"Leste\",\"Leste\",\"Leste\",\"Leste\",\"Leste\",\"Oeste\",\"Oeste\",\"Sul\",\"Sul\",\"Sul\",\"Sul\",\"Sul\",\"Leste\",\"Leste\",\"Leste\",\"Leste\",\"Leste\",\"Leste\",\"Leste\",\"Sul\",\"Leste\",\"Leste\",\"Leste\",\"Leste\",\"Leste\",\"Leste\",\"Sul\",\"Oeste\",\"Central\",\"Leste\",\"Oeste\",\"Oeste\",\"Leste\",\"Oeste\",\"Leste\",\"Leste\",\"Central\",\"Central\",\"Central\",\"Oeste\",\"Oeste\",\"Central\",\"Central\",\"Leste\",\"Leste\",\"Central\",\"Central\",\"Central\",\"Oeste\",\"Oeste\",\"Oeste\",\"Leste\",\"Leste\",\"Leste\",\"Central\",\"Central\",\"Central\",\"Leste\",\"Central\",\"Central\",\"Central\",\"Central\",\"Central\",\"Central\",\"Central\",\"Sul\",\"Leste\",\"Leste\",\"Leste\",\"Leste\",\"Leste\",\"Leste\",\"Sul\",\"Sul\",\"Leste\",\"Leste\",\"Leste\",\"Leste\",\"Leste\",\"Leste\",\"Leste\",\"Leste\",\"Oeste\",\"Oeste\",\"Oeste\",\"Oeste\",\"Oeste\",\"Oeste\",\"Oeste\",\"Oeste\",\"Oeste\",\"Oeste\",\"Leste\",\"Leste\",\"Leste\",\"Leste\",\"Leste\",\"Leste\",\"Central\",\"Central\",\"Sul\",\"Oeste\",\"Oeste\",\"Oeste\",\"Oeste\",\"Oeste\",\"Sul\",\"Oeste\",\"Sul\",\"Leste\",\"Leste\",\"Leste\",\"Leste\",\"Leste\",\"Leste\",\"Leste\",\"Leste\",\"Leste\",\"Leste\",\"Leste\",\"Leste\",\"Oeste\",\"Central\",\"Sul\",\"Central\",\"Leste\",\"Oeste\",\"Oeste\",\"Oeste\",\"Central\",\"Central\",\"Central\",\"Central\",\"Leste\",\"Leste\",\"Sul\",\"Leste\",\"Oeste\",\"Oeste\",\"Sul\",\"Sul\",\"Sul\",\"Sul\",\"Sul\",\"Sul\",\"Oeste\",\"Leste\",\"Leste\",\"Leste\",\"Oeste\",\"Sul\",\"Oeste\",\"Oeste\",\"Central\",\"Central\",\"Oeste\",\"Oeste\",\"Oeste\",\"Oeste\",\"Oeste\",\"Oeste\",\"Leste\",\"Leste\",\"Leste\",\"Leste\",\"Leste\",\"Leste\",\"Leste\",\"Leste\",\"Oeste\",\"Leste\",\"Leste\",\"Leste\",\"Leste\",\"Leste\",\"Leste\",\"Leste\",\"Leste\",\"Leste\",\"Leste\",\"Leste\",\"Central\",\"Oeste\",\"Sul\",\"Sul\",\"Central\",\"Leste\",\"Leste\",\"Central\",\"Central\",\"Central\",\"Sul\",\"Sul\",\"Oeste\",\"Oeste\",\"Leste\",\"Leste\",\"Leste\",\"Leste\",\"Leste\",\"Leste\",\"Leste\",\"Oeste\",\"Oeste\",\"Leste\",\"Central\",\"Leste\",\"Leste\",\"Leste\",\"Leste\",\"Leste\",\"Leste\",\"Oeste\",\"Central\",\"Leste\",\"Oeste\",\"Oeste\",\"Leste\",\"Oeste\",\"Oeste\",\"Oeste\",\"Central\",\"Oeste\",\"Oeste\",\"Oeste\",\"Central\",\"Central\",\"Leste\",\"Leste\",\"Leste\",\"Leste\",\"Central\",\"Oeste\",\"Oeste\",\"Sul\",\"Sul\",\"Oeste\",\"Oeste\",\"Leste\",\"Leste\",\"Sul\",\"Sul\",\"Oeste\",\"Oeste\",\"Oeste\",\"Oeste\",\"Oeste\",\"Central\",\"Central\",\"Oeste\",\"Central\",\"Central\",\"Central\",\"Central\",\"Central\",\"Central\",\"Central\",\"Central\",\"Oeste\",\"Oeste\",\"Oeste\",\"Oeste\",\"Sul\",\"Sul\",\"Sul\",\"Sul\",\"Sul\",\"Sul\",\"Sul\",\"Sul\",\"Sul\",\"Sul\",\"Central\",\"Central\",\"Sul\",\"Sul\",\"Sul\",\"Oeste\",\"Leste\",\"Leste\",\"Sul\",\"Central\",\"Central\",\"Central\",\"Central\",\"Central\",\"Oeste\",\"Oeste\",\"Oeste\",\"Oeste\",\"Oeste\",\"Central\",\"Central\",\"Central\",\"Central\",\"Central\",\"Leste\",\"Oeste\",\"Oeste\",\"Sul\",\"Sul\",\"Sul\",\"Sul\",\"Oeste\",\"Central\",\"Central\",\"Oeste\",\"Leste\",\"Leste\",\"Leste\",\"Central\",\"Oeste\",\"Leste\",\"Leste\",\"Leste\",\"Leste\",\"Central\",\"Oeste\",\"Central\",\"Leste\",\"Leste\",\"Oeste\",\"Leste\",\"Leste\",\"Central\",\"Leste\",\"Leste\",\"Sul\",\"Sul\",\"Oeste\",\"Oeste\",\"Oeste\",\"Oeste\",\"Oeste\",\"Oeste\",\"Oeste\",\"Oeste\",\"Oeste\",\"Sul\",\"Sul\",\"Sul\",\"Sul\",\"Central\",\"Central\",\"Central\",\"Oeste\",\"Oeste\",\"Oeste\",\"Oeste\",\"Oeste\",\"Sul\",\"Leste\",\"Leste\",\"Leste\",\"Leste\",\"Leste\",\"Leste\",\"Leste\",\"Leste\",\"Leste\",\"Leste\",\"Leste\",\"Leste\",\"Leste\",\"Leste\",\"Oeste\",\"Oeste\",\"Leste\",\"Leste\",\"Leste\",\"Leste\",\"Leste\",\"Leste\",\"Oeste\",\"Oeste\",\"Oeste\",\"Leste\",\"Leste\",\"Leste\",\"Sul\",\"Sul\",\"Sul\",\"Sul\",\"Oeste\",\"Oeste\",\"Oeste\",\"Leste\",\"Leste\",\"Leste\",\"Sul\",\"Oeste\",\"Oeste\",\"Oeste\",\"Leste\",\"Leste\",\"Leste\",\"Leste\",\"Central\",\"Leste\",\"Leste\",\"Leste\",\"Leste\",\"Sul\",\"Sul\",\"Sul\",\"Sul\",\"Sul\",\"Leste\",\"Central\",\"Central\",\"Oeste\",\"Oeste\",\"Oeste\",\"Oeste\",\"Sul\",\"Central\",\"Central\",\"Central\",\"Central\",\"Central\",\"Central\",\"Central\",\"Central\",\"Sul\",\"Sul\",\"Central\",\"Sul\",\"Sul\",\"Sul\",\"Central\",\"Leste\",\"Leste\",\"Leste\",\"Leste\",\"Leste\",\"Oeste\",\"Oeste\",\"Oeste\",\"Oeste\",\"Oeste\",\"Oeste\",\"Oeste\",\"Oeste\",\"Central\",\"Oeste\",\"Sul\",\"Sul\",\"Sul\",\"Sul\",\"Sul\",\"Central\",\"Oeste\",\"Oeste\",\"Oeste\",\"Oeste\",\"Oeste\",\"Leste\",\"Leste\",\"Leste\",\"Oeste\",\"Oeste\",\"Oeste\",\"Leste\",\"Sul\",\"Sul\",\"Leste\",\"Leste\",\"Sul\",\"Sul\",\"Leste\",\"Central\",\"Leste\",\"Leste\",\"Oeste\",\"Oeste\",\"Leste\",\"Leste\",\"Central\",\"Central\",\"Oeste\",\"Leste\",\"Oeste\",\"Leste\",\"Leste\",\"Leste\",\"Sul\",\"Sul\",\"Sul\",\"Leste\",\"Leste\",\"Central\",\"Central\",\"Central\",\"Central\",\"Central\",\"Central\",\"Sul\",\"Oeste\",\"Oeste\",\"Oeste\",\"Central\",\"Central\",\"Sul\",\"Central\",\"Oeste\",\"Leste\",\"Leste\",\"Leste\",\"Oeste\",\"Oeste\",\"Oeste\",\"Oeste\",\"Oeste\",\"Oeste\",\"Oeste\",\"Oeste\",\"Leste\",\"Oeste\",\"Oeste\",\"Oeste\",\"Oeste\",\"Oeste\",\"Oeste\",\"Oeste\",\"Oeste\",\"Oeste\",\"Central\",\"Sul\",\"Sul\",\"Sul\",\"Sul\",\"Sul\",\"Sul\",\"Sul\",\"Sul\",\"Sul\",\"Sul\",\"Sul\",\"Sul\",\"Central\",\"Central\",\"Leste\",\"Leste\",\"Leste\",\"Leste\",\"Sul\",\"Sul\",\"Leste\",\"Leste\",\"Leste\",\"Leste\",\"Leste\",\"Leste\",\"Leste\",\"Oeste\",\"Central\",\"Leste\",\"Leste\",\"Leste\",\"Oeste\",\"Oeste\",\"Central\",\"Central\",\"Central\",\"Oeste\",\"Oeste\",\"Oeste\",\"Oeste\",\"Oeste\",\"Oeste\",\"Oeste\",\"Oeste\",\"Oeste\",\"Oeste\",\"Oeste\",\"Leste\",\"Sul\",\"Sul\",\"Sul\",\"Oeste\",\"Leste\",\"Leste\",\"Central\",\"Central\",\"Leste\",\"Leste\",\"Oeste\",\"Sul\",\"Oeste\",\"Central\",\"Central\",\"Central\",\"Central\",\"Leste\",\"Oeste\",\"Oeste\",\"Sul\",\"Sul\",\"Sul\",\"Sul\",\"Sul\",\"Sul\",\"Leste\",\"Central\",\"Leste\",\"Oeste\",\"Leste\",\"Central\",\"Central\",\"Leste\",\"Oeste\",\"Oeste\",\"Sul\",\"Central\",\"Central\",\"Central\",\"Leste\",\"Oeste\",\"Central\",\"Leste\",\"Leste\",\"Leste\",\"Sul\",\"Oeste\",\"Oeste\",\"Oeste\",\"Oeste\",\"Sul\",\"Sul\",\"Oeste\",\"Leste\",\"Oeste\",\"Oeste\",\"Oeste\",\"Leste\",\"Leste\",\"Leste\",\"Leste\",\"Oeste\",\"Sul\",\"Central\",\"Central\",\"Central\",\"Oeste\",\"Central\",\"Central\",\"Central\",\"Oeste\",\"Oeste\",\"Oeste\",\"Oeste\",\"Leste\",\"Sul\",\"Central\",\"Oeste\",\"Oeste\",\"Oeste\",\"Central\",\"Central\",\"Central\",\"Leste\",\"Oeste\",\"Oeste\",\"Oeste\",\"Oeste\",\"Central\",\"Oeste\",\"Oeste\",\"Oeste\",\"Oeste\",\"Oeste\",\"Leste\",\"Leste\",\"Leste\",\"Leste\",\"Sul\",\"Oeste\",\"Oeste\",\"Leste\",\"Oeste\",\"Leste\",\"Leste\",\"Leste\",\"Leste\",\"Leste\",\"Leste\",\"Leste\",\"Leste\",\"Oeste\",\"Oeste\",\"Leste\",\"Central\",\"Central\",\"Central\",\"Leste\",\"Central\",\"Oeste\",\"Central\",\"Sul\",\"Oeste\",\"Leste\",\"Leste\",\"Leste\",\"Oeste\",\"Oeste\",\"Oeste\",\"Oeste\",\"Leste\",\"Leste\",\"Sul\",\"Oeste\",\"Central\",\"Central\",\"Oeste\",\"Sul\",\"Oeste\",\"Oeste\",\"Oeste\",\"Oeste\",\"Central\",\"Central\",\"Central\",\"Sul\",\"Leste\",\"Leste\",\"Leste\",\"Leste\",\"Leste\",\"Leste\",\"Leste\",\"Leste\",\"Leste\",\"Leste\",\"Leste\",\"Sul\",\"Central\",\"Central\",\"Oeste\",\"Oeste\",\"Central\",\"Leste\",\"Leste\",\"Central\",\"Central\",\"Central\",\"Central\",\"Leste\",\"Sul\",\"Leste\",\"Oeste\",\"Oeste\",\"Oeste\",\"Oeste\",\"Oeste\",\"Oeste\",\"Oeste\",\"Oeste\",\"Oeste\",\"Oeste\",\"Leste\",\"Central\",\"Central\",\"Central\",\"Leste\",\"Leste\",\"Oeste\",\"Oeste\",\"Oeste\",\"Oeste\",\"Oeste\",\"Oeste\",\"Leste\",\"Sul\",\"Leste\",\"Leste\",\"Leste\",\"Leste\",\"Leste\",\"Leste\",\"Leste\",\"Oeste\",\"Oeste\",\"Oeste\",\"Leste\",\"Leste\",\"Leste\",\"Leste\",\"Central\",\"Oeste\",\"Oeste\",\"Oeste\",\"Leste\",\"Leste\",\"Leste\",\"Leste\",\"Oeste\",\"Oeste\",\"Oeste\",\"Oeste\",\"Oeste\",\"Oeste\",\"Oeste\",\"Central\",\"Oeste\",\"Oeste\",\"Oeste\",\"Leste\",\"Leste\",\"Central\",\"Central\",\"Central\",\"Central\",\"Central\",\"Central\",\"Leste\",\"Central\",\"Oeste\",\"Central\",\"Sul\",\"Central\",\"Central\",\"Oeste\",\"Oeste\",\"Leste\",\"Leste\",\"Leste\",\"Leste\",\"Oeste\",\"Oeste\",\"Leste\",\"Leste\",\"Leste\",\"Leste\",\"Leste\",\"Leste\",\"Central\",\"Central\",\"Leste\",\"Central\",\"Leste\",\"Leste\",\"Leste\",\"Oeste\",\"Oeste\",\"Oeste\",\"Leste\",\"Leste\",\"Leste\",\"Oeste\",\"Oeste\",\"Leste\",\"Oeste\",\"Oeste\",\"Oeste\",\"Oeste\",\"Oeste\",\"Oeste\",\"Central\",\"Central\",\"Oeste\",\"Leste\",\"Leste\",\"Leste\",\"Leste\",\"Leste\",\"Leste\",\"Central\",\"Central\",\"Central\",\"Leste\",\"Leste\",\"Leste\",\"Leste\",\"Sul\",\"Sul\",\"Sul\",\"Sul\",\"Central\",\"Central\",\"Sul\",\"Sul\",\"Sul\",\"Oeste\",\"Oeste\",\"Oeste\",\"Oeste\",\"Leste\",\"Leste\",\"Leste\",\"Leste\",\"Leste\",\"Sul\",\"Sul\",\"Central\",\"Central\",\"Central\",\"Oeste\",\"Oeste\",\"Oeste\",\"Oeste\",\"Central\",\"Central\",\"Central\",\"Central\",\"Leste\",\"Oeste\",\"Oeste\",\"Oeste\",\"Sul\",\"Sul\",\"Sul\",\"Sul\",\"Sul\",\"Sul\",\"Central\",\"Central\",\"Central\",\"Central\",\"Leste\",\"Leste\",\"Leste\",\"Leste\",\"Oeste\",\"Oeste\",\"Leste\",\"Leste\",\"Leste\",\"Leste\",\"Central\",\"Central\",\"Central\",\"Central\",\"Central\",\"Central\",\"Central\",\"Leste\",\"Central\",\"Central\",\"Central\",\"Central\",\"Leste\",\"Leste\",\"Leste\",\"Oeste\",\"Central\",\"Central\",\"Oeste\",\"Leste\",\"Leste\",\"Leste\",\"Oeste\",\"Oeste\",\"Oeste\",\"Central\",\"Central\",\"Central\",\"Sul\",\"Leste\",\"Leste\",\"Oeste\",\"Oeste\",\"Oeste\",\"Oeste\",\"Central\",\"Central\",\"Central\",\"Central\",\"Central\",\"Central\",\"Oeste\",\"Oeste\",\"Oeste\",\"Sul\",\"Sul\",\"Leste\",\"Central\",\"Central\",\"Sul\",\"Central\",\"Central\",\"Leste\",\"Sul\",\"Sul\",\"Sul\",\"Sul\",\"Sul\",\"Sul\",\"Central\",\"Central\",\"Oeste\",\"Leste\",\"Leste\",\"Oeste\",\"Oeste\",\"Central\",\"Central\",\"Central\",\"Central\",\"Central\",\"Central\",\"Oeste\",\"Central\",\"Central\",\"Leste\",\"Leste\",\"Leste\",\"Leste\",\"Central\",\"Oeste\",\"Oeste\",\"Leste\",\"Oeste\",\"Leste\",\"Leste\",\"Oeste\",\"Oeste\",\"Oeste\",\"Oeste\",\"Oeste\",\"Leste\",\"Leste\",\"Central\",\"Oeste\",\"Oeste\",\"Sul\",\"Leste\",\"Leste\",\"Leste\",\"Leste\",\"Central\",\"Oeste\",\"Sul\",\"Sul\",\"Leste\",\"Leste\",\"Oeste\",\"Oeste\",\"Sul\",\"Oeste\",\"Sul\",\"Oeste\",\"Central\",\"Sul\",\"Sul\",\"Sul\",\"Sul\",\"Central\",\"Oeste\",\"Oeste\",\"Oeste\",\"Central\",\"Sul\",\"Sul\",\"Oeste\",\"Leste\",\"Oeste\",\"Central\",\"Central\",\"Sul\",\"Sul\",\"Sul\",\"Sul\",\"Leste\",\"Central\",\"Leste\",\"Leste\",\"Leste\",\"Central\",\"Central\",\"Oeste\",\"Oeste\",\"Oeste\",\"Oeste\",\"Oeste\",\"Oeste\",\"Oeste\",\"Oeste\",\"Sul\",\"Sul\",\"Oeste\",\"Oeste\",\"Oeste\",\"Oeste\",\"Oeste\",\"Oeste\",\"Oeste\",\"Central\",\"Central\",\"Central\",\"Central\",\"Central\",\"Leste\",\"Leste\",\"Leste\",\"Leste\",\"Leste\",\"Leste\",\"Leste\",\"Leste\",\"Leste\",\"Leste\",\"Leste\",\"Leste\",\"Central\",\"Central\",\"Central\",\"Central\",\"Central\",\"Central\",\"Central\",\"Central\",\"Leste\",\"Leste\",\"Leste\",\"Central\",\"Central\",\"Central\",\"Central\",\"Central\",\"Central\",\"Sul\",\"Sul\",\"Sul\",\"Oeste\",\"Oeste\",\"Oeste\",\"Sul\",\"Central\",\"Oeste\",\"Oeste\",\"Oeste\",\"Leste\",\"Central\",\"Central\",\"Central\",\"Central\",\"Leste\",\"Oeste\",\"Oeste\",\"Oeste\",\"Central\",\"Central\",\"Sul\",\"Sul\",\"Sul\",\"Oeste\",\"Oeste\",\"Sul\",\"Sul\",\"Central\",\"Central\",\"Central\",\"Central\",\"Sul\",\"Sul\",\"Sul\",\"Central\",\"Central\",\"Sul\",\"Sul\",\"Sul\",\"Oeste\",\"Oeste\",\"Oeste\",\"Oeste\",\"Leste\",\"Leste\",\"Leste\",\"Leste\",\"Oeste\",\"Oeste\",\"Oeste\",\"Oeste\",\"Leste\",\"Leste\",\"Leste\",\"Leste\",\"Central\",\"Central\",\"Central\",\"Central\",\"Oeste\",\"Oeste\",\"Oeste\",\"Oeste\",\"Oeste\",\"Oeste\",\"Oeste\",\"Leste\",\"Central\",\"Leste\",\"Leste\",\"Leste\",\"Leste\",\"Leste\",\"Leste\",\"Leste\",\"Leste\",\"Leste\",\"Central\",\"Central\",\"Central\",\"Central\",\"Central\",\"Oeste\",\"Oeste\",\"Oeste\",\"Oeste\",\"Oeste\",\"Oeste\",\"Oeste\",\"Oeste\",\"Oeste\",\"Oeste\",\"Oeste\",\"Leste\",\"Oeste\",\"Oeste\",\"Oeste\",\"Oeste\",\"Oeste\",\"Leste\",\"Leste\",\"Leste\",\"Oeste\",\"Oeste\",\"Oeste\",\"Oeste\",\"Central\",\"Leste\",\"Leste\",\"Leste\",\"Leste\",\"Leste\",\"Oeste\",\"Leste\",\"Leste\",\"Central\",\"Oeste\",\"Sul\",\"Sul\",\"Sul\",\"Sul\",\"Oeste\",\"Oeste\",\"Oeste\",\"Oeste\",\"Oeste\",\"Leste\",\"Leste\",\"Sul\",\"Central\",\"Oeste\",\"Oeste\",\"Oeste\",\"Oeste\",\"Oeste\",\"Oeste\",\"Oeste\",\"Oeste\",\"Oeste\",\"Leste\",\"Oeste\",\"Oeste\",\"Oeste\",\"Sul\",\"Oeste\",\"Central\",\"Central\",\"Leste\",\"Leste\",\"Leste\",\"Leste\",\"Leste\",\"Leste\",\"Leste\",\"Leste\",\"Leste\",\"Leste\",\"Leste\",\"Leste\",\"Central\",\"Central\",\"Leste\",\"Leste\",\"Leste\",\"Leste\",\"Leste\",\"Leste\",\"Leste\",\"Leste\",\"Leste\",\"Leste\",\"Oeste\",\"Leste\",\"Central\",\"Central\",\"Leste\",\"Leste\",\"Central\",\"Oeste\",\"Central\",\"Central\",\"Sul\",\"Central\",\"Leste\",\"Oeste\",\"Oeste\",\"Central\",\"Central\",\"Central\",\"Central\",\"Central\",\"Leste\",\"Leste\",\"Leste\",\"Central\",\"Oeste\",\"Central\",\"Central\",\"Oeste\",\"Oeste\",\"Oeste\",\"Oeste\",\"Leste\",\"Leste\",\"Leste\",\"Leste\",\"Leste\",\"Leste\",\"Oeste\",\"Sul\",\"Central\",\"Central\",\"Central\",\"Oeste\",\"Oeste\",\"Oeste\",\"Oeste\",\"Oeste\",\"Oeste\",\"Sul\",\"Sul\",\"Leste\",\"Leste\",\"Sul\",\"Sul\",\"Oeste\",\"Oeste\",\"Leste\",\"Sul\",\"Central\",\"Central\",\"Leste\",\"Leste\",\"Leste\",\"Central\",\"Leste\",\"Oeste\",\"Oeste\",\"Oeste\",\"Oeste\",\"Sul\",\"Oeste\",\"Oeste\",\"Oeste\",\"Leste\",\"Leste\",\"Leste\",\"Leste\",\"Oeste\",\"Central\",\"Central\",\"Leste\",\"Oeste\",\"Oeste\",\"Central\",\"Central\",\"Oeste\",\"Leste\",\"Central\",\"Central\",\"Oeste\",\"Central\",\"Oeste\",\"Oeste\",\"Leste\",\"Oeste\",\"Oeste\",\"Oeste\",\"Oeste\",\"Oeste\",\"Oeste\",\"Oeste\",\"Oeste\",\"Oeste\",\"Oeste\",\"Oeste\",\"Oeste\",\"Oeste\",\"Leste\",\"Leste\",\"Oeste\",\"Oeste\",\"Oeste\",\"Oeste\",\"Leste\",\"Sul\",\"Sul\",\"Sul\",\"Sul\",\"Sul\",\"Oeste\",\"Leste\",\"Leste\",\"Sul\",\"Oeste\",\"Oeste\",\"Oeste\",\"Oeste\",\"Oeste\",\"Sul\",\"Sul\",\"Sul\",\"Oeste\",\"Oeste\",\"Oeste\",\"Leste\",\"Central\",\"Central\",\"Sul\",\"Sul\",\"Leste\",\"Oeste\",\"Oeste\",\"Sul\",\"Sul\",\"Sul\",\"Leste\",\"Leste\",\"Leste\",\"Leste\",\"Leste\",\"Leste\",\"Leste\",\"Central\",\"Central\",\"Sul\",\"Sul\",\"Sul\",\"Central\",\"Central\",\"Leste\",\"Oeste\",\"Oeste\",\"Oeste\",\"Oeste\",\"Oeste\",\"Central\",\"Central\",\"Central\",\"Central\",\"Central\",\"Central\",\"Sul\",\"Oeste\",\"Sul\",\"Sul\",\"Sul\",\"Sul\",\"Leste\",\"Leste\",\"Leste\",\"Oeste\",\"Leste\",\"Oeste\",\"Oeste\",\"Central\",\"Central\",\"Sul\",\"Leste\",\"Leste\",\"Leste\",\"Leste\",\"Leste\",\"Sul\",\"Leste\",\"Leste\",\"Central\",\"Central\",\"Central\",\"Central\",\"Central\",\"Oeste\",\"Oeste\",\"Oeste\",\"Oeste\",\"Oeste\",\"Oeste\",\"Oeste\",\"Oeste\",\"Oeste\",\"Leste\",\"Leste\",\"Leste\",\"Leste\",\"Leste\",\"Leste\",\"Sul\",\"Sul\",\"Sul\",\"Oeste\",\"Leste\",\"Leste\",\"Leste\",\"Leste\",\"Central\",\"Central\",\"Central\",\"Central\",\"Sul\",\"Leste\",\"Leste\",\"Oeste\",\"Leste\",\"Leste\",\"Leste\",\"Oeste\",\"Oeste\",\"Oeste\",\"Oeste\",\"Oeste\",\"Oeste\",\"Oeste\",\"Leste\",\"Leste\",\"Leste\",\"Leste\",\"Leste\",\"Leste\",\"Leste\",\"Leste\",\"Oeste\",\"Oeste\",\"Sul\",\"Sul\",\"Central\",\"Central\",\"Central\",\"Oeste\",\"Oeste\",\"Oeste\",\"Oeste\",\"Oeste\",\"Oeste\",\"Leste\",\"Oeste\",\"Oeste\",\"Oeste\",\"Central\",\"Leste\",\"Oeste\",\"Oeste\",\"Oeste\",\"Oeste\",\"Oeste\",\"Central\",\"Central\",\"Leste\",\"Leste\",\"Leste\",\"Leste\",\"Central\",\"Central\",\"Central\",\"Oeste\",\"Oeste\",\"Leste\",\"Central\",\"Sul\",\"Sul\",\"Oeste\",\"Oeste\",\"Oeste\",\"Sul\",\"Leste\",\"Leste\",\"Leste\",\"Leste\",\"Leste\",\"Leste\",\"Oeste\",\"Leste\",\"Sul\",\"Oeste\",\"Leste\",\"Leste\",\"Leste\",\"Leste\",\"Leste\",\"Leste\",\"Leste\",\"Leste\",\"Leste\",\"Leste\",\"Oeste\",\"Oeste\",\"Leste\",\"Leste\",\"Leste\",\"Leste\",\"Sul\",\"Sul\",\"Sul\",\"Sul\",\"Sul\",\"Sul\",\"Sul\",\"Oeste\",\"Oeste\",\"Oeste\",\"Oeste\",\"Oeste\",\"Leste\",\"Central\",\"Central\",\"Oeste\",\"Oeste\",\"Oeste\",\"Oeste\",\"Oeste\",\"Leste\",\"Leste\",\"Leste\",\"Leste\",\"Leste\",\"Oeste\",\"Leste\",\"Central\",\"Central\",\"Central\",\"Oeste\",\"Oeste\",\"Oeste\",\"Sul\",\"Central\",\"Central\",\"Central\",\"Oeste\",\"Oeste\",\"Oeste\",\"Oeste\",\"Central\",\"Oeste\",\"Oeste\",\"Central\",\"Sul\",\"Sul\",\"Central\",\"Central\",\"Leste\",\"Central\",\"Leste\",\"Central\",\"Central\",\"Central\",\"Central\",\"Central\",\"Central\",\"Central\",\"Central\",\"Central\",\"Central\",\"Central\",\"Sul\",\"Sul\",\"Sul\",\"Sul\",\"Sul\",\"Leste\",\"Oeste\",\"Leste\",\"Leste\",\"Leste\",\"Oeste\",\"Oeste\",\"Oeste\",\"Leste\",\"Leste\",\"Leste\",\"Oeste\",\"Oeste\",\"Oeste\",\"Oeste\",\"Oeste\",\"Oeste\",\"Sul\",\"Sul\",\"Sul\",\"Sul\",\"Leste\",\"Central\",\"Sul\",\"Oeste\",\"Oeste\",\"Oeste\",\"Sul\",\"Sul\",\"Leste\",\"Leste\",\"Sul\",\"Oeste\",\"Oeste\",\"Leste\",\"Leste\",\"Leste\",\"Central\",\"Central\",\"Central\",\"Sul\",\"Sul\",\"Sul\",\"Sul\",\"Sul\",\"Sul\",\"Sul\",\"Sul\",\"Sul\",\"Sul\",\"Sul\",\"Central\",\"Leste\",\"Leste\",\"Oeste\",\"Oeste\",\"Central\",\"Central\",\"Sul\",\"Sul\",\"Central\",\"Central\",\"Central\",\"Central\",\"Central\",\"Leste\",\"Leste\",\"Leste\",\"Leste\",\"Leste\",\"Leste\",\"Sul\",\"Oeste\",\"Central\",\"Central\",\"Central\",\"Central\",\"Central\",\"Central\",\"Oeste\",\"Oeste\",\"Oeste\",\"Oeste\",\"Oeste\",\"Oeste\",\"Oeste\",\"Oeste\",\"Oeste\",\"Central\",\"Leste\",\"Leste\",\"Leste\",\"Leste\",\"Leste\",\"Leste\",\"Leste\",\"Central\",\"Oeste\",\"Oeste\",\"Oeste\",\"Sul\",\"Sul\",\"Oeste\",\"Leste\",\"Leste\",\"Leste\",\"Leste\",\"Sul\",\"Central\",\"Sul\",\"Sul\",\"Central\",\"Central\",\"Central\",\"Central\",\"Central\",\"Oeste\",\"Oeste\",\"Oeste\",\"Oeste\",\"Oeste\",\"Oeste\",\"Oeste\",\"Oeste\",\"Oeste\",\"Oeste\",\"Leste\",\"Leste\",\"Central\",\"Sul\",\"Sul\",\"Sul\",\"Central\",\"Central\",\"Oeste\",\"Oeste\",\"Leste\",\"Leste\",\"Leste\",\"Leste\",\"Oeste\",\"Sul\",\"Sul\",\"Oeste\",\"Oeste\",\"Central\",\"Central\",\"Central\",\"Central\",\"Central\",\"Oeste\",\"Sul\",\"Sul\",\"Central\",\"Oeste\",\"Central\",\"Leste\",\"Oeste\",\"Oeste\",\"Oeste\",\"Sul\",\"Leste\",\"Sul\",\"Sul\",\"Sul\",\"Sul\",\"Sul\",\"Sul\",\"Sul\",\"Leste\",\"Leste\",\"Oeste\",\"Oeste\",\"Oeste\",\"Oeste\",\"Oeste\",\"Sul\",\"Leste\",\"Leste\",\"Sul\",\"Oeste\",\"Leste\",\"Sul\",\"Leste\",\"Oeste\",\"Central\",\"Sul\",\"Sul\",\"Sul\",\"Oeste\",\"Oeste\",\"Leste\",\"Leste\",\"Leste\",\"Leste\",\"Oeste\",\"Oeste\",\"Oeste\",\"Leste\",\"Leste\",\"Oeste\",\"Leste\",\"Leste\",\"Leste\",\"Leste\",\"Sul\",\"Sul\",\"Leste\",\"Oeste\",\"Oeste\",\"Oeste\",\"Sul\",\"Leste\",\"Central\",\"Sul\",\"Oeste\",\"Oeste\",\"Oeste\",\"Oeste\",\"Oeste\",\"Oeste\",\"Oeste\",\"Oeste\",\"Leste\",\"Sul\",\"Sul\",\"Oeste\",\"Oeste\",\"Oeste\",\"Leste\",\"Leste\",\"Leste\",\"Leste\",\"Leste\",\"Central\",\"Central\",\"Central\",\"Central\",\"Sul\",\"Central\",\"Leste\",\"Oeste\",\"Oeste\",\"Oeste\",\"Sul\",\"Sul\",\"Leste\",\"Central\",\"Central\",\"Leste\",\"Leste\",\"Oeste\",\"Oeste\",\"Central\",\"Central\",\"Central\",\"Central\",\"Central\",\"Central\",\"Oeste\",\"Oeste\",\"Oeste\",\"Oeste\",\"Sul\",\"Sul\",\"Sul\",\"Sul\",\"Oeste\",\"Oeste\",\"Oeste\",\"Oeste\",\"Central\",\"Oeste\",\"Oeste\",\"Oeste\",\"Oeste\",\"Central\",\"Central\",\"Central\",\"Central\",\"Central\",\"Leste\",\"Leste\",\"Leste\",\"Leste\",\"Oeste\",\"Oeste\",\"Oeste\",\"Central\",\"Central\",\"Central\",\"Central\",\"Central\",\"Central\",\"Leste\",\"Leste\",\"Leste\",\"Oeste\",\"Oeste\",\"Sul\",\"Sul\",\"Oeste\",\"Oeste\",\"Oeste\",\"Sul\",\"Leste\",\"Sul\",\"Sul\",\"Central\",\"Leste\",\"Central\",\"Leste\",\"Central\",\"Sul\",\"Sul\",\"Sul\",\"Leste\",\"Central\",\"Leste\",\"Leste\",\"Leste\",\"Central\",\"Oeste\",\"Sul\",\"Sul\",\"Sul\",\"Sul\",\"Sul\",\"Sul\",\"Oeste\",\"Oeste\",\"Oeste\",\"Oeste\",\"Leste\",\"Leste\",\"Sul\",\"Oeste\",\"Oeste\",\"Oeste\",\"Oeste\",\"Leste\",\"Oeste\",\"Oeste\",\"Leste\",\"Leste\",\"Leste\",\"Leste\",\"Leste\",\"Central\",\"Oeste\",\"Oeste\",\"Oeste\",\"Oeste\",\"Oeste\",\"Oeste\",\"Oeste\",\"Sul\",\"Sul\",\"Leste\",\"Leste\",\"Leste\",\"Leste\",\"Leste\",\"Sul\",\"Central\",\"Leste\",\"Leste\",\"Sul\",\"Central\",\"Central\",\"Central\",\"Oeste\",\"Central\",\"Central\",\"Central\",\"Oeste\",\"Sul\",\"Leste\",\"Leste\",\"Leste\",\"Central\",\"Central\",\"Central\",\"Central\",\"Leste\",\"Leste\",\"Leste\",\"Oeste\",\"Central\",\"Central\",\"Leste\",\"Leste\",\"Sul\",\"Central\",\"Sul\",\"Central\",\"Oeste\",\"Oeste\",\"Oeste\",\"Oeste\",\"Oeste\",\"Oeste\",\"Oeste\",\"Oeste\",\"Oeste\",\"Oeste\",\"Central\",\"Central\",\"Central\",\"Oeste\",\"Oeste\",\"Oeste\",\"Oeste\",\"Oeste\",\"Oeste\",\"Oeste\",\"Oeste\",\"Oeste\",\"Oeste\",\"Oeste\",\"Oeste\",\"Leste\",\"Leste\",\"Leste\",\"Oeste\",\"Oeste\",\"Oeste\",\"Oeste\",\"Oeste\",\"Oeste\",\"Oeste\",\"Oeste\",\"Central\",\"Central\",\"Sul\",\"Sul\",\"Sul\",\"Sul\",\"Sul\",\"Central\",\"Central\",\"Central\",\"Leste\",\"Leste\",\"Sul\",\"Leste\",\"Leste\",\"Oeste\",\"Oeste\",\"Oeste\",\"Oeste\",\"Sul\",\"Sul\",\"Sul\",\"Oeste\",\"Oeste\",\"Oeste\",\"Oeste\",\"Leste\",\"Central\",\"Oeste\",\"Oeste\",\"Leste\",\"Leste\",\"Leste\",\"Leste\",\"Leste\",\"Leste\",\"Central\",\"Leste\",\"Leste\",\"Central\",\"Leste\",\"Oeste\",\"Sul\",\"Leste\",\"Oeste\",\"Oeste\",\"Oeste\",\"Oeste\",\"Oeste\",\"Leste\",\"Central\",\"Central\",\"Central\",\"Oeste\",\"Oeste\",\"Oeste\",\"Oeste\",\"Central\",\"Leste\",\"Leste\",\"Leste\",\"Oeste\",\"Sul\",\"Oeste\",\"Central\",\"Central\",\"Oeste\",\"Leste\",\"Sul\",\"Sul\",\"Sul\",\"Sul\",\"Sul\",\"Oeste\",\"Sul\",\"Oeste\",\"Oeste\",\"Oeste\",\"Leste\",\"Central\",\"Central\",\"Oeste\",\"Sul\",\"Sul\",\"Oeste\",\"Oeste\",\"Oeste\",\"Central\",\"Central\",\"Central\",\"Oeste\",\"Oeste\",\"Oeste\",\"Oeste\",\"Leste\",\"Central\",\"Leste\",\"Leste\",\"Oeste\",\"Oeste\",\"Oeste\",\"Oeste\",\"Oeste\",\"Leste\",\"Leste\",\"Leste\",\"Leste\",\"Oeste\",\"Oeste\",\"Central\",\"Central\",\"Central\",\"Oeste\",\"Oeste\",\"Oeste\",\"Sul\",\"Sul\",\"Leste\",\"Central\",\"Central\",\"Central\",\"Central\",\"Sul\",\"Sul\",\"Leste\",\"Leste\",\"Leste\",\"Central\",\"Central\",\"Central\",\"Central\",\"Central\",\"Central\",\"Leste\",\"Leste\",\"Leste\",\"Leste\",\"Leste\",\"Leste\",\"Central\",\"Central\",\"Central\",\"Central\",\"Central\",\"Central\",\"Central\",\"Oeste\",\"Oeste\",\"Oeste\",\"Oeste\",\"Oeste\",\"Oeste\",\"Sul\",\"Sul\",\"Sul\",\"Sul\",\"Sul\",\"Sul\",\"Sul\",\"Sul\",\"Leste\",\"Leste\",\"Oeste\",\"Oeste\",\"Oeste\",\"Oeste\",\"Leste\",\"Leste\",\"Central\",\"Central\",\"Central\",\"Central\",\"Central\",\"Central\",\"Leste\",\"Central\",\"Leste\",\"Leste\",\"Central\",\"Oeste\",\"Oeste\",\"Oeste\",\"Leste\",\"Oeste\",\"Leste\",\"Leste\",\"Leste\",\"Leste\",\"Central\",\"Oeste\",\"Leste\",\"Leste\",\"Sul\",\"Sul\",\"Central\",\"Oeste\",\"Oeste\",\"Oeste\",\"Oeste\",\"Oeste\",\"Oeste\",\"Central\",\"Sul\",\"Sul\",\"Sul\",\"Central\",\"Central\",\"Central\",\"Central\",\"Oeste\",\"Oeste\",\"Leste\",\"Leste\",\"Leste\",\"Leste\",\"Leste\",\"Leste\",\"Leste\",\"Leste\",\"Central\",\"Central\",\"Leste\",\"Oeste\",\"Oeste\",\"Central\",\"Leste\",\"Central\",\"Central\",\"Central\",\"Sul\",\"Leste\",\"Oeste\",\"Sul\",\"Leste\",\"Leste\",\"Leste\",\"Oeste\",\"Oeste\",\"Oeste\",\"Oeste\",\"Oeste\",\"Oeste\",\"Oeste\",\"Oeste\",\"Central\",\"Central\",\"Central\",\"Leste\",\"Leste\",\"Oeste\",\"Oeste\",\"Leste\",\"Leste\",\"Leste\",\"Leste\",\"Leste\",\"Oeste\",\"Oeste\",\"Oeste\",\"Oeste\",\"Oeste\",\"Oeste\",\"Oeste\",\"Leste\",\"Leste\",\"Central\",\"Central\",\"Central\",\"Oeste\",\"Leste\",\"Leste\",\"Leste\",\"Central\",\"Central\",\"Central\",\"Sul\",\"Central\",\"Central\",\"Central\",\"Oeste\",\"Oeste\",\"Oeste\",\"Oeste\",\"Oeste\",\"Central\",\"Leste\",\"Central\",\"Central\",\"Oeste\",\"Oeste\",\"Sul\",\"Sul\",\"Sul\",\"Central\",\"Central\",\"Oeste\",\"Oeste\",\"Oeste\",\"Sul\",\"Leste\",\"Leste\",\"Sul\",\"Sul\",\"Central\",\"Central\",\"Oeste\",\"Oeste\",\"Oeste\",\"Central\",\"Central\",\"Sul\",\"Sul\",\"Sul\",\"Sul\",\"Sul\",\"Sul\",\"Sul\",\"Leste\",\"Leste\",\"Central\",\"Central\",\"Oeste\",\"Oeste\",\"Oeste\",\"Oeste\",\"Central\",\"Oeste\",\"Oeste\",\"Central\",\"Leste\",\"Oeste\",\"Oeste\",\"Oeste\",\"Leste\",\"Leste\",\"Leste\",\"Leste\",\"Leste\",\"Central\",\"Central\",\"Central\",\"Central\",\"Central\",\"Leste\",\"Leste\",\"Sul\",\"Oeste\",\"Oeste\",\"Leste\",\"Leste\",\"Central\",\"Oeste\",\"Oeste\",\"Sul\",\"Sul\",\"Sul\",\"Leste\",\"Leste\",\"Central\",\"Central\",\"Central\",\"Central\",\"Central\",\"Central\",\"Central\",\"Central\",\"Central\",\"Central\",\"Oeste\",\"Oeste\",\"Oeste\",\"Oeste\",\"Oeste\",\"Oeste\",\"Oeste\",\"Leste\",\"Leste\",\"Leste\",\"Leste\",\"Leste\",\"Leste\",\"Oeste\",\"Central\",\"Oeste\",\"Leste\",\"Oeste\",\"Oeste\",\"Leste\",\"Leste\",\"Leste\",\"Leste\",\"Central\",\"Central\",\"Central\",\"Leste\",\"Leste\",\"Leste\",\"Leste\",\"Central\",\"Oeste\",\"Central\",\"Central\",\"Oeste\",\"Oeste\",\"Central\",\"Oeste\",\"Oeste\",\"Leste\",\"Leste\",\"Leste\",\"Leste\",\"Central\",\"Central\",\"Central\",\"Leste\",\"Sul\",\"Leste\",\"Leste\",\"Leste\",\"Sul\",\"Sul\",\"Sul\",\"Sul\",\"Sul\",\"Central\",\"Oeste\",\"Oeste\",\"Central\",\"Leste\",\"Central\",\"Central\",\"Central\",\"Sul\",\"Sul\",\"Sul\",\"Sul\",\"Central\",\"Central\",\"Oeste\",\"Leste\",\"Leste\",\"Leste\",\"Leste\",\"Leste\",\"Oeste\",\"Oeste\",\"Oeste\",\"Oeste\",\"Oeste\",\"Central\",\"Central\",\"Oeste\",\"Oeste\",\"Leste\",\"Oeste\",\"Oeste\",\"Oeste\",\"Oeste\",\"Oeste\",\"Central\",\"Central\",\"Leste\",\"Leste\",\"Leste\",\"Oeste\",\"Oeste\",\"Oeste\",\"Oeste\",\"Oeste\",\"Central\",\"Central\",\"Central\",\"Central\",\"Central\",\"Oeste\",\"Leste\",\"Leste\",\"Leste\",\"Leste\",\"Leste\",\"Leste\",\"Sul\",\"Oeste\",\"Oeste\",\"Oeste\",\"Oeste\",\"Sul\",\"Sul\",\"Sul\",\"Sul\",\"Leste\",\"Leste\",\"Leste\",\"Leste\",\"Leste\",\"Central\",\"Leste\",\"Sul\",\"Sul\",\"Leste\",\"Leste\",\"Leste\",\"Sul\",\"Sul\",\"Oeste\",\"Leste\",\"Leste\",\"Central\",\"Central\",\"Central\",\"Central\",\"Oeste\",\"Oeste\",\"Oeste\",\"Oeste\",\"Sul\",\"Sul\",\"Sul\",\"Sul\",\"Leste\",\"Sul\",\"Sul\",\"Central\",\"Central\",\"Central\",\"Central\",\"Central\",\"Central\",\"Central\",\"Central\",\"Oeste\",\"Oeste\",\"Oeste\",\"Sul\",\"Sul\",\"Sul\",\"Central\",\"Central\",\"Leste\",\"Central\",\"Central\",\"Central\",\"Central\",\"Central\",\"Central\",\"Central\",\"Central\",\"Central\",\"Central\",\"Sul\",\"Sul\",\"Sul\",\"Sul\",\"Central\",\"Oeste\",\"Central\",\"Central\",\"Oeste\",\"Central\",\"Sul\",\"Sul\",\"Sul\",\"Oeste\",\"Sul\",\"Central\",\"Leste\",\"Oeste\",\"Oeste\",\"Oeste\",\"Oeste\",\"Leste\",\"Sul\",\"Sul\",\"Sul\",\"Sul\",\"Leste\",\"Leste\",\"Leste\",\"Central\",\"Central\",\"Sul\",\"Sul\",\"Sul\",\"Sul\",\"Central\",\"Central\",\"Central\",\"Leste\",\"Oeste\",\"Oeste\",\"Oeste\",\"Oeste\",\"Oeste\",\"Oeste\",\"Leste\",\"Leste\",\"Leste\",\"Leste\",\"Oeste\",\"Oeste\",\"Central\",\"Central\",\"Oeste\",\"Oeste\",\"Oeste\",\"Oeste\",\"Central\",\"Leste\",\"Leste\",\"Sul\",\"Oeste\",\"Oeste\",\"Sul\",\"Sul\",\"Sul\",\"Central\",\"Central\",\"Central\",\"Central\",\"Central\",\"Oeste\",\"Leste\",\"Sul\",\"Sul\",\"Sul\",\"Central\",\"Leste\",\"Leste\",\"Leste\",\"Leste\",\"Leste\",\"Leste\",\"Leste\",\"Leste\",\"Oeste\",\"Leste\",\"Leste\",\"Leste\",\"Leste\",\"Leste\",\"Leste\",\"Leste\",\"Leste\",\"Leste\",\"Leste\",\"Central\",\"Leste\",\"Leste\",\"Central\",\"Central\",\"Leste\",\"Oeste\",\"Oeste\",\"Oeste\",\"Sul\",\"Sul\",\"Sul\",\"Sul\",\"Oeste\",\"Oeste\",\"Oeste\",\"Oeste\",\"Oeste\",\"Leste\",\"Leste\",\"Oeste\",\"Oeste\",\"Leste\",\"Leste\",\"Leste\",\"Leste\",\"Leste\",\"Leste\",\"Leste\",\"Leste\",\"Leste\",\"Oeste\",\"Oeste\",\"Oeste\",\"Oeste\",\"Oeste\",\"Oeste\",\"Sul\",\"Sul\",\"Central\",\"Central\",\"Central\",\"Central\",\"Central\",\"Sul\",\"Leste\",\"Sul\",\"Sul\",\"Sul\",\"Oeste\",\"Central\",\"Leste\",\"Leste\",\"Oeste\",\"Oeste\",\"Oeste\",\"Oeste\",\"Oeste\",\"Oeste\",\"Oeste\",\"Oeste\",\"Leste\",\"Leste\",\"Leste\",\"Leste\",\"Oeste\",\"Leste\",\"Leste\",\"Leste\",\"Leste\",\"Leste\",\"Leste\",\"Leste\",\"Leste\",\"Leste\",\"Oeste\",\"Sul\",\"Oeste\",\"Oeste\",\"Oeste\",\"Oeste\",\"Oeste\",\"Oeste\",\"Sul\",\"Sul\",\"Sul\",\"Oeste\",\"Oeste\",\"Leste\",\"Leste\",\"Leste\",\"Sul\",\"Sul\",\"Sul\",\"Sul\",\"Central\",\"Central\",\"Central\",\"Central\",\"Oeste\",\"Oeste\",\"Oeste\",\"Oeste\",\"Oeste\",\"Oeste\",\"Central\",\"Sul\",\"Sul\",\"Central\",\"Sul\",\"Sul\",\"Central\",\"Oeste\",\"Central\",\"Oeste\",\"Leste\",\"Leste\",\"Leste\",\"Leste\",\"Leste\",\"Leste\",\"Leste\",\"Leste\",\"Leste\",\"Leste\",\"Leste\",\"Leste\",\"Central\",\"Central\",\"Central\",\"Leste\",\"Leste\",\"Leste\",\"Sul\",\"Sul\",\"Sul\",\"Oeste\",\"Oeste\",\"Oeste\",\"Oeste\",\"Oeste\",\"Oeste\",\"Oeste\",\"Oeste\",\"Central\",\"Central\",\"Leste\",\"Oeste\",\"Oeste\",\"Oeste\",\"Leste\",\"Central\",\"Central\",\"Central\",\"Central\",\"Central\",\"Central\",\"Sul\",\"Sul\",\"Oeste\",\"Leste\",\"Sul\",\"Sul\",\"Sul\",\"Sul\",\"Sul\",\"Oeste\",\"Sul\",\"Leste\",\"Central\",\"Leste\",\"Sul\",\"Sul\",\"Sul\",\"Leste\",\"Oeste\",\"Central\",\"Central\",\"Central\",\"Oeste\",\"Leste\",\"Leste\",\"Leste\",\"Oeste\",\"Oeste\",\"Oeste\",\"Sul\",\"Sul\",\"Sul\",\"Sul\",\"Sul\",\"Sul\",\"Sul\",\"Sul\",\"Sul\",\"Sul\",\"Sul\",\"Sul\",\"Sul\",\"Sul\",\"Sul\",\"Central\",\"Central\",\"Sul\",\"Sul\",\"Sul\",\"Sul\",\"Sul\",\"Leste\",\"Leste\",\"Leste\",\"Leste\",\"Leste\",\"Leste\",\"Leste\",\"Central\",\"Central\",\"Central\",\"Central\",\"Central\",\"Leste\",\"Leste\",\"Leste\",\"Leste\",\"Oeste\",\"Oeste\",\"Oeste\",\"Oeste\",\"Oeste\",\"Oeste\",\"Sul\",\"Oeste\",\"Oeste\",\"Oeste\",\"Oeste\",\"Oeste\",\"Central\",\"Sul\",\"Sul\",\"Central\",\"Leste\",\"Central\",\"Oeste\",\"Oeste\",\"Central\",\"Central\",\"Central\",\"Oeste\",\"Central\",\"Central\",\"Leste\",\"Leste\",\"Oeste\",\"Central\",\"Oeste\",\"Central\",\"Oeste\",\"Oeste\",\"Oeste\",\"Oeste\",\"Oeste\",\"Oeste\",\"Sul\",\"Sul\",\"Sul\",\"Sul\",\"Sul\",\"Central\",\"Central\",\"Oeste\",\"Oeste\",\"Oeste\",\"Oeste\",\"Sul\",\"Central\",\"Central\",\"Sul\",\"Sul\",\"Sul\",\"Oeste\",\"Oeste\",\"Oeste\",\"Central\",\"Central\",\"Sul\",\"Central\",\"Central\",\"Central\",\"Leste\",\"Central\",\"Leste\",\"Oeste\",\"Leste\",\"Leste\",\"Leste\",\"Leste\",\"Leste\",\"Leste\",\"Leste\",\"Leste\",\"Central\",\"Leste\",\"Leste\",\"Oeste\",\"Oeste\",\"Oeste\",\"Oeste\",\"Oeste\",\"Sul\",\"Sul\",\"Central\",\"Central\",\"Central\",\"Oeste\",\"Oeste\",\"Oeste\",\"Oeste\",\"Central\",\"Central\",\"Central\",\"Leste\",\"Leste\",\"Oeste\",\"Oeste\",\"Oeste\",\"Central\",\"Central\",\"Central\",\"Central\",\"Leste\",\"Leste\",\"Sul\",\"Leste\",\"Oeste\",\"Sul\",\"Sul\",\"Central\",\"Central\",\"Central\",\"Central\",\"Leste\",\"Oeste\",\"Leste\",\"Central\",\"Central\",\"Oeste\",\"Sul\",\"Sul\",\"Sul\",\"Central\",\"Central\",\"Oeste\",\"Oeste\",\"Leste\",\"Sul\",\"Leste\",\"Oeste\",\"Central\",\"Central\",\"Oeste\",\"Central\",\"Leste\",\"Leste\",\"Leste\",\"Leste\",\"Sul\",\"Oeste\",\"Oeste\",\"Leste\",\"Leste\",\"Oeste\",\"Oeste\",\"Oeste\",\"Oeste\",\"Oeste\",\"Leste\",\"Leste\",\"Sul\",\"Leste\",\"Leste\",\"Sul\",\"Sul\",\"Sul\",\"Central\",\"Central\",\"Central\",\"Central\",\"Central\",\"Sul\",\"Oeste\",\"Oeste\",\"Central\",\"Central\",\"Central\",\"Sul\",\"Sul\",\"Sul\",\"Oeste\",\"Oeste\",\"Leste\",\"Leste\",\"Central\",\"Sul\",\"Sul\",\"Sul\",\"Sul\",\"Sul\",\"Sul\",\"Sul\",\"Leste\",\"Leste\",\"Leste\",\"Oeste\",\"Oeste\",\"Central\",\"Central\",\"Central\",\"Central\",\"Sul\",\"Sul\",\"Oeste\",\"Oeste\",\"Oeste\",\"Leste\",\"Leste\",\"Central\",\"Oeste\",\"Oeste\",\"Oeste\",\"Oeste\",\"Oeste\",\"Oeste\",\"Oeste\",\"Oeste\",\"Central\",\"Central\",\"Leste\",\"Leste\",\"Leste\",\"Leste\",\"Leste\",\"Leste\",\"Leste\",\"Leste\",\"Leste\",\"Leste\",\"Central\",\"Oeste\",\"Oeste\",\"Central\",\"Oeste\",\"Leste\",\"Sul\",\"Sul\",\"Sul\",\"Sul\",\"Sul\",\"Sul\",\"Central\",\"Central\",\"Central\",\"Central\",\"Central\",\"Sul\",\"Sul\",\"Central\",\"Central\",\"Central\",\"Sul\",\"Oeste\",\"Oeste\",\"Central\",\"Central\",\"Oeste\",\"Oeste\",\"Oeste\",\"Oeste\",\"Sul\",\"Leste\",\"Leste\",\"Leste\",\"Leste\",\"Sul\",\"Sul\",\"Sul\",\"Central\",\"Central\",\"Central\",\"Central\",\"Central\",\"Central\",\"Central\",\"Central\",\"Oeste\",\"Oeste\",\"Central\",\"Leste\",\"Leste\",\"Central\",\"Central\",\"Central\",\"Central\",\"Central\",\"Central\",\"Oeste\",\"Oeste\",\"Oeste\",\"Oeste\",\"Oeste\",\"Leste\",\"Oeste\",\"Oeste\",\"Oeste\",\"Leste\",\"Sul\",\"Sul\",\"Sul\",\"Sul\",\"Oeste\",\"Central\",\"Sul\",\"Sul\",\"Sul\",\"Sul\",\"Oeste\",\"Oeste\",\"Sul\",\"Central\",\"Leste\",\"Leste\",\"Central\",\"Central\",\"Oeste\",\"Oeste\",\"Oeste\",\"Leste\",\"Central\",\"Central\",\"Central\",\"Central\",\"Leste\",\"Leste\",\"Leste\",\"Sul\",\"Sul\",\"Leste\",\"Leste\",\"Central\",\"Sul\",\"Leste\",\"Leste\",\"Leste\",\"Leste\",\"Oeste\",\"Oeste\",\"Leste\",\"Oeste\",\"Oeste\",\"Oeste\",\"Oeste\",\"Oeste\",\"Sul\",\"Sul\",\"Sul\",\"Oeste\",\"Sul\",\"Sul\",\"Oeste\",\"Oeste\",\"Central\",\"Leste\",\"Leste\",\"Leste\",\"Leste\",\"Leste\",\"Central\",\"Central\",\"Central\",\"Central\",\"Leste\",\"Central\",\"Oeste\",\"Oeste\",\"Oeste\",\"Oeste\",\"Leste\",\"Leste\",\"Leste\",\"Leste\",\"Leste\",\"Leste\",\"Leste\",\"Leste\",\"Leste\",\"Leste\",\"Leste\",\"Leste\",\"Leste\",\"Leste\",\"Central\",\"Sul\",\"Sul\",\"Sul\",\"Central\",\"Leste\",\"Oeste\",\"Oeste\",\"Oeste\",\"Oeste\",\"Oeste\",\"Oeste\",\"Oeste\",\"Oeste\",\"Central\",\"Central\",\"Central\",\"Oeste\",\"Central\",\"Central\",\"Central\",\"Central\",\"Central\",\"Central\",\"Leste\",\"Leste\",\"Central\",\"Leste\",\"Oeste\",\"Central\",\"Oeste\",\"Oeste\",\"Sul\",\"Sul\",\"Oeste\",\"Leste\",\"Leste\",\"Leste\",\"Leste\",\"Leste\",\"Leste\",\"Sul\",\"Sul\",\"Sul\",\"Central\",\"Central\",\"Central\",\"Oeste\",\"Oeste\",\"Leste\",\"Leste\",\"Central\",\"Sul\",\"Leste\",\"Central\",\"Central\",\"Central\",\"Central\",\"Central\",\"Oeste\",\"Sul\",\"Leste\",\"Oeste\",\"Oeste\",\"Oeste\",\"Central\",\"Oeste\",\"Leste\",\"Leste\",\"Leste\",\"Leste\",\"Leste\",\"Central\",\"Central\",\"Central\",\"Central\",\"Central\",\"Sul\",\"Central\",\"Central\",\"Oeste\",\"Oeste\",\"Oeste\",\"Leste\",\"Oeste\",\"Oeste\",\"Oeste\",\"Sul\",\"Sul\",\"Sul\",\"Sul\",\"Sul\",\"Leste\",\"Central\",\"Oeste\",\"Oeste\",\"Oeste\",\"Oeste\",\"Oeste\",\"Oeste\",\"Oeste\",\"Oeste\",\"Oeste\",\"Leste\",\"Oeste\",\"Oeste\",\"Oeste\",\"Oeste\",\"Sul\",\"Oeste\",\"Oeste\",\"Leste\",\"Leste\",\"Leste\",\"Leste\",\"Leste\",\"Leste\",\"Leste\",\"Leste\",\"Sul\",\"Sul\",\"Oeste\",\"Oeste\",\"Sul\",\"Sul\",\"Oeste\",\"Oeste\",\"Oeste\",\"Oeste\",\"Sul\",\"Central\",\"Sul\",\"Oeste\",\"Oeste\",\"Oeste\",\"Oeste\",\"Leste\",\"Leste\",\"Oeste\",\"Oeste\",\"Leste\",\"Leste\",\"Oeste\",\"Oeste\",\"Sul\",\"Sul\",\"Sul\",\"Central\",\"Central\",\"Central\",\"Leste\",\"Sul\",\"Central\",\"Central\",\"Central\",\"Central\",\"Central\",\"Central\",\"Central\",\"Central\",\"Central\",\"Central\",\"Central\",\"Central\",\"Leste\",\"Oeste\",\"Oeste\",\"Oeste\",\"Sul\",\"Sul\",\"Oeste\",\"Oeste\",\"Central\",\"Central\",\"Central\",\"Central\",\"Oeste\",\"Oeste\",\"Leste\",\"Leste\",\"Leste\",\"Leste\",\"Central\",\"Central\",\"Leste\",\"Leste\",\"Oeste\",\"Leste\",\"Leste\",\"Leste\",\"Leste\",\"Leste\",\"Oeste\",\"Leste\",\"Leste\",\"Leste\",\"Central\",\"Central\",\"Central\",\"Oeste\",\"Oeste\",\"Leste\",\"Leste\",\"Leste\",\"Leste\",\"Oeste\",\"Oeste\",\"Central\",\"Leste\",\"Leste\",\"Central\",\"Sul\",\"Sul\",\"Sul\",\"Sul\",\"Sul\",\"Sul\",\"Oeste\",\"Central\",\"Leste\",\"Sul\",\"Sul\",\"Sul\",\"Sul\",\"Sul\",\"Central\",\"Central\",\"Central\",\"Central\",\"Central\",\"Central\",\"Central\",\"Central\",\"Central\",\"Central\",\"Central\",\"Central\",\"Central\",\"Oeste\",\"Oeste\",\"Oeste\",\"Oeste\",\"Oeste\",\"Oeste\",\"Oeste\",\"Oeste\",\"Oeste\",\"Oeste\",\"Oeste\",\"Oeste\",\"Oeste\",\"Oeste\",\"Oeste\",\"Oeste\",\"Oeste\",\"Oeste\",\"Leste\",\"Leste\",\"Leste\",\"Leste\",\"Leste\",\"Leste\",\"Leste\",\"Leste\",\"Leste\",\"Leste\",\"Leste\",\"Central\",\"Central\",\"Leste\",\"Oeste\",\"Oeste\",\"Oeste\",\"Oeste\",\"Oeste\",\"Oeste\",\"Oeste\",\"Central\",\"Central\",\"Central\",\"Oeste\",\"Leste\",\"Leste\",\"Leste\",\"Leste\",\"Oeste\",\"Oeste\",\"Leste\",\"Oeste\",\"Oeste\",\"Oeste\",\"Central\",\"Central\",\"Oeste\",\"Oeste\",\"Oeste\",\"Oeste\",\"Oeste\",\"Oeste\",\"Oeste\",\"Central\",\"Central\",\"Oeste\",\"Central\",\"Sul\",\"Central\",\"Oeste\",\"Oeste\",\"Oeste\",\"Sul\",\"Central\",\"Central\",\"Oeste\",\"Leste\",\"Leste\",\"Leste\",\"Leste\",\"Leste\",\"Leste\",\"Central\",\"Leste\",\"Leste\",\"Oeste\",\"Oeste\",\"Oeste\",\"Oeste\",\"Oeste\",\"Oeste\",\"Oeste\",\"Leste\",\"Leste\",\"Central\",\"Central\",\"Central\",\"Central\",\"Central\",\"Central\",\"Central\",\"Central\",\"Central\",\"Leste\",\"Oeste\",\"Oeste\",\"Oeste\",\"Central\",\"Sul\",\"Sul\",\"Oeste\",\"Central\",\"Central\",\"Oeste\",\"Oeste\",\"Oeste\",\"Sul\",\"Oeste\",\"Sul\",\"Sul\",\"Sul\",\"Central\",\"Oeste\",\"Central\",\"Central\",\"Oeste\",\"Central\",\"Central\",\"Central\",\"Central\",\"Oeste\",\"Sul\",\"Leste\",\"Sul\",\"Leste\",\"Leste\",\"Oeste\",\"Oeste\",\"Oeste\",\"Oeste\",\"Oeste\",\"Oeste\",\"Oeste\",\"Oeste\",\"Oeste\",\"Oeste\",\"Oeste\",\"Oeste\",\"Oeste\",\"Leste\",\"Central\",\"Central\",\"Leste\",\"Leste\",\"Leste\",\"Sul\",\"Sul\",\"Sul\",\"Sul\",\"Leste\",\"Leste\",\"Leste\",\"Leste\",\"Oeste\",\"Sul\",\"Sul\",\"Sul\",\"Central\",\"Central\",\"Central\",\"Leste\",\"Leste\",\"Oeste\",\"Oeste\",\"Leste\",\"Sul\",\"Sul\",\"Sul\",\"Sul\",\"Leste\",\"Leste\",\"Leste\",\"Leste\",\"Central\",\"Oeste\",\"Oeste\",\"Oeste\",\"Oeste\",\"Oeste\",\"Oeste\",\"Oeste\",\"Oeste\",\"Sul\",\"Sul\",\"Oeste\",\"Oeste\",\"Oeste\",\"Oeste\",\"Leste\",\"Sul\",\"Leste\",\"Oeste\",\"Oeste\",\"Oeste\",\"Oeste\",\"Leste\",\"Leste\",\"Oeste\",\"Central\",\"Leste\",\"Leste\",\"Leste\",\"Leste\",\"Leste\",\"Leste\",\"Leste\",\"Sul\",\"Sul\",\"Sul\",\"Oeste\",\"Oeste\",\"Central\",\"Central\",\"Central\",\"Central\",\"Central\",\"Central\",\"Central\",\"Leste\",\"Oeste\",\"Oeste\",\"Oeste\",\"Oeste\",\"Oeste\",\"Leste\",\"Sul\",\"Leste\",\"Leste\",\"Leste\",\"Leste\",\"Central\",\"Leste\",\"Oeste\",\"Oeste\",\"Oeste\",\"Oeste\",\"Oeste\",\"Central\",\"Central\",\"Central\",\"Central\",\"Central\",\"Central\",\"Central\",\"Central\",\"Central\",\"Central\",\"Leste\",\"Leste\",\"Leste\",\"Oeste\",\"Oeste\",\"Oeste\",\"Oeste\",\"Leste\",\"Central\",\"Central\",\"Oeste\",\"Oeste\",\"Oeste\",\"Leste\",\"Oeste\",\"Oeste\",\"Oeste\",\"Central\",\"Oeste\",\"Sul\",\"Sul\",\"Sul\",\"Leste\",\"Leste\",\"Oeste\",\"Central\",\"Oeste\",\"Oeste\",\"Oeste\",\"Oeste\",\"Leste\",\"Leste\",\"Leste\",\"Leste\",\"Oeste\",\"Oeste\",\"Oeste\",\"Oeste\",\"Oeste\",\"Central\",\"Central\",\"Central\",\"Central\",\"Oeste\",\"Oeste\",\"Oeste\",\"Oeste\",\"Sul\",\"Sul\",\"Central\",\"Sul\",\"Sul\",\"Leste\",\"Central\",\"Leste\",\"Leste\",\"Leste\",\"Leste\",\"Leste\",\"Oeste\",\"Oeste\",\"Leste\",\"Central\",\"Central\",\"Sul\",\"Oeste\",\"Oeste\",\"Oeste\",\"Central\",\"Central\",\"Central\",\"Oeste\",\"Leste\",\"Leste\",\"Leste\",\"Leste\",\"Central\",\"Central\",\"Central\",\"Central\",\"Oeste\",\"Oeste\",\"Oeste\",\"Oeste\",\"Oeste\",\"Oeste\",\"Oeste\",\"Oeste\",\"Oeste\",\"Leste\",\"Oeste\",\"Sul\",\"Sul\",\"Sul\",\"Sul\",\"Sul\",\"Sul\",\"Sul\",\"Sul\",\"Leste\",\"Leste\",\"Oeste\",\"Oeste\",\"Oeste\",\"Leste\",\"Central\",\"Central\",\"Leste\",\"Leste\",\"Leste\",\"Oeste\",\"Leste\",\"Leste\",\"Leste\",\"Leste\",\"Leste\",\"Central\",\"Central\",\"Oeste\",\"Leste\",\"Leste\",\"Leste\",\"Oeste\",\"Sul\",\"Sul\",\"Leste\",\"Central\",\"Central\",\"Central\",\"Central\",\"Oeste\",\"Oeste\",\"Oeste\",\"Leste\",\"Leste\",\"Leste\",\"Sul\",\"Leste\",\"Sul\",\"Leste\",\"Oeste\",\"Leste\",\"Oeste\",\"Oeste\",\"Oeste\",\"Oeste\",\"Oeste\",\"Oeste\",\"Oeste\",\"Oeste\",\"Oeste\",\"Oeste\",\"Oeste\",\"Oeste\",\"Oeste\",\"Central\",\"Leste\",\"Central\",\"Leste\",\"Leste\",\"Leste\",\"Oeste\",\"Oeste\",\"Oeste\",\"Oeste\",\"Leste\",\"Leste\",\"Central\",\"Central\",\"Central\",\"Central\",\"Leste\",\"Sul\",\"Sul\",\"Sul\",\"Sul\",\"Sul\",\"Sul\",\"Sul\",\"Oeste\",\"Oeste\",\"Central\",\"Sul\",\"Sul\",\"Sul\",\"Sul\",\"Oeste\",\"Oeste\",\"Oeste\",\"Oeste\",\"Oeste\",\"Oeste\",\"Oeste\",\"Leste\",\"Leste\",\"Oeste\",\"Oeste\",\"Oeste\",\"Leste\",\"Leste\",\"Central\",\"Leste\",\"Leste\",\"Leste\",\"Leste\",\"Sul\",\"Sul\",\"Sul\",\"Sul\",\"Sul\",\"Oeste\",\"Oeste\",\"Central\",\"Central\",\"Leste\",\"Leste\",\"Central\",\"Sul\",\"Sul\",\"Sul\",\"Sul\",\"Leste\",\"Central\",\"Leste\",\"Leste\",\"Leste\",\"Leste\",\"Oeste\",\"Oeste\",\"Oeste\",\"Oeste\",\"Oeste\",\"Sul\",\"Oeste\",\"Oeste\",\"Oeste\",\"Leste\",\"Leste\",\"Leste\",\"Central\",\"Oeste\",\"Oeste\",\"Oeste\",\"Oeste\",\"Oeste\",\"Oeste\",\"Leste\",\"Central\",\"Oeste\",\"Leste\",\"Oeste\",\"Oeste\",\"Oeste\",\"Central\",\"Central\",\"Oeste\",\"Oeste\",\"Oeste\",\"Oeste\",\"Oeste\",\"Sul\",\"Sul\",\"Leste\",\"Leste\",\"Leste\",\"Leste\",\"Sul\",\"Sul\",\"Sul\",\"Sul\",\"Oeste\",\"Sul\",\"Leste\",\"Leste\",\"Leste\",\"Central\",\"Central\",\"Central\",\"Oeste\",\"Oeste\",\"Sul\",\"Leste\",\"Oeste\",\"Oeste\",\"Oeste\",\"Oeste\",\"Oeste\",\"Central\",\"Sul\",\"Sul\",\"Sul\",\"Leste\",\"Sul\",\"Sul\",\"Oeste\",\"Oeste\",\"Oeste\",\"Sul\",\"Sul\",\"Oeste\",\"Sul\",\"Central\",\"Leste\",\"Leste\",\"Leste\",\"Leste\",\"Leste\",\"Oeste\",\"Leste\",\"Leste\",\"Leste\",\"Leste\",\"Leste\",\"Oeste\",\"Oeste\",\"Oeste\",\"Leste\",\"Oeste\",\"Oeste\",\"Oeste\",\"Central\",\"Central\",\"Central\",\"Central\",\"Central\",\"Oeste\",\"Oeste\",\"Oeste\",\"Leste\",\"Leste\",\"Central\",\"Oeste\",\"Oeste\",\"Central\",\"Leste\",\"Leste\",\"Leste\",\"Oeste\",\"Oeste\",\"Oeste\",\"Oeste\",\"Oeste\",\"Oeste\",\"Oeste\",\"Central\",\"Central\",\"Oeste\",\"Leste\",\"Sul\",\"Central\",\"Central\",\"Central\",\"Oeste\",\"Oeste\",\"Leste\",\"Sul\",\"Sul\",\"Central\",\"Central\",\"Central\",\"Leste\",\"Sul\",\"Sul\",\"Oeste\",\"Central\",\"Central\",\"Central\",\"Central\",\"Central\",\"Oeste\",\"Oeste\",\"Central\",\"Central\",\"Central\",\"Central\",\"Oeste\",\"Oeste\",\"Leste\",\"Sul\",\"Sul\",\"Leste\",\"Central\",\"Leste\",\"Leste\",\"Leste\",\"Oeste\",\"Oeste\",\"Oeste\",\"Leste\",\"Central\",\"Central\",\"Central\",\"Central\",\"Central\",\"Central\",\"Oeste\",\"Central\",\"Central\",\"Central\",\"Leste\",\"Leste\",\"Sul\",\"Sul\",\"Sul\",\"Sul\",\"Leste\",\"Leste\",\"Leste\",\"Central\",\"Central\",\"Oeste\",\"Leste\",\"Leste\",\"Leste\",\"Leste\",\"Leste\",\"Sul\",\"Sul\",\"Sul\",\"Sul\",\"Leste\",\"Leste\",\"Leste\",\"Leste\",\"Leste\",\"Leste\",\"Leste\",\"Oeste\",\"Sul\",\"Leste\",\"Leste\",\"Oeste\",\"Oeste\",\"Central\",\"Leste\",\"Leste\",\"Oeste\",\"Leste\",\"Leste\",\"Leste\",\"Oeste\",\"Oeste\",\"Oeste\",\"Oeste\",\"Oeste\",\"Leste\",\"Oeste\",\"Oeste\",\"Leste\",\"Leste\",\"Central\",\"Central\",\"Central\",\"Central\",\"Central\",\"Oeste\",\"Oeste\",\"Oeste\",\"Central\",\"Oeste\",\"Central\",\"Central\",\"Central\",\"Central\",\"Central\",\"Central\",\"Central\",\"Central\",\"Central\",\"Oeste\",\"Central\",\"Central\",\"Oeste\",\"Leste\",\"Oeste\",\"Oeste\",\"Oeste\",\"Leste\",\"Leste\",\"Sul\",\"Sul\",\"Sul\",\"Leste\",\"Central\",\"Central\",\"Central\",\"Central\",\"Oeste\",\"Sul\",\"Sul\",\"Sul\",\"Sul\",\"Oeste\",\"Oeste\",\"Central\",\"Central\",\"Central\",\"Central\",\"Oeste\",\"Oeste\",\"Leste\",\"Leste\",\"Leste\",\"Leste\",\"Leste\",\"Leste\",\"Leste\",\"Leste\",\"Oeste\",\"Oeste\",\"Oeste\",\"Oeste\",\"Central\",\"Oeste\",\"Leste\",\"Central\",\"Central\",\"Central\",\"Central\",\"Central\",\"Oeste\",\"Leste\",\"Leste\",\"Leste\",\"Oeste\",\"Oeste\",\"Oeste\",\"Oeste\",\"Oeste\",\"Sul\",\"Oeste\",\"Central\",\"Leste\",\"Leste\",\"Leste\",\"Oeste\",\"Oeste\",\"Oeste\",\"Central\",\"Sul\",\"Oeste\",\"Oeste\",\"Oeste\",\"Central\",\"Oeste\",\"Leste\",\"Sul\",\"Sul\",\"Sul\",\"Oeste\",\"Leste\",\"Leste\",\"Central\",\"Oeste\",\"Oeste\",\"Leste\",\"Central\",\"Central\",\"Central\",\"Central\",\"Central\",\"Oeste\",\"Oeste\",\"Oeste\",\"Leste\",\"Oeste\",\"Oeste\",\"Oeste\",\"Oeste\",\"Sul\",\"Leste\",\"Sul\",\"Sul\",\"Central\",\"Sul\",\"Central\",\"Central\",\"Central\",\"Central\",\"Oeste\",\"Oeste\",\"Oeste\",\"Oeste\",\"Oeste\",\"Oeste\",\"Central\",\"Central\",\"Central\",\"Sul\",\"Leste\",\"Central\",\"Central\",\"Leste\",\"Leste\",\"Oeste\",\"Oeste\",\"Sul\",\"Sul\",\"Sul\",\"Central\",\"Central\",\"Leste\",\"Leste\",\"Leste\",\"Central\",\"Central\",\"Central\",\"Sul\",\"Sul\",\"Oeste\",\"Oeste\",\"Sul\",\"Sul\",\"Sul\",\"Sul\",\"Sul\",\"Sul\",\"Sul\",\"Sul\",\"Central\",\"Oeste\",\"Oeste\",\"Leste\",\"Oeste\",\"Central\",\"Leste\",\"Leste\",\"Leste\",\"Leste\",\"Leste\",\"Leste\",\"Leste\",\"Oeste\",\"Oeste\",\"Leste\",\"Leste\",\"Leste\",\"Leste\",\"Central\",\"Central\",\"Leste\",\"Oeste\",\"Oeste\",\"Oeste\",\"Central\",\"Central\",\"Central\",\"Central\",\"Central\",\"Sul\",\"Oeste\",\"Oeste\",\"Oeste\",\"Oeste\",\"Oeste\",\"Oeste\",\"Sul\",\"Central\",\"Central\",\"Central\",\"Oeste\",\"Central\",\"Oeste\",\"Oeste\",\"Oeste\",\"Leste\",\"Central\",\"Central\",\"Central\",\"Central\",\"Central\",\"Oeste\",\"Oeste\",\"Leste\",\"Leste\",\"Oeste\",\"Oeste\",\"Central\",\"Central\",\"Central\",\"Leste\",\"Leste\",\"Sul\",\"Oeste\",\"Oeste\",\"Oeste\",\"Oeste\",\"Leste\",\"Leste\",\"Leste\",\"Leste\",\"Oeste\",\"Oeste\",\"Oeste\",\"Leste\",\"Oeste\",\"Oeste\",\"Oeste\",\"Leste\",\"Leste\",\"Oeste\",\"Oeste\",\"Oeste\",\"Oeste\",\"Oeste\",\"Oeste\",\"Oeste\",\"Oeste\",\"Oeste\",\"Central\",\"Central\",\"Central\",\"Central\",\"Central\",\"Central\",\"Central\",\"Leste\",\"Leste\",\"Oeste\",\"Sul\",\"Leste\",\"Oeste\",\"Oeste\",\"Oeste\",\"Oeste\",\"Sul\",\"Leste\",\"Leste\",\"Leste\",\"Oeste\",\"Oeste\",\"Oeste\",\"Sul\",\"Sul\",\"Sul\",\"Leste\",\"Sul\",\"Oeste\",\"Leste\",\"Leste\",\"Leste\",\"Central\",\"Leste\",\"Leste\",\"Central\",\"Central\",\"Central\",\"Central\",\"Oeste\",\"Central\",\"Leste\",\"Leste\",\"Oeste\",\"Oeste\",\"Oeste\",\"Oeste\",\"Sul\",\"Oeste\",\"Oeste\",\"Oeste\",\"Oeste\",\"Oeste\",\"Central\",\"Oeste\",\"Oeste\",\"Oeste\",\"Leste\",\"Oeste\",\"Oeste\",\"Oeste\",\"Central\",\"Central\",\"Central\",\"Central\",\"Leste\",\"Sul\",\"Oeste\",\"Oeste\",\"Oeste\",\"Oeste\",\"Sul\",\"Sul\",\"Central\",\"Sul\",\"Sul\",\"Sul\",\"Sul\",\"Central\",\"Oeste\",\"Oeste\",\"Oeste\",\"Leste\",\"Leste\",\"Leste\",\"Leste\",\"Leste\",\"Leste\",\"Leste\",\"Leste\",\"Leste\",\"Leste\",\"Leste\",\"Oeste\",\"Sul\",\"Oeste\",\"Central\",\"Central\",\"Oeste\",\"Oeste\",\"Leste\",\"Leste\",\"Leste\",\"Sul\",\"Leste\",\"Leste\",\"Leste\",\"Leste\",\"Leste\",\"Oeste\",\"Oeste\",\"Oeste\",\"Oeste\",\"Oeste\",\"Leste\",\"Sul\",\"Central\",\"Central\",\"Sul\",\"Sul\",\"Sul\",\"Sul\",\"Sul\",\"Sul\",\"Sul\",\"Central\",\"Central\",\"Central\",\"Central\",\"Oeste\",\"Oeste\",\"Oeste\",\"Leste\",\"Oeste\",\"Oeste\",\"Oeste\",\"Oeste\",\"Central\",\"Central\",\"Central\",\"Central\",\"Central\",\"Sul\",\"Sul\",\"Sul\",\"Oeste\",\"Oeste\",\"Oeste\",\"Sul\",\"Sul\",\"Sul\",\"Central\",\"Central\",\"Central\",\"Central\",\"Central\",\"Central\",\"Central\",\"Leste\",\"Leste\",\"Leste\",\"Leste\",\"Leste\",\"Oeste\",\"Oeste\",\"Oeste\",\"Oeste\",\"Oeste\",\"Leste\",\"Leste\",\"Oeste\",\"Leste\",\"Leste\",\"Leste\",\"Oeste\",\"Oeste\",\"Oeste\",\"Oeste\",\"Leste\",\"Leste\",\"Leste\",\"Leste\",\"Leste\",\"Leste\",\"Leste\",\"Leste\",\"Leste\",\"Leste\",\"Leste\",\"Central\",\"Central\",\"Leste\",\"Sul\",\"Sul\",\"Leste\",\"Oeste\",\"Sul\",\"Leste\",\"Oeste\",\"Oeste\",\"Leste\",\"Leste\",\"Leste\",\"Leste\",\"Sul\",\"Oeste\",\"Central\",\"Central\",\"Central\",\"Central\",\"Oeste\",\"Oeste\",\"Oeste\",\"Oeste\",\"Sul\",\"Sul\",\"Leste\",\"Sul\",\"Sul\",\"Sul\",\"Leste\",\"Central\",\"Oeste\",\"Oeste\",\"Central\",\"Oeste\",\"Oeste\",\"Leste\",\"Leste\",\"Sul\",\"Sul\",\"Oeste\",\"Leste\",\"Sul\",\"Oeste\",\"Oeste\",\"Oeste\",\"Oeste\",\"Oeste\",\"Leste\",\"Oeste\",\"Oeste\",\"Oeste\",\"Oeste\",\"Oeste\",\"Oeste\",\"Oeste\",\"Oeste\",\"Oeste\",\"Oeste\",\"Leste\",\"Leste\",\"Leste\",\"Leste\",\"Oeste\",\"Oeste\",\"Oeste\",\"Oeste\",\"Oeste\",\"Central\",\"Central\",\"Oeste\",\"Oeste\",\"Oeste\",\"Central\",\"Central\",\"Central\",\"Central\",\"Central\",\"Sul\",\"Sul\",\"Sul\",\"Oeste\",\"Sul\",\"Sul\",\"Sul\",\"Central\",\"Leste\",\"Leste\",\"Leste\",\"Leste\",\"Leste\",\"Oeste\",\"Central\",\"Central\",\"Central\",\"Oeste\",\"Leste\",\"Leste\",\"Leste\",\"Leste\",\"Leste\",\"Leste\",\"Leste\",\"Leste\",\"Leste\",\"Leste\",\"Leste\",\"Leste\",\"Central\",\"Leste\",\"Sul\",\"Central\",\"Central\",\"Central\",\"Central\",\"Central\",\"Oeste\",\"Oeste\",\"Oeste\",\"Oeste\",\"Central\",\"Leste\",\"Central\",\"Central\",\"Central\",\"Central\",\"Central\",\"Central\",\"Leste\",\"Leste\",\"Leste\",\"Leste\",\"Oeste\",\"Oeste\",\"Oeste\",\"Oeste\",\"Oeste\",\"Oeste\",\"Oeste\",\"Oeste\",\"Oeste\",\"Oeste\",\"Sul\",\"Sul\",\"Sul\",\"Leste\",\"Central\",\"Oeste\",\"Oeste\",\"Sul\",\"Sul\",\"Central\",\"Central\",\"Sul\",\"Sul\",\"Oeste\",\"Oeste\",\"Oeste\",\"Oeste\",\"Leste\",\"Oeste\",\"Oeste\",\"Central\",\"Central\",\"Leste\",\"Leste\",\"Oeste\",\"Oeste\",\"Central\",\"Central\",\"Oeste\",\"Oeste\",\"Leste\",\"Oeste\",\"Oeste\",\"Oeste\",\"Oeste\",\"Oeste\",\"Oeste\",\"Oeste\",\"Oeste\",\"Oeste\",\"Oeste\",\"Oeste\",\"Sul\",\"Sul\",\"Oeste\",\"Oeste\",\"Oeste\",\"Oeste\",\"Oeste\",\"Leste\",\"Leste\",\"Leste\",\"Leste\",\"Central\",\"Central\",\"Central\",\"Oeste\",\"Leste\",\"Central\",\"Central\",\"Sul\",\"Sul\",\"Sul\",\"Sul\",\"Oeste\",\"Oeste\",\"Oeste\",\"Leste\",\"Sul\",\"Leste\",\"Leste\",\"Leste\",\"Leste\",\"Leste\",\"Oeste\",\"Oeste\",\"Oeste\",\"Oeste\",\"Leste\",\"Leste\",\"Leste\",\"Leste\",\"Leste\",\"Central\",\"Central\",\"Oeste\",\"Sul\",\"Sul\",\"Sul\",\"Sul\",\"Sul\",\"Oeste\",\"Oeste\",\"Sul\",\"Sul\",\"Oeste\",\"Oeste\",\"Oeste\",\"Oeste\",\"Oeste\",\"Oeste\",\"Oeste\",\"Central\",\"Central\",\"Central\",\"Central\",\"Central\",\"Sul\",\"Central\",\"Central\",\"Central\",\"Central\",\"Oeste\",\"Sul\",\"Leste\",\"Sul\",\"Sul\",\"Sul\",\"Leste\",\"Leste\",\"Leste\",\"Leste\",\"Leste\",\"Oeste\",\"Oeste\",\"Central\",\"Sul\",\"Sul\",\"Sul\",\"Leste\",\"Leste\",\"Leste\",\"Leste\",\"Leste\",\"Oeste\",\"Oeste\",\"Oeste\",\"Oeste\",\"Oeste\",\"Oeste\",\"Oeste\",\"Leste\",\"Sul\",\"Leste\",\"Central\",\"Central\",\"Central\",\"Sul\",\"Oeste\",\"Oeste\",\"Oeste\",\"Central\",\"Central\",\"Oeste\",\"Oeste\",\"Leste\",\"Oeste\",\"Oeste\",\"Oeste\",\"Oeste\",\"Oeste\",\"Oeste\",\"Oeste\",\"Oeste\",\"Oeste\",\"Oeste\",\"Sul\",\"Leste\",\"Leste\",\"Leste\",\"Leste\",\"Leste\",\"Leste\",\"Leste\",\"Leste\",\"Leste\",\"Leste\",\"Leste\",\"Sul\",\"Oeste\",\"Sul\",\"Sul\",\"Sul\",\"Leste\",\"Leste\",\"Leste\",\"Leste\",\"Leste\",\"Leste\",\"Oeste\",\"Oeste\",\"Oeste\",\"Central\",\"Central\",\"Oeste\",\"Oeste\",\"Oeste\",\"Oeste\",\"Oeste\",\"Oeste\",\"Oeste\",\"Central\",\"Sul\",\"Sul\",\"Sul\",\"Sul\",\"Central\",\"Leste\",\"Leste\",\"Leste\",\"Oeste\",\"Oeste\",\"Oeste\",\"Oeste\",\"Oeste\",\"Oeste\",\"Oeste\",\"Oeste\",\"Oeste\",\"Oeste\",\"Oeste\",\"Leste\",\"Oeste\",\"Oeste\",\"Oeste\",\"Oeste\",\"Leste\",\"Leste\",\"Sul\",\"Central\",\"Central\",\"Oeste\",\"Central\",\"Central\",\"Central\",\"Central\",\"Leste\",\"Leste\",\"Sul\",\"Sul\",\"Sul\",\"Sul\",\"Sul\",\"Sul\",\"Oeste\",\"Oeste\",\"Oeste\",\"Leste\",\"Leste\",\"Leste\",\"Leste\",\"Leste\",\"Oeste\",\"Oeste\",\"Oeste\",\"Oeste\",\"Oeste\",\"Sul\",\"Oeste\",\"Leste\",\"Leste\",\"Sul\",\"Oeste\",\"Oeste\",\"Oeste\",\"Oeste\",\"Oeste\",\"Oeste\",\"Oeste\",\"Oeste\",\"Oeste\",\"Oeste\",\"Oeste\",\"Leste\",\"Sul\",\"Sul\",\"Central\",\"Leste\",\"Leste\",\"Leste\",\"Oeste\",\"Oeste\",\"Sul\",\"Oeste\",\"Sul\",\"Leste\",\"Leste\",\"Oeste\",\"Central\",\"Central\",\"Sul\",\"Sul\",\"Sul\",\"Sul\",\"Oeste\",\"Oeste\",\"Oeste\",\"Sul\",\"Sul\",\"Oeste\",\"Central\",\"Sul\",\"Sul\",\"Central\",\"Central\",\"Central\",\"Leste\",\"Leste\",\"Leste\",\"Central\",\"Central\",\"Leste\",\"Leste\",\"Leste\",\"Leste\",\"Leste\",\"Oeste\",\"Oeste\",\"Oeste\",\"Leste\",\"Sul\",\"Oeste\",\"Oeste\",\"Oeste\",\"Leste\",\"Central\",\"Central\",\"Central\",\"Oeste\",\"Oeste\",\"Leste\",\"Leste\",\"Leste\",\"Leste\",\"Central\",\"Central\",\"Central\",\"Central\",\"Central\",\"Central\",\"Central\",\"Oeste\",\"Sul\",\"Oeste\",\"Leste\",\"Leste\",\"Leste\",\"Leste\",\"Leste\",\"Leste\",\"Leste\",\"Leste\",\"Leste\",\"Leste\",\"Leste\",\"Leste\",\"Leste\",\"Leste\",\"Leste\",\"Sul\",\"Central\",\"Central\",\"Central\",\"Central\",\"Leste\",\"Leste\",\"Leste\",\"Leste\",\"Leste\",\"Oeste\",\"Leste\",\"Leste\",\"Oeste\",\"Oeste\",\"Oeste\",\"Oeste\",\"Central\",\"Central\",\"Oeste\",\"Oeste\",\"Oeste\",\"Leste\",\"Oeste\",\"Sul\",\"Sul\",\"Leste\",\"Sul\",\"Oeste\",\"Oeste\",\"Central\",\"Central\",\"Sul\",\"Oeste\",\"Oeste\",\"Leste\",\"Leste\",\"Leste\",\"Leste\",\"Central\",\"Oeste\",\"Oeste\",\"Oeste\",\"Oeste\",\"Oeste\",\"Sul\",\"Oeste\",\"Oeste\",\"Leste\",\"Leste\",\"Leste\",\"Leste\",\"Central\",\"Central\",\"Oeste\",\"Sul\",\"Sul\",\"Sul\",\"Sul\",\"Sul\",\"Sul\",\"Sul\",\"Central\",\"Oeste\",\"Sul\",\"Leste\",\"Leste\",\"Central\",\"Central\",\"Central\",\"Sul\",\"Sul\",\"Sul\",\"Sul\",\"Sul\",\"Sul\",\"Sul\",\"Sul\",\"Sul\",\"Oeste\",\"Leste\",\"Leste\",\"Leste\",\"Leste\",\"Central\",\"Leste\",\"Oeste\",\"Central\",\"Central\",\"Central\",\"Leste\",\"Leste\",\"Central\",\"Central\",\"Central\",\"Central\",\"Central\",\"Oeste\",\"Leste\",\"Leste\",\"Central\",\"Central\",\"Central\",\"Leste\",\"Oeste\",\"Oeste\",\"Oeste\",\"Oeste\",\"Oeste\",\"Oeste\",\"Leste\",\"Leste\",\"Sul\",\"Central\",\"Central\",\"Central\",\"Oeste\",\"Sul\",\"Sul\",\"Sul\",\"Oeste\",\"Oeste\",\"Central\",\"Leste\",\"Leste\",\"Central\",\"Oeste\",\"Oeste\",\"Oeste\",\"Oeste\",\"Oeste\",\"Leste\",\"Leste\",\"Oeste\",\"Oeste\",\"Oeste\",\"Leste\",\"Sul\",\"Oeste\",\"Oeste\",\"Oeste\",\"Oeste\",\"Central\",\"Central\",\"Central\",\"Central\",\"Central\",\"Sul\",\"Sul\",\"Sul\",\"Central\",\"Sul\",\"Leste\",\"Leste\",\"Central\",\"Oeste\",\"Leste\",\"Central\",\"Sul\",\"Central\",\"Sul\",\"Sul\",\"Leste\",\"Leste\",\"Oeste\",\"Oeste\",\"Oeste\",\"Central\",\"Oeste\",\"Oeste\",\"Oeste\",\"Oeste\",\"Oeste\",\"Oeste\",\"Oeste\",\"Leste\",\"Leste\",\"Leste\",\"Oeste\",\"Oeste\",\"Leste\",\"Sul\",\"Oeste\",\"Oeste\",\"Oeste\",\"Oeste\",\"Sul\",\"Oeste\",\"Oeste\",\"Leste\",\"Leste\",\"Leste\",\"Leste\",\"Oeste\",\"Oeste\",\"Central\",\"Central\",\"Central\",\"Central\",\"Leste\",\"Oeste\",\"Oeste\",\"Oeste\",\"Oeste\",\"Oeste\",\"Oeste\",\"Oeste\",\"Leste\",\"Leste\",\"Central\",\"Central\",\"Central\",\"Central\",\"Oeste\",\"Oeste\",\"Sul\",\"Leste\",\"Central\",\"Leste\",\"Oeste\",\"Oeste\",\"Central\",\"Central\",\"Central\",\"Central\",\"Central\",\"Central\",\"Central\",\"Central\",\"Leste\",\"Leste\",\"Oeste\",\"Oeste\",\"Leste\",\"Leste\",\"Leste\",\"Leste\",\"Leste\",\"Leste\",\"Leste\",\"Leste\",\"Leste\",\"Oeste\",\"Oeste\",\"Oeste\",\"Central\",\"Sul\",\"Leste\",\"Leste\",\"Leste\",\"Leste\",\"Oeste\",\"Oeste\",\"Oeste\",\"Oeste\",\"Oeste\",\"Oeste\",\"Oeste\",\"Oeste\",\"Oeste\",\"Leste\",\"Leste\",\"Leste\",\"Oeste\",\"Central\",\"Leste\",\"Leste\",\"Leste\",\"Leste\",\"Sul\",\"Sul\",\"Leste\",\"Oeste\",\"Leste\",\"Leste\",\"Oeste\",\"Leste\",\"Leste\",\"Central\",\"Central\",\"Central\",\"Central\",\"Central\",\"Central\",\"Sul\",\"Sul\",\"Leste\",\"Leste\",\"Leste\",\"Leste\",\"Leste\",\"Leste\",\"Central\",\"Leste\",\"Leste\",\"Leste\",\"Sul\",\"Sul\",\"Sul\",\"Sul\",\"Oeste\",\"Oeste\",\"Central\",\"Central\",\"Central\",\"Central\",\"Central\",\"Sul\",\"Sul\",\"Sul\",\"Oeste\",\"Leste\",\"Leste\",\"Central\",\"Central\",\"Central\",\"Central\",\"Oeste\",\"Oeste\",\"Leste\",\"Leste\",\"Leste\",\"Leste\",\"Leste\",\"Sul\",\"Sul\",\"Sul\",\"Sul\",\"Central\",\"Central\",\"Oeste\",\"Oeste\",\"Oeste\",\"Central\",\"Leste\",\"Leste\",\"Leste\",\"Leste\",\"Leste\",\"Leste\",\"Central\",\"Central\",\"Central\",\"Central\",\"Leste\",\"Leste\",\"Leste\",\"Central\",\"Central\",\"Oeste\",\"Oeste\",\"Leste\",\"Leste\",\"Leste\",\"Leste\",\"Leste\",\"Leste\",\"Leste\",\"Leste\",\"Sul\",\"Sul\",\"Oeste\",\"Leste\",\"Leste\",\"Leste\",\"Central\",\"Central\",\"Central\",\"Sul\",\"Leste\",\"Sul\",\"Sul\",\"Sul\",\"Sul\",\"Sul\",\"Sul\",\"Sul\",\"Sul\",\"Leste\",\"Leste\",\"Leste\",\"Sul\",\"Sul\",\"Sul\",\"Leste\",\"Leste\",\"Sul\",\"Sul\",\"Sul\",\"Central\",\"Central\",\"Central\",\"Sul\",\"Sul\",\"Sul\",\"Sul\",\"Leste\",\"Leste\",\"Leste\",\"Leste\",\"Central\",\"Leste\",\"Leste\",\"Leste\",\"Leste\",\"Leste\",\"Oeste\",\"Oeste\",\"Oeste\",\"Oeste\",\"Oeste\",\"Oeste\",\"Oeste\",\"Oeste\",\"Oeste\",\"Central\",\"Central\",\"Central\",\"Leste\",\"Leste\",\"Leste\",\"Leste\",\"Leste\",\"Leste\",\"Central\",\"Central\",\"Central\",\"Central\",\"Central\",\"Leste\",\"Leste\",\"Sul\",\"Sul\",\"Leste\",\"Leste\",\"Oeste\",\"Oeste\",\"Oeste\",\"Oeste\",\"Leste\",\"Leste\",\"Leste\",\"Central\",\"Central\",\"Central\",\"Leste\",\"Oeste\",\"Oeste\",\"Central\",\"Central\",\"Central\",\"Central\",\"Central\",\"Leste\",\"Oeste\",\"Oeste\",\"Central\",\"Leste\",\"Leste\",\"Leste\",\"Leste\",\"Central\",\"Central\",\"Central\",\"Central\",\"Central\",\"Central\",\"Oeste\",\"Leste\",\"Leste\",\"Oeste\",\"Oeste\",\"Sul\",\"Oeste\",\"Oeste\",\"Oeste\",\"Oeste\",\"Oeste\",\"Sul\",\"Sul\",\"Sul\",\"Sul\",\"Sul\",\"Sul\",\"Sul\",\"Sul\",\"Oeste\",\"Oeste\",\"Leste\",\"Central\",\"Leste\",\"Leste\",\"Sul\",\"Sul\",\"Leste\",\"Leste\",\"Leste\",\"Leste\",\"Oeste\",\"Oeste\",\"Oeste\",\"Oeste\",\"Oeste\",\"Oeste\",\"Leste\",\"Oeste\",\"Sul\",\"Sul\",\"Sul\",\"Sul\",\"Oeste\",\"Oeste\",\"Oeste\",\"Central\",\"Central\",\"Central\",\"Central\",\"Oeste\",\"Oeste\",\"Central\",\"Central\",\"Leste\",\"Oeste\",\"Leste\",\"Sul\",\"Oeste\",\"Oeste\",\"Central\",\"Oeste\",\"Sul\",\"Sul\",\"Sul\",\"Leste\",\"Leste\",\"Leste\",\"Central\",\"Central\",\"Central\",\"Oeste\",\"Oeste\",\"Oeste\",\"Oeste\",\"Oeste\",\"Central\",\"Central\",\"Central\",\"Central\",\"Central\",\"Central\",\"Oeste\",\"Oeste\",\"Oeste\",\"Oeste\",\"Oeste\",\"Oeste\",\"Leste\",\"Leste\",\"Leste\",\"Sul\",\"Sul\",\"Central\",\"Leste\",\"Leste\",\"Leste\",\"Leste\",\"Sul\",\"Oeste\",\"Oeste\",\"Sul\",\"Central\",\"Central\",\"Central\",\"Central\",\"Oeste\",\"Leste\",\"Leste\",\"Leste\",\"Central\",\"Oeste\",\"Central\",\"Central\",\"Central\",\"Oeste\",\"Oeste\",\"Central\",\"Central\",\"Central\",\"Sul\",\"Leste\",\"Central\",\"Leste\",\"Leste\",\"Leste\",\"Oeste\",\"Oeste\",\"Oeste\",\"Sul\",\"Sul\",\"Oeste\",\"Oeste\",\"Oeste\",\"Sul\",\"Leste\",\"Oeste\",\"Oeste\",\"Oeste\",\"Leste\",\"Central\",\"Central\",\"Central\",\"Central\",\"Sul\",\"Sul\",\"Sul\",\"Sul\",\"Oeste\",\"Oeste\",\"Oeste\",\"Leste\",\"Oeste\",\"Oeste\",\"Oeste\",\"Central\",\"Sul\",\"Sul\",\"Sul\",\"Sul\",\"Oeste\",\"Oeste\",\"Sul\",\"Oeste\",\"Oeste\",\"Oeste\",\"Oeste\",\"Central\",\"Central\",\"Central\",\"Oeste\",\"Leste\",\"Leste\",\"Leste\",\"Leste\",\"Leste\",\"Leste\",\"Leste\",\"Leste\",\"Leste\",\"Leste\",\"Leste\",\"Leste\",\"Leste\",\"Leste\",\"Leste\",\"Leste\",\"Sul\",\"Leste\",\"Leste\",\"Central\",\"Central\",\"Central\",\"Central\",\"Central\",\"Central\",\"Leste\",\"Sul\",\"Oeste\",\"Oeste\",\"Oeste\",\"Oeste\",\"Oeste\",\"Leste\",\"Central\",\"Leste\",\"Leste\",\"Leste\",\"Leste\",\"Leste\",\"Leste\",\"Leste\",\"Leste\",\"Leste\",\"Leste\",\"Sul\",\"Sul\",\"Sul\",\"Oeste\",\"Oeste\",\"Leste\",\"Central\",\"Central\",\"Central\",\"Central\",\"Central\",\"Central\",\"Oeste\",\"Oeste\",\"Oeste\",\"Oeste\",\"Oeste\",\"Oeste\",\"Sul\",\"Oeste\",\"Central\",\"Central\",\"Leste\",\"Leste\",\"Leste\",\"Leste\",\"Leste\",\"Leste\",\"Oeste\",\"Oeste\",\"Oeste\",\"Central\",\"Central\",\"Central\",\"Central\",\"Oeste\",\"Sul\",\"Sul\",\"Central\",\"Central\",\"Central\",\"Central\",\"Central\",\"Leste\",\"Leste\",\"Central\",\"Oeste\",\"Oeste\",\"Oeste\",\"Oeste\",\"Leste\",\"Oeste\",\"Oeste\",\"Leste\",\"Sul\",\"Sul\",\"Sul\",\"Sul\",\"Oeste\",\"Oeste\",\"Oeste\",\"Central\",\"Oeste\",\"Central\",\"Central\",\"Sul\",\"Sul\",\"Sul\",\"Sul\",\"Sul\",\"Oeste\",\"Oeste\",\"Oeste\",\"Oeste\",\"Oeste\",\"Oeste\",\"Central\",\"Oeste\",\"Oeste\",\"Oeste\",\"Oeste\",\"Oeste\",\"Oeste\",\"Oeste\",\"Central\",\"Oeste\",\"Central\",\"Central\",\"Sul\",\"Sul\",\"Central\",\"Central\",\"Oeste\",\"Oeste\",\"Oeste\",\"Oeste\",\"Oeste\",\"Central\",\"Leste\",\"Leste\",\"Oeste\",\"Oeste\",\"Sul\",\"Sul\",\"Sul\",\"Sul\",\"Sul\",\"Sul\",\"Sul\",\"Sul\",\"Leste\",\"Central\",\"Central\",\"Leste\",\"Oeste\",\"Central\",\"Central\",\"Central\",\"Oeste\",\"Central\",\"Oeste\",\"Sul\",\"Leste\",\"Oeste\",\"Oeste\",\"Oeste\",\"Sul\",\"Central\",\"Central\",\"Central\",\"Oeste\",\"Oeste\",\"Leste\",\"Oeste\",\"Leste\",\"Sul\",\"Sul\",\"Leste\",\"Leste\",\"Oeste\",\"Oeste\",\"Oeste\",\"Oeste\",\"Oeste\",\"Leste\",\"Leste\",\"Leste\",\"Leste\",\"Central\",\"Central\",\"Central\",\"Oeste\",\"Leste\",\"Leste\",\"Leste\",\"Leste\",\"Oeste\",\"Leste\",\"Leste\",\"Oeste\",\"Central\",\"Central\",\"Leste\",\"Leste\",\"Central\",\"Oeste\",\"Oeste\",\"Oeste\",\"Oeste\",\"Sul\",\"Sul\",\"Oeste\",\"Oeste\",\"Oeste\",\"Oeste\",\"Sul\",\"Sul\",\"Sul\",\"Sul\",\"Sul\",\"Sul\",\"Leste\",\"Oeste\",\"Oeste\",\"Oeste\",\"Oeste\",\"Oeste\",\"Central\",\"Oeste\",\"Oeste\",\"Sul\",\"Sul\",\"Oeste\",\"Leste\",\"Leste\",\"Central\",\"Central\",\"Central\",\"Central\",\"Central\",\"Central\",\"Sul\",\"Central\",\"Sul\",\"Sul\",\"Sul\",\"Sul\",\"Sul\",\"Oeste\",\"Central\",\"Central\",\"Oeste\",\"Sul\",\"Sul\",\"Central\",\"Oeste\",\"Oeste\",\"Central\",\"Leste\",\"Central\",\"Leste\",\"Leste\",\"Leste\",\"Leste\",\"Leste\",\"Leste\",\"Oeste\",\"Sul\",\"Sul\",\"Sul\",\"Sul\",\"Leste\",\"Oeste\",\"Oeste\",\"Oeste\",\"Oeste\",\"Oeste\",\"Oeste\",\"Leste\",\"Leste\",\"Leste\",\"Central\",\"Leste\",\"Leste\",\"Leste\",\"Leste\",\"Leste\",\"Leste\",\"Oeste\",\"Sul\",\"Sul\",\"Sul\",\"Leste\",\"Leste\",\"Leste\",\"Leste\",\"Leste\",\"Leste\",\"Central\",\"Oeste\",\"Oeste\",\"Sul\",\"Oeste\",\"Oeste\",\"Oeste\",\"Oeste\",\"Oeste\",\"Oeste\",\"Oeste\",\"Oeste\",\"Oeste\",\"Oeste\",\"Oeste\",\"Oeste\",\"Oeste\",\"Oeste\",\"Oeste\",\"Leste\",\"Oeste\",\"Oeste\",\"Central\",\"Central\",\"Oeste\",\"Central\",\"Central\",\"Central\",\"Central\",\"Central\",\"Central\",\"Oeste\",\"Sul\",\"Sul\",\"Sul\",\"Sul\",\"Sul\",\"Sul\",\"Oeste\",\"Oeste\",\"Leste\",\"Leste\",\"Oeste\",\"Oeste\",\"Oeste\",\"Sul\",\"Sul\",\"Sul\",\"Sul\",\"Central\",\"Leste\",\"Leste\",\"Leste\",\"Leste\",\"Leste\",\"Oeste\",\"Central\",\"Leste\",\"Oeste\",\"Leste\",\"Leste\",\"Leste\",\"Leste\",\"Leste\",\"Leste\",\"Leste\",\"Leste\",\"Leste\",\"Leste\",\"Oeste\",\"Oeste\",\"Oeste\",\"Oeste\",\"Leste\",\"Oeste\",\"Sul\",\"Oeste\",\"Oeste\",\"Leste\",\"Leste\",\"Sul\",\"Sul\",\"Leste\",\"Leste\",\"Sul\",\"Sul\",\"Central\",\"Central\",\"Central\",\"Central\",\"Central\",\"Sul\",\"Sul\",\"Sul\",\"Sul\",\"Central\",\"Central\",\"Sul\",\"Leste\",\"Leste\",\"Leste\",\"Leste\",\"Leste\",\"Leste\",\"Central\",\"Sul\",\"Oeste\",\"Sul\",\"Central\",\"Sul\",\"Sul\",\"Leste\",\"Oeste\",\"Oeste\",\"Central\",\"Central\",\"Sul\",\"Sul\",\"Leste\",\"Leste\",\"Leste\",\"Oeste\",\"Oeste\",\"Oeste\",\"Oeste\",\"Leste\",\"Oeste\",\"Central\",\"Central\",\"Central\",\"Central\",\"Central\",\"Leste\",\"Leste\",\"Leste\",\"Sul\",\"Leste\",\"Oeste\",\"Leste\",\"Central\",\"Central\",\"Central\",\"Central\",\"Central\",\"Oeste\",\"Oeste\",\"Sul\",\"Sul\",\"Sul\",\"Sul\",\"Oeste\",\"Oeste\",\"Oeste\",\"Leste\",\"Leste\",\"Sul\",\"Sul\",\"Leste\",\"Central\",\"Leste\",\"Oeste\",\"Oeste\",\"Oeste\",\"Oeste\",\"Oeste\",\"Oeste\",\"Oeste\",\"Oeste\",\"Oeste\",\"Central\",\"Central\",\"Oeste\",\"Oeste\",\"Oeste\",\"Oeste\",\"Leste\",\"Leste\",\"Central\",\"Oeste\",\"Oeste\",\"Oeste\",\"Leste\",\"Leste\",\"Oeste\",\"Oeste\",\"Leste\",\"Leste\",\"Leste\",\"Leste\",\"Leste\",\"Leste\",\"Oeste\",\"Leste\",\"Oeste\",\"Oeste\",\"Oeste\",\"Oeste\",\"Oeste\",\"Leste\",\"Oeste\",\"Oeste\",\"Leste\",\"Leste\",\"Leste\",\"Oeste\",\"Oeste\",\"Sul\",\"Central\",\"Central\",\"Central\",\"Central\",\"Central\",\"Central\",\"Central\",\"Central\",\"Central\",\"Oeste\",\"Leste\",\"Leste\",\"Sul\",\"Central\",\"Sul\",\"Sul\",\"Sul\",\"Sul\",\"Oeste\",\"Oeste\",\"Sul\",\"Sul\",\"Oeste\",\"Oeste\",\"Sul\",\"Oeste\",\"Oeste\",\"Oeste\",\"Leste\",\"Oeste\",\"Central\",\"Leste\",\"Leste\",\"Oeste\",\"Central\",\"Central\",\"Central\",\"Oeste\",\"Oeste\",\"Oeste\",\"Sul\",\"Oeste\",\"Oeste\",\"Central\",\"Central\",\"Leste\",\"Central\",\"Central\",\"Central\",\"Central\",\"Central\",\"Sul\",\"Sul\",\"Central\",\"Oeste\",\"Oeste\",\"Oeste\",\"Leste\",\"Central\",\"Sul\",\"Sul\",\"Sul\",\"Central\",\"Leste\",\"Leste\",\"Oeste\",\"Oeste\",\"Leste\",\"Leste\",\"Central\",\"Central\",\"Leste\",\"Leste\",\"Oeste\",\"Oeste\",\"Oeste\",\"Oeste\",\"Oeste\",\"Central\",\"Leste\",\"Leste\",\"Sul\",\"Sul\",\"Leste\",\"Leste\",\"Oeste\",\"Leste\",\"Leste\",\"Sul\",\"Sul\",\"Sul\",\"Leste\",\"Sul\",\"Sul\",\"Sul\",\"Sul\",\"Central\",\"Central\",\"Central\",\"Oeste\",\"Leste\",\"Leste\",\"Oeste\",\"Central\",\"Oeste\",\"Oeste\",\"Leste\",\"Leste\",\"Oeste\",\"Oeste\",\"Oeste\",\"Leste\",\"Leste\",\"Leste\",\"Leste\",\"Leste\",\"Sul\",\"Sul\",\"Central\",\"Oeste\",\"Oeste\",\"Oeste\",\"Oeste\",\"Oeste\",\"Central\",\"Oeste\",\"Sul\",\"Central\",\"Central\",\"Central\",\"Central\",\"Central\",\"Central\",\"Central\",\"Central\",\"Central\",\"Central\",\"Sul\",\"Sul\",\"Leste\",\"Oeste\",\"Oeste\",\"Oeste\",\"Leste\",\"Leste\",\"Leste\",\"Central\",\"Central\",\"Oeste\",\"Oeste\",\"Leste\",\"Oeste\",\"Oeste\",\"Oeste\",\"Oeste\",\"Central\",\"Oeste\",\"Leste\",\"Leste\",\"Oeste\",\"Oeste\",\"Oeste\",\"Leste\",\"Leste\",\"Leste\",\"Leste\",\"Leste\",\"Leste\",\"Leste\",\"Leste\",\"Leste\",\"Leste\",\"Leste\",\"Central\",\"Central\",\"Sul\",\"Sul\",\"Sul\",\"Sul\",\"Sul\",\"Oeste\",\"Oeste\",\"Oeste\",\"Oeste\",\"Oeste\",\"Oeste\",\"Oeste\",\"Oeste\",\"Oeste\",\"Oeste\",\"Central\",\"Central\",\"Central\",\"Central\",\"Central\",\"Central\",\"Sul\",\"Central\",\"Central\",\"Central\",\"Central\",\"Central\",\"Central\",\"Central\",\"Sul\",\"Sul\",\"Sul\",\"Sul\",\"Oeste\",\"Oeste\",\"Oeste\",\"Oeste\",\"Oeste\",\"Oeste\",\"Oeste\",\"Oeste\",\"Leste\",\"Leste\",\"Leste\",\"Leste\",\"Oeste\",\"Central\",\"Sul\",\"Sul\",\"Sul\",\"Sul\",\"Sul\",\"Sul\",\"Sul\",\"Oeste\",\"Leste\",\"Leste\",\"Central\",\"Central\",\"Leste\",\"Leste\",\"Leste\",\"Oeste\",\"Oeste\",\"Leste\",\"Central\",\"Central\",\"Central\",\"Oeste\",\"Oeste\",\"Oeste\",\"Oeste\",\"Oeste\",\"Oeste\",\"Oeste\",\"Oeste\",\"Oeste\",\"Leste\",\"Central\",\"Oeste\",\"Oeste\",\"Leste\",\"Leste\",\"Leste\",\"Leste\",\"Leste\",\"Leste\",\"Sul\",\"Sul\",\"Sul\",\"Sul\",\"Sul\",\"Sul\",\"Sul\",\"Leste\",\"Leste\",\"Leste\",\"Oeste\",\"Oeste\",\"Oeste\",\"Oeste\",\"Oeste\",\"Oeste\",\"Oeste\",\"Oeste\",\"Oeste\",\"Sul\",\"Sul\",\"Oeste\",\"Central\",\"Oeste\",\"Oeste\",\"Oeste\",\"Oeste\",\"Oeste\",\"Oeste\",\"Oeste\",\"Oeste\",\"Central\",\"Central\",\"Central\",\"Central\",\"Central\",\"Leste\",\"Leste\",\"Leste\",\"Leste\",\"Leste\",\"Leste\",\"Central\",\"Central\",\"Leste\",\"Leste\",\"Leste\",\"Leste\",\"Central\",\"Oeste\",\"Oeste\",\"Oeste\",\"Central\",\"Central\",\"Oeste\",\"Oeste\",\"Oeste\",\"Sul\",\"Sul\",\"Sul\",\"Oeste\",\"Oeste\",\"Oeste\",\"Oeste\",\"Central\",\"Leste\",\"Leste\",\"Leste\",\"Leste\",\"Sul\",\"Sul\",\"Sul\",\"Sul\",\"Sul\",\"Oeste\",\"Central\",\"Leste\",\"Leste\",\"Leste\",\"Leste\",\"Central\",\"Central\",\"Oeste\",\"Oeste\",\"Oeste\",\"Oeste\",\"Oeste\",\"Oeste\",\"Oeste\",\"Leste\",\"Central\",\"Central\",\"Central\",\"Central\",\"Oeste\",\"Oeste\",\"Oeste\",\"Central\",\"Central\",\"Central\",\"Leste\",\"Sul\",\"Leste\",\"Leste\",\"Oeste\",\"Oeste\",\"Oeste\",\"Oeste\",\"Oeste\",\"Leste\",\"Central\",\"Central\",\"Oeste\",\"Oeste\",\"Oeste\",\"Central\",\"Central\",\"Central\",\"Sul\",\"Sul\",\"Sul\",\"Sul\",\"Sul\",\"Leste\",\"Leste\",\"Leste\",\"Leste\",\"Oeste\",\"Oeste\",\"Oeste\",\"Oeste\",\"Oeste\",\"Sul\",\"Oeste\",\"Oeste\",\"Leste\",\"Leste\",\"Central\",\"Central\",\"Sul\",\"Oeste\",\"Oeste\",\"Oeste\",\"Oeste\",\"Leste\",\"Central\",\"Central\",\"Central\",\"Oeste\",\"Sul\",\"Sul\",\"Leste\",\"Leste\",\"Leste\",\"Leste\",\"Leste\",\"Leste\",\"Leste\",\"Leste\",\"Leste\",\"Leste\",\"Oeste\",\"Sul\",\"Leste\",\"Leste\",\"Leste\",\"Leste\",\"Leste\",\"Central\",\"Central\",\"Leste\",\"Leste\",\"Central\",\"Central\",\"Central\",\"Sul\",\"Sul\",\"Sul\",\"Oeste\",\"Oeste\",\"Oeste\",\"Central\",\"Central\",\"Leste\",\"Leste\",\"Leste\",\"Leste\",\"Leste\",\"Central\",\"Central\",\"Central\",\"Central\",\"Central\",\"Oeste\",\"Leste\",\"Leste\",\"Oeste\",\"Sul\",\"Sul\",\"Sul\",\"Oeste\",\"Leste\",\"Oeste\",\"Oeste\",\"Oeste\",\"Leste\",\"Leste\",\"Leste\",\"Oeste\",\"Central\",\"Leste\",\"Leste\",\"Leste\",\"Leste\",\"Central\",\"Sul\",\"Oeste\",\"Central\",\"Central\",\"Leste\",\"Oeste\",\"Oeste\",\"Leste\",\"Sul\",\"Leste\",\"Oeste\",\"Oeste\",\"Oeste\",\"Oeste\",\"Leste\",\"Leste\",\"Leste\",\"Central\",\"Leste\",\"Sul\",\"Sul\",\"Sul\",\"Sul\",\"Sul\",\"Sul\",\"Leste\",\"Sul\",\"Sul\",\"Leste\",\"Leste\",\"Central\",\"Sul\",\"Central\",\"Oeste\",\"Sul\",\"Leste\",\"Leste\",\"Leste\",\"Oeste\",\"Sul\",\"Oeste\",\"Oeste\",\"Leste\",\"Leste\",\"Leste\",\"Oeste\",\"Oeste\",\"Oeste\",\"Oeste\",\"Oeste\",\"Sul\",\"Sul\",\"Central\",\"Sul\",\"Sul\",\"Sul\",\"Leste\",\"Central\",\"Central\",\"Central\",\"Central\",\"Leste\",\"Central\",\"Central\",\"Oeste\",\"Oeste\",\"Central\",\"Leste\",\"Leste\",\"Leste\",\"Leste\",\"Leste\",\"Oeste\",\"Sul\",\"Sul\",\"Sul\",\"Sul\",\"Sul\",\"Sul\",\"Sul\",\"Sul\",\"Leste\",\"Leste\",\"Leste\",\"Leste\",\"Oeste\",\"Oeste\",\"Oeste\",\"Oeste\",\"Oeste\",\"Oeste\",\"Leste\",\"Sul\",\"Leste\",\"Leste\",\"Oeste\",\"Leste\",\"Central\",\"Central\",\"Oeste\",\"Oeste\",\"Oeste\",\"Oeste\",\"Central\",\"Sul\",\"Oeste\",\"Oeste\",\"Oeste\",\"Oeste\",\"Oeste\",\"Central\",\"Central\",\"Leste\",\"Sul\",\"Sul\",\"Central\",\"Sul\",\"Sul\",\"Central\",\"Central\",\"Central\",\"Central\",\"Central\",\"Central\",\"Oeste\",\"Sul\",\"Sul\",\"Leste\",\"Leste\",\"Leste\",\"Leste\",\"Leste\",\"Oeste\",\"Oeste\",\"Oeste\",\"Oeste\",\"Oeste\",\"Oeste\",\"Oeste\",\"Oeste\",\"Sul\",\"Leste\",\"Oeste\",\"Oeste\",\"Oeste\",\"Oeste\",\"Oeste\",\"Oeste\",\"Sul\",\"Central\",\"Leste\",\"Oeste\",\"Oeste\",\"Oeste\",\"Oeste\",\"Oeste\",\"Oeste\",\"Oeste\",\"Oeste\",\"Oeste\",\"Sul\",\"Sul\",\"Sul\",\"Sul\",\"Leste\",\"Leste\",\"Leste\",\"Leste\",\"Sul\",\"Sul\",\"Sul\",\"Sul\",\"Sul\",\"Sul\",\"Sul\",\"Central\",\"Central\",\"Central\",\"Oeste\",\"Oeste\",\"Oeste\",\"Oeste\",\"Oeste\",\"Central\",\"Leste\",\"Leste\",\"Leste\",\"Leste\",\"Central\",\"Oeste\",\"Leste\",\"Leste\",\"Leste\",\"Sul\",\"Sul\",\"Sul\",\"Sul\",\"Leste\",\"Leste\",\"Leste\",\"Central\",\"Leste\",\"Oeste\",\"Oeste\",\"Oeste\",\"Oeste\",\"Oeste\",\"Oeste\",\"Oeste\",\"Oeste\",\"Oeste\",\"Oeste\",\"Oeste\",\"Central\",\"Central\",\"Central\",\"Central\",\"Central\",\"Central\",\"Central\",\"Central\",\"Central\",\"Leste\",\"Leste\",\"Leste\",\"Leste\",\"Oeste\",\"Oeste\",\"Oeste\",\"Oeste\",\"Oeste\",\"Oeste\",\"Sul\",\"Sul\",\"Sul\",\"Sul\",\"Sul\",\"Oeste\",\"Oeste\",\"Oeste\",\"Oeste\",\"Leste\",\"Leste\",\"Leste\",\"Leste\",\"Leste\",\"Leste\",\"Leste\",\"Sul\",\"Sul\",\"Oeste\",\"Central\",\"Leste\",\"Leste\",\"Central\",\"Central\",\"Oeste\",\"Leste\",\"Central\",\"Central\",\"Central\",\"Central\",\"Sul\",\"Sul\",\"Oeste\",\"Oeste\",\"Oeste\",\"Oeste\",\"Oeste\",\"Oeste\",\"Oeste\",\"Central\",\"Oeste\",\"Oeste\",\"Leste\",\"Leste\",\"Leste\",\"Oeste\",\"Central\",\"Central\",\"Central\",\"Leste\",\"Oeste\",\"Leste\",\"Leste\",\"Leste\",\"Leste\",\"Leste\",\"Leste\",\"Oeste\",\"Central\",\"Central\",\"Central\",\"Central\",\"Central\",\"Central\",\"Leste\",\"Leste\",\"Leste\",\"Leste\",\"Central\",\"Central\",\"Central\",\"Central\",\"Central\",\"Central\",\"Central\",\"Leste\",\"Sul\",\"Oeste\",\"Oeste\",\"Oeste\",\"Oeste\",\"Leste\",\"Leste\",\"Oeste\",\"Leste\",\"Leste\",\"Sul\",\"Leste\",\"Leste\",\"Leste\",\"Leste\",\"Leste\",\"Leste\",\"Oeste\",\"Oeste\",\"Oeste\",\"Oeste\",\"Oeste\",\"Oeste\",\"Leste\",\"Leste\",\"Leste\",\"Leste\",\"Leste\",\"Leste\",\"Leste\",\"Oeste\",\"Oeste\",\"Central\",\"Central\",\"Central\",\"Central\",\"Central\",\"Central\",\"Central\",\"Sul\",\"Sul\",\"Sul\",\"Leste\",\"Oeste\",\"Oeste\",\"Oeste\",\"Oeste\",\"Oeste\",\"Sul\",\"Sul\",\"Oeste\",\"Oeste\",\"Leste\",\"Oeste\",\"Oeste\",\"Leste\",\"Oeste\",\"Oeste\",\"Oeste\",\"Oeste\",\"Oeste\",\"Oeste\",\"Oeste\",\"Oeste\",\"Oeste\",\"Oeste\",\"Oeste\",\"Oeste\",\"Central\",\"Central\",\"Central\",\"Leste\",\"Central\",\"Central\",\"Central\",\"Central\",\"Central\",\"Central\",\"Oeste\",\"Central\",\"Oeste\",\"Central\",\"Oeste\",\"Oeste\",\"Oeste\",\"Leste\",\"Leste\",\"Oeste\",\"Central\",\"Central\",\"Central\",\"Central\",\"Oeste\",\"Oeste\",\"Oeste\",\"Oeste\",\"Central\",\"Oeste\",\"Oeste\",\"Sul\",\"Leste\",\"Leste\",\"Leste\",\"Leste\",\"Oeste\",\"Oeste\",\"Oeste\",\"Oeste\",\"Central\",\"Central\",\"Sul\",\"Oeste\",\"Central\",\"Central\",\"Oeste\",\"Oeste\",\"Oeste\",\"Leste\",\"Leste\",\"Leste\",\"Oeste\",\"Central\",\"Leste\",\"Leste\",\"Leste\",\"Leste\",\"Oeste\",\"Oeste\",\"Oeste\",\"Oeste\",\"Oeste\",\"Oeste\",\"Oeste\",\"Oeste\",\"Sul\",\"Oeste\",\"Oeste\",\"Oeste\",\"Central\",\"Leste\",\"Oeste\",\"Oeste\",\"Oeste\",\"Leste\",\"Leste\",\"Central\",\"Central\",\"Central\",\"Central\",\"Central\",\"Leste\",\"Leste\",\"Leste\",\"Leste\",\"Leste\",\"Sul\",\"Sul\",\"Sul\",\"Oeste\",\"Sul\",\"Sul\",\"Sul\",\"Central\",\"Central\",\"Leste\",\"Leste\",\"Leste\",\"Leste\",\"Leste\",\"Sul\",\"Sul\",\"Sul\",\"Sul\",\"Sul\",\"Central\",\"Central\",\"Sul\",\"Sul\",\"Sul\",\"Sul\",\"Central\",\"Central\",\"Central\",\"Central\",\"Central\",\"Central\",\"Oeste\",\"Oeste\",\"Leste\",\"Leste\",\"Leste\",\"Leste\",\"Leste\",\"Sul\",\"Sul\",\"Oeste\",\"Oeste\",\"Sul\",\"Sul\",\"Sul\",\"Sul\",\"Sul\",\"Sul\",\"Sul\",\"Leste\",\"Leste\",\"Oeste\",\"Oeste\",\"Sul\",\"Central\",\"Central\",\"Leste\",\"Central\",\"Central\",\"Central\",\"Central\",\"Oeste\",\"Oeste\",\"Oeste\",\"Oeste\",\"Oeste\",\"Oeste\",\"Central\",\"Central\",\"Central\",\"Sul\",\"Sul\",\"Leste\",\"Leste\",\"Leste\",\"Central\",\"Central\",\"Central\",\"Central\",\"Leste\",\"Oeste\",\"Leste\",\"Leste\",\"Leste\",\"Sul\",\"Sul\",\"Sul\",\"Sul\",\"Sul\",\"Sul\",\"Central\",\"Central\",\"Central\",\"Central\",\"Sul\",\"Sul\",\"Sul\",\"Sul\",\"Sul\",\"Sul\",\"Leste\",\"Oeste\",\"Leste\",\"Sul\",\"Sul\",\"Sul\",\"Sul\",\"Oeste\",\"Central\",\"Oeste\",\"Oeste\",\"Oeste\",\"Oeste\",\"Central\",\"Central\",\"Central\",\"Oeste\",\"Central\",\"Central\",\"Sul\",\"Sul\",\"Central\",\"Central\",\"Central\",\"Central\",\"Sul\",\"Sul\",\"Leste\",\"Central\",\"Central\",\"Leste\",\"Leste\",\"Sul\",\"Sul\",\"Central\",\"Central\",\"Leste\",\"Leste\",\"Leste\",\"Leste\",\"Leste\",\"Leste\",\"Leste\",\"Leste\",\"Sul\",\"Sul\",\"Sul\",\"Oeste\",\"Sul\",\"Oeste\",\"Sul\",\"Sul\",\"Sul\",\"Sul\",\"Leste\",\"Leste\",\"Leste\",\"Leste\",\"Leste\",\"Leste\",\"Leste\",\"Leste\",\"Leste\",\"Leste\",\"Sul\",\"Oeste\",\"Oeste\",\"Oeste\",\"Central\",\"Central\",\"Central\",\"Central\",\"Sul\",\"Oeste\",\"Oeste\",\"Oeste\",\"Oeste\",\"Oeste\",\"Oeste\",\"Central\",\"Oeste\",\"Oeste\",\"Oeste\",\"Oeste\",\"Sul\",\"Central\",\"Central\",\"Central\",\"Central\",\"Oeste\",\"Central\",\"Leste\",\"Leste\",\"Oeste\",\"Leste\",\"Leste\",\"Leste\",\"Leste\",\"Oeste\",\"Leste\",\"Leste\",\"Leste\",\"Leste\",\"Leste\",\"Sul\",\"Central\",\"Leste\",\"Oeste\",\"Leste\",\"Leste\",\"Leste\",\"Oeste\",\"Leste\",\"Leste\",\"Leste\",\"Leste\",\"Leste\",\"Oeste\",\"Sul\",\"Sul\",\"Central\",\"Central\",\"Central\",\"Central\",\"Oeste\",\"Oeste\",\"Oeste\",\"Oeste\",\"Oeste\",\"Leste\",\"Leste\",\"Leste\",\"Leste\",\"Leste\",\"Oeste\",\"Central\",\"Oeste\",\"Leste\",\"Central\",\"Leste\",\"Central\",\"Central\",\"Central\",\"Central\",\"Oeste\",\"Leste\",\"Oeste\",\"Central\",\"Leste\",\"Oeste\",\"Leste\",\"Leste\",\"Leste\",\"Leste\",\"Leste\",\"Leste\",\"Leste\",\"Leste\",\"Leste\",\"Oeste\",\"Central\",\"Central\",\"Central\",\"Oeste\",\"Central\",\"Central\",\"Central\",\"Central\",\"Leste\",\"Leste\",\"Central\",\"Oeste\",\"Oeste\",\"Leste\",\"Leste\",\"Oeste\",\"Central\",\"Sul\",\"Sul\",\"Sul\",\"Sul\",\"Sul\",\"Leste\",\"Leste\",\"Oeste\",\"Leste\",\"Oeste\",\"Oeste\",\"Central\",\"Leste\",\"Leste\",\"Central\",\"Oeste\",\"Oeste\",\"Oeste\",\"Oeste\",\"Sul\",\"Sul\",\"Sul\",\"Oeste\",\"Central\",\"Central\",\"Central\",\"Oeste\",\"Leste\",\"Leste\",\"Leste\",\"Leste\",\"Leste\",\"Oeste\",\"Oeste\",\"Oeste\",\"Central\",\"Central\",\"Central\",\"Central\",\"Central\",\"Central\",\"Central\",\"Leste\",\"Central\",\"Sul\",\"Sul\",\"Sul\",\"Leste\",\"Central\",\"Leste\",\"Leste\",\"Leste\",\"Leste\",\"Central\",\"Oeste\",\"Leste\",\"Leste\",\"Leste\",\"Leste\",\"Leste\",\"Oeste\",\"Central\",\"Central\",\"Central\",\"Central\",\"Sul\",\"Oeste\",\"Leste\",\"Leste\",\"Leste\",\"Oeste\",\"Oeste\",\"Leste\",\"Leste\",\"Leste\",\"Sul\",\"Sul\",\"Sul\",\"Oeste\",\"Oeste\",\"Oeste\",\"Central\",\"Central\",\"Central\",\"Sul\",\"Sul\",\"Sul\",\"Sul\",\"Central\",\"Central\",\"Central\",\"Central\",\"Central\",\"Central\",\"Sul\",\"Sul\",\"Central\",\"Central\",\"Leste\",\"Leste\",\"Leste\",\"Leste\",\"Central\",\"Central\",\"Leste\",\"Oeste\",\"Sul\",\"Leste\",\"Central\",\"Central\",\"Sul\",\"Central\",\"Central\",\"Central\",\"Central\",\"Oeste\",\"Leste\",\"Oeste\",\"Oeste\",\"Leste\",\"Leste\",\"Leste\",\"Oeste\",\"Oeste\",\"Sul\",\"Sul\",\"Sul\",\"Sul\",\"Oeste\",\"Oeste\",\"Oeste\",\"Oeste\",\"Oeste\",\"Oeste\",\"Central\",\"Central\",\"Central\",\"Leste\",\"Leste\",\"Leste\",\"Leste\",\"Leste\",\"Oeste\",\"Oeste\",\"Oeste\",\"Oeste\",\"Oeste\",\"Oeste\",\"Oeste\",\"Oeste\",\"Leste\",\"Central\",\"Sul\",\"Oeste\",\"Sul\",\"Sul\",\"Oeste\",\"Leste\",\"Leste\",\"Leste\",\"Leste\",\"Leste\",\"Leste\",\"Leste\",\"Leste\",\"Leste\",\"Sul\",\"Sul\",\"Oeste\",\"Central\",\"Sul\",\"Central\",\"Oeste\",\"Sul\",\"Sul\",\"Sul\",\"Sul\",\"Oeste\",\"Sul\",\"Sul\",\"Sul\",\"Oeste\",\"Oeste\",\"Oeste\",\"Oeste\",\"Oeste\",\"Oeste\",\"Oeste\",\"Oeste\",\"Central\",\"Leste\",\"Sul\",\"Central\",\"Central\",\"Central\",\"Oeste\",\"Oeste\",\"Leste\",\"Oeste\",\"Oeste\",\"Oeste\",\"Leste\",\"Leste\",\"Central\",\"Central\",\"Central\",\"Central\",\"Central\",\"Central\",\"Central\",\"Central\",\"Sul\",\"Sul\",\"Sul\",\"Oeste\",\"Oeste\",\"Leste\",\"Oeste\",\"Oeste\",\"Oeste\",\"Leste\",\"Leste\",\"Leste\",\"Leste\",\"Oeste\",\"Central\",\"Oeste\",\"Sul\",\"Sul\",\"Sul\",\"Sul\",\"Sul\",\"Sul\",\"Sul\",\"Leste\",\"Central\",\"Oeste\",\"Leste\",\"Leste\",\"Oeste\",\"Oeste\",\"Oeste\",\"Oeste\",\"Oeste\",\"Oeste\",\"Oeste\",\"Leste\",\"Central\",\"Central\",\"Central\",\"Central\",\"Central\",\"Central\",\"Central\",\"Sul\",\"Sul\",\"Oeste\",\"Sul\",\"Sul\",\"Sul\",\"Sul\",\"Sul\",\"Central\",\"Oeste\",\"Oeste\",\"Oeste\",\"Leste\",\"Central\",\"Sul\",\"Leste\",\"Leste\",\"Sul\",\"Central\",\"Oeste\",\"Oeste\",\"Leste\",\"Leste\",\"Oeste\",\"Oeste\",\"Oeste\",\"Leste\",\"Leste\",\"Sul\",\"Sul\",\"Leste\",\"Leste\",\"Leste\",\"Leste\",\"Leste\",\"Leste\",\"Leste\",\"Sul\",\"Sul\",\"Oeste\",\"Oeste\",\"Central\",\"Central\",\"Central\",\"Central\",\"Leste\",\"Oeste\",\"Oeste\",\"Sul\",\"Sul\",\"Leste\",\"Leste\",\"Central\",\"Central\",\"Central\",\"Leste\",\"Oeste\",\"Central\",\"Central\",\"Oeste\",\"Oeste\",\"Sul\",\"Oeste\",\"Oeste\",\"Oeste\",\"Sul\",\"Sul\",\"Sul\",\"Central\",\"Oeste\",\"Oeste\",\"Oeste\",\"Oeste\",\"Oeste\",\"Oeste\",\"Leste\",\"Leste\",\"Central\",\"Central\",\"Central\",\"Leste\",\"Leste\",\"Oeste\",\"Leste\",\"Leste\",\"Leste\",\"Leste\",\"Oeste\",\"Central\",\"Central\",\"Oeste\",\"Leste\",\"Leste\",\"Leste\",\"Leste\",\"Leste\",\"Central\",\"Sul\",\"Sul\",\"Sul\",\"Sul\",\"Leste\",\"Leste\",\"Central\",\"Central\",\"Central\",\"Central\",\"Oeste\",\"Sul\",\"Leste\",\"Sul\",\"Sul\",\"Sul\",\"Sul\",\"Sul\",\"Oeste\",\"Oeste\",\"Oeste\",\"Oeste\",\"Oeste\",\"Central\",\"Leste\",\"Leste\",\"Leste\",\"Leste\",\"Sul\",\"Sul\",\"Sul\",\"Sul\",\"Leste\",\"Leste\",\"Leste\",\"Oeste\",\"Oeste\",\"Oeste\",\"Oeste\",\"Sul\",\"Leste\",\"Leste\",\"Leste\",\"Leste\",\"Leste\",\"Sul\",\"Central\",\"Central\",\"Oeste\",\"Oeste\",\"Oeste\",\"Oeste\",\"Leste\",\"Leste\",\"Central\",\"Central\",\"Central\",\"Leste\",\"Leste\",\"Oeste\",\"Oeste\",\"Central\",\"Sul\",\"Sul\",\"Leste\",\"Leste\",\"Leste\",\"Oeste\",\"Oeste\",\"Central\",\"Central\",\"Sul\",\"Oeste\",\"Central\",\"Oeste\",\"Oeste\",\"Oeste\",\"Oeste\",\"Sul\",\"Sul\",\"Central\",\"Central\",\"Central\",\"Central\",\"Leste\",\"Leste\",\"Leste\",\"Oeste\",\"Oeste\",\"Leste\",\"Sul\",\"Sul\",\"Sul\",\"Sul\",\"Central\",\"Central\",\"Central\",\"Central\",\"Central\",\"Sul\",\"Leste\",\"Sul\",\"Sul\",\"Sul\",\"Central\",\"Central\",\"Central\",\"Oeste\",\"Central\",\"Central\",\"Central\",\"Central\",\"Central\",\"Central\",\"Leste\",\"Leste\",\"Oeste\",\"Oeste\",\"Oeste\",\"Oeste\",\"Sul\",\"Oeste\",\"Oeste\",\"Central\",\"Oeste\",\"Oeste\",\"Leste\",\"Leste\",\"Oeste\",\"Sul\",\"Sul\",\"Sul\",\"Sul\",\"Sul\",\"Sul\",\"Oeste\",\"Sul\",\"Sul\",\"Central\",\"Central\",\"Central\",\"Central\",\"Sul\",\"Sul\",\"Sul\",\"Central\",\"Leste\",\"Leste\",\"Sul\",\"Leste\",\"Leste\",\"Leste\",\"Leste\",\"Oeste\",\"Central\",\"Central\",\"Central\",\"Central\",\"Leste\",\"Central\",\"Central\",\"Central\",\"Central\",\"Central\",\"Central\",\"Sul\",\"Sul\",\"Sul\",\"Sul\",\"Central\",\"Central\",\"Oeste\",\"Sul\",\"Sul\",\"Sul\",\"Sul\",\"Central\",\"Central\",\"Central\",\"Leste\",\"Oeste\",\"Sul\",\"Sul\",\"Oeste\",\"Oeste\",\"Central\",\"Central\",\"Central\",\"Central\",\"Leste\",\"Sul\",\"Central\",\"Leste\",\"Oeste\",\"Oeste\",\"Oeste\",\"Oeste\",\"Oeste\",\"Oeste\",\"Sul\",\"Sul\",\"Leste\",\"Oeste\",\"Leste\",\"Leste\",\"Leste\",\"Leste\",\"Leste\",\"Leste\",\"Leste\",\"Oeste\",\"Oeste\",\"Central\",\"Sul\",\"Central\",\"Central\",\"Leste\",\"Leste\",\"Central\",\"Central\",\"Oeste\",\"Sul\",\"Oeste\",\"Oeste\",\"Oeste\",\"Oeste\",\"Oeste\",\"Oeste\",\"Oeste\",\"Leste\",\"Oeste\",\"Oeste\",\"Oeste\",\"Oeste\",\"Oeste\",\"Oeste\",\"Leste\",\"Oeste\",\"Oeste\",\"Oeste\",\"Oeste\",\"Oeste\",\"Leste\",\"Central\",\"Central\",\"Central\",\"Sul\",\"Leste\",\"Oeste\",\"Oeste\",\"Leste\",\"Central\",\"Central\",\"Central\",\"Sul\",\"Leste\",\"Leste\",\"Central\",\"Sul\",\"Sul\",\"Oeste\",\"Oeste\",\"Sul\",\"Sul\",\"Sul\",\"Oeste\",\"Central\",\"Central\",\"Sul\",\"Leste\",\"Sul\",\"Leste\",\"Leste\",\"Central\",\"Central\",\"Central\",\"Central\",\"Central\",\"Central\",\"Central\",\"Central\",\"Central\",\"Central\",\"Central\",\"Central\",\"Central\",\"Central\",\"Central\",\"Central\",\"Central\",\"Sul\",\"Sul\",\"Sul\",\"Sul\",\"Oeste\",\"Leste\",\"Leste\",\"Leste\",\"Leste\",\"Oeste\",\"Oeste\",\"Oeste\",\"Oeste\",\"Leste\",\"Central\",\"Central\",\"Oeste\",\"Central\",\"Oeste\",\"Leste\",\"Leste\",\"Leste\",\"Leste\",\"Oeste\",\"Sul\",\"Sul\",\"Sul\",\"Sul\",\"Sul\",\"Central\",\"Oeste\",\"Leste\",\"Oeste\",\"Oeste\",\"Oeste\",\"Central\",\"Leste\",\"Leste\",\"Leste\",\"Central\",\"Central\",\"Oeste\",\"Oeste\",\"Oeste\",\"Leste\",\"Oeste\",\"Leste\",\"Leste\",\"Leste\",\"Sul\",\"Sul\",\"Central\",\"Central\",\"Central\",\"Central\",\"Oeste\",\"Oeste\",\"Oeste\",\"Sul\",\"Sul\",\"Oeste\",\"Oeste\",\"Oeste\",\"Oeste\",\"Oeste\",\"Oeste\",\"Sul\",\"Leste\",\"Leste\",\"Oeste\",\"Oeste\",\"Oeste\",\"Oeste\",\"Oeste\",\"Oeste\",\"Oeste\",\"Oeste\",\"Leste\",\"Leste\",\"Leste\",\"Leste\",\"Leste\",\"Central\",\"Central\",\"Oeste\",\"Oeste\",\"Oeste\",\"Oeste\",\"Oeste\",\"Oeste\",\"Leste\",\"Leste\",\"Leste\",\"Leste\",\"Oeste\",\"Leste\",\"Leste\",\"Central\",\"Oeste\",\"Central\",\"Central\",\"Oeste\",\"Oeste\",\"Oeste\",\"Leste\",\"Oeste\",\"Central\",\"Central\",\"Leste\",\"Leste\",\"Sul\",\"Sul\",\"Sul\",\"Central\",\"Central\",\"Central\",\"Central\",\"Oeste\",\"Oeste\",\"Oeste\",\"Oeste\",\"Oeste\",\"Oeste\",\"Oeste\",\"Oeste\",\"Oeste\",\"Oeste\",\"Oeste\",\"Leste\",\"Sul\",\"Sul\",\"Sul\",\"Oeste\",\"Oeste\",\"Oeste\",\"Oeste\",\"Oeste\",\"Oeste\",\"Leste\",\"Leste\",\"Central\",\"Oeste\",\"Sul\",\"Sul\",\"Central\",\"Central\",\"Central\",\"Central\",\"Central\",\"Central\",\"Central\",\"Oeste\",\"Central\",\"Central\",\"Sul\",\"Sul\",\"Oeste\",\"Leste\",\"Leste\",\"Leste\",\"Leste\",\"Leste\",\"Leste\",\"Sul\",\"Oeste\",\"Sul\",\"Sul\",\"Leste\",\"Leste\",\"Leste\",\"Oeste\",\"Sul\",\"Sul\",\"Oeste\",\"Central\",\"Sul\",\"Central\",\"Central\",\"Leste\",\"Oeste\",\"Leste\",\"Leste\",\"Central\",\"Leste\",\"Leste\",\"Leste\",\"Central\",\"Central\",\"Central\",\"Central\",\"Central\",\"Central\",\"Central\",\"Central\",\"Central\",\"Oeste\",\"Oeste\",\"Oeste\",\"Oeste\",\"Oeste\",\"Leste\",\"Central\",\"Central\",\"Central\",\"Central\",\"Leste\",\"Leste\",\"Central\",\"Leste\",\"Leste\",\"Leste\",\"Central\",\"Central\",\"Oeste\",\"Oeste\",\"Oeste\",\"Oeste\",\"Oeste\",\"Oeste\",\"Oeste\",\"Leste\",\"Oeste\",\"Sul\",\"Sul\",\"Sul\",\"Sul\",\"Oeste\",\"Oeste\",\"Oeste\",\"Oeste\",\"Oeste\",\"Oeste\",\"Oeste\",\"Leste\",\"Leste\",\"Leste\",\"Leste\",\"Leste\",\"Oeste\",\"Oeste\",\"Oeste\",\"Oeste\",\"Central\",\"Central\",\"Central\",\"Central\",\"Central\",\"Leste\",\"Leste\",\"Leste\",\"Leste\",\"Oeste\",\"Oeste\",\"Oeste\",\"Oeste\",\"Central\",\"Leste\",\"Leste\",\"Leste\",\"Leste\",\"Leste\",\"Leste\",\"Leste\",\"Oeste\",\"Oeste\",\"Oeste\",\"Leste\",\"Central\",\"Central\",\"Sul\",\"Sul\",\"Sul\",\"Sul\",\"Sul\",\"Leste\",\"Oeste\",\"Leste\",\"Leste\",\"Leste\",\"Leste\",\"Central\",\"Central\",\"Oeste\",\"Leste\",\"Leste\",\"Leste\",\"Leste\",\"Leste\",\"Leste\",\"Central\",\"Sul\",\"Oeste\",\"Leste\",\"Leste\",\"Leste\",\"Central\",\"Central\",\"Leste\",\"Leste\",\"Leste\",\"Leste\",\"Oeste\",\"Oeste\",\"Central\",\"Oeste\",\"Oeste\",\"Oeste\",\"Sul\",\"Sul\",\"Central\",\"Central\",\"Oeste\",\"Oeste\",\"Oeste\",\"Oeste\",\"Leste\",\"Oeste\",\"Leste\",\"Central\",\"Central\",\"Central\",\"Leste\",\"Oeste\",\"Oeste\",\"Oeste\",\"Oeste\",\"Leste\",\"Oeste\",\"Leste\",\"Central\",\"Leste\",\"Leste\",\"Sul\",\"Sul\",\"Central\",\"Central\",\"Central\",\"Central\",\"Oeste\",\"Oeste\",\"Oeste\",\"Oeste\",\"Oeste\",\"Oeste\",\"Oeste\",\"Sul\",\"Sul\",\"Sul\",\"Oeste\",\"Oeste\",\"Leste\",\"Oeste\",\"Sul\",\"Leste\",\"Leste\",\"Oeste\",\"Leste\",\"Leste\",\"Leste\",\"Leste\",\"Leste\",\"Leste\",\"Leste\",\"Leste\",\"Central\",\"Central\",\"Central\",\"Central\",\"Central\",\"Central\",\"Central\",\"Central\",\"Leste\",\"Oeste\",\"Central\",\"Central\",\"Leste\",\"Leste\",\"Oeste\",\"Sul\",\"Oeste\",\"Oeste\",\"Central\",\"Central\",\"Central\",\"Oeste\",\"Oeste\",\"Central\",\"Central\",\"Central\",\"Central\",\"Oeste\",\"Leste\",\"Leste\",\"Leste\",\"Leste\",\"Central\",\"Central\",\"Central\",\"Central\",\"Leste\",\"Central\",\"Central\",\"Central\",\"Sul\",\"Central\",\"Leste\",\"Leste\",\"Leste\",\"Oeste\",\"Oeste\",\"Central\",\"Central\",\"Central\",\"Oeste\",\"Oeste\",\"Oeste\",\"Oeste\",\"Oeste\",\"Central\",\"Oeste\",\"Central\",\"Leste\",\"Leste\",\"Leste\",\"Leste\",\"Central\",\"Oeste\",\"Leste\",\"Leste\",\"Oeste\",\"Central\",\"Central\",\"Central\",\"Central\",\"Central\",\"Central\",\"Leste\",\"Leste\",\"Leste\",\"Oeste\",\"Leste\",\"Sul\",\"Oeste\",\"Leste\",\"Leste\",\"Leste\",\"Central\",\"Leste\",\"Leste\",\"Leste\",\"Leste\",\"Leste\",\"Leste\",\"Oeste\",\"Sul\",\"Sul\",\"Sul\",\"Central\",\"Leste\",\"Leste\",\"Leste\",\"Leste\",\"Leste\",\"Oeste\",\"Central\",\"Central\",\"Central\",\"Leste\",\"Leste\",\"Leste\",\"Leste\",\"Leste\",\"Leste\",\"Central\",\"Sul\",\"Oeste\",\"Central\",\"Central\",\"Central\",\"Central\",\"Central\",\"Central\",\"Leste\",\"Leste\",\"Oeste\",\"Oeste\",\"Oeste\",\"Oeste\",\"Oeste\",\"Central\",\"Sul\",\"Sul\",\"Leste\",\"Sul\",\"Leste\",\"Leste\",\"Leste\",\"Leste\",\"Oeste\",\"Oeste\",\"Sul\",\"Oeste\",\"Oeste\",\"Oeste\",\"Oeste\",\"Oeste\",\"Leste\",\"Leste\",\"Leste\",\"Leste\",\"Leste\",\"Leste\",\"Central\",\"Central\",\"Central\",\"Central\",\"Central\",\"Leste\",\"Leste\",\"Leste\",\"Leste\",\"Central\",\"Leste\",\"Leste\",\"Leste\",\"Oeste\",\"Oeste\",\"Oeste\",\"Sul\",\"Oeste\",\"Oeste\",\"Oeste\",\"Oeste\",\"Oeste\",\"Oeste\",\"Oeste\",\"Central\",\"Central\",\"Oeste\",\"Oeste\",\"Oeste\",\"Oeste\",\"Oeste\",\"Oeste\",\"Leste\",\"Leste\",\"Leste\",\"Leste\",\"Oeste\",\"Oeste\",\"Oeste\",\"Oeste\",\"Oeste\",\"Oeste\",\"Oeste\",\"Oeste\",\"Oeste\",\"Oeste\",\"Sul\",\"Sul\",\"Oeste\",\"Leste\",\"Leste\",\"Central\",\"Oeste\",\"Central\",\"Leste\",\"Leste\",\"Oeste\",\"Oeste\",\"Oeste\",\"Oeste\",\"Oeste\",\"Oeste\",\"Oeste\",\"Oeste\",\"Central\",\"Sul\",\"Sul\",\"Leste\",\"Central\",\"Leste\",\"Oeste\",\"Oeste\",\"Leste\",\"Central\",\"Leste\",\"Oeste\",\"Oeste\",\"Oeste\",\"Oeste\",\"Leste\",\"Leste\",\"Leste\",\"Oeste\",\"Oeste\",\"Oeste\",\"Oeste\",\"Oeste\",\"Leste\",\"Leste\",\"Leste\",\"Leste\",\"Leste\",\"Oeste\",\"Leste\",\"Central\",\"Central\",\"Leste\",\"Central\",\"Leste\",\"Leste\",\"Leste\",\"Central\",\"Oeste\",\"Leste\",\"Leste\",\"Leste\",\"Oeste\",\"Oeste\",\"Oeste\",\"Sul\",\"Sul\",\"Sul\",\"Leste\",\"Central\",\"Oeste\",\"Oeste\",\"Oeste\",\"Oeste\",\"Leste\",\"Oeste\",\"Leste\",\"Central\",\"Oeste\",\"Oeste\",\"Central\",\"Central\",\"Leste\",\"Central\",\"Central\",\"Oeste\",\"Sul\",\"Sul\",\"Sul\",\"Sul\",\"Sul\",\"Sul\",\"Oeste\",\"Sul\",\"Oeste\",\"Oeste\",\"Oeste\",\"Oeste\",\"Leste\",\"Leste\",\"Central\",\"Oeste\",\"Sul\",\"Sul\",\"Sul\",\"Leste\",\"Sul\",\"Central\",\"Central\",\"Central\",\"Central\",\"Central\",\"Central\",\"Leste\",\"Leste\",\"Leste\",\"Leste\",\"Leste\",\"Sul\",\"Sul\",\"Central\",\"Central\",\"Central\",\"Central\",\"Central\",\"Central\",\"Central\",\"Central\",\"Central\",\"Leste\",\"Leste\",\"Leste\",\"Leste\",\"Leste\",\"Oeste\",\"Leste\",\"Leste\",\"Leste\",\"Sul\",\"Sul\",\"Sul\",\"Central\",\"Oeste\",\"Oeste\",\"Leste\",\"Leste\",\"Leste\",\"Leste\",\"Sul\",\"Sul\",\"Sul\",\"Sul\",\"Sul\",\"Sul\",\"Sul\",\"Oeste\",\"Oeste\",\"Oeste\",\"Oeste\",\"Oeste\",\"Leste\",\"Leste\",\"Sul\",\"Central\",\"Central\",\"Central\",\"Leste\",\"Central\",\"Central\",\"Oeste\",\"Oeste\",\"Oeste\",\"Oeste\",\"Oeste\",\"Oeste\",\"Oeste\",\"Central\",\"Central\",\"Central\",\"Oeste\",\"Oeste\",\"Oeste\",\"Oeste\",\"Leste\",\"Leste\",\"Leste\",\"Leste\",\"Oeste\",\"Oeste\",\"Sul\",\"Oeste\",\"Central\",\"Central\",\"Central\",\"Central\",\"Central\",\"Central\",\"Central\",\"Central\",\"Leste\",\"Leste\",\"Leste\",\"Leste\",\"Leste\",\"Central\",\"Central\",\"Leste\",\"Leste\",\"Leste\",\"Leste\",\"Leste\",\"Leste\",\"Leste\",\"Leste\",\"Sul\",\"Sul\",\"Oeste\",\"Oeste\",\"Oeste\",\"Central\",\"Leste\",\"Leste\",\"Leste\",\"Central\",\"Central\",\"Central\",\"Central\",\"Central\",\"Central\",\"Central\",\"Leste\",\"Leste\",\"Leste\",\"Oeste\",\"Oeste\",\"Oeste\",\"Central\",\"Central\",\"Oeste\",\"Oeste\",\"Oeste\",\"Oeste\",\"Oeste\",\"Oeste\",\"Sul\",\"Oeste\",\"Oeste\",\"Central\",\"Central\",\"Central\",\"Central\",\"Leste\",\"Central\",\"Central\",\"Leste\",\"Central\",\"Leste\",\"Leste\",\"Leste\",\"Leste\",\"Leste\",\"Oeste\",\"Oeste\",\"Oeste\",\"Oeste\",\"Oeste\",\"Leste\",\"Leste\",\"Leste\",\"Leste\",\"Oeste\",\"Leste\",\"Leste\",\"Leste\",\"Oeste\",\"Oeste\",\"Oeste\",\"Oeste\",\"Leste\",\"Leste\",\"Central\",\"Central\",\"Central\",\"Central\",\"Central\",\"Oeste\",\"Oeste\",\"Oeste\",\"Oeste\",\"Leste\",\"Leste\",\"Leste\",\"Oeste\",\"Sul\",\"Central\",\"Central\",\"Leste\",\"Leste\",\"Leste\",\"Leste\",\"Leste\",\"Leste\",\"Leste\",\"Sul\",\"Sul\",\"Central\",\"Oeste\",\"Oeste\",\"Oeste\",\"Oeste\",\"Oeste\",\"Oeste\",\"Oeste\",\"Sul\",\"Leste\",\"Central\",\"Central\",\"Leste\",\"Leste\",\"Oeste\",\"Sul\",\"Sul\",\"Sul\",\"Oeste\",\"Oeste\",\"Oeste\",\"Oeste\"],\"x0\":\" \",\"xaxis\":\"x\",\"y\":[261.96,731.94,14.62,957.5775,22.368,48.86,7.28,907.152,18.504,114.9,1706.184,911.424,15.552,407.976,68.81,2.544,665.88,55.5,8.56,213.48,22.72,19.46,60.34,71.372,1044.63,11.648,90.57,3083.43,9.618,124.2,3.264,86.304,6.858,15.76,29.472,1097.544,190.92,113.328,532.3992,212.058,371.168,147.168,77.88,95.616,45.98,17.46,211.96,45.0,21.8,38.22,75.18,6.16,89.99,15.26,1029.95,208.56,32.4,319.41,14.56,30.0,48.48,1.68,13.98,25.824,146.73,79.76,213.115,1113.024,167.968,75.88,4.616,19.05,831.936,97.04,72.784,1.248,9.708,27.24,19.3,208.16,16.74,14.9,21.39,200.984,230.376,301.96,19.99,6.16,158.368,20.1,73.584,6.48,12.96,53.34,32.96,5.682,96.53,51.312,77.88,64.624,95.976,1.788,23.92,238.896,102.36,36.882,74.112,27.992,3.304,339.96,41.96,75.96,27.24,40.096,4.72,23.976,130.464,787.53,157.794,47.04,30.84,226.56,115.02,68.04,600.558,617.7,2.388,243.992,81.424,238.56,59.97,78.304,21.456,20.04,35.44,11.52,4.02,76.176,65.88,43.12,82.8,8.82,10.86,143.7,839.43,671.93,93.888,384.45,149.97,1951.84,171.55,157.92,203.184,58.38,105.52,80.88,6.63,457.568,14.62,944.93,5.98,54.384,28.4,27.68,9.936,8159.952,275.928,1740.06,32.064,177.98,143.976,20.94,110.96,340.144,52.448,20.16,97.264,396.802,15.88,3.28,24.816,408.744,503.96,149.95,29.0,7.16,176.8,37.224,20.016,899.136,71.76,51.84,626.352,19.9,14.28,7.408,6.048,46.26,2.946,16.056,21.744,218.75,2.6,66.284,35.168,444.768,83.92,131.98,15.92,52.29,91.99,20.8,23.68,452.45,62.982,1188.0,89.584,93.06,302.376,5.584,22.704,19.776,72.704,479.988,27.168,2.2,622.45,21.98,161.568,389.696,18.648,233.86,620.6145,5.328,258.072,617.976,10.56,25.92,419.68,11.688,31.984,177.225,4.044,7.408,2001.86,166.72,47.88,1503.25,25.92,321.568,7.61,3347.37,80.58,361.92,12.132,82.368,53.92,647.904,20.37,221.55,17.52,1.624,3059.982,2519.958,328.224,79.9,14.016,7.56,37.208,57.576,725.84,209.93,5.28,10.92,8.82,5.98,11.648,18.176,59.712,24.84,2.08,1114.4,1038.84,141.76,239.8,31.104,254.058,194.528,961.48,19.096,18.496,255.984,86.97,300.416,230.352,218.352,78.6,27.552,32.4,1082.48,56.91,77.6,14.28,219.075,26.8,9.84,45.48,289.2,4.89,15.136,466.768,15.232,6.264,87.54,178.384,15.552,99.136,135.882,3991.98,275.94,360.0,43.57,7.16,251.52,99.99,15.992,290.898,54.224,786.744,100.24,37.764,82.8,20.724,4.896,4.752,959.984,14.368,7.712,698.352,4.96,17.856,509.97,30.992,71.928,88.8,47.976,7.56,24.56,12.96,6.79,24.56,3.048,49.12,4355.168,388.704,8.26,17.04,34.4,36.24,647.84,20.7,20.7,488.646,5.56,47.12,211.96,23.2,7.36,104.79,1043.92,25.92,53.424,8.16,1023.936,9.24,479.04,99.136,1488.424,8.652,23.832,12.176,50.96,49.536,41.9,375.4575,83.976,482.34,2.96,2.624,23.36,39.98,246.384,1799.97,12.462,75.792,49.96,12.96,70.12,35.952,2396.2656,131.136,57.584,9.568,39.072,35.91,179.95,1199.976,27.15,1004.024,9.68,28.35,55.98,1336.829,113.568,139.86,307.136,95.92,383.8,5.78,9.32,15.25,196.752,56.56,32.7,866.4,28.4,287.92,69.99,6.672,189.588,408.744,291.96,4.768,714.3,4.812,247.8,1007.979,313.488,31.872,207.846,12.22,194.94,70.95,91.36,242.94,22.05,2.91,59.52,161.94,263.88,30.48,9.84,35.12,284.364,665.408,63.88,129.568,747.558,8.928,103.92,899.91,51.312,23.56,1272.63,28.485,185.376,78.272,254.744,205.3328,4.788,55.48,340.92,222.666,703.968,92.52,62.65,94.85,95.76,40.2,14.7,704.25,9.09,5.96,159.98,29.6,514.165,279.96,2735.952,7.992,63.984,70.368,449.15,11.07,93.98,189.882,105.42,119.616,255.76,241.568,69.3,22.62,14.952,801.568,2.376,32.792,15.92,2.74,8.34,46.74,6354.95,126.3,38.04,7.152,6.63,5.88,2999.95,51.45,11.96,1126.02,18.392,129.568,14.112,210.98,55.176,66.26,22.2,683.952,45.696,36.336,666.248,52.512,190.72,47.94,979.95,22.75,16.768,42.616,10.752,152.94,283.92,468.9,380.864,646.776,58.112,100.792,66.112,41.28,13.36,250.272,11.364,8.72,1121.568,34.504,10.824,1295.78,19.456,20.7,1335.68,32.4,42.6,84.056,13.0,13.128,3.96,2.61,374.376,91.84,81.088,19.44,451.152,72.45,13.96,33.264,14.85,8.82,160.72,19.92,7.3,69.712,8.792,51.52,470.376,105.584,31.152,6.783,406.368,70.98,294.93,84.784,20.736,16.821,10.368,9.344,31.2,76.12,1199.976,445.96,327.76,11.632,143.982,494.376,5.84,142.776,45.696,7.218,43.188,131.904,3.282,21.168,55.188,369.576,15.712,8.448,728.946,119.94,3.648,40.48,9.94,107.424,37.91,88.02,8.69,301.96,555.21,523.48,161.82,35.56,97.16,15.24,13.23,243.384,119.8,300.768,17.88,235.944,392.94,18.882,122.328,1049.2,15.424,18.84,330.4,26.25,132.52,6.48,209.3,31.56,30.144,14.8,302.376,316.0,379.4,97.82,103.12,113.552,3.318,134.288,701.372,2.308,999.432,724.08,918.785,2.724,459.95,10.74,23.76,85.056,381.576,30.36,23.976,108.925,36.352,19.56,61.44,38.9,99.39,2.688,27.816,82.524,182.994,14.352,64.96,68.6,7999.98,167.44,479.97,14.62,19.44,191.984,104.01,284.82,36.84,166.24,33.4,198.272,47.36,200.984,97.696,2.696,18.588,4.896,15.072,209.88,369.912,10.368,166.84,15.216,119.96,883.92,46.72,55.48,24.448,281.34,307.98,299.97,19.92,9.94,103.056,59.808,73.32,146.82,1652.94,296.37,129.92,45.584,17.568,55.992,182.72,400.032,33.63,542.646,6.3,242.94,179.97,99.696,27.936,84.98,18.72,49.98,11.784,272.736,3.54,51.52,3.528,4.624,55.168,567.12,359.32,11.992,58.05,157.74,56.98,2.88,1199.976,79.92,383.438,24.56,119.8,13.128,22.72,58.32,12.39,107.982,11.36,50.94,646.74,5.64,572.58,310.88,641.96,18.28,207.0,32.35,7.71,40.3,34.58,32.76,544.008,59.94,23.92,4.28,32.07,24.0,35.49,47.984,186.69,17.456,348.928,143.96,15.42,43.04,332.94,1363.96,9.96,21.72,20.16,132.79,12.96,21.56,283.92,22.23,215.968,355.32,12.96,18.28,43.176,1983.968,28.4,149.97,11.52,1298.55,213.92,25.78,18.28,1399.93,51.84,5.344,41.472,3.168,1228.465,31.086,335.52,239.97,9.82,67.8,167.97,35.0,37.24,15.28,301.96,180.66,191.98,65.99,35.216,23.696,265.475,51.184,9.664,21.072,60.45,11.52,186.048,37.44,26.976,11.36,14.62,83.72,287.94,48.896,115.36,5.16,38.88,185.88,44.46,242.94,39.96,102.3,21.36,7.61,7.16,7.36,23.1,191.472,5.248,59.184,2.89,51.94,15.936,44.91,1141.47,280.782,34.44,11.36,106.344,192.16,322.59,29.99,371.97,5.892,68.472,1242.9,30.84,13.48,31.4,17.46,13.944,83.76,37.66,34.68,149.95,51.312,4.54,15.92,543.92,155.82,70.008,15.648,103.6,46.96,8.904,10.44,18.336,323.976,20.04,64.96,12.96,323.136,90.93,52.776,1199.8,1928.78,352.38,22.2,46.94,143.73,99.918,797.944,8.568,149.352,12.992,24.56,85.14,21.99,406.6,841.568,15.552,252.0,46.2,28.84,14.592,89.856,13.872,12.192,45.056,29.718,15.552,447.696,159.99,12.96,134.48,17.12,6.096,1114.272,32.4,540.57,167.76,393.165,516.488,1007.232,2065.32,15.552,25.344,25.472,27.168,78.8528,173.8,29.592,4.752,15.552,204.6,321.568,6.24,21.88,4.608,9.82,35.97,12.96,191.6,8.64,501.81,127.104,124.2,18.588,30.072,160.93,75.792,1.08,3059.982,3.282,34.02,599.292,3.392,559.984,603.92,7.968,27.968,336.51,1.112,520.05,17.97,1166.92,14.624,10.23,154.9,2715.93,617.97,10.67,36.63,24.1,33.11,44.02,2309.65,1090.782,19.44,484.65,115.296,7.08,4.401,44.75,95.984,151.72,155.25,14.03,1618.37,99.6,32.4,13.96,155.82,124.95,601.65,22.74,1267.53,1379.92,6.208,11.808,15.552,63.312,15.588,177.2,197.97,854.94,124.11,14.4,15.696,2.628,14.427,86.62,36.624,23.968,28.728,697.16,31.86,722.352,8.84,58.464,254.604,1363.96,102.36,1113.504,99.99,168.464,6.72,282.888,11.16,108.4,82.344,9.088,19.936,65.568,4.416,107.772,45.216,10.416,7.872,118.782,1.448,55.47,194.848,1.744,25.176,19.46,29.472,8.64,6.27,4.368,31.984,40.88,119.96,31.44,6.88,19.92,1106.91,836.592,26.38,362.92,4899.93,6.48,71.976,3.15,31.984,71.984,120.15,219.184,28.9,355.96,348.208,35.784,447.84,7.04,8.73,29.29,8.64,2.694,2.934,22.92,100.704,2.328,10.78,58.368,40.968,71.96,10.368,1.192,46.672,119.833,119.98,6.3,279.9,619.95,4.36,15.28,699.93,22.96,38.6,6.63,23.34,1067.94,10.16,101.88,343.92,40.99,63.9,19.44,124.608,7.56,85.224,287.52,37.68,19.98,20.58,17.38,204.6,8.72,6.48,686.32,62.18,644.076,5.84,12.76,10.95,599.98,8.352,3.64,159.768,122.48,2244.48,62.31,455.1,195.184,362.94,11.54,53.94,9.99,125.76,25.32,46.8,447.93,109.48,272.94,19.44,31.92,22.38,16.52,5.176,50.112,27.93,11.56,172.5,179.97,258.696,1322.93,3.76,21.744,7.92,12.096,485.88,25.92,197.58,81.92,889.536,892.224,223.92,23.12,15.552,15.712,24.672,55.968,431.928,95.984,1088.792,544.008,1.872,854.352,593.568,338.04,271.96,11.21,9.144,14.07,41.86,8.544,579.136,141.372,3.036,4.503,4.672,95.88,17.024,258.696,1931.958,249.75,255.936,113.79,78.15,1.728,40.56,182.94,193.86,15.28,8.73,5.68,2.78,79.96,839.988,47.952,37.425,63.968,165.048,12.35,40.97,22.96,22.0,398.352,8.72,48.69,764.688,3610.848,254.9745,38.82,1141.938,1704.56,3.2,1099.96,5.248,35.91,6.696,43.872,27.882,540.048,255.68,863.88,17.616,17.472,69.9,41.85,6.57,142.86,292.272,29.328,12.48,102.336,48.792,44.848,10.368,388.43,14.352,63.992,86.352,32.97,83.88,278.4,15.12,17.43,251.64,2.772,14.9,15.48,39.88,12.192,20.82,13.216,32.4,32.94,114.2,3.08,845.728,13.904,20.72,114.95,26.96,572.76,286.38,61.96,23.99,287.97,419.944,46.76,17.712,21.78,161.94,161.568,3.69,122.12,155.372,38.88,183.84,579.3,14.2,575.92,5.184,5.229,285.552,72.8,10.816,46.26,17.46,51.072,11.34,87.92,37.05,2.97,27.44,1.08,7.96,140.736,552.56,25.11,29.78,677.58,75.04,695.7,15.66,28.854,47.82,13.05,93.78,47.18,19.68,53.4,35.88,258.279,31.4,183.96,17.61,300.904,220.776,281.424,79.14,1.988,145.568,123.256,23.68,309.576,38.388,95.994,239.952,201.584,899.136,145.9,590.058,14.04,49.08,29.6,17.088,912.75,1089.75,447.84,16.4,399.96,158.9,13.184,83.952,80.98,348.84,9.45,18.84,239.98,167.96,104.85,484.83,122.97,154.44,342.37,9.552,652.45,66.645,17.216,11.56,88.4,6.48,21.8,251.79,205.176,419.4,10.304,154.764,116.784,75.48,39.98,393.165,23.68,408.006,165.28,334.768,239.97,37.74,946.344,151.2,4.928,86.272,72.588,60.672,77.031,119.904,263.96,363.648,9.728,14.75,29.8,427.42,220.752,152.76,7.27,1819.86,33.9,31.104,5.248,263.88,2453.43,29.7,39.96,36.672,13.76,139.424,1979.928,164.736,470.302,47.984,2.502,88.752,2.025,70.98,91.68,33.75,3040.0,91.2,452.94,52.2,15.936,27.46,55.424,244.006,159.984,1024.716,3.68,121.376,95.976,255.968,872.94,41.54,12.96,6.848,8.67,6.688,17.28,17.712,28.91,52.136,31.968,25.92,40.46,33.87,9.728,3.424,177.0,3.76,1212.848,89.97,42.6,5.04,62.96,5.88,977.292,9.64,40.05,10.192,16.784,13.12,18.16,16.056,223.056,540.048,33.52,9.94,6.72,1004.976,17.88,396.0,34.5,8.36,385.6,35.82,200.064,21.38,6.744,63.686,1669.6,83.84,13.272,21.336,16.52,206.112,19.92,198.272,247.104,86.304,4.16,11.648,26.18,7.3,74.352,10.744,8.376,212.88,203.983,40.74,11.67,39.99,16.28,782.94,242.48,8.32,10.464,82.896,34.24,1573.488,335.52,23.912,27.056,559.992,9.324,111.96,21.56,124.75,5.28,91.96,9.344,79.36,171.96,35.352,18.9,2.78,1044.63,11.352,354.9,453.576,21.48,8.784,122.97,12.84,603.92,21.84,29.99,381.44,40.68,763.28,23.952,4.98,170.88,307.98,382.806,41.96,1217.568,47.04,6.16,979.95,143.7,10.65,247.8,10.96,33.488,8.04,201.568,13.44,359.058,47.992,547.3,16.896,6.672,99.136,15.992,211.96,6.672,155.94,39.96,5.46,73.2,5.84,22.72,9.336,290.666,201.584,83.984,1000.02,83.976,3.75,41.4,29.79,59.48,6.69,198.46,786.48,23.168,50.0,675.96,1265.85,523.25,517.5,17.92,41.256,1006.056,10.688,10.368,25.12,58.112,15.552,669.08,438.336,19.44,9.64,12.7,41.37,12.624,1247.64,3149.93,209.7,35.36,3.168,121.104,45.894,109.92,13.36,169.68,132.52,2.96,8.448,95.94,34.79,160.776,88.752,13.904,677.58,13.896,41.92,297.576,4.344,94.992,74.352,14.04,1018.104,16.68,58.58,167.968,196.62,21.936,6.588,104.28,17.94,64.784,32.382,42.368,399.54,18.97,14.82,99.28,1.188,7.518,10.368,310.88,853.092,33.45,10.4,21.88,13.616,63.96,14.46,104.98,106.96,21.56,515.88,11.808,1931.04,9.96,12.35,9.702,11.61,43.86,148.48,7.42,71.992,19.9,1702.12,14.304,765.625,307.666,7.712,242.9,454.9,35.92,39.76,47.744,159.984,255.968,359.058,434.352,3.552,88.832,1048.35,100.0,7.83,96.256,10.688,338.04,154.24,34.848,22.0,4.368,31.44,17.9,129.45,20.88,20.736,7.168,11.168,442.4,13.36,11.232,10.272,10.368,6.24,206.962,9.46,559.62,109.92,8.56,360.712,1718.4,41.568,46.864,19.536,411.332,28.752,293.199,35.06,4.13,109.8,9.82,7.644,51.465,6.976,12.222,97.984,62.4,20.86,497.61,5.34,3.15,368.91,14.7,59.97,83.36,6.58,122.94,219.84,98.16,33.04,86.97,134.97,699.98,139.95,48.94,2807.84,46.64,60.416,107.94,63.84,347.97,37.008,215.65,11.168,53.952,4.18,5.607,4663.736,79.984,2575.944,45.36,254.24,69.93,16.156,54.816,1441.3,77.6,4.656,170.136,7.38,9.26,9.96,75.6,29.32,92.064,6.976,62.958,5.184,31.32,11.84,22.784,1127.976,38.88,779.796,1439.92,262.11,207.0,1439.982,36.288,21.4,1245.86,17.544,44.128,62.92,78.304,140.81,40.096,40.784,90.57,40.08,37.68,362.352,7.184,34.76,831.2,26.4,106.75,97.82,141.4,14.52,127.92,34.24,137.62,100.49,257.568,119.96,49.632,727.45,24.96,370.782,196.45,31.104,78.256,6.48,99.2,801.568,272.848,70.98,16.224,176.784,470.376,393.568,302.376,68.742,29.34,383.607,563.4,217.056,6.0,31.56,7.104,398.352,121.792,409.59,10.56,3.38,7.824,24.784,34.65,487.984,1793.98,29.808,505.176,174.0585,191.88,14.78,5.184,478.48,28.4,909.12,2.952,27.018,136.92,18.96,99.39,273.896,597.132,149.95,4.608,15.528,11.952,11.65,299.9,895.92,462.564,15.008,863.64,47.616,92.94,199.98,177.48,88.768,6.48,46.51,659.976,271.992,145.74,15.4,244.55,166.16,14.73,19.968,33.488,8.736,662.88,47.36,27.44,3.24,95.968,10.368,23.1,11.54,254.526,12.98,26.432,197.97,18.9,1282.41,4.92,238.0,167.97,17.12,16.2,33.99,296.85,112.8,13.71,24.9,286.29,24.18,281.97,69.5,166.44,291.96,6.408,408.744,5.104,2.896,35.016,275.97,1394.95,545.88,5.248,933.536,42.976,3.76,479.96,320.88,23.88,26.76,1439.976,17.22,1024.38,26.22,17.34,4.956,71.04,5.344,11.304,294.62,8.752,15.0,161.61,144.95,199.95,41.86,95.94,304.45,11.364,29.68,47.53,183.372,4.224,333.056,24.896,159.984,46.344,350.98,13.08,900.08,17.568,14.62,33.36,40.14,1606.23,17.04,49.53,872.32,239.12,141.96,33.024,67.136,14.73,104.9,61.04,10.95,9.392,9.328,8.26,269.97,29.04,14.62,11.952,4.536,9.156,75.36,57.504,38.864,15.552,162.64,597.0,55.48,289.8,2.502,6.48,341.488,11.12,25.344,17.31,199.95,1586.69,84.99,411.8,11.34,80.3,15.968,64.74,19.296,405.64,146.352,251.91,12.39,199.96,710.832,1.941,283.92,7.312,59.97,761.544,58.2,39.9,90.86,94.85,106.232,111.984,7.712,37.44,23.68,122.12,18.45,324.9,146.73,3.96,5.76,26.55,310.443,479.9,12.88,13.12,511.84,91.96,8.34,37.68,279.944,636.408,83.168,259.136,221.92,26.0,15.552,0.876,19.98,398.352,5.04,17.45,323.136,29.7,1295.84,46.84,425.833,209.67,159.88,5.28,895.92,2.808,215.976,241.96,27.72,104.68,62.958,86.376,64.944,20.736,33.28,38.52,139.86,19.65,152.991,10.584,94.92,14.76,3.656,146.82,149.544,17.14,991.764,30.48,23.988,16.688,422.058,38.088,254.352,43.31,84.95,233.058,111.79,14.94,14.16,22.608,21.48,501.81,161.94,17.856,8.808,79.384,34.58,314.55,191.976,8.288,139.92,15.872,6.286,14.016,71.976,107.982,305.312,19.752,9.264,61.792,45.68,60.12,41.72,71.6,85.232,44.4,442.764,3999.95,199.95,63.68,54.896,29.0,70.08,121.3,1454.49,60.81,153.552,65.34,123.92,35.1,44.75,4.704,14.67,15.552,5.232,22.2,881.93,6.096,191.82,20.104,67.56,29.932,38.272,16.52,832.93,43.8,167.292,27.42,1.44,61.776,241.96,108.608,2.816,9.984,14.98,1145.6,485.94,37.376,70.686,54.816,72.294,2.896,124.792,330.588,673.568,52.98,526.45,228.92,319.968,205.03,190.86,24.32,44.4,44.4,1016.792,38.136,494.982,56.56,5.56,9.02,8.62,659.976,13.36,41.72,11.52,541.44,19.44,143.7,43.26,43.56,437.85,109.48,1212.96,18.54,5.0,371.97,166.24,359.97,499.98,5.28,8.26,7.968,12.96,6.48,6.984,47.96,199.74,435.26,1119.984,143.432,122.352,306.2,85.98,223.96,97.568,614.272,199.98,48.16,23.92,60.69,14.352,35.04,17.48,16.4,892.98,287.97,595.38,12.96,4.95,181.95,13.52,259.7,42.95,1399.93,503.96,12.72,11.52,316.0,723.92,106.32,141.372,27.216,390.75,280.792,68.448,88.04,15.872,215.592,14.62,416.32,43.0,182.94,60.83,389.97,194.32,265.93,94.74,60.64,76.3,364.8,79.872,46.384,12.96,14.352,547.136,41.96,41.7,277.4,5.78,69.216,10.86,426.79,25.92,45.92,10.72,41.86,63.2,113.97,123.552,490.32,70.08,1.272,557.585,9.024,69.456,10.86,79.47,10.08,1552.831,137.24,36.51,239.976,1579.746,1071.576,613.908,34.86,155.04,13.71,127.88,160.32,46.0,120.712,23.12,532.704,4.912,252.0,60.288,2.632,23.688,253.372,5.67,76.776,9.184,32.75,7.216,49.568,54.712,176.04,16.02,185.92,211.168,479.984,7.86,24.448,6.48,41.86,1619.91,113.92,39.68,37.6,59.9,37.0,5.76,16.68,628.81,56.45,94.2,28.4,956.6648,1115.91,128.744,79.92,24.2,359.976,211.84,5.68,7.52,11.96,629.064,754.45,301.96,595.0,79.872,2396.4,63.56,99.99,230.376,9.664,158.928,13.023,273.06,39.312,1.344,8.272,12.544,58.48,7.4,366.786,54.368,33.96,826.11,545.85,145.98,35.808,7.904,345.0,174.286,662.84,95.1,26.88,257.98,17.48,492.835,269.49,29.12,18.75,119.7,9.144,57.06,71.6,107.44,7.31,59.1,46.53,97.84,29.97,98.352,83.92,14.624,136.99,3.15,9.11,571.44,32.4,16.91,14.272,451.136,64.864,217.584,82.95,87.71,1101.48,1322.352,5.46,11.184,153.584,1003.62,35.168,1137.75,99.68,5.56,85.52,9.84,20.04,631.96,23.92,90.24,4548.81,300.93,719.96,647.84,64.17,124.46,9.584,37.608,12.224,2.304,9.36,7.38,53.72,8187.65,77.92,32.784,196.776,479.94,1117.92,106.5,45.66,95.968,47.992,264.32,604.656,129.93,20.16,29.46,868.59,12.96,5.5,121.6,42.048,25.488,6.9,9.648,7.968,10.368,114.2,17.96,12.67,339.96,1801.632,46.32,181.986,431.976,155.37,1348.704,700.152,111.888,143.952,173.94,14.76,205.92,102.833,2.304,1879.96,313.024,5.04,821.88,21.96,25.92,705.544,50.0,51.712,6.992,1406.86,15.75,323.1,9.216,10.368,15.02,33.82,71.0,25.12,2665.62,478.08,164.388,13.248,2.912,1399.944,526.45,16.23,319.9,11.36,675.12,62.82,489.92,19.44,16.68,155.35,12.42,187.98,6.608,248.57,22.23,5.98,246.168,14.136,601.47,79.1,327.84,180.96,914.97,587.97,530.34,14.94,121.94,122.71,14.94,1349.85,136.784,61.12,1.167,16.99,24.672,2.52,1218.735,5.904,15.696,6.096,41.568,230.28,18.288,5.78,121.68,4.17,67.04,37.32,18.45,25.92,11199.968,2399.6,63.9,52.99,60.864,652.995,11.22,14.94,39.96,42.624,220.96,4.928,7.23,323.1,19.04,13.128,64.14,858.24,29.99,186.048,36.792,18.624,57.69,42.81,12.96,821.88,104.85,424.9575,10.776,11.784,164.88,1292.94,25.584,261.74,14.4,10.86,883.84,1979.89,79.96,8.76,3.984,370.62,2.742,79.512,28.352,40.784,105.96,166.44,785.88,26.2,1325.85,166.44,8.76,43.584,11.088,25.164,14.4,619.95,89.52,350.973,164.99,312.552,95.952,3.204,3.98,15.7,5.248,5.346,15.48,108.576,109.9,15.384,30.352,821.3,22638.48,21.376,8.016,30.768,18.936,122.352,116.28,132.6,16.68,19.44,192.16,227.36,1919.976,12.828,45.888,60.12,302.376,13.9,129.98,71.98,377.97,124.36,23.976,8.376,58.24,81.2,14.45,95.648,359.97,350.352,1.641,629.958,6.63,799.96,107.53,73.98,5.58,49.12,377.97,42.28,299.97,89.98,477.24,25.98,46.72,35.34,257.64,125.976,79.992,700.056,27.168,8.226,585.552,423.28,225.296,5.56,323.37,783.96,1447.65,11.96,239.97,76.92,481.32,48.4,0.99,101.84,10.332,31.155,8.928,34.384,1924.16,32.192,50.12,47.976,54.5,19.104,49.44,10.368,154.44,60.984,195.466,23.68,2.376,59.2,22.0,257.98,23.988,23.976,601.536,7.9,58.36,16.464,39.96,25.96,36.27,6.48,1075.088,438.368,18.088,308.499,13.36,39.96,145.85,783.96,7.88,41.37,12.84,25.68,47.516,9.42,12.96,704.9,561.568,179.82,185.58,214.11,999.96,653.55,114.6,60.74,124.36,1088.76,6.72,298.776,302.376,8.928,47.584,33.792,300.5328,2.724,3.264,108.336,55.92,78.304,443.92,155.976,15.47,7.16,10.89,19.44,121.6,695.7,120.33,1139.92,229.544,143.728,36.048,845.488,50.94,762.594,56.28,2690.97,7.434,64.784,28.16,14.98,20.32,40.29,20.23,1603.136,225.296,67.8,377.97,1628.82,286.93,20.736,31.44,83.79,59.52,31.92,14.72,38.976,17.088,74.352,314.352,4.26,811.28,6.03,153.568,1013.488,52.34,4.66,254.97,25.44,27.93,8.85,6.96,17.456,307.92,6.63,12.96,32.4,23.85,51.96,17.94,11.56,26.4,69.08,35.88,49.65,959.968,408.422,479.984,12.6,184.66,23.12,37.464,539.658,310.12,8.56,52.4,14.94,11.22,387.136,41.4,35.0,39.552,135.72,12.56,263.96,5.952,15.8,14.368,70.448,129.3,3.882,6.08,19.9,70.71,18.84,8.64,1633.188,19.76,6.608,7.28,144.784,156.792,431.976,35.89,47.208,248.08,189.7,59.808,90.99,1526.56,368.97,305.01,18.7,38.29,26.25,64.96,43.7,41.6,23.12,113.888,113.568,7.92,671.984,39.99,191.646,2.313,19.936,45.92,20.34,39.28,81.568,97.184,24.32,18.96,32.952,30.016,499.584,31.104,13.272,28.272,259.136,10.8,244.006,15.936,188.552,22.58,545.94,20.736,43.296,123.136,11.264,53.424,275.49,24.96,19.36,1267.65,12.99,18.56,449.15,31.248,61.44,895.92,55.36,55.92,24.896,3.984,95.968,206.991,44.416,9.006,19.0,33.376,207.48,91.68,904.9,34.272,191.82,243.88,12.03,2549.985,21.594,8.964,20.736,344.22,727.296,22.608,666.4,5.04,92.94,66.69,91.68,327.7328,52.272,17.94,254.352,8.288,504.9,403.168,194.32,25.99,195.136,20.736,53.7,36.26,56.3,32.4,29.16,171.288,16.72,12.96,22.18,2054.272,1022.97,13.9,26.38,43.176,411.8,360.0,41.96,227.84,37.94,517.9,5.28,2799.96,8.96,31.5,30.56,24.368,119.976,26.88,83.97,104.97,90.8,140.736,214.95,45.36,288.24,663.936,2934.33,124.41,57.75,114.46,120.666,342.864,16.74,981.372,31.84,12.96,43.176,58.34,539.97,3.928,252.784,127.984,3.984,12.992,61.0,671.93,447.86,479.95,166.44,31.68,10.368,12.032,5.768,33.12,220.2656,10.776,242.352,695.16,220.98,12.957,25.68,15.712,298.464,21.93,242.94,7.64,51.84,265.17,837.6,135.9,34.68,532.704,43.1,15.88,1123.92,249.584,48.672,60.768,78.6,3.768,1036.624,563.808,258.528,49.12,44.46,241.568,395.0,627.168,13.28,12.672,30.56,77.952,67.992,12.224,44.784,22.848,206.43,210.392,119.96,10.608,347.802,963.136,88.776,32.4,32.4,31.05,2025.36,1799.994,101.988,262.864,735.98,93.024,284.364,26.0,67.64,119.976,5.18,15.56,78.35,59.52,38.52,239.984,19.35,67.0,390.272,62.192,23.88,3.168,528.43,13.392,181.86,180.588,47.984,18.76,20.94,58.68,254.9,9.64,826.62,1633.14,544.38,26.046,74.352,69.93,3.75,20.928,12.672,65.99,6.37,3.648,31.104,23.34,29.97,3.366,95.968,18.704,149.232,15.936,601.536,10.99,39.88,62.24,53.2,39.84,349.95,377.928,13.392,11.228,207.24,1.504,34.848,75.18,149.97,931.176,430.88,94.85,51.12,90.0,9.408,4.672,318.4,12.768,15.36,230.376,7.16,375.34,114.9,26.046,2.896,32.544,3.984,181.797,44.94,45.576,318.43,122.92,7.068,56.45,13.468,219.8,317.058,49.08,324.9,18.24,113.888,105.584,24.85,60.312,7.056,27.184,107.984,19.296,4.608,79.974,2.946,3.136,20.736,99.98,733.95,241.44,10.08,281.904,201.432,135.98,44.95,2.97,6.54,7.92,203.92,3359.952,18.24,27.78,22.96,28.99,12.96,22.96,4164.05,47.984,4.624,15.24,63.924,6.56,13.11,494.376,29.2,248.85,36.24,11.68,11.91,3.48,30.96,1704.89,19.194,121.792,1919.976,50.997,76.792,539.964,60.312,1.944,12.984,217.584,328.776,2.286,47.984,25.344,232.4,86.45,603.92,81.98,271.764,14.376,341.96,181.35,8.64,43.512,662.88,25.92,68.94,128.82,896.99,1.234,67.56,21.72,262.336,148.48,241.176,227.976,52.68,2.032,17.12,431.968,129.92,568.728,117.144,203.52,51.75,122.97,244.615,59.97,81.54,11.68,29.0,50.8,16.03,15.712,89.97,435.999,83.984,359.98,70.56,20.88,3.81,73.008,3.208,26.176,30.44,35.28,19.44,37.88,9.552,290.666,10.368,14.352,141.96,66.048,1287.45,25.824,160.96,28.44,364.41,39.96,361.764,111.672,13.776,10.272,24.048,2.896,17.94,384.174,1799.75,580.672,18.936,222.384,50.454,154.764,6.848,1091.168,219.168,6.928,40.032,443.92,169.99,25.92,36.99,629.1,193.95,5.46,22.288,65.424,77.88,281.372,281.372,7.488,22.336,10.368,65.79,271.984,11.76,77.52,48.64,1.81,8.26,43.56,5.84,271.764,262.24,182.72,131.6,22.72,558.4,15.24,1408.1,32.896,215.148,30.96,29.79,128.9,60.12,24.816,14.976,15.08,24.288,16.192,251.006,54.192,4.304,108.92,16.74,2504.74,84.784,29.9,70.88,3.76,27.264,56.65,14.97,4.02,471.92,58.72,5.16,16.496,71.976,22.512,3.444,538.194,47.984,492.768,286.79,5.08,47.992,61.96,361.96,278.82,133.38,47.952,16.74,10.848,18.544,180.98,99.98,34.95,152.0,92.52,8.56,45.36,1421.664,8.96,579.95,29.12,1202.94,7.92,36.192,147.184,408.422,382.116,68.6,435.504,11.168,72.0,655.9,603.92,513.024,487.92,15.24,209.97,62.94,25.92,10.368,95.736,900.08,201.584,3.392,193.0656,15.552,11.648,418.8,509.488,825.174,17.76,6.912,66.3,30.816,44.784,569.536,796.425,12.832,40.46,404.94,116.0,657.552,599.97,38.97,45.84,38.24,87.168,21.4,54.9,287.968,13.12,10.75,11.62,40.74,83.25,9.45,20.65,45.36,5.352,99.372,2.672,28.672,29.312,105.98,35.06,33.94,30.0,45.528,844.116,812.736,7.476,330.4,604.752,45.36,10.128,21.792,439.8,8.256,25.56,4.368,11.52,12.96,3.96,1577.94,15.008,59.98,2395.2,1687.8,7.992,5.184,11.68,104.8,14.496,4.784,4.73,7.89,65.5,2430.08,104.85,3.9,801.96,191.96,2.61,5.96,1169.694,1665.62,2.88,1443.96,2.92,465.18,22.428,37.52,2.624,15.552,64.704,17.472,135.516,431.928,12.448,657.93,277.4,25.16,91.92,29.34,139.44,6.912,27.096,177.568,58.416,16.448,36.784,718.116,31.776,9.555,487.984,5.56,217.85,40.776,63.936,142.4,7.16,681.408,3.52,5.58,36.32,2060.744,52.272,213.136,69.52,763.44,9.216,41.958,89.568,22.248,334.88,148.288,4.624,178.92,69.888,487.984,47.3,4.13,155.12,6.48,15.52,2.946,55.104,104.88,34.7,33.72,14.94,638.73,113.568,9.096,8.688,30.88,6.408,33.8,377.97,258.9,24.56,27.888,6.456,52.68,13.88,103.92,11.52,10.368,39.072,8.872,121.104,127.372,47.952,44.46,15.8,464.97,181.96,12.39,84.09,79.36,153.36,43.68,98.21,9.84,2.694,25.344,43.92,59.994,439.992,87.96,15.488,232.96,66.54,43.26,141.96,79.4,163.96,37.93,15.168,24.78,19.14,899.97,32.4,23.832,6.368,34.176,5.544,510.24,204.95,11.54,162.6,45.68,603.92,23.55,5.04,249.95,33.4,18.92,15.42,35.712,551.985,7.056,18.72,360.38,11.16,14.94,41.96,636.86,499.99,1259.93,65.08,26.38,71.97,129.98,32.54,10.9,59.98,61.929,16.52,60.12,49.536,11.85,118.25,368.97,198.46,321.92,879.984,28.4,230.28,116.28,841.568,354.9,42.784,563.43,111.104,11.68,16.9,24.4,87.6,241.96,8.52,1.788,99.372,1.344,119.96,1013.832,1.984,2003.52,82.368,62.91,6.912,383.976,10.368,335.944,665.88,71.976,37.94,273.96,269.982,8.904,720.064,41.424,3.132,1085.42,3.912,62.376,29.05,180.96,4.419,16.032,29.79,57.23,333.0,36.44,251.64,523.764,1359.96,102.592,22.704,93.024,12.768,35.008,39.152,11.76,5.238,4.662,523.92,100.792,146.136,25.06,19.824,823.96,15.984,801.96,59.97,1056.86,12.816,314.352,18.98,18.24,991.2,879.984,12.96,107.44,1458.65,26.64,476.8,87.444,76.14,19.96,1049.97,611.058,2.368,19.008,911.984,674.352,134.01,170.97,170.352,7.184,6.28,480.74,616.998,141.4,501.81,691.96,34.95,85.96,85.3,33.568,4.95,26.4,3.564,823.96,10.272,447.944,480.96,124.792,40.176,10.896,10.64,151.96,238.0,155.34,148.32,240.784,191.968,11.56,11.8,842.352,23.472,86.058,108.784,10.272,38.19,49.632,52.096,9.568,82.368,364.704,40.256,4.368,12.128,134.85,8.56,239.97,356.94,659.9,1684.752,559.92,279.944,9.98,48.9,3.552,15.552,2.368,127.984,10.368,47.984,270.34,98.112,563.808,10.428,547.136,14.85,41.988,7.584,352.45,470.376,19.44,9.82,801.6,161.568,16.096,7.656,311.976,61.68,63.96,359.976,25.344,26.72,30.28,57.93,35.34,137.24,241.332,5.184,145.544,5.472,47.984,9.4,74.0,201.584,28.752,27.216,197.372,1424.9,14.56,3.048,25.92,835.17,17.34,44.384,2.944,6.368,48.848,19.648,255.108,17.248,159.984,12.7,5.47,79.36,22.14,11.277,4.448,44.76,38.28,149.95,12.84,44.67,7.872,7.872,88.04,40.635,5.728,42.24,53.82,79.36,13.48,29.8,414.0,41.328,39.92,8.94,84.784,53.316,56.52,22.77,287.968,2799.96,48.94,257.499,2591.56,41.95,79.12,52.96,286.344,63.552,41.376,172.704,512.94,860.93,769.95,14.98,373.08,231.92,63.47,345.0,637.896,287.91,36.6,1.78,25.92,101.94,6.848,474.43,8.448,39.296,17.12,542.94,8.64,193.8,21.4,97.88,251.91,25.86,170.058,82.782,853.93,556.665,95.84,29.664,9.184,153.584,12.864,479.97,232.88,236.88,29.9,100.0,18.693,383.952,24.816,24.9,21.12,767.952,14.352,191.976,274.77,70.56,204.85,9.156,23.992,80.88,599.9,276.69,172.764,4.224,409.272,55.44,20.928,1801.632,67.176,646.2,72.744,572.16,68.112,25.032,39.992,20.016,3.104,7.52,10.272,47.808,978.84,13.14,10.024,156.3728,999.98,821.94,220.064,339.136,7.04,5.04,116.28,47.976,60.048,5.022,182.994,10.272,7.857,302.384,20.952,11.784,638.82,20.7,10.95,14.352,221.024,3080.0,79.96,587.97,32.4,404.9,9449.95,12.94,2.264,0.444,146.176,15.92,159.96,13.76,4.312,13.96,27.414,73.98,160.98,17.34,3.28,8.856,158.376,1219.96,3.168,19.44,454.86,91.392,19.04,37.44,37.59,26.032,35.91,91.032,54.66,67.344,2624.985,73.28,14.48,11.952,15.552,45.0,209.97,112.12,1575.14,25.06,6.924,37.392,79.12,18.9,57.42,12.74,8.82,120.784,322.59,9.762,13.72,55.2,259.136,29.24,15.552,4.896,38.088,2.808,47.984,26.064,15.696,12.84,539.97,22.58,16.52,671.94,169.064,168.624,19.44,31.92,433.568,31.104,54.816,48.86,14.2,12.96,58.34,56.3,629.95,122.97,46.35,14.976,4.24,319.96,17.04,344.91,81.94,98.16,6.874,1.996,8.928,9.99,10499.97,21.12,696.42,304.776,51.98,24.7,21.93,394.816,18.192,7.31,799.984,41.28,184.66,49.25,10.16,14.76,34.08,17.67,1604.9,385.686,15.984,9.42,6.56,24.56,128.4,62.28,9.24,482.664,4799.984,37.94,18.288,385.8,102.96,174.42,1.964,94.428,45.92,61.584,22.48,332.028,11.394,15.552,31.104,6.316,11.352,20.808,11.416,9.408,19.83,209.7,43.92,20.232,149.97,27.81,66.3,1.64,1049.2,20.9,88.08,751.92,887.103,55.944,10.688,11.824,63.312,96.784,10.476,9.762,196.784,47.98,13.05,63.96,80.48,11.673,863.128,3.564,956.6648,12.588,171.96,871.4,692.472,207.76,71.928,25.99,3.592,48.632,323.1,9099.93,9.96,25.3,11.36,69.264,3.69,1103.97,246.1328,11.696,439.992,64.784,33.28,14.088,11.16,896.328,189.0,53.982,177.225,129.39,54.32,4367.896,49.568,161.376,2.784,8.72,3.912,59.752,63.92,383.96,7.752,33.568,666.344,573.728,21.936,19.44,447.968,16.78,20.96,88.752,304.23,167.86,82.38,23.976,33.29,14.952,323.982,2.286,14.352,71.976,9.21,18.0,42.93,15.552,17.92,19.99,22.92,50.88,27.312,7.92,14.368,107.97,113.82,5.184,16.28,544.38,19.824,657.504,99.54,199.96,631.782,60.72,20.724,415.872,16.768,27.12,95.84,12.96,19.008,1598.058,36.96,10.368,77.72,520.464,111.96,29.16,131.94,25.92,704.76,7.41,21.5,10.528,20.544,104.9,39.68,51.75,11.68,159.75,103.968,303.25,270.72,1487.04,17.48,71.88,60.45,253.176,2.88,384.944,153.584,913.43,43.92,25.032,46.76,183.968,1259.97,68.97,70.368,59.96,25.984,27.36,361.376,172.186,69.008,199.9,901.95,971.5,11.328,21.24,34.8,38.976,9.08,314.55,4.91,5.78,107.94,19.65,617.97,59.7,387.99,575.92,30.4,478.24,190.848,5.484,40.92,15.552,17.24,302.94,34.75,113.94,55.98,27.18,1805.88,70.95,20.0,7.98,24.1,8.75,842.94,2.182,27.384,26.406,10.368,23.68,109.95,965.85,29.2,32.4,78.35,31.68,29.12,169.45,12.56,6.48,186.69,25.4,43.96,1279.165,27.92,129.568,6.368,244.55,1332.496,32.776,147.184,54.384,76.776,14.352,209.792,3.304,16.38,167.96,321.568,12.96,128.058,63.686,239.976,344.22,15.552,21.248,8.448,333.09,248.98,24.9,15.26,43.32,43.584,116.28,9.296,19.44,314.55,16.27,69.12,4.47,418.296,659.988,8.128,36.288,909.72,917.9235,38.88,631.176,12.96,12.96,23.2,25.92,21.312,173.656,361.96,62.85,818.376,20.34,23.99,171.288,37.3,81.96,54.792,10.784,290.98,36.44,21.4,48.664,16.56,1347.52,62.31,20.32,9.432,34.86,89.34,269.98,99.9,39.08,116.832,2.296,408.006,40.44,122.352,15.28,11.96,15.84,86.376,18.24,13.12,105.98,493.92,5.936,325.86,383.607,148.48,537.544,1.928,6.912,7.76,659.168,5.76,351.216,230.28,12.84,56.82,31.56,27.92,8.559,49.568,127.869,271.44,110.352,36.4,419.136,100.704,45.216,28.782,24.448,10.476,76.14,21.24,127.96,479.984,657.93,33.48,13.9,26.86,9.584,113.1,65.78,239.7,25.632,23.616,8.26,76.58,8.8,590.352,5.58,25.02,452.55,17.76,302.384,146.352,7.9,902.712,53.97,33.92,21.81,91.6,150.98,137.25,11.52,18.272,153.728,12.224,167.944,45.99,535.41,6.096,45.36,47.12,31.36,47.616,23.48,62.79,28.44,134.376,589.9,542.94,2879.952,90.48,77.55,8.832,177.536,258.48,14.136,77.55,24.88,140.75,36.63,17.14,51.75,123.96,586.398,80.98,242.94,123.92,12.39,47.3,1599.92,11.09,3.168,579.136,6.368,558.4,145.764,13.62,434.646,440.19,64.4,244.55,195.76,11.76,166.45,2.88,45.248,59.904,23.696,7.968,18.2,27.552,844.116,76.752,3.0,7.506,16.56,79.92,69.98,11.06,623.4648,772.68,283.14,635.96,118.99,272.94,15.008,33.088,80.98,82.8,21.36,62.048,29.61,863.928,241.92,163.88,3.486,10.584,440.91,5.715,51.968,71.976,242.352,221.92,8.448,29.52,302.94,142.36,546.66,212.13,5.248,74.416,6.848,7.996,8.712,65.17,14.62,173.24,895.92,130.71,11.68,62.31,0.852,36.288,56.568,344.704,201.584,521.96,8.22,45.36,947.17,61.96,268.935,7.58,14.73,9.888,671.544,1117.92,275.952,123.144,15.576,212.64,9.87,53.25,19.92,658.746,8.26,29.84,67.98,61.06,35.544,9.96,9.21,27.93,7.9,221.16,127.96,18.69,25.35,35.28,33.4,837.6,40.68,209.568,22.368,3.882,115.296,1.908,43.372,783.96,48.896,7.856,5.904,13.712,182.94,27.76,25.99,113.52,359.88,25.344,11.952,6.24,742.336,6.464,11.52,222.384,23.36,8.67,25.71,100.94,63.882,683.144,1.476,40.712,279.9,13.12,69.576,4.224,58.08,52.416,54.92,364.95,85.056,27.696,24.96,43.13,5.64,57.582,31.104,30.192,43.6,4.768,10.38,13.392,39.594,91.008,37.94,42.8,33.63,62.808,195.64,239.9,380.058,1199.976,48.576,17.94,18.264,34.656,81.552,227.136,10.36,463.248,383.952,44.856,30.345,127.554,77.952,14.016,69.52,5.64,13.776,245.88,36.63,22.58,12.39,39.92,61.96,19.936,3.798,27.744,158.376,27.58,5.553,243.92,14.96,7.184,10.512,263.96,71.632,9.328,5.88,975.92,303.84,485.88,12.54,8.94,9.24,70.008,77.6,464.85,10.192,1793.98,758.352,20.368,49.848,239.97,2404.704,563.024,344.91,8.64,89.988,229.544,1.824,18.32,48.816,1.188,119.8,61.568,6.192,2.214,5.32,975.92,2249.91,59.92,171.2,3.36,114.2,182.67,101.7,1126.02,1263.3,8.82,37.94,4.2,227.28,47.9,61.96,1117.92,183.372,7.968,26.352,481.32,13.98,25.92,91.59,674.058,22.92,269.9,11.808,9.588,18.336,36.288,111.984,5.97,2.508,35.96,14.952,67.144,254.058,173.94,231.98,2.296,96.08,3.62,629.1,90.48,14.88,91.275,19.44,897.15,57.75,14.94,23.1,12.536,1.08,4.512,16.776,33.74,1325.85,333.999,19.9,1268.82,283.92,5.68,375.34,96.08,11.68,4.36,29.24,117.488,18.84,12.42,12.96,69.48,85.9,18.06,79.14,37.4,2.512,18.864,61.192,67.84,48.712,17.94,242.94,7.764,467.04,128.85,8.4,199.98,110.98,207.984,36.112,35.568,88.768,12.9,717.12,21.36,6.688,773.94,20.568,4.356,19.04,5.22,84.84,7.24,14.4,15.552,1325.76,3.108,6.672,689.408,1889.99,55.936,18.432,20.32,52.064,48.784,13.092,109.592,56.7,79.99,69.5,191.6,10.56,47.79,714.3,2321.9,17.94,9.522,791.964,4.923,209.979,33.93,222.32,210.564,35.168,1502.376,10.11,772.47,20.46,347.58,72.64,772.47,39.92,33.48,461.97,137.62,302.67,239.976,8.34,8.57,119.616,212.94,26.49,687.4,653.55,33.9,239.96,199.836,716.0,221.06,67.71,129.92,467.46,61.4,720.76,5.184,14.7,8.134,79.984,18.54,24.4,195.64,398.4,7.056,1352.3976,26.4,41.88,99.846,699.98,584.82,43.98,377.97,123.96,391.98,383.976,1781.682,21.4,549.99,167.535,38.34,53.88,299.98,62.8,13.904,744.1,44.84,401.59,18.24,359.499,10.48,20.736,35.168,64.704,105.52,5.792,466.158,10.312,2.556,7.968,8.784,3.024,51.45,14.016,214.95,35.04,10.776,4.6,35.168,19.152,4.448,5.184,15.552,40.032,16.776,186.304,66.36,42.048,67.92,52.512,186.912,10.048,17.496,15.552,10.776,3.304,35.48,34.44,629.93,79.056,232.55,99.98,19.44,12.96,464.292,68.46,2799.96,601.3,16.99,287.97,44.82,101.12,107.976,58.73,93.344,17.05,8.096,30.36,23.34,51.55,119.9,1317.492,63.84,3.592,86.26,139.04,46.8,8.544,842.376,1214.85,67.78,39.9,2.688,6.6,28.4,212.94,1001.584,569.058,14.224,105.584,68.72,1367.84,301.96,170.352,3.9,12.84,15.84,563.94,62.94,535.41,3504.9,144.12,314.55,3.408,2.072,328.3992,53.248,4.992,37.68,258.576,75.84,45.36,45.78,40.29,38.71,1801.632,748.752,199.96,1516.2,167.952,45.04,23.16,397.6,85.96,13.12,45.66,158.13,43.6,3930.072,2.304,431.976,41.72,104.23,70.26,9.26,105.98,1.24,20.7,28.9,27.18,465.18,36.63,51.45,7.83,35.4,29.9,17.48,79.14,8.4,498.26,212.94,706.86,114.95,43.19,166.44,36.56,186.144,353.568,81.98,14.624,697.16,30.93,27.496,605.34,210.008,54.96,164.22,362.94,59.98,332.94,39.872,13.68,3.318,10.44,136.464,333.576,12.544,20.768,43.5,12.576,249.95,49.12,182.91,107.648,99.372,33.568,10.56,38.88,35.2,45.528,196.776,2.92,200.795,46.688,21.864,11.76,167.94,3.89,52.44,32.36,406.6,27.92,399.672,3.744,715.2,159.8,44.75,340.116,105.52,13.48,85.52,6.16,36.84,15.84,44.4,21.24,9.552,89.991,163.96,17.904,966.7,182.112,4.464,51.588,50.4,89.568,14.89,543.92,4.08,18.9,2275.5,1979.7,62.1,37.296,8.544,68.95,296.37,39.98,191.058,13.04,1525.188,9.216,28.048,64.96,30.56,187.056,11.808,9.656,20.736,27.36,2314.116,34.236,19.76,15.96,16.9,25.08,6.68,19.44,31.92,33.568,63.94,60.6,22.72,10.68,17.34,3.38,26.976,307.776,244.55,12.24,13.98,899.95,1.632,267.96,31.95,725.84,10.896,8.544,32.34,39.9,143.856,41.92,329.584,87.28,279.456,8.0,27.24,16.36,15.78,45.98,198.272,720.76,70.56,81.96,64.864,151.192,88.776,11.56,15.58,85.056,273.96,306.9,15.552,347.361,10.368,98.16,31.44,348.488,172.736,15.54,105.552,25.92,15.808,10.368,358.2,545.916,40.41,167.976,109.53,9.82,26.352,22.5,9.96,213.08,1025.88,21.98,63.2,39.0,2.907,556.665,71.98,79.98,24.672,3.744,445.96,36.24,10.65,87.92,22.424,90.48,42.76,10.08,101.34,224.75,73.176,20.736,39.984,15.36,36.288,150.384,280.782,31.984,11.232,26.4,3.52,1649.95,111.9,599.165,46.53,31.984,161.568,4.064,6.216,8.896,1640.7,270.0,19.52,9.81,213.216,588.784,2.064,6.368,99.6,62.296,10.71,20.936,33.0,249.95,357.93,57.4,331.96,40.56,86.2,38.016,8.384,6.848,19.6,68.46,13.344,1478.272,16.272,9.24,32.34,56.064,108.72,181.47,16.176,122.352,585.552,19.44,123.92,13.36,78.256,102.018,750.68,44.4,84.55,17.94,128.4,1.869,103.192,36.0,239.96,40.68,419.136,23.472,3.592,23.976,6.264,20.808,218.352,18.16,7.36,41.4,411.332,7.656,63.92,6.56,7.83,41.9,664.146,8.96,3.312,20.136,8.856,859.2,61.96,17.92,145.9,56.704,11.12,32.896,22.776,239.97,160.32,128.85,1319.96,239.96,54.768,13.392,23.92,255.968,21.552,58.24,80.28,9.78,1.81,37.94,79.96,115.296,2479.96,179.94,26.85,323.37,59.94,64.14,11.67,12.96,17.43,181.986,1.592,22.344,455.97,10.44,5.214,67.4,25.16,126.56,43.68,139.93,2.672,16.656,79.512,36.288,67.9932,10.16,6.16,56.3,6.48,1325.85,14.94,34.54,2999.95,64.12,19.456,209.986,29.76,89.768,959.984,15.552,34.36,98.376,29.94,17.472,36.738,179.94,383.64,56.52,6.56,243.92,47.52,19.98,8.0,6.16,83.56,546.06,269.49,10.9,6.096,34.05,352.38,245.98,18.94,59.913,391.98,437.85,68.62,25.02,10.71,55.984,14.48,142.488,14.16,79.92,590.352,17.088,98.392,11.05,7.78,659.9,53.04,843.9,1496.16,117.96,21.3,1040.8,29.34,19.52,443.92,499.95,3.04,201.96,68.64,100.0,359.98,6.16,2348.82,13.872,273.552,815.292,234.45,1256.22,17.46,10.528,152.8,82.56,284.97,60.84,1325.76,572.16,28.8,11.12,7.04,17.94,34.76,74.45,192.22,19.44,32.4,57.9,10.56,1194.165,40.99,2.94,45.24,18.688,11.648,112.776,377.45,15.936,28.68,21.44,511.056,18.656,11.088,66.688,99.488,14.62,53.984,389.97,355.36,140.376,15.84,8.448,12.96,57.408,27.6,38.976,20.44,109.92,6.38,6.48,15.84,1049.93,154.9,98.352,14.32,129.888,48.944,275.058,27.36,44.75,134.99,26.4,542.94,71.088,27.396,13.456,11.84,35.88,40.752,139.96,2.624,136.53,263.96,11.64,40.176,79.44,357.93,127.764,2799.944,19.44,36.792,5.94,177.55,619.95,29.16,57.96,29.403,81.4,8.72,91.176,159.968,12.96,331.536,899.91,946.344,178.11,1089.75,61.06,459.92,27.52,638.82,30.69,25.16,13.92,19.36,19.3,38.376,12.96,26.48,532.72,26.72,20.04,795.48,21.56,249.584,68.112,16.56,74.95,355.455,44.4,20.65,866.4,5.56,3.16,1999.96,46.152,32.985,481.32,6.384,542.94,54.92,1448.82,353.88,333.576,60.144,85.2,3.15,22.72,14.91,1158.12,599.99,23.968,638.288,13.208,15.528,104.85,30.48,112.648,71.976,2.21,15.52,36.44,217.764,39.072,22.638,95.144,12.32,4.419,35.0,72.784,97.84,51.75,46.672,1395.54,117.36,18.9,77.52,421.372,575.968,10.368,15.984,10.272,61.792,205.9992,12.192,87.168,31.744,132.224,105.52,91.96,1487.976,19.44,11.672,279.96,12.912,17.088,93.15,11.52,238.62,7.77,285.48,19.168,26.136,419.4,90.801,181.764,5.56,581.96,29.98,519.96,6.264,363.92,64.2,38.52,72.6,57.568,83.7,32.4,47.98,415.968,304.9,80.96,777.21,32.4,225.568,36.6,715.64,795.51,549.99,74.76,29.22,9.64,33.488,23.04,1.362,14.76,239.666,301.96,7.968,109.92,19.44,11.16,79.47,4.56,1133.35,4.672,104.58,1603.136,1293.488,127.95,59.76,108.08,9.54,11.736,447.86,17.94,245.88,192.16,801.568,368.91,885.528,28.28,4912.59,14.352,179.97,42.76,45.68,25.06,38.432,21.568,81.576,2.78,99.87,44.4,21.4,71.12,259.96,9.78,24.192,31.56,59.94,45.36,26.4,41.4,16.95,24.704,59.7,14.52,104.184,46.53,25.5,14.9,87.71,199.764,94.6,4228.704,2003.92,209.97,659.9,110.96,67.8,313.176,22.96,1099.5,1215.92,7.31,8.92,87.21,15.552,683.988,13.392,16.776,527.92,25.4,177.48,71.976,95.992,13.216,435.84,5.88,211.168,6.28,95.1,25.92,48.84,25.9,42.68,299.97,262.24,234.36,20.736,10.5,23.968,521.96,676.55,154.9,30.56,770.352,21.12,575.928,7.78,123.92,17.22,226.56,107.88,81.98,104.85,8.704,19.92,43.02,240.784,414.96,387.72,360.38,13.56,552.0,429.9,32.06,161.96,19.86,12.96,20.544,185.58,77.56,87.92,245.94,8.6,504.9,2357.488,369.544,184.752,64.96,13.52,458.43,387.136,328.59,338.352,25.92,91.36,87.96,5.214,12.294,19.76,109.764,128.85,127.95,68.52,74.94,2548.56,271.44,287.88,14.9,4158.912,91.96,33.11,19.44,55.48,91.92,17.34,71.98,7.08,69.98,646.272,10.368,8.4,71.96,18.48,9.84,239.24,21.12,54.9,15.24,19.568,310.392,42.6,113.94,129.92,5.28,859.2,506.28,14.368,314.352,27.888,238.152,692.94,16.146,1345.485,173.488,57.75,272.4,11.952,28.0,12.201,2.068,83.84,11.36,36.4,27.968,142.04,14.67,1199.96,12.6,17.94,23.904,88.96,518.272,6.98,343.2,17.544,152.688,3.488,5.888,153.552,270.62,468.9,72.48,10.95,191.82,151.056,25.16,6.216,23.616,24.032,2.088,4.488,29.22,6.48,1.188,272.646,212.8,38.52,72.64,45.4,13.76,80.991,11.784,4.36,2888.127,1299.66,2254.41,104.85,59.97,314.532,13.632,19.432,65.44,6.0,1.908,1474.802,110.096,16.752,1537.074,449.372,41.904,2279.96,14.94,191.976,23.832,409.216,72.588,61.568,20.96,44.75,11.96,3.912,327.996,49.408,53.25,3.76,767.214,163.96,161.28,192.8,27.696,73.164,32.064,205.666,115.44,274.8,195.64,257.98,119.04,20.07,11.76,11.76,40.736,201.584,340.704,354.9,1198.33,87.92,51.968,51.336,332.704,42.408,81.54,167.28,772.68,323.976,11.808,26.16,33.57,4.992,20.016,170.24,117.456,22.96,13.36,34.248,3.52,26.7,21.2,838.38,1690.04,85.96,121.96,23.92,63.96,629.95,113.73,14.6,887.84,403.92,106.8,70.95,34.944,119.04,383.84,799.56,31.44,25.92,6.33,75.88,329.988,71.376,63.77,50.97,96.08,1439.968,43.56,563.92,235.152,7.712,51.016,25.248,56.686,51.168,2793.528,1000.02,65.94,18.24,76.12,7.64,68.16,62.24,29.97,125.7,191.98,20.86,56.7,72.704,12.264,218.352,66.294,291.168,88.776,110.376,55.176,30.32,177.568,19.44,71.28,1471.96,79.96,57.576,26.336,166.5,360.38,11.744,247.44,18.24,25.35,119.04,22.14,13.98,43.41,6.24,465.16,7.98,2.394,58.32,200.97,21.36,9.856,3.444,384.592,22.92,11.36,14.592,41.4,442.372,34.5,28.85,3.488,143.856,311.98,22.45,39.992,1159.056,179.9,116.312,12.42,428.4,24.75,87.71,69.52,20.784,12.816,5.904,63.824,141.552,304.9,563.24,661.176,239.976,502.488,196.704,915.136,327.76,701.96,88.776,64.14,33.552,1737.18,704.25,141.76,36.36,25.83,24.588,13.984,195.96,74.352,6.68,17.584,104.784,47.952,650.352,629.184,15.176,127.95,579.51,14.99,151.92,196.62,144.12,15.96,39.96,34.08,10.368,7.752,15.28,65.97,33.4,210.84,13.98,272.94,19.05,247.716,66.58,43.92,14.73,29.7,49.12,18.28,47.04,339.96,87.8,221.382,5199.96,156.512,119.85,30.44,69.28,587.97,24.55,12.176,37.32,35.06,108.4,361.376,2.412,8.39,337.98,83.92,19.68,25.92,6.48,86.352,56.3,51.016,150.8,1039.992,51.84,41.22,240.37,119.02,133.12,38.08,113.568,83.92,6.63,371.97,561.584,99.92,4.928,14.76,99.99,286.15,49.792,299.975,158.376,32.784,47.984,62.592,4.276,10.56,229.94,311.15,12.96,14.62,5.76,21.48,396.92,17.15,23.12,5.248,824.95,24.64,227.88,241.96,3.89,8.01,177.48,569.568,149.73,899.43,46.2,47.952,7.992,76.864,102.93,98.16,11.52,83.88,108.576,5.984,21.96,368.97,12.39,332.94,111.93,454.272,19.44,8399.976,6.294,10.368,122.382,25.984,945.036,14.301,410.352,23.52,180.96,35.0,477.15,302.376,974.988,589.41,34.7,99.87,37.94,24.9,82.26,7.104,103.5,2.464,8.72,10.76,45.68,6.7,158.376,3.44,56.56,36.96,135.99,15.96,3.76,14.7,37.2,89.97,261.96,74.0,13.28,84.96,68.46,2079.4,629.95,72.42,131.98,114.52,100.24,871.8,61.96,4.554,5.2,205.992,15.552,503.96,24.472,241.568,110.4,384.768,78.66,45.36,962.08,12.843,295.456,32.4,103.936,289.568,39.72,244.768,24.0,15.552,26.176,20.94,135.09,279.86,90.06,539.964,50.232,19.242,1247.64,5.304,19.136,332.832,279.9,50.352,34.02,23.88,11.52,286.93,206.384,218.352,529.9,99.3,108.96,2.688,5443.96,302.67,56.07,10.08,59.994,5.715,9.42,1999.96,216.4,6.936,4.428,8.8,142.8,399.95,2152.776,4007.84,328.59,98.352,158.99,291.1,73.68,139.92,107.88,33.29,58.17,5.04,24.784,634.116,17.472,155.88,327.564,13.36,158.9,319.968,505.32,3.808,8.682,24.424,1522.638,419.9,3.15,33.62,16.14,194.25,8.64,872.32,243.992,7.12,2.688,317.058,149.352,227.976,11.96,563.4,319.92,1049.44,170.352,173.94,1007.944,6.68,8.34,101.94,179.97,101.94,271.96,8.8,19.68,302.94,14.94,231.72,9.912,34.65,19.8,33.568,125.93,11.76,5.344,1.365,62.016,60.72,146.82,239.84,15.66,146.352,5.94,45.36,211.168,484.704,371.976,89.82,19.296,191.96,21.3,469.95,209.88,239.666,22.5,219.84,32.4,209.94,4164.05,212.94,41.88,58.48,102.438,199.304,6999.96,12.96,279.86,7.38,698.352,1747.25,54.48,199.99,68.541,627.168,122.12,6.99,107.424,1421.664,125.88,79.78,133.2,438.368,139.944,133.472,564.195,87.168,42.616,319.984,45.92,21.184,20.736,213.43,333.576,31.992,51.168,10.64,68.704,386.91,39.66,113.92,447.86,356.85,251.58,219.84,42.85,6.16,17.0,87.4,29.84,49.568,265.86,67.96,10.92,83.9,19.75,393.54,46.872,10.9,79.92,146.82,3.6,20.04,180.016,41.552,13.12,1117.92,111.96,12.16,17.52,155.88,477.51,164.88,47.97,415.176,35.232,54.96,16.34,225.296,50.352,163.136,6.408,217.584,5.43,143.976,519.68,7.83,883.84,230.352,273.92,9.912,266.352,56.328,39.264,95.232,30.0,25.92,159.92,34.944,149.95,23.32,16.74,14.82,10.47,11.07,20.704,177.2,50.496,6.129,643.136,20.736,177.536,32.432,11.696,113.76,579.51,150.66,48.032,102.624,359.772,13.392,122.136,35.88,479.952,23.92,629.95,14.952,17.94,116.98,121.96,8.74,61.96,7.96,275.24,47.4,512.96,395.94,81.96,32.776,272.94,253.764,29.24,35.168,1362.9,317.058,15.76,14.56,196.21,35.4,419.4,13.005,7.712,4.176,38.88,17.64,93.456,449.91,344.94,14.76,12.76,58.48,20.096,37.752,138.588,259.92,20.736,129.93,69.93,140.736,8.32,9.98,62.94,21.488,239.976,34.504,20.104,3.798,7.88,35.445,269.97,45.12,100.8,47.968,99.98,9.96,3.856,98.376,22.38,3.882,12.585,113.372,18.312,127.936,241.17,6.24,17.9,3266.376,1.68,7.968,113.372,2.96,168.1,98.46,358.58,32.48,17499.95,735.98,34.37,33.96,197.97,17.48,8.016,146.04,27.88,152.65,22.72,11.12,1640.7,371.2,14.832,20.7,11.34,67.9,1059.12,478.48,32.04,55.992,76.864,59.92,1565.88,106.05,62.04,494.97,367.96,44.96,182.94,28.14,7.38,10.9,274.89,23.04,218.352,10.368,12.672,91.96,254.97,31.984,2887.056,12.96,47.52,11.952,4.98,10.78,119.976,25.06,1652.94,131.376,5.344,2003.92,32.4,1913.4,146.73,114.2,2567.84,37.056,259.896,19.05,73.344,95.68,50.96,113.94,25.92,20.32,411.98,34.48,244.55,10.782,602.651,7.656,559.93,2399.96,16.0,5.588,235.92,10.68,41.28,1001.584,14.76,2.502,115.96,186.54,159.56,55.984,132.16,17.904,124.032,1403.92,28.8,24.588,356.79,16.98,491.55,7.38,23.66,681.408,18.9,93.68,21.93,862.344,19.98,13.494,23.988,31.984,41.584,95.976,84.272,36.544,479.72,102.368,28.4,713.88,68.52,623.96,11.12,523.92,2.48,221.024,128.058,58.408,79.974,479.988,11.808,53.568,503.96,21.34,36.4,51.75,15.51,146.82,12.96,7.8,10.2,22.32,24.1,75.98,6.46,60.12,824.97,24.85,12.624,89.584,471.92,18.18,31.744,5.904,621.76,59.98,48.87,154.9,5.92,30.18,24.1,8.78,376.74,29.52,11.96,26.4,1158.12,1.392,44.43,226.2,186.54,265.86,27.9,31.08,13.84,175.872,12.96,208.44,25.76,366.744,289.24,69.456,5.184,205.164,8.544,12.828,598.458,25.984,17.96,5.04,208.16,148.257,146.76,32.96,587.97,14.94,25.83,15.552,6.8,4.224,143.64,31.104,223.056,227.46,46.24,5.22,33.9,28.14,36.0,92.94,245.646,55.008,35.232,523.392,479.984,12.96,17.94,166.72,24.816,124.36,599.97,198.744,9.184,9.248,99.592,399.96,15.552,14.576,209.6,23.32,30.98,119.96,363.92,35.808,122.688,892.136,50.22,83.42,5.872,12.144,27.792,6.208,32.67,1261.33,38.88,1.964,82.656,5.98,9.248,4.448,5.184,175.92,4.752,13.344,54.9,22.911,309.456,19.456,472.518,1012.68,17.22,3.52,1626.192,8.595,190.896,99.87,79.36,119.96,106.32,163.44,42.76,51.55,479.952,146.688,276.784,25.32,318.96,212.64,23.472,19.648,6.57,421.1,760.116,38.784,122.328,25.98,3.28,459.88,7.76,71.96,54.9,9.28,1685.88,5.728,61.96,1.344,17.94,13.904,67.194,41.86,141.96,10.02,144.12,17.94,13.89,16.45,19.92,35.168,123.088,257.94,1879.96,27.46,89.98,828.6,7.23,17.44,62.88,290.352,113.52,135.3,111.15,776.85,12.294,154.764,43.28,92.94,52.56,971.88,141.96,182.55,88.768,53.088,275.88,157.9,4.91,87.92,5.98,222.384,16.0,21.84,15.6,247.84,9.912,69.52,11.52,717.72,236.5,170.352,145.764,107.97,143.96,2399.96,74.352,87.168,32.232,2.202,9.396,89.97,12.78,40.0,23.24,908.82,5.552,8.016,74.592,16.784,38.864,203.976,674.352,5.388,30.976,1350.12,15.92,19.54,21.4,12.6,11.96,138.0,116.76,331.023,756.8,8.736,6.08,17.46,369.16,2.912,20.736,9.568,30.18,51.648,11.232,14.73,16.4,25.92,8.82,62.496,339.96,49.568,274.491,137.94,40.68,110.376,151.62,30.8,123.92,1319.8,89.712,22.83,30.88,465.16,27.12,113.6,12.96,69.456,8.64,341.991,43.96,39.76,66.36,92.88,24.14,4416.174,49.56,354.9,15.12,302.45,44.672,119.98,989.97,9.216,68.52,364.74,47.4,49.76,5.56,629.1,14.7,45.36,125.99,14.7,32.7,31.68,181.86,155.372,13.428,67.136,89.568,315.776,273.666,17.48,20.608,4.095,339.96,63.98,799.92,35.984,389.97,185.528,2541.98,599.985,3.036,25.92,66.112,46.36,6.9,57.69,559.71,305.01,50.784,26.01,649.0,59.99,20.24,37.84,5.472,77.24,292.1,8.544,424.116,2.892,381.72,97.184,10.368,890.841,72.0,113.888,158.13,14.13,64.75,1.872,11.214,37.376,286.4,43.92,142.182,19.608,4.158,979.95,135.3,8.904,100.8,41.96,9.45,400.8,28.792,111.0,1279.968,1856.19,22.752,61.542,81.438,67.36,54.528,843.9,449.568,15.51,192.186,5.76,67.88,162.89,25.71,191.88,721.875,73.568,13.584,64.784,176.772,38.82,21.9,111.79,445.44,16.52,29.9,116.4,1.408,169.568,251.964,523.764,19.44,194.352,36.624,340.182,12.672,6.888,32.544,347.802,15.57,4.608,257.98,153.78,61.02,110.11,7.89,36.024,54.336,92.52,10.272,40.74,14.4,149.95,16.9,17.61,378.0,17.64,373.08,1336.44,29.97,390.368,101.52,74.352,15.7,59.52,34.4,313.176,866.646,795.408,35.856,23.84,43.13,30.87,70.12,509.9575,122.91,97.568,722.352,11.52,167.84,172.11,99.98,156.792,35.36,13.592,386.68,379.96,539.91,41.24,51.897,552.56,23.16,126.08,449.1,195.104,36.672,85.246,32.712,11.43,30.44,12.96,16.0,32.67,4.464,9.345,9.144,23.136,99.2,21.36,46.9,18.72,236.528,18.9,10.688,237.096,5.184,65.584,22.2,419.4,88.92,9.912,318.43,5.8,1415.76,148.48,9.248,1036.624,569.64,9.14,1196.86,523.26,639.968,52.76,538.92,14.88,34.24,261.74,87.84,34.92,14.94,14.56,3.576,147.184,1499.95,13.568,2573.82,609.98,5.48,391.98,755.96,31.12,6.54,12.78,18.464,445.802,2.48,25.9,29.9,2249.91,1053.164,12.96,106.68,119.94,10.272,512.19,1.556,4.448,276.69,4.96,71.92,18.84,140.97,470.376,6.08,164.792,23.36,12.176,46.384,362.92,9.248,1889.946,62.04,396.92,239.456,13.12,29.36,214.9,15.92,146.45,15.14,5.76,1399.98,8.952,8.856,85.246,21.728,1487.04,71.88,9.24,35.88,17.04,931.176,266.352,483.136,196.784,231.92,29.7,13.592,70.88,114.288,36.624,242.352,49.616,508.704,57.36,906.68,719.952,755.944,11.98,0.898,21.204,34.74,833.94,12.96,25.92,349.965,22.32,158.28,497.94,533.94,167.94,31.68,170.786,198.744,63.824,435.168,48.58,47.976,20.736,26.46,49.12,15.0,194.7,591.32,2.84,221.96,236.0,41.94,52.792,563.94,2625.12,17.94,422.856,127.764,3499.93,14.4,122.97,9.32,122.94,17.31,128.744,58.248,71.246,7.872,887.271,146.86,36.56,225.576,5.248,38.256,40.24,29.925,148.704,55.92,12.96,25.176,5.584,1297.368,264.32,25.92,22.96,19.44,9.54,5.81,5.76,14.91,6.642,18.54,679.96,189.576,71.96,539.92,725.344,7.44,39.48,850.5,75.33,325.632,23.344,16.52,335.72,251.944,127.302,1207.84,12.53,34.58,300.98,258.75,59.52,57.96,441.96,68.04,703.71,17.904,11.976,67.96,892.224,1299.99,4.544,1352.032,1548.99,19.872,119.448,118.16,19.56,80.96,25.92,106.96,187.76,76.776,53.9,76.728,10.43,99.2,15.92,129.92,30.4,5399.91,119.1,40.08,59.94,259.98,170.98,38.97,154.9,446.068,152.94,23.472,195.64,14.94,1687.8,341.96,605.88,186.732,3812.97,26.424,625.99,1568.61,17.3,160.0,179.94,872.94,12.96,88.8,319.968,167.888,163.96,5.232,1199.98,73.85,25.71,17.28,526.582,11.56,209.97,447.84,479.97,8.64,11.68,40.776,13.698,87.8,77.952,147.184,47.952,250.26,40.776,29.6,1.938,159.96,59.52,17.48,13.168,40.74,179.886,286.256,24.224,331.536,17.52,17.856,431.976,291.136,114.848,10.688,15.232,12.42,19.44,70.368,12.672,89.95,6.58,94.99,35.12,25.92,7.96,566.97,9.84,25.488,7.56,60.84,450.04,34.6,467.97,33.02,17.088,3.008,268.24,431.16,43.6,154.95,15.552,42.208,10.368,2.224,74.52,17.52,1779.9,219.9,7.152,26.72,1039.728,45.96,456.588,4499.985,59.976,6.12,10.98,7.86,51.45,37.056,203.92,29.56,8.568,45.248,876.3,185.376,25.06,2.89,7.896,22.608,30.528,4.842,1.8,39.984,32.4,97.88,307.168,26.9,47.01,469.99,207.846,324.744,40.48,12.0,720.064,25.424,2.816,3.204,30.828,47.616,108.784,4.77,7.98,550.431,10.56,1497.666,17.52,113.22,35.88,4535.976,11.84,592.74,111.672,8.64,149.97,232.88,90.882,508.768,9.912,63.936,59.52,311.976,50.352,19.136,13.12,241.568,479.92,307.136,12.6,159.98,6.12,1184.72,45.96,58.05,71.28,124.404,154.9,1871.88,16.192,18.936,12.672,5.04,8.448,20.388,9.96,320.64,52.0,25.584,464.0,235.95,39.96,18.528,17.9,81.96,272.736,18.496,441.92,127.764,166.44,13.38,24.0,24.448,6.16,915.136,8.56,97.82,31.104,11.176,5.04,242.176,337.176,13.344,76.752,102.336,10.32,47.32,23.376,16.72,16.192,32.4,19.89,399.98,343.85,106.32,13.92,82.4,6.24,447.84,272.048,1614.582,24.32,1.584,31.984,14.76,423.648,76.64,4.464,3.96,715.64,268.704,21.92,48.72,205.666,30.344,25.696,3404.5,101.34,344.372,30.384,22.848,38.62,59.98,174.3,383.96,15.57,22.32,103.6,2.97,569.99,50.97,298.116,59.52,230.28,105.52,23.36,71.976,8.56,13.92,2518.29,540.57,221.056,81.424,134.8,39.582,44.688,31.744,40.98,3.168,18.84,362.25,63.552,129.552,5.984,861.76,66.96,6.24,435.168,14.9,15.8,72.9,206.352,7.992,81.36,20.232,389.056,20.736,41.472,33.36,90.882,15.992,120.784,519.792,31.176,10.368,2.724,254.352,3.762,10.272,659.97,113.73,5.104,16.448,81.92,254.9,15.12,7.872,8.32,89.95,25.2,37.59,14.97,1.98,39.936,18.464,4.896,145.764,9.612,199.75,1673.184,12.18,57.68,263.96,299.94,25.76,271.9,45.84,9.82,93.36,541.24,106.32,1323.9,126.624,125.944,663.92,120.0,3.29,18.84,60.672,30.816,52.792,83.9,11.76,4.992,87.92,657.93,1.044,210.68,78.8,19.99,772.68,106.08,23.076,25.92,47.952,0.984,75.384,4.608,37.68,41.91,435.999,388.704,572.58,33.18,63.88,26.72,295.056,393.25,2.214,16.272,706.86,5.97,21.184,41.376,17.94,2.655,892.35,307.666,728.82,41.36,43.176,4.16,61.4,24.448,263.96,359.97,12.96,116.82,276.784,239.97,16.02,454.56,141.42,310.744,12.736,6.47,13.748,15.224,27.42,165.98,75.0,134.272,146.544,131.904,203.88,14.301,718.64,61.1,28.08,10.496,39.92,77.58,269.36,5.76,109.9,23.88,26.2,12.96,234.95,118.25,4.28,26.85,3357.6,8.26,2973.32,104.79,775.728,89.0664,175.44,438.336,215.544,55.584,127.386,248.43,11.648,85.246,20.64,148.02,33.29,204.95,526.344,41.96,451.152,31.504,30.672,1079.976,161.568,2.934,18.528,670.752,64.96,41.94,11.96,13.12,535.41,72.78,36.84,87.71,562.2925,56.52,11.264,284.08,18.496,14.73,186.54,557.728,159.968,471.9,3.52,49.12,20.16,10.68,141.96,32.48,20.04,13999.96,238.0,61.96,239.372,595.0,16.032,199.75,227.96,293.52,307.98,96.96,117.488,11.952,512.499,863.128,2036.86,449.568,108.96,264.18,2.88,41.904,23.92,156.512,128.34,474.95,999.98,277.5,1252.704,110.97,22.608,1.892,63.312,7.824,170.072,62.82,19.44,7.38,38.88,187.76,6.048,98.352,335.744,8.96,89.568,71.96,15.552,10.43,72.784,67.15,549.98,11.82,4643.8,577.764,191.5155,2.624,1369.764,294.368,81.568,44.46,314.088,6.336,10.48,2.469,3.264,4.344,31.776,4.928,1.788,15.072,12.624,185.88,12.96,189.7,40.99,82.64,31.02,89.97,35.97,1266.86,169.45,40.68,3.328,933.262,2803.92,4.768,6.672,4.448,43.936,23.744,357.0,806.336,85.44,344.91,70.97,36.784,743.988,11.212,4.712,180.98,60.416,299.99,192.16,242.624,46.74,174.95,100.704,368.91,8.02,171.04,19.44,13.092,122.94,35.448,19.98,69.375,31.68,2003.168,9.344,2563.056,387.136,3.424,1085.42,43.056,3.762,34.86,432.456,675.06,65.232,207.0,600.53,59.904,637.44,51.756,31.104,47.96,158.928,211.248,5.552,2.952,10.332,18.368,299.9,26.55,111.98,4.928,11.784,7.98,180.96,1649.95,362.352,73.584,486.368,32.4,41.86,77.56,37.17,137.352,376.509,62.72,2939.93,512.358,3.488,22.288,16.032,1.752,20.992,11.21,45.04,15.624,8.74,44.75,61.68,158.376,2.864,94.192,143.7,6.48,7.88,11.21,354.9,17.94,51.8,299.52,7.7,23.92,498.0,436.704,32.4,61.44,73.36,59.2,32.952,218.376,31.4,9.48,209.5,24.3,6.48,32.448,26.388,373.47,64.2,8.0,186.54,87.08,105.584,217.44,31.744,5.432,913.43,372.144,751.984,604.768,27.36,20.56,83.92,902.712,120.666,4.984,82.26,29.74,87.36,56.16,64.384,64.784,15.552,223.888,10.896,84.784,241.5,59.97,13.36,11.808,16.24,77.55,76.12,17.184,11.76,27.46,137.94,111.15,901.95,366.009,310.688,7.68,155.372,10.744,232.4,164.646,22.68,105.52,83.92,141.9,39.98,28.91,174.95,110.528,630.024,27.86,933.408,51.84,165.6,106.32,147.92,104.28,286.85,66.96,199.98,45.0,17.9,40.48,2154.9,18.432,10.944,4.36,62.352,303.92,129.3,274.2,6.048,6.848,9.96,8.552,45.584,25.488,136.96,49.616,10.584,84.416,431.94,2.043,68.238,240.744,35.0,210.68,637.896,43.44,2.22,1679.96,344.372,1554.936,127.88,222.384,106.869,3.564,25.68,12.384,25.3,95.94,7.5,302.376,46.688,17.94,370.14,8.928,2678.94,387.136,45.408,77.952,3.0,9.952,37.896,65.584,44.784,1035.8,5.76,19.98,35.98,16.656,20.7,83.7,199.8,45.68,110.96,11.94,8749.95,36.4,18.69,5.94,60.736,479.976,6.08,165.6,59.52,479.97,18.62,49.632,97.82,15.984,184.752,12.96,366.744,8.856,27.96,146.352,175.23,125.99,23.0,25.584,73.784,20.736,17.52,35.76,3.64,30.336,12.99,182.22,302.94,54.992,12.99,55.86,44.376,51.264,5.193,159.984,54.224,241.424,33.36,13.76,496.86,389.97,9.82,56.4,18.312,25.92,8.016,479.984,30.84,33.568,422.625,199.98,20.24,39.92,32.54,39.0,12.6,24.64,6.264,14.432,719.976,239.92,1056.86,447.944,150.408,453.576,45.36,287.88,131.88,2.328,1454.9,4.842,220.704,67.176,15.232,31.104,968.744,222.352,479.984,10.272,998.85,24.56,5.67,14.336,102.3,607.52,31.16,2.61,10.332,10.368,20.784,66.96,17.248,11.088,1287.45,168.1,51.968,4.768,7.98,18.688,11.664,191.976,499.168,11.88,35.44,67.136,4.32,14.94,40.54,7.312,475.944,30.08,165.6,180.96,23.18,56.96,15.56,353.568,13.96,82.95,39.68,479.97,7.38,14.256,81.98,39.624,399.672,65.12,30.56,20.768,39.808,121.104,111.96,15.696,70.26,90.0,6.096,481.176,7.24,177.45,1369.764,9.48,130.98,174.95,826.0,139.58,399.95,12.39,760.98,67.86,31.504,5.04,39.879,4.712,194.352,97.424,704.76,27.396,5.7,14.19,7.3,199.98,144.96,118.0,48.94,22.66,0.836,30.96,723.92,21.968,619.152,127.904,94.2,49.5,16.52,55.36,11.56,17.12,182.352,118.16,18.368,600.558,50.352,28.032,7.692,517.405,8.608,159.56,2104.55,40.7,47.79,5.16,21.21,96.36,231.72,17.9,12.48,8.016,259.896,247.188,279.96,450.0,19.44,300.904,239.976,31.168,120.96,2239.936,76.608,142.776,91.36,3.552,115.136,4.71,172.764,3.52,79.968,305.9745,344.91,626.352,359.499,71.952,29.8,1.824,64.384,6.984,11.264,15.552,379.372,67.536,1.524,37.408,25.344,46.2,4.728,53.352,131.104,22.512,72.744,52.59,19.44,126.3,1287.45,64.96,535.41,8.1,13.248,83.988,73.2,10.74,11.032,53.04,17.12,59.94,210.58,30.96,239.984,3050.376,133.98,93.248,177.48,17.712,4.86,6.258,37.68,51.84,27.42,5.4,1270.99,125.36,14.03,27.96,5.344,1.696,24.588,7.98,288.0,146.952,83.136,942.784,74.352,26.88,10.896,3.536,528.43,41.472,287.976,29.304,55.328,1227.9984,20.416,1128.39,4.608,195.96,15.552,271.968,698.352,77.728,46.62,537.544,14.62,22.55,583.8,211.168,12.96,45.98,1294.75,1799.97,10.688,221.98,341.96,34.77,18.9,102.72,40.48,33.282,118.65,14.76,37.52,207.144,13.9,266.352,307.98,44.1,13.12,16.56,38.88,335.52,959.984,4.086,55.984,10.688,8.856,6.912,26.72,33.488,10.56,386.34,33.44,39.96,1217.568,15.51,89.9,14.28,12.72,15.75,70.95,65.568,299.97,89.97,31.86,67.15,7.236,4.824,91.36,130.112,74.24,159.84,2.892,9.392,123.92,55.6,617.976,21.312,209.94,31.984,5083.96,35.96,31.05,8.92,209.6,111.04,38.88,36.27,493.43,11.12,686.4,15.92,70.68,541.24,101.994,18.264,21.99,185.376,58.924,480.0,34.05,192.72,239.97,50.12,15.984,14.352,6.528,2.862,20.856,276.28,629.64,449.97,1927.59,121.78,2676.672,489.23,312.03,17.94,165.6,37.52,494.97,25.06,32.064,18.496,191.079,10.368,30.53,30.84,75.06,66.976,182.72,21.93,95.976,143.928,3.564,4.928,856.656,13.184,48.784,76.64,18.528,177.68,159.98,52.68,11.568,4.572,1439.968,1.728,626.1,99.2,609.98,211.372,239.976,99.95,29.34,16.74,12.672,1119.888,204.85,135.984,16.4,92.96,7.632,4.158,179.991,239.358,164.88,10.95,19.44,12.3,13.97,934.956,46.864,26.16,23.128,59.24,155.456,8.56,21.0,120.0,299.96,67.84,853.93,18.688,273.96,89.97,756.8,1.248,72.0,470.155,39.128,19.728,151.188,271.764,47.496,344.981,36.288,78.304,127.785,6.104,5.76,1.72,8.952,2.334,1.728,159.04,145.98,77.952,95.97,105.584,9.344,9.68,4899.93,104.75,18.528,1875.258,91.36,152.24,35.184,56.704,274.064,458.43,8.226,5.95,15.24,239.94,23.84,92.52,37.76,7.38,5.82,3.816,26.16,100.8,135.8,13.9,19.4,13.488,11.416,17.64,17.04,99.98,29.46,166.92,98.328,117.882,20.97,139.96,37.74,14.82,191.82,13.904,314.6,283.56,487.96,1793.98,2.992,108.768,25.92,22.58,55.176,9892.74,73.915,337.088,61.44,479.97,5.984,189.95,149.95,29.95,44.4,66.03,10.86,3.36,27.936,28.784,21.96,21.98,2621.322,74.76,364.776,1115.17,89.696,50.12,36.48,322.192,2.946,19.136,23.08,90.48,215.976,65.94,11.352,24.56,16.56,279.95,828.84,7.218,27.2,89.97,318.08,5.8,143.952,19.44,5.56,146.73,29.9,276.784,93.032,454.965,246.168,295.4,348.56,15.552,482.94,299.98,403.68,41.9,28.91,32.4,369.544,10.368,791.88,23.64,84.784,64.96,32.06,177.648,287.91,22.368,32.368,207.984,36.4,22.96,315.2,15.18,623.96,429.6,31.968,887.271,21.696,22.05,99.9,90.86,7.78,78.759,9.552,5.344,8.28,50.136,88.074,301.47,18.656,27.46,125.13,555.96,129.552,51.984,10.272,18.336,180.96,475.944,159.98,43.6,8.288,1123.128,64.9,2.808,99.98,8.04,1564.29,138.56,65.52,14.576,23.2,16.464,19.312,40.08,101.96,259.74,255.42,4.338,11.88,405.86,680.01,2.376,143.128,4476.8,104.85,241.44,319.76,45.68,31.96,47.9,1112.94,22.92,71.976,19.44,31.086,13.98,23.65,707.88,11.952,31.128,55.76,24.56,51.75,207.184,1473.1,3.488,21.728,663.072,99.588,49.568,29.372,344.704,47.992,102.24,39.96,1432.0,41.04,256.784,120.98,315.98,28.752,114.95,23.04,15.48,51.84,39.816,16.06,7.28,5.4,19.44,39.88,79.44,20.664,32.4,13.762,15.28,44.688,301.47,11.07,1504.52,25.92,7.536,1.408,4.144,52.752,381.36,6.72,15.192,58.32,946.764,94.68,23.67,1091.168,18.69,568.728,7.312,147.568,56.784,5.607,6.576,14.304,119.833,5.56,32.4,9.84,2.78,3.64,881.93,115.84,107.648,199.95,12.96,60.89,14.94,9.64,332.94,51.9,64.96,25.5,215.976,389.97,269.91,11.673,64.848,14.56,102.582,20.04,32.088,4305.552,10.02,631.96,1577.94,255.85,184.704,47.92,15.936,8.001,398.972,163.88,67.9,72.224,11.696,392.94,18.176,6.888,457.485,1079.316,48.91,9.84,34.5,0.556,43.8,13.872,115.96,41.424,244.768,74.352,4.312,56.686,97.968,7.872,15.552,1.476,8.4,6.56,14.88,45.48,25.44,146.688,4.928,63.488,418.32,123.858,118.782,769.184,47.904,13.36,163.764,183.92,11.376,66.112,211.04,594.816,72.96,80.96,455.712,25.98,45.28,15.56,859.2,195.68,14.2,314.352,4.608,17.9,2.992,20.064,146.73,18.75,117.576,51.184,455.97,5.715,57.594,30.144,899.43,842.72,41.96,13.216,184.752,520.464,11.424,19.44,3.64,18.54,43.12,313.722,45.98,428.68,30.576,13.02,22.14,359.32,11.56,68.48,1676.88,37.94,272.97,41.568,317.058,8.04,419.944,61.38,50.0,31.8,32.56,7.072,45.528,64.784,424.272,1.344,83.92,25.92,120.576,79.92,12.28,542.94,2.04,228.92,7.992,582.336,629.95,631.782,801.568,75.18,30.98,1349.91,14.112,31.12,4.272,209.148,1591.02,7.92,574.91,8.448,1071.0,12.07,3.273,87.92,104.696,2803.92,6.816,249.584,17.94,10.11,10.368,11.952,15.224,21.984,604.752,40.7,302.376,45.0,3785.292,35.4,199.9,1212.96,1099.96,103.481,5.904,30.08,36.288,10.272,252.8,2.946,12.96,285.576,22.24,14.62,48.36,16.256,219.184,95.84,12.39,35.88,477.3,12.32,8.608,136.26,186.15,81.792,47.19,36.784,91.475,27.192,12.06,144.6,15.992,34.44,321.552,701.96,19.456,17.28,31.96,164.688,166.5,12.96,110.96,99.98,11.424,128.124,101.4,5.904,173.488,51.56,3.564,13.16,3.828,304.99,18.16,319.984,19.68,781.864,30.816,673.344,6.54,572.8,197.05,2022.272,9.12,38.16,1592.85,11.88,120.0,8.67,4.41,167.94,67.8,26.94,32.04,32.13,2.88,1091.93,111.96,26.7,40.2,13.89,689.82,38.34,9.264,204.6664,1649.75,91.056,54.208,26.982,6.912,435.504,81.08,93.02,323.976,15.552,32.592,83.92,199.9,31.176,172.752,9.296,12.768,52.76,55.616,427.644,40.67,33.48,9.728,8.856,477.666,16.9,39.96,191.968,35.52,6.23,56.704,369.1992,1.98,75.88,6.848,4.626,453.6,13.848,577.584,151.96,68.432,71.12,3.008,184.66,5.312,132.52,195.64,51.968,431.976,224.937,6.0,11.76,1125.488,12.645,4.032,79.96,6.732,33.568,15.84,24.424,17.12,31.56,105.686,399.54,104.93,1079.85,70.98,29.95,589.41,9.648,400.784,53.72,31.008,61.12,195.136,121.536,17.472,104.58,24.7,302.72,8.56,11.56,25.86,276.784,110.352,60.84,35.208,41.472,239.5,34.2,376.866,197.72,70.72,194.352,21.6,11.07,282.84,27.72,11.68,239.984,22.98,102.13,2033.584,5.76,899.982,86.352,139.96,16.704,3.152,32.896,21.392,307.314,409.9992,9.248,14.67,37.408,3.438,7.152,179.7,90.64,177.0,79.45,1628.82,137.54,730.2,11.56,4297.644,20.65,204.9,436.704,481.568,89.544,35.168,72.588,221.16,281.97,3406.664,37.17,64.96,595.38,95.984,4.938,97.44,3.984,13.04,579.528,18.75,3023.928,26.96,477.6,193.95,12.96,119.94,12.42,18.088,71.97,14.94,64.68,22.0,7.968,1499.97,26.632,41.6,64.02,6.99,6.84,323.1,668.16,8.64,38.88,201.04,12.96,16.59,35.1,11.646,32.4,503.96,7.04,613.9992,470.36,31.08,7.3,73.536,491.55,30.336,22.83,54.32,196.776,3.62,11.54,849.95,11.01,39.624,242.136,12.39,19.96,340.92,273.568,13.194,1080.096,51.56,58.416,57.584,37.312,79.96,223.96,221.024,18.96,326.646,89.97,296.712,12.224,89.97,286.86,979.95,4.36,10.048,807.75,34.24,500.24,20.12,896.99,5.88,269.98,310.12,70.464,19.68,140.67,4404.9,62.65,9.45,268.576,364.08,71.088,10.984,797.944,159.98,5.344,27.72,2.496,8.26,17.76,332.94,292.1,206.1,17.64,1403.92,4.3,239.97,81.96,238.62,139.8,9.84,7.78,54.9,50.04,339.92,10.528,42.384,123.92,135.95,2177.584,17.496,16.784,431.136,8.88,4.836,437.85,673.568,274.8,62.18,8.28,48.81,149.9,1023.332,600.558,39.992,211.246,56.064,107.772,4.832,18.24,3.798,10.368,235.188,26.376,10.384,107.118,97.3,3.328,135.99,7.38,45.568,28.752,194.848,2.112,25.92,120.768,25.92,34.65,204.95,79.95,173.488,516.96,173.208,4.448,9.0,42.24,18.264,152.91,92.94,17.856,46.44,195.136,129.3,11.568,242.352,319.968,8.624,3.984,895.944,14.0,16.392,10.9,29.6,4.98,479.976,44.736,5.76,483.136,15.936,61.544,132.696,43.1,511.5,147.92,39.68,12.56,90.48,13.08,214.7,50.32,24.56,43.68,3393.68,67.4,2.52,67.8,18.76,12.12,11.34,159.8,18.96,1085.42,13.11,68.704,3.132,22.428,290.336,19.152,6.48,63.968,6.36,848.544,8.7,122.382,573.174,85.056,14.04,272.61,11.16,62.31,159.98,5.94,9.96,79.99,8.94,20.62,124.25,297.55,403.56,95.2,153.824,62.016,466.32,82.64,330.588,237.096,22.752,6.672,25.128,127.984,131.88,25.032,717.72,207.35,44.67,209.7,115.36,362.136,31.05,12.96,94.85,13.48,14.91,39.98,528.43,22.386,5.742,191.968,49.848,23.99,1087.936,199.98,83.92,24.27,2799.96,9.872,683.332,29.96,164.85,33.528,36.744,102.93,71.088,60.35,35.52,11.2,223.58,998.82,51.15,40.74,3.424,151.2,1925.88,2405.2,83.97,39.89,17.38,55.264,6.48,34.248,273.568,46.35,223.92,7.3,9.344,18.0,65.584,383.4656,10.368,13.4,4.98,109.69,40.2,735.98,22.75,119.56,140.75,99.568,271.96,18.69,13.36,249.584,13.86,13.376,437.472,84.98,16.52,35.56,97.98,31.5,55.6,36.24,79.99,206.1,25.248,91.96,258.576,29.6,243.16],\"y0\":\" \",\"yaxis\":\"y\",\"type\":\"box\",\"line\":{\"width\":1},\"boxmean\":true,\"boxpoints\":\"outliers\"}],                        {\"template\":{\"data\":{\"histogram2dcontour\":[{\"type\":\"histogram2dcontour\",\"colorbar\":{\"outlinewidth\":0,\"ticks\":\"\"},\"colorscale\":[[0.0,\"#0d0887\"],[0.1111111111111111,\"#46039f\"],[0.2222222222222222,\"#7201a8\"],[0.3333333333333333,\"#9c179e\"],[0.4444444444444444,\"#bd3786\"],[0.5555555555555556,\"#d8576b\"],[0.6666666666666666,\"#ed7953\"],[0.7777777777777778,\"#fb9f3a\"],[0.8888888888888888,\"#fdca26\"],[1.0,\"#f0f921\"]]}],\"choropleth\":[{\"type\":\"choropleth\",\"colorbar\":{\"outlinewidth\":0,\"ticks\":\"\"}}],\"histogram2d\":[{\"type\":\"histogram2d\",\"colorbar\":{\"outlinewidth\":0,\"ticks\":\"\"},\"colorscale\":[[0.0,\"#0d0887\"],[0.1111111111111111,\"#46039f\"],[0.2222222222222222,\"#7201a8\"],[0.3333333333333333,\"#9c179e\"],[0.4444444444444444,\"#bd3786\"],[0.5555555555555556,\"#d8576b\"],[0.6666666666666666,\"#ed7953\"],[0.7777777777777778,\"#fb9f3a\"],[0.8888888888888888,\"#fdca26\"],[1.0,\"#f0f921\"]]}],\"heatmap\":[{\"type\":\"heatmap\",\"colorbar\":{\"outlinewidth\":0,\"ticks\":\"\"},\"colorscale\":[[0.0,\"#0d0887\"],[0.1111111111111111,\"#46039f\"],[0.2222222222222222,\"#7201a8\"],[0.3333333333333333,\"#9c179e\"],[0.4444444444444444,\"#bd3786\"],[0.5555555555555556,\"#d8576b\"],[0.6666666666666666,\"#ed7953\"],[0.7777777777777778,\"#fb9f3a\"],[0.8888888888888888,\"#fdca26\"],[1.0,\"#f0f921\"]]}],\"heatmapgl\":[{\"type\":\"heatmapgl\",\"colorbar\":{\"outlinewidth\":0,\"ticks\":\"\"},\"colorscale\":[[0.0,\"#0d0887\"],[0.1111111111111111,\"#46039f\"],[0.2222222222222222,\"#7201a8\"],[0.3333333333333333,\"#9c179e\"],[0.4444444444444444,\"#bd3786\"],[0.5555555555555556,\"#d8576b\"],[0.6666666666666666,\"#ed7953\"],[0.7777777777777778,\"#fb9f3a\"],[0.8888888888888888,\"#fdca26\"],[1.0,\"#f0f921\"]]}],\"contourcarpet\":[{\"type\":\"contourcarpet\",\"colorbar\":{\"outlinewidth\":0,\"ticks\":\"\"}}],\"contour\":[{\"type\":\"contour\",\"colorbar\":{\"outlinewidth\":0,\"ticks\":\"\"},\"colorscale\":[[0.0,\"#0d0887\"],[0.1111111111111111,\"#46039f\"],[0.2222222222222222,\"#7201a8\"],[0.3333333333333333,\"#9c179e\"],[0.4444444444444444,\"#bd3786\"],[0.5555555555555556,\"#d8576b\"],[0.6666666666666666,\"#ed7953\"],[0.7777777777777778,\"#fb9f3a\"],[0.8888888888888888,\"#fdca26\"],[1.0,\"#f0f921\"]]}],\"surface\":[{\"type\":\"surface\",\"colorbar\":{\"outlinewidth\":0,\"ticks\":\"\"},\"colorscale\":[[0.0,\"#0d0887\"],[0.1111111111111111,\"#46039f\"],[0.2222222222222222,\"#7201a8\"],[0.3333333333333333,\"#9c179e\"],[0.4444444444444444,\"#bd3786\"],[0.5555555555555556,\"#d8576b\"],[0.6666666666666666,\"#ed7953\"],[0.7777777777777778,\"#fb9f3a\"],[0.8888888888888888,\"#fdca26\"],[1.0,\"#f0f921\"]]}],\"mesh3d\":[{\"type\":\"mesh3d\",\"colorbar\":{\"outlinewidth\":0,\"ticks\":\"\"}}],\"scatter\":[{\"fillpattern\":{\"fillmode\":\"overlay\",\"size\":10,\"solidity\":0.2},\"type\":\"scatter\"}],\"parcoords\":[{\"type\":\"parcoords\",\"line\":{\"colorbar\":{\"outlinewidth\":0,\"ticks\":\"\"}}}],\"scatterpolargl\":[{\"type\":\"scatterpolargl\",\"marker\":{\"colorbar\":{\"outlinewidth\":0,\"ticks\":\"\"}}}],\"bar\":[{\"error_x\":{\"color\":\"#2a3f5f\"},\"error_y\":{\"color\":\"#2a3f5f\"},\"marker\":{\"line\":{\"color\":\"#E5ECF6\",\"width\":0.5},\"pattern\":{\"fillmode\":\"overlay\",\"size\":10,\"solidity\":0.2}},\"type\":\"bar\"}],\"scattergeo\":[{\"type\":\"scattergeo\",\"marker\":{\"colorbar\":{\"outlinewidth\":0,\"ticks\":\"\"}}}],\"scatterpolar\":[{\"type\":\"scatterpolar\",\"marker\":{\"colorbar\":{\"outlinewidth\":0,\"ticks\":\"\"}}}],\"histogram\":[{\"marker\":{\"pattern\":{\"fillmode\":\"overlay\",\"size\":10,\"solidity\":0.2}},\"type\":\"histogram\"}],\"scattergl\":[{\"type\":\"scattergl\",\"marker\":{\"colorbar\":{\"outlinewidth\":0,\"ticks\":\"\"}}}],\"scatter3d\":[{\"type\":\"scatter3d\",\"line\":{\"colorbar\":{\"outlinewidth\":0,\"ticks\":\"\"}},\"marker\":{\"colorbar\":{\"outlinewidth\":0,\"ticks\":\"\"}}}],\"scattermapbox\":[{\"type\":\"scattermapbox\",\"marker\":{\"colorbar\":{\"outlinewidth\":0,\"ticks\":\"\"}}}],\"scatterternary\":[{\"type\":\"scatterternary\",\"marker\":{\"colorbar\":{\"outlinewidth\":0,\"ticks\":\"\"}}}],\"scattercarpet\":[{\"type\":\"scattercarpet\",\"marker\":{\"colorbar\":{\"outlinewidth\":0,\"ticks\":\"\"}}}],\"carpet\":[{\"aaxis\":{\"endlinecolor\":\"#2a3f5f\",\"gridcolor\":\"white\",\"linecolor\":\"white\",\"minorgridcolor\":\"white\",\"startlinecolor\":\"#2a3f5f\"},\"baxis\":{\"endlinecolor\":\"#2a3f5f\",\"gridcolor\":\"white\",\"linecolor\":\"white\",\"minorgridcolor\":\"white\",\"startlinecolor\":\"#2a3f5f\"},\"type\":\"carpet\"}],\"table\":[{\"cells\":{\"fill\":{\"color\":\"#EBF0F8\"},\"line\":{\"color\":\"white\"}},\"header\":{\"fill\":{\"color\":\"#C8D4E3\"},\"line\":{\"color\":\"white\"}},\"type\":\"table\"}],\"barpolar\":[{\"marker\":{\"line\":{\"color\":\"#E5ECF6\",\"width\":0.5},\"pattern\":{\"fillmode\":\"overlay\",\"size\":10,\"solidity\":0.2}},\"type\":\"barpolar\"}],\"pie\":[{\"automargin\":true,\"type\":\"pie\"}]},\"layout\":{\"autotypenumbers\":\"strict\",\"colorway\":[\"#636efa\",\"#EF553B\",\"#00cc96\",\"#ab63fa\",\"#FFA15A\",\"#19d3f3\",\"#FF6692\",\"#B6E880\",\"#FF97FF\",\"#FECB52\"],\"font\":{\"color\":\"#2a3f5f\"},\"hovermode\":\"closest\",\"hoverlabel\":{\"align\":\"left\"},\"paper_bgcolor\":\"white\",\"plot_bgcolor\":\"#E5ECF6\",\"polar\":{\"bgcolor\":\"#E5ECF6\",\"angularaxis\":{\"gridcolor\":\"white\",\"linecolor\":\"white\",\"ticks\":\"\"},\"radialaxis\":{\"gridcolor\":\"white\",\"linecolor\":\"white\",\"ticks\":\"\"}},\"ternary\":{\"bgcolor\":\"#E5ECF6\",\"aaxis\":{\"gridcolor\":\"white\",\"linecolor\":\"white\",\"ticks\":\"\"},\"baxis\":{\"gridcolor\":\"white\",\"linecolor\":\"white\",\"ticks\":\"\"},\"caxis\":{\"gridcolor\":\"white\",\"linecolor\":\"white\",\"ticks\":\"\"}},\"coloraxis\":{\"colorbar\":{\"outlinewidth\":0,\"ticks\":\"\"}},\"colorscale\":{\"sequential\":[[0.0,\"#0d0887\"],[0.1111111111111111,\"#46039f\"],[0.2222222222222222,\"#7201a8\"],[0.3333333333333333,\"#9c179e\"],[0.4444444444444444,\"#bd3786\"],[0.5555555555555556,\"#d8576b\"],[0.6666666666666666,\"#ed7953\"],[0.7777777777777778,\"#fb9f3a\"],[0.8888888888888888,\"#fdca26\"],[1.0,\"#f0f921\"]],\"sequentialminus\":[[0.0,\"#0d0887\"],[0.1111111111111111,\"#46039f\"],[0.2222222222222222,\"#7201a8\"],[0.3333333333333333,\"#9c179e\"],[0.4444444444444444,\"#bd3786\"],[0.5555555555555556,\"#d8576b\"],[0.6666666666666666,\"#ed7953\"],[0.7777777777777778,\"#fb9f3a\"],[0.8888888888888888,\"#fdca26\"],[1.0,\"#f0f921\"]],\"diverging\":[[0,\"#8e0152\"],[0.1,\"#c51b7d\"],[0.2,\"#de77ae\"],[0.3,\"#f1b6da\"],[0.4,\"#fde0ef\"],[0.5,\"#f7f7f7\"],[0.6,\"#e6f5d0\"],[0.7,\"#b8e186\"],[0.8,\"#7fbc41\"],[0.9,\"#4d9221\"],[1,\"#276419\"]]},\"xaxis\":{\"gridcolor\":\"white\",\"linecolor\":\"white\",\"ticks\":\"\",\"title\":{\"standoff\":15},\"zerolinecolor\":\"white\",\"automargin\":true,\"zerolinewidth\":2},\"yaxis\":{\"gridcolor\":\"white\",\"linecolor\":\"white\",\"ticks\":\"\",\"title\":{\"standoff\":15},\"zerolinecolor\":\"white\",\"automargin\":true,\"zerolinewidth\":2},\"scene\":{\"xaxis\":{\"backgroundcolor\":\"#E5ECF6\",\"gridcolor\":\"white\",\"linecolor\":\"white\",\"showbackground\":true,\"ticks\":\"\",\"zerolinecolor\":\"white\",\"gridwidth\":2},\"yaxis\":{\"backgroundcolor\":\"#E5ECF6\",\"gridcolor\":\"white\",\"linecolor\":\"white\",\"showbackground\":true,\"ticks\":\"\",\"zerolinecolor\":\"white\",\"gridwidth\":2},\"zaxis\":{\"backgroundcolor\":\"#E5ECF6\",\"gridcolor\":\"white\",\"linecolor\":\"white\",\"showbackground\":true,\"ticks\":\"\",\"zerolinecolor\":\"white\",\"gridwidth\":2}},\"shapedefaults\":{\"line\":{\"color\":\"#2a3f5f\"}},\"annotationdefaults\":{\"arrowcolor\":\"#2a3f5f\",\"arrowhead\":0,\"arrowwidth\":1},\"geo\":{\"bgcolor\":\"white\",\"landcolor\":\"#E5ECF6\",\"subunitcolor\":\"white\",\"showland\":true,\"showlakes\":true,\"lakecolor\":\"white\"},\"title\":{\"x\":0.05},\"mapbox\":{\"style\":\"light\"}}},\"xaxis\":{\"anchor\":\"y\",\"domain\":[0.0,1.0],\"title\":{\"text\":\"Regi\\u00e3o\"}},\"yaxis\":{\"anchor\":\"x\",\"domain\":[0.0,1.0],\"title\":{\"text\":\"Vendas\"}},\"legend\":{\"tracegroupgap\":0},\"title\":{\"text\":\"Boxplot das Vendas por Regi\\u00e3o\"},\"boxmode\":\"group\",\"font\":{\"size\":16},\"margin\":{\"l\":120,\"r\":120,\"b\":150,\"t\":100,\"pad\":4},\"width\":1200,\"height\":800,\"showlegend\":false},                        {\"responsive\": true}                    ).then(function(){\n",
              "                            \n",
              "var gd = document.getElementById('c6f85633-aa21-4bcc-8add-f019a525ee26');\n",
              "var x = new MutationObserver(function (mutations, observer) {{\n",
              "        var display = window.getComputedStyle(gd).display;\n",
              "        if (!display || display === 'none') {{\n",
              "            console.log([gd, 'removed!']);\n",
              "            Plotly.purge(gd);\n",
              "            observer.disconnect();\n",
              "        }}\n",
              "}});\n",
              "\n",
              "// Listen for the removal of the full notebook cells\n",
              "var notebookContainer = gd.closest('#notebook-container');\n",
              "if (notebookContainer) {{\n",
              "    x.observe(notebookContainer, {childList: true});\n",
              "}}\n",
              "\n",
              "// Listen for the clearing of the current output cell\n",
              "var outputEl = gd.closest('.output');\n",
              "if (outputEl) {{\n",
              "    x.observe(outputEl, {childList: true});\n",
              "}}\n",
              "\n",
              "                        })                };                            </script>        </div>\n",
              "</body>\n",
              "</html>"
            ]
          },
          "metadata": {}
        }
      ]
    },
    {
      "cell_type": "markdown",
      "source": [
        "# **6. AED e Visualizações Estatísticas - Extra**"
      ],
      "metadata": {
        "id": "RNtCd-you6zh"
      }
    },
    {
      "cell_type": "markdown",
      "source": [
        "## 6.1 Gráfico De Dispersão Entre Lucro E Vendas Gerais"
      ],
      "metadata": {
        "id": "3MxsRZJWxeAX"
      }
    },
    {
      "cell_type": "markdown",
      "source": [
        "O objetivo do presente gráfico é demonstrar a relação entre as variáveis lucro e vendas para todos os objetos comercializados."
      ],
      "metadata": {
        "id": "KwxEQKxgzY4f"
      }
    },
    {
      "cell_type": "code",
      "source": [
        "\n",
        "# Calculando a correlação entre as duas colunas\n",
        "corr_lucro_vendas = df_store['Lucro'].corr(df_store['Vendas'])\n",
        "\n",
        "# Imprimindo o valor da correlação\n",
        "print(f'A correlação entre as colunas é: {corr_lucro_vendas}')\n",
        "\n",
        "# Plotando o gráfico de dispersão para visualizar a correlação\n",
        "plt.scatter(df_store['Vendas'], df_store['Lucro'])\n",
        "plt.title('Gráfico de Dispersão entre Lucro e Vendas - Geral')\n",
        "plt.xlabel('Vendas')\n",
        "plt.ylabel('Lucro')\n",
        "plt.show()"
      ],
      "metadata": {
        "colab": {
          "base_uri": "https://localhost:8080/",
          "height": 490
        },
        "id": "o1pqKXL_Eq5F",
        "outputId": "22244096-d78a-4929-ce0e-9d7e517e1bb4"
      },
      "execution_count": 33,
      "outputs": [
        {
          "output_type": "stream",
          "name": "stdout",
          "text": [
            "A correlação entre as colunas é: 0.4790646301601439\n"
          ]
        },
        {
          "output_type": "display_data",
          "data": {
            "text/plain": [
              "<Figure size 640x480 with 1 Axes>"
            ],
            "image/png": "[encoded data removed]"
          },
          "metadata": {}
        }
      ]
    },
    {
      "cell_type": "markdown",
      "source": [
        "## 6.2 Gráfico De Dispersão Entre Lucro E Vendas - Segmento Home Office"
      ],
      "metadata": {
        "id": "K8IvXfrn6bA4"
      }
    },
    {
      "cell_type": "markdown",
      "source": [
        "O objetivo desse gráfico de dispersão é demonstrar a relação entre as variáveis lucro e venda, apenas para o segmento Home Office."
      ],
      "metadata": {
        "id": "MQsd8l7nYlN4"
      }
    },
    {
      "cell_type": "code",
      "source": [
        "mask = (df_store['Segmento'] == 'Home Office')\n",
        "# array(['Consumidor', 'Corporativo', 'Home Office'], dtype=object)\n",
        "df_mask = df_store[mask]"
      ],
      "metadata": {
        "id": "wWizhJHhGgb_"
      },
      "execution_count": 34,
      "outputs": []
    },
    {
      "cell_type": "code",
      "source": [
        "# Calculando a correlação entre as duas colunas\n",
        "corr_lucro_vendasx = df_mask['Lucro'].corr(df_mask['Vendas'])\n",
        "\n",
        "# Imprimindo o valor da correlação\n",
        "print(f'A correlação entre as colunas é: {corr_lucro_vendasx}')\n",
        "\n",
        "# Plotando o gráfico de dispersão para visualizar a correlação\n",
        "plt.scatter(df_mask['Vendas'], df_mask['Lucro'])\n",
        "plt.title('Vendas x Lucro - segmento Home Office')\n",
        "plt.xlabel('Vendas')\n",
        "plt.ylabel('Lucro')\n",
        "plt.show()"
      ],
      "metadata": {
        "colab": {
          "base_uri": "https://localhost:8080/",
          "height": 490
        },
        "id": "zrvdaJaNHCvG",
        "outputId": "0f814074-5d43-4b10-8a8f-b58f76dc1fec"
      },
      "execution_count": 35,
      "outputs": [
        {
          "output_type": "stream",
          "name": "stdout",
          "text": [
            "A correlação entre as colunas é: 0.29609858628814795\n"
          ]
        },
        {
          "output_type": "display_data",
          "data": {
            "text/plain": [
              "<Figure size 640x480 with 1 Axes>"
            ],
            "image/png": "[encoded data removed]"
          },
          "metadata": {}
        }
      ]
    },
    {
      "cell_type": "code",
      "source": [
        "y = df_store['Vendas'] > 20000\n",
        "df_store[y]"
      ],
      "metadata": {
        "colab": {
          "base_uri": "https://localhost:8080/",
          "height": 81
        },
        "id": "0cZJs3frLdUB",
        "outputId": "6a90c963-903b-423d-a635-cc946510d0e1"
      },
      "execution_count": 36,
      "outputs": [
        {
          "output_type": "execute_result",
          "data": {
            "text/plain": [
              "      Modo de Envio     Segmento        Cidade   Estado  Código Postal Região  \\\n",
              "2697  Classe Padrão  Home Office  Jacksonville  Florida          32216    Sul   \n",
              "\n",
              "       Categoria Subcategoria    Vendas  Quantidade  Desconto      Lucro  \n",
              "2697  Técnologia     Máquinas  22638.48           6       0.5 -1811.0784  "
            ],
            "text/html": [
              "\n",
              "  <div id=\"df-1d9501d9-7494-49ab-b28c-a96a9dc40c3e\" class=\"colab-df-container\">\n",
              "    <div>\n",
              "<style scoped>\n",
              "    .dataframe tbody tr th:only-of-type {\n",
              "        vertical-align: middle;\n",
              "    }\n",
              "\n",
              "    .dataframe tbody tr th {\n",
              "        vertical-align: top;\n",
              "    }\n",
              "\n",
              "    .dataframe thead th {\n",
              "        text-align: right;\n",
              "    }\n",
              "</style>\n",
              "<table border=\"1\" class=\"dataframe\">\n",
              "  <thead>\n",
              "    <tr style=\"text-align: right;\">\n",
              "      <th></th>\n",
              "      <th>Modo de Envio</th>\n",
              "      <th>Segmento</th>\n",
              "      <th>Cidade</th>\n",
              "      <th>Estado</th>\n",
              "      <th>Código Postal</th>\n",
              "      <th>Região</th>\n",
              "      <th>Categoria</th>\n",
              "      <th>Subcategoria</th>\n",
              "      <th>Vendas</th>\n",
              "      <th>Quantidade</th>\n",
              "      <th>Desconto</th>\n",
              "      <th>Lucro</th>\n",
              "    </tr>\n",
              "  </thead>\n",
              "  <tbody>\n",
              "    <tr>\n",
              "      <th>2697</th>\n",
              "      <td>Classe Padrão</td>\n",
              "      <td>Home Office</td>\n",
              "      <td>Jacksonville</td>\n",
              "      <td>Florida</td>\n",
              "      <td>32216</td>\n",
              "      <td>Sul</td>\n",
              "      <td>Técnologia</td>\n",
              "      <td>Máquinas</td>\n",
              "      <td>22638.48</td>\n",
              "      <td>6</td>\n",
              "      <td>0.5</td>\n",
              "      <td>-1811.0784</td>\n",
              "    </tr>\n",
              "  </tbody>\n",
              "</table>\n",
              "</div>\n",
              "    <div class=\"colab-df-buttons\">\n",
              "\n",
              "  <div class=\"colab-df-container\">\n",
              "    <button class=\"colab-df-convert\" onclick=\"convertToInteractive('df-1d9501d9-7494-49ab-b28c-a96a9dc40c3e')\"\n",
              "            title=\"Convert this dataframe to an interactive table.\"\n",
              "            style=\"display:none;\">\n",
              "\n",
              "  <svg xmlns=\"http://www.w3.org/2000/svg\" height=\"24px\" viewBox=\"0 -960 960 960\">\n",
              "    <path d=\"M120-120v-720h720v720H120Zm60-500h600v-160H180v160Zm220 220h160v-160H400v160Zm0 220h160v-160H400v160ZM180-400h160v-160H180v160Zm440 0h160v-160H620v160ZM180-180h160v-160H180v160Zm440 0h160v-160H620v160Z\"/>\n",
              "  </svg>\n",
              "    </button>\n",
              "\n",
              "  <style>\n",
              "    .colab-df-container {\n",
              "      display:flex;\n",
              "      gap: 12px;\n",
              "    }\n",
              "\n",
              "    .colab-df-convert {\n",
              "      background-color: #E8F0FE;\n",
              "      border: none;\n",
              "      border-radius: 50%;\n",
              "      cursor: pointer;\n",
              "      display: none;\n",
              "      fill: #1967D2;\n",
              "      height: 32px;\n",
              "      padding: 0 0 0 0;\n",
              "      width: 32px;\n",
              "    }\n",
              "\n",
              "    .colab-df-convert:hover {\n",
              "      background-color: #E2EBFA;\n",
              "      box-shadow: 0px 1px 2px rgba(60, 64, 67, 0.3), 0px 1px 3px 1px rgba(60, 64, 67, 0.15);\n",
              "      fill: #174EA6;\n",
              "    }\n",
              "\n",
              "    .colab-df-buttons div {\n",
              "      margin-bottom: 4px;\n",
              "    }\n",
              "\n",
              "    [theme=dark] .colab-df-convert {\n",
              "      background-color: #3B4455;\n",
              "      fill: #D2E3FC;\n",
              "    }\n",
              "\n",
              "    [theme=dark] .colab-df-convert:hover {\n",
              "      background-color: #434B5C;\n",
              "      box-shadow: 0px 1px 3px 1px rgba(0, 0, 0, 0.15);\n",
              "      filter: drop-shadow(0px 1px 2px rgba(0, 0, 0, 0.3));\n",
              "      fill: #FFFFFF;\n",
              "    }\n",
              "  </style>\n",
              "\n",
              "    <script>\n",
              "      const buttonEl =\n",
              "        document.querySelector('#df-1d9501d9-7494-49ab-b28c-a96a9dc40c3e button.colab-df-convert');\n",
              "      buttonEl.style.display =\n",
              "        google.colab.kernel.accessAllowed ? 'block' : 'none';\n",
              "\n",
              "      async function convertToInteractive(key) {\n",
              "        const element = document.querySelector('#df-1d9501d9-7494-49ab-b28c-a96a9dc40c3e');\n",
              "        const dataTable =\n",
              "          await google.colab.kernel.invokeFunction('convertToInteractive',\n",
              "                                                    [key], {});\n",
              "        if (!dataTable) return;\n",
              "\n",
              "        const docLinkHtml = 'Like what you see? Visit the ' +\n",
              "          '<a target=\"_blank\" href=https://colab.research.google.com/notebooks/data_table.ipynb>data table notebook</a>'\n",
              "          + ' to learn more about interactive tables.';\n",
              "        element.innerHTML = '';\n",
              "        dataTable['output_type'] = 'display_data';\n",
              "        await google.colab.output.renderOutput(dataTable, element);\n",
              "        const docLink = document.createElement('div');\n",
              "        docLink.innerHTML = docLinkHtml;\n",
              "        element.appendChild(docLink);\n",
              "      }\n",
              "    </script>\n",
              "  </div>\n",
              "\n",
              "\n",
              "    </div>\n",
              "  </div>\n"
            ],
            "application/vnd.google.colaboratory.intrinsic+json": {
              "type": "dataframe",
              "summary": "{\n  \"name\": \"df_store[y]\",\n  \"rows\": 1,\n  \"fields\": [\n    {\n      \"column\": \"Modo de Envio\",\n      \"properties\": {\n        \"dtype\": \"string\",\n        \"num_unique_values\": 1,\n        \"samples\": [\n          \"Classe Padr\\u00e3o\"\n        ],\n        \"semantic_type\": \"\",\n        \"description\": \"\"\n      }\n    },\n    {\n      \"column\": \"Segmento\",\n      \"properties\": {\n        \"dtype\": \"string\",\n        \"num_unique_values\": 1,\n        \"samples\": [\n          \"Home Office\"\n        ],\n        \"semantic_type\": \"\",\n        \"description\": \"\"\n      }\n    },\n    {\n      \"column\": \"Cidade\",\n      \"properties\": {\n        \"dtype\": \"string\",\n        \"num_unique_values\": 1,\n        \"samples\": [\n          \"Jacksonville\"\n        ],\n        \"semantic_type\": \"\",\n        \"description\": \"\"\n      }\n    },\n    {\n      \"column\": \"Estado\",\n      \"properties\": {\n        \"dtype\": \"string\",\n        \"num_unique_values\": 1,\n        \"samples\": [\n          \"Florida\"\n        ],\n        \"semantic_type\": \"\",\n        \"description\": \"\"\n      }\n    },\n    {\n      \"column\": \"C\\u00f3digo Postal\",\n      \"properties\": {\n        \"dtype\": \"number\",\n        \"std\": null,\n        \"min\": 32216,\n        \"max\": 32216,\n        \"num_unique_values\": 1,\n        \"samples\": [\n          32216\n        ],\n        \"semantic_type\": \"\",\n        \"description\": \"\"\n      }\n    },\n    {\n      \"column\": \"Regi\\u00e3o\",\n      \"properties\": {\n        \"dtype\": \"string\",\n        \"num_unique_values\": 1,\n        \"samples\": [\n          \"Sul\"\n        ],\n        \"semantic_type\": \"\",\n        \"description\": \"\"\n      }\n    },\n    {\n      \"column\": \"Categoria\",\n      \"properties\": {\n        \"dtype\": \"string\",\n        \"num_unique_values\": 1,\n        \"samples\": [\n          \"T\\u00e9cnologia\"\n        ],\n        \"semantic_type\": \"\",\n        \"description\": \"\"\n      }\n    },\n    {\n      \"column\": \"Subcategoria\",\n      \"properties\": {\n        \"dtype\": \"string\",\n        \"num_unique_values\": 1,\n        \"samples\": [\n          \"M\\u00e1quinas\"\n        ],\n        \"semantic_type\": \"\",\n        \"description\": \"\"\n      }\n    },\n    {\n      \"column\": \"Vendas\",\n      \"properties\": {\n        \"dtype\": \"number\",\n        \"std\": null,\n        \"min\": 22638.48,\n        \"max\": 22638.48,\n        \"num_unique_values\": 1,\n        \"samples\": [\n          22638.48\n        ],\n        \"semantic_type\": \"\",\n        \"description\": \"\"\n      }\n    },\n    {\n      \"column\": \"Quantidade\",\n      \"properties\": {\n        \"dtype\": \"number\",\n        \"std\": null,\n        \"min\": 6,\n        \"max\": 6,\n        \"num_unique_values\": 1,\n        \"samples\": [\n          6\n        ],\n        \"semantic_type\": \"\",\n        \"description\": \"\"\n      }\n    },\n    {\n      \"column\": \"Desconto\",\n      \"properties\": {\n        \"dtype\": \"number\",\n        \"std\": null,\n        \"min\": 0.5,\n        \"max\": 0.5,\n        \"num_unique_values\": 1,\n        \"samples\": [\n          0.5\n        ],\n        \"semantic_type\": \"\",\n        \"description\": \"\"\n      }\n    },\n    {\n      \"column\": \"Lucro\",\n      \"properties\": {\n        \"dtype\": \"number\",\n        \"std\": null,\n        \"min\": -1811.0784,\n        \"max\": -1811.0784,\n        \"num_unique_values\": 1,\n        \"samples\": [\n          -1811.0784\n        ],\n        \"semantic_type\": \"\",\n        \"description\": \"\"\n      }\n    }\n  ]\n}"
            }
          },
          "metadata": {},
          "execution_count": 36
        }
      ]
    },
    {
      "cell_type": "markdown",
      "source": [
        "## 6.3 Gráfico De Coluna Vertical - Lucratividade E Perda Por Categoria"
      ],
      "metadata": {
        "id": "dRK2h4PvJ5zQ"
      }
    },
    {
      "cell_type": "markdown",
      "source": [
        "O Objetivo desse gráfico de coluna vertical é demonstrar a lucratividade e as perdas por categoria."
      ],
      "metadata": {
        "id": "pSwRA2wGY25N"
      }
    },
    {
      "cell_type": "code",
      "source": [
        "# Criação do gráfico de colunas\n",
        "plt.figure(figsize=(10, 6))\n",
        "\n",
        "# Estruturação das barras para os valores positivos\n",
        "plt.bar(df_store['Categoria'], df_store['Lucro'].clip(lower=0), color='skyblue', label='Lucro')\n",
        "\n",
        "# Estruturação das barras para as perdas\n",
        "plt.bar(df_store['Categoria'], df_store['Lucro'].clip(upper=0), color='gray', label='Perda', bottom=df_store['Lucro'].clip(lower=0))\n",
        "\n",
        "# Adicionar título e rótulos\n",
        "plt.title('Lucratividade e Perda por Categoria', fontsize=14)\n",
        "plt.xlabel('Categorias', fontsize=12)\n",
        "plt.ylabel('Valores', fontsize=12)\n",
        "plt.ylim(-10000, 10000)  # Ajuste do eixo y\n",
        "\n",
        "# Exibição do gráfico\n",
        "plt.xticks(rotation=0)\n",
        "plt.tight_layout()\n",
        "plt.legend()\n",
        "plt.show()"
      ],
      "metadata": {
        "colab": {
          "base_uri": "https://localhost:8080/",
          "height": 607
        },
        "id": "nBq0tva18oRj",
        "outputId": "8b46cebe-c4c7-4e37-c5e0-8bfa7e53a475"
      },
      "execution_count": 37,
      "outputs": [
        {
          "output_type": "display_data",
          "data": {
            "text/plain": [
              "<Figure size 1000x600 with 1 Axes>"
            ],
            "image/png": "[encoded data removed]"
          },
          "metadata": {}
        }
      ]
    },
    {
      "cell_type": "markdown",
      "source": [
        "Melhor Compreeensão das categorias e subcategorias diante da Lucratividade e perda"
      ],
      "metadata": {
        "id": "xg-hjbraMgAY"
      }
    },
    {
      "cell_type": "code",
      "source": [
        "df_lucro_up = df_store[df_store['Lucro'] > 0]\n",
        "df_lucro_up['Categoria'].value_counts()"
      ],
      "metadata": {
        "colab": {
          "base_uri": "https://localhost:8080/",
          "height": 209
        },
        "id": "XyUUIlYxK1gu",
        "outputId": "ebdf9d1e-0e66-495d-abe3-44bf3c009f89"
      },
      "execution_count": 38,
      "outputs": [
        {
          "output_type": "execute_result",
          "data": {
            "text/plain": [
              "Categoria\n",
              "Itens de Escritório    5111\n",
              "Técnologia             1573\n",
              "Mobílias               1374\n",
              "Name: count, dtype: int64"
            ],
            "text/html": [
              "<table border=\"1\" class=\"dataframe\">\n",
              "  <thead>\n",
              "    <tr style=\"text-align: right;\">\n",
              "      <th></th>\n",
              "      <th>count</th>\n",
              "    </tr>\n",
              "    <tr>\n",
              "      <th>Categoria</th>\n",
              "      <th></th>\n",
              "    </tr>\n",
              "  </thead>\n",
              "  <tbody>\n",
              "    <tr>\n",
              "      <th>Itens de Escritório</th>\n",
              "      <td>5111</td>\n",
              "    </tr>\n",
              "    <tr>\n",
              "      <th>Técnologia</th>\n",
              "      <td>1573</td>\n",
              "    </tr>\n",
              "    <tr>\n",
              "      <th>Mobílias</th>\n",
              "      <td>1374</td>\n",
              "    </tr>\n",
              "  </tbody>\n",
              "</table><br><label><b>dtype:</b> int64</label>"
            ]
          },
          "metadata": {},
          "execution_count": 38
        }
      ]
    },
    {
      "cell_type": "code",
      "source": [
        "df_lucro_up['Subcategoria'].value_counts()"
      ],
      "metadata": {
        "colab": {
          "base_uri": "https://localhost:8080/",
          "height": 648
        },
        "id": "ici2O_6xLHIK",
        "outputId": "8cf8167e-978a-4daf-be81-e6175251238e"
      },
      "execution_count": 39,
      "outputs": [
        {
          "output_type": "execute_result",
          "data": {
            "text/plain": [
              "Subcategoria\n",
              "Papel               1370\n",
              "Ficharios            910\n",
              "Arte                 796\n",
              "Mobiliário           781\n",
              "Telefones            751\n",
              "Acessórios           683\n",
              "Armazenamento        661\n",
              "Eletrodomésticos     399\n",
              "Etiquetas            364\n",
              "Cadeiras             362\n",
              "Envelopes            254\n",
              "Fixadores            200\n",
              "Suprimentos          157\n",
              "Estantes             117\n",
              "Mesas                114\n",
              "Máquinas              71\n",
              "Copiadoras            68\n",
              "Name: count, dtype: int64"
            ],
            "text/html": [
              "<table border=\"1\" class=\"dataframe\">\n",
              "  <thead>\n",
              "    <tr style=\"text-align: right;\">\n",
              "      <th></th>\n",
              "      <th>count</th>\n",
              "    </tr>\n",
              "    <tr>\n",
              "      <th>Subcategoria</th>\n",
              "      <th></th>\n",
              "    </tr>\n",
              "  </thead>\n",
              "  <tbody>\n",
              "    <tr>\n",
              "      <th>Papel</th>\n",
              "      <td>1370</td>\n",
              "    </tr>\n",
              "    <tr>\n",
              "      <th>Ficharios</th>\n",
              "      <td>910</td>\n",
              "    </tr>\n",
              "    <tr>\n",
              "      <th>Arte</th>\n",
              "      <td>796</td>\n",
              "    </tr>\n",
              "    <tr>\n",
              "      <th>Mobiliário</th>\n",
              "      <td>781</td>\n",
              "    </tr>\n",
              "    <tr>\n",
              "      <th>Telefones</th>\n",
              "      <td>751</td>\n",
              "    </tr>\n",
              "    <tr>\n",
              "      <th>Acessórios</th>\n",
              "      <td>683</td>\n",
              "    </tr>\n",
              "    <tr>\n",
              "      <th>Armazenamento</th>\n",
              "      <td>661</td>\n",
              "    </tr>\n",
              "    <tr>\n",
              "      <th>Eletrodomésticos</th>\n",
              "      <td>399</td>\n",
              "    </tr>\n",
              "    <tr>\n",
              "      <th>Etiquetas</th>\n",
              "      <td>364</td>\n",
              "    </tr>\n",
              "    <tr>\n",
              "      <th>Cadeiras</th>\n",
              "      <td>362</td>\n",
              "    </tr>\n",
              "    <tr>\n",
              "      <th>Envelopes</th>\n",
              "      <td>254</td>\n",
              "    </tr>\n",
              "    <tr>\n",
              "      <th>Fixadores</th>\n",
              "      <td>200</td>\n",
              "    </tr>\n",
              "    <tr>\n",
              "      <th>Suprimentos</th>\n",
              "      <td>157</td>\n",
              "    </tr>\n",
              "    <tr>\n",
              "      <th>Estantes</th>\n",
              "      <td>117</td>\n",
              "    </tr>\n",
              "    <tr>\n",
              "      <th>Mesas</th>\n",
              "      <td>114</td>\n",
              "    </tr>\n",
              "    <tr>\n",
              "      <th>Máquinas</th>\n",
              "      <td>71</td>\n",
              "    </tr>\n",
              "    <tr>\n",
              "      <th>Copiadoras</th>\n",
              "      <td>68</td>\n",
              "    </tr>\n",
              "  </tbody>\n",
              "</table><br><label><b>dtype:</b> int64</label>"
            ]
          },
          "metadata": {},
          "execution_count": 39
        }
      ]
    },
    {
      "cell_type": "code",
      "source": [
        "df_lucro_low = df_store[df_store['Lucro'] < 0]\n",
        "df_lucro_low['Categoria'].value_counts()"
      ],
      "metadata": {
        "colab": {
          "base_uri": "https://localhost:8080/",
          "height": 209
        },
        "id": "OtwIB8h-G8pA",
        "outputId": "2f313fa2-f1e5-4830-c46c-1b06d29b796a"
      },
      "execution_count": 40,
      "outputs": [
        {
          "output_type": "execute_result",
          "data": {
            "text/plain": [
              "Categoria\n",
              "Itens de Escritório    886\n",
              "Mobílias               714\n",
              "Técnologia             271\n",
              "Name: count, dtype: int64"
            ],
            "text/html": [
              "<table border=\"1\" class=\"dataframe\">\n",
              "  <thead>\n",
              "    <tr style=\"text-align: right;\">\n",
              "      <th></th>\n",
              "      <th>count</th>\n",
              "    </tr>\n",
              "    <tr>\n",
              "      <th>Categoria</th>\n",
              "      <th></th>\n",
              "    </tr>\n",
              "  </thead>\n",
              "  <tbody>\n",
              "    <tr>\n",
              "      <th>Itens de Escritório</th>\n",
              "      <td>886</td>\n",
              "    </tr>\n",
              "    <tr>\n",
              "      <th>Mobílias</th>\n",
              "      <td>714</td>\n",
              "    </tr>\n",
              "    <tr>\n",
              "      <th>Técnologia</th>\n",
              "      <td>271</td>\n",
              "    </tr>\n",
              "  </tbody>\n",
              "</table><br><label><b>dtype:</b> int64</label>"
            ]
          },
          "metadata": {},
          "execution_count": 40
        }
      ]
    },
    {
      "cell_type": "code",
      "source": [
        "df_lucro_low['Subcategoria'].value_counts()"
      ],
      "metadata": {
        "colab": {
          "base_uri": "https://localhost:8080/",
          "height": 491
        },
        "id": "Acy5wnyDJ2jQ",
        "outputId": "a708232c-e2d9-4e7a-9f4d-36f70e5af0f1"
      },
      "execution_count": 41,
      "outputs": [
        {
          "output_type": "execute_result",
          "data": {
            "text/plain": [
              "Subcategoria\n",
              "Ficharios           613\n",
              "Cadeiras            235\n",
              "Mesas               203\n",
              "Mobiliário          167\n",
              "Armazenamento       161\n",
              "Telefones           136\n",
              "Estantes            109\n",
              "Acessórios           91\n",
              "Eletrodomésticos     67\n",
              "Máquinas             44\n",
              "Suprimentos          33\n",
              "Fixadores            12\n",
              "Name: count, dtype: int64"
            ],
            "text/html": [
              "<table border=\"1\" class=\"dataframe\">\n",
              "  <thead>\n",
              "    <tr style=\"text-align: right;\">\n",
              "      <th></th>\n",
              "      <th>count</th>\n",
              "    </tr>\n",
              "    <tr>\n",
              "      <th>Subcategoria</th>\n",
              "      <th></th>\n",
              "    </tr>\n",
              "  </thead>\n",
              "  <tbody>\n",
              "    <tr>\n",
              "      <th>Ficharios</th>\n",
              "      <td>613</td>\n",
              "    </tr>\n",
              "    <tr>\n",
              "      <th>Cadeiras</th>\n",
              "      <td>235</td>\n",
              "    </tr>\n",
              "    <tr>\n",
              "      <th>Mesas</th>\n",
              "      <td>203</td>\n",
              "    </tr>\n",
              "    <tr>\n",
              "      <th>Mobiliário</th>\n",
              "      <td>167</td>\n",
              "    </tr>\n",
              "    <tr>\n",
              "      <th>Armazenamento</th>\n",
              "      <td>161</td>\n",
              "    </tr>\n",
              "    <tr>\n",
              "      <th>Telefones</th>\n",
              "      <td>136</td>\n",
              "    </tr>\n",
              "    <tr>\n",
              "      <th>Estantes</th>\n",
              "      <td>109</td>\n",
              "    </tr>\n",
              "    <tr>\n",
              "      <th>Acessórios</th>\n",
              "      <td>91</td>\n",
              "    </tr>\n",
              "    <tr>\n",
              "      <th>Eletrodomésticos</th>\n",
              "      <td>67</td>\n",
              "    </tr>\n",
              "    <tr>\n",
              "      <th>Máquinas</th>\n",
              "      <td>44</td>\n",
              "    </tr>\n",
              "    <tr>\n",
              "      <th>Suprimentos</th>\n",
              "      <td>33</td>\n",
              "    </tr>\n",
              "    <tr>\n",
              "      <th>Fixadores</th>\n",
              "      <td>12</td>\n",
              "    </tr>\n",
              "  </tbody>\n",
              "</table><br><label><b>dtype:</b> int64</label>"
            ]
          },
          "metadata": {},
          "execution_count": 41
        }
      ]
    }
  ]
}